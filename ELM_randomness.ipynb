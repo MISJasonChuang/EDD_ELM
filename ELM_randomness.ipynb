{
  "nbformat": 4,
  "nbformat_minor": 0,
  "metadata": {
    "colab": {
      "provenance": [],
      "include_colab_link": true
    },
    "kernelspec": {
      "name": "python3",
      "display_name": "Python 3"
    },
    "language_info": {
      "name": "python"
    }
  },
  "cells": [
    {
      "cell_type": "markdown",
      "metadata": {
        "id": "view-in-github",
        "colab_type": "text"
      },
      "source": [
        "<a href=\"https://colab.research.google.com/github/MISJasonChuang/ELM_Pretest/blob/main/ELM_randomness.ipynb\" target=\"_parent\"><img src=\"https://colab.research.google.com/assets/colab-badge.svg\" alt=\"Open In Colab\"/></a>"
      ]
    },
    {
      "cell_type": "code",
      "source": [
        "#  --quiet hide code cell output\n",
        "!pip install -U scikit-multiflow --quiet\n",
        "!pip install statsmodels --quiet"
      ],
      "metadata": {
        "id": "I09KmeI3l81M",
        "colab": {
          "base_uri": "https://localhost:8080/"
        },
        "outputId": "4b4abbf4-0617-40e2-a023-30ed670b9634"
      },
      "execution_count": 1,
      "outputs": [
        {
          "output_type": "stream",
          "name": "stdout",
          "text": [
            "\u001b[?25l     \u001b[90m━━━━━━━━━━━━━━━━━━━━━━━━━━━━━━━━━━━━━━━━\u001b[0m \u001b[32m0.0/450.6 kB\u001b[0m \u001b[31m?\u001b[0m eta \u001b[36m-:--:--\u001b[0m\r\u001b[2K     \u001b[91m━━━━━━━━━━━━\u001b[0m\u001b[91m╸\u001b[0m\u001b[90m━━━━━━━━━━━━━━━━━━━━━━━━━━━\u001b[0m \u001b[32m143.4/450.6 kB\u001b[0m \u001b[31m4.0 MB/s\u001b[0m eta \u001b[36m0:00:01\u001b[0m\r\u001b[2K     \u001b[91m━━━━━━━━━━━━━━━━━━━━━━━━━━━━━━━━━━━━━━━\u001b[0m\u001b[91m╸\u001b[0m \u001b[32m450.6/450.6 kB\u001b[0m \u001b[31m7.2 MB/s\u001b[0m eta \u001b[36m0:00:01\u001b[0m\r\u001b[2K     \u001b[90m━━━━━━━━━━━━━━━━━━━━━━━━━━━━━━━━━━━━━━━━\u001b[0m \u001b[32m450.6/450.6 kB\u001b[0m \u001b[31m4.9 MB/s\u001b[0m eta \u001b[36m0:00:00\u001b[0m\n",
            "\u001b[?25h  Preparing metadata (setup.py) ... \u001b[?25l\u001b[?25hdone\n",
            "  Building wheel for scikit-multiflow (setup.py) ... \u001b[?25l\u001b[?25hdone\n"
          ]
        }
      ]
    },
    {
      "cell_type": "code",
      "source": [
        "# !wget http://prdownloads.sourceforge.net/ta-lib/ta-lib-0.4.0-src.tar.gz\n",
        "# !tar -xzvf ta-lib-0.4.0-src.tar.gz\n",
        "# %cd ta-lib\n",
        "# !./configure --prefix=/usr\n",
        "# !make\n",
        "# !make install\n",
        "# !pip install Ta-Lib"
      ],
      "metadata": {
        "id": "7eK6S-Llt4IK"
      },
      "execution_count": null,
      "outputs": []
    },
    {
      "cell_type": "code",
      "source": [
        "# -*- coding: utf8\n",
        "# Author: David C. Lambert [dcl -at- panix -dot- com]\n",
        "# Copyright(c) 2013\n",
        "# License: Simple BSD\n",
        "\n",
        "\"\"\"The :mod:`random_layer` module\n",
        "implements Random Layer transformers.\n",
        "\n",
        "Random layers are arrays of hidden unit activations that are\n",
        "random functions of input activation values (dot products for simple\n",
        "activation functions, distances from prototypes for radial basis\n",
        "functions).\n",
        "\n",
        "They are used in the implementation of Extreme Learning Machines (ELMs),\n",
        "but can be used as a general input mapping.\n",
        "\"\"\"\n",
        "\n",
        "from abc import ABCMeta, abstractmethod\n",
        "\n",
        "from math import sqrt\n",
        "\n",
        "import numpy as np\n",
        "import scipy.sparse as sp\n",
        "from scipy.spatial.distance import cdist, pdist, squareform\n",
        "\n",
        "from sklearn.metrics import pairwise_distances\n",
        "from sklearn.utils import check_random_state, check_array\n",
        "from sklearn.utils.extmath import safe_sparse_dot\n",
        "from sklearn.base import BaseEstimator, TransformerMixin\n",
        "\n",
        "__all__ = [\n",
        "    \"RandomLayer\",\n",
        "    \"MLPRandomLayer\",\n",
        "    \"RBFRandomLayer\",\n",
        "    \"GRBFRandomLayer\",\n",
        "]\n",
        "\n",
        "\n",
        "class BaseRandomLayer(BaseEstimator, TransformerMixin):\n",
        "    \"\"\"Abstract Base Class for random  layers\"\"\"\n",
        "\n",
        "    __metaclass__ = ABCMeta\n",
        "\n",
        "    _internal_activation_funcs = dict()\n",
        "\n",
        "    @classmethod\n",
        "    def activation_func_names(cls):\n",
        "        \"\"\"Get list of internal activation function names\"\"\"\n",
        "        return cls._internal_activation_funcs.keys()\n",
        "\n",
        "    # take n_hidden and random_state, init components_ and\n",
        "    # input_activations_\n",
        "    def __init__(\n",
        "        self, n_hidden=20, random_state=0, activation_func=None, activation_args=None\n",
        "    ):\n",
        "        self.n_hidden = n_hidden\n",
        "        self.random_state = random_state\n",
        "        self.activation_func = activation_func\n",
        "        self.activation_args = activation_args\n",
        "\n",
        "        self.components_ = dict()\n",
        "        self.input_activations_ = None\n",
        "\n",
        "        # keyword args for internally defined funcs\n",
        "        self._extra_args = dict()\n",
        "\n",
        "    @abstractmethod\n",
        "    def _generate_components(self, X):\n",
        "        \"\"\"Generate components of hidden layer given X\"\"\"\n",
        "\n",
        "    @abstractmethod\n",
        "    def _compute_input_activations(self, X):\n",
        "        \"\"\"Compute input activations given X\"\"\"\n",
        "\n",
        "    # compute input activations and pass them\n",
        "    # through the hidden layer transfer functions\n",
        "    # to compute the transform\n",
        "    def _compute_hidden_activations(self, X):\n",
        "        \"\"\"Compute hidden activations given X\"\"\"\n",
        "\n",
        "        self._compute_input_activations(X)\n",
        "\n",
        "        acts = self.input_activations_\n",
        "\n",
        "        if callable(self.activation_func):\n",
        "            args_dict = self.activation_args if (self.activation_args) else {}\n",
        "            X_new = self.activation_func(acts, **args_dict)\n",
        "        else:\n",
        "            func_name = self.activation_func\n",
        "            func = self._internal_activation_funcs[func_name]\n",
        "\n",
        "            X_new = func(acts, **self._extra_args)\n",
        "\n",
        "        return X_new\n",
        "\n",
        "    # perform fit by generating random components based\n",
        "    # on the input array\n",
        "    def fit(self, X, y=None):\n",
        "        \"\"\"Generate a random hidden layer.\n",
        "\n",
        "        Parameters\n",
        "        ----------\n",
        "        X : {array-like, sparse matrix} of shape [n_samples, n_features]\n",
        "            Training set: only the shape is used to generate random component\n",
        "            values for hidden units\n",
        "\n",
        "        y : is not used: placeholder to allow for usage in a Pipeline.\n",
        "\n",
        "        Returns\n",
        "        -------\n",
        "        self\n",
        "        \"\"\"\n",
        "        X = check_array(X)\n",
        "\n",
        "        self._generate_components(X)\n",
        "\n",
        "        return self\n",
        "\n",
        "    # perform transformation by calling compute_hidden_activations\n",
        "    # (which will normally call compute_input_activations first)\n",
        "    def transform(self, X, y=None):\n",
        "        \"\"\"Generate the random hidden layer's activations given X as input.\n",
        "\n",
        "        Parameters\n",
        "        ----------\n",
        "        X : {array-like, sparse matrix}, shape [n_samples, n_features]\n",
        "            Data to transform\n",
        "\n",
        "        y : is not used: placeholder to allow for usage in a Pipeline.\n",
        "\n",
        "        Returns\n",
        "        -------\n",
        "        X_new : numpy array of shape [n_samples, n_components]\n",
        "        \"\"\"\n",
        "        X = check_array(X)\n",
        "\n",
        "        if self.components_ is None:\n",
        "            raise ValueError(\"No components initialized\")\n",
        "\n",
        "        return self._compute_hidden_activations(X)\n",
        "\n",
        "\n",
        "class RandomLayer(BaseRandomLayer):\n",
        "    \"\"\"RandomLayer is a transformer that creates a feature mapping of the\n",
        "    inputs that corresponds to a layer of hidden units with randomly\n",
        "    generated components.\n",
        "\n",
        "    The transformed values are a specified function of input activations\n",
        "    that are a weighted combination of dot product (multilayer perceptron)\n",
        "    and distance (rbf) activations:\n",
        "\n",
        "      input_activation = alpha * mlp_activation + (1-alpha) * rbf_activation\n",
        "\n",
        "      mlp_activation(x) = dot(x, weights) + bias\n",
        "      rbf_activation(x) = rbf_width * ||x - center||/radius\n",
        "\n",
        "      alpha and rbf_width are specified by the user\n",
        "\n",
        "      weights and biases are taken from normal distribution of\n",
        "      mean 0 and sd of 1\n",
        "\n",
        "      centers are taken uniformly from the bounding hyperrectangle\n",
        "      of the inputs, and radii are max(||x-c||)/sqrt(n_centers*2)\n",
        "\n",
        "    The input activation is transformed by a transfer function that defaults\n",
        "    to numpy.tanh if not specified, but can be any callable that returns an\n",
        "    array of the same shape as its argument (the input activation array, of\n",
        "    shape [n_samples, n_hidden]).  Functions provided are 'sine', 'tanh',\n",
        "    'tribas', 'inv_tribas', 'sigmoid', 'hardlim', 'softlim', 'gaussian',\n",
        "    'multiquadric', or 'inv_multiquadric'.\n",
        "\n",
        "    Parameters\n",
        "    ----------\n",
        "    `n_hidden` : int, optional (default=20)\n",
        "        Number of units to generate\n",
        "\n",
        "    `alpha` : float, optional (default=0.5)\n",
        "        Mixing coefficient for distance and dot product input activations:\n",
        "        activation = alpha*mlp_activation + (1-alpha)*rbf_width*rbf_activation\n",
        "\n",
        "    `rbf_width` : float, optional (default=1.0)\n",
        "        multiplier on rbf_activation\n",
        "\n",
        "    `user_components`: dictionary, optional (default=None)\n",
        "        dictionary containing values for components that woud otherwise be\n",
        "        randomly generated.  Valid key/value pairs are as follows:\n",
        "           'radii'  : array-like of shape [n_hidden]\n",
        "           'centers': array-like of shape [n_hidden, n_features]\n",
        "           'biases' : array-like of shape [n_hidden]\n",
        "           'weights': array-like of shape [n_features, n_hidden]\n",
        "\n",
        "    `activation_func` : {callable, string} optional (default='tanh')\n",
        "        Function used to transform input activation\n",
        "\n",
        "        It must be one of 'tanh', 'sine', 'tribas', 'inv_tribas',\n",
        "        'sigmoid', 'hardlim', 'softlim', 'gaussian', 'multiquadric',\n",
        "        'inv_multiquadric' or a callable.  If None is given, 'tanh'\n",
        "        will be used.\n",
        "\n",
        "        If a callable is given, it will be used to compute the activations.\n",
        "\n",
        "    `activation_args` : dictionary, optional (default=None)\n",
        "        Supplies keyword arguments for a callable activation_func\n",
        "\n",
        "    `random_state`  : int, RandomState instance or None (default=None)\n",
        "        Control the pseudo random number generator used to generate the\n",
        "        hidden unit weights at fit time.\n",
        "\n",
        "    Attributes\n",
        "    ----------\n",
        "    `input_activations_` : numpy array of shape [n_samples, n_hidden]\n",
        "        Array containing dot(x, hidden_weights) + bias for all samples\n",
        "\n",
        "    `components_` : dictionary containing two keys:\n",
        "        `bias_weights_`   : numpy array of shape [n_hidden]\n",
        "        `hidden_weights_` : numpy array of shape [n_features, n_hidden]\n",
        "\n",
        "    See Also\n",
        "    --------\n",
        "    \"\"\"\n",
        "\n",
        "    # triangular activation function\n",
        "    _tribas = lambda x: np.clip(1.0 - np.fabs(x), 0.0, 1.0)\n",
        "\n",
        "    # inverse triangular activation function\n",
        "    _inv_tribas = lambda x: np.clip(np.fabs(x), 0.0, 1.0)\n",
        "\n",
        "    # sigmoid activation function\n",
        "    _sigmoid = lambda x: 1.0 / (1.0 + np.exp(-x))\n",
        "\n",
        "    # hard limit activation function\n",
        "    _hardlim = lambda x: np.array(x > 0.0, dtype=float)\n",
        "\n",
        "    _softlim = lambda x: np.clip(x, 0.0, 1.0)\n",
        "\n",
        "    # gaussian RBF\n",
        "    _gaussian = lambda x: np.exp(-pow(x, 2.0))\n",
        "\n",
        "    # multiquadric RBF\n",
        "    _multiquadric = lambda x: np.sqrt(1.0 + pow(x, 2.0))\n",
        "\n",
        "    # inverse multiquadric RBF\n",
        "    _inv_multiquadric = lambda x: 1.0 / (np.sqrt(1.0 + pow(x, 2.0)))\n",
        "\n",
        "    # internal activation function table\n",
        "    _internal_activation_funcs = {\n",
        "        \"sine\": np.sin,\n",
        "        \"tanh\": np.tanh,\n",
        "        \"tribas\": _tribas,\n",
        "        \"inv_tribas\": _inv_tribas,\n",
        "        \"sigmoid\": _sigmoid,\n",
        "        \"softlim\": _softlim,\n",
        "        \"hardlim\": _hardlim,\n",
        "        \"gaussian\": _gaussian,\n",
        "        \"multiquadric\": _multiquadric,\n",
        "        \"inv_multiquadric\": _inv_multiquadric,\n",
        "    }\n",
        "\n",
        "    def __init__(\n",
        "        self,\n",
        "        n_hidden=20,\n",
        "        alpha=0.5,\n",
        "        random_state=None,\n",
        "        activation_func=\"tanh\",\n",
        "        activation_args=None,\n",
        "        user_components=None,\n",
        "        rbf_width=1.0,\n",
        "    ):\n",
        "        super(RandomLayer, self).__init__(\n",
        "            n_hidden=n_hidden,\n",
        "            random_state=random_state,\n",
        "            activation_func=activation_func,\n",
        "            activation_args=activation_args,\n",
        "        )\n",
        "\n",
        "        if isinstance(self.activation_func, str):\n",
        "            func_names = self._internal_activation_funcs.keys()\n",
        "            if self.activation_func not in func_names:\n",
        "                msg = \"unknown activation function '%s'\" % self.activation_func\n",
        "                raise ValueError(msg)\n",
        "\n",
        "        self.alpha = alpha\n",
        "        self.rbf_width = rbf_width\n",
        "        self.user_components = user_components\n",
        "\n",
        "        self._use_mlp_input = self.alpha != 0.0\n",
        "        self._use_rbf_input = self.alpha != 1.0\n",
        "\n",
        "    def _get_user_components(self, key):\n",
        "        \"\"\"Look for given user component\"\"\"\n",
        "        try:\n",
        "            return self.user_components[key]\n",
        "        except (TypeError, KeyError):\n",
        "            return None\n",
        "\n",
        "    def _compute_radii(self):\n",
        "        \"\"\"Generate RBF radii\"\"\"\n",
        "\n",
        "        # use supplied radii if present\n",
        "        radii = self._get_user_components(\"radii\")\n",
        "\n",
        "        # compute radii\n",
        "        if radii is None:\n",
        "            centers = self.components_[\"centers\"]\n",
        "\n",
        "            n_centers = centers.shape[0]\n",
        "            max_dist = np.max(pairwise_distances(centers))\n",
        "            radii = np.ones(n_centers) * max_dist / sqrt(2.0 * n_centers)\n",
        "\n",
        "        self.components_[\"radii\"] = radii\n",
        "\n",
        "    def _compute_centers(self, X, sparse, rs):\n",
        "        \"\"\"Generate RBF centers\"\"\"\n",
        "\n",
        "        # use supplied centers if present\n",
        "        centers = self._get_user_components(\"centers\")\n",
        "\n",
        "        # use points taken uniformly from the bounding\n",
        "        # hyperrectangle\n",
        "        if centers is None:\n",
        "            n_features = X.shape[1]\n",
        "\n",
        "            if sparse:\n",
        "                fxr = xrange(n_features)\n",
        "                cols = [X.getcol(i) for i in fxr]\n",
        "\n",
        "                min_dtype = X.dtype.type(1.0e10)\n",
        "                sp_min = lambda col: np.minimum(min_dtype, np.min(col.data))\n",
        "                min_Xs = np.array(map(sp_min, cols))\n",
        "\n",
        "                max_dtype = X.dtype.type(-1.0e10)\n",
        "                sp_max = lambda col: np.maximum(max_dtype, np.max(col.data))\n",
        "                max_Xs = np.array(map(sp_max, cols))\n",
        "            else:\n",
        "                min_Xs = X.min(axis=0)\n",
        "                max_Xs = X.max(axis=0)\n",
        "\n",
        "            spans = max_Xs - min_Xs\n",
        "            ctrs_size = (self.n_hidden, n_features)\n",
        "            centers = min_Xs + spans * rs.uniform(0.0, 1.0, ctrs_size)\n",
        "\n",
        "        self.components_[\"centers\"] = centers\n",
        "\n",
        "    def _compute_biases(self, rs):\n",
        "        \"\"\"Generate MLP biases\"\"\"\n",
        "\n",
        "        # use supplied biases if present\n",
        "        biases = self._get_user_components(\"biases\")\n",
        "        if biases is None:\n",
        "            b_size = self.n_hidden\n",
        "            biases = rs.normal(size=b_size)\n",
        "\n",
        "        self.components_[\"biases\"] = biases\n",
        "\n",
        "    def _compute_weights(self, X, rs):\n",
        "        \"\"\"Generate MLP weights\"\"\"\n",
        "\n",
        "        # use supplied weights if present\n",
        "        weights = self._get_user_components(\"weights\")\n",
        "        if weights is None:\n",
        "            n_features = X.shape[1]\n",
        "            hw_size = (n_features, self.n_hidden)\n",
        "            weights = rs.normal(size=hw_size)\n",
        "\n",
        "        self.components_[\"weights\"] = weights\n",
        "\n",
        "    def _generate_components(self, X):\n",
        "        \"\"\"Generate components of hidden layer given X\"\"\"\n",
        "\n",
        "        rs = check_random_state(self.random_state)\n",
        "        if self._use_mlp_input:\n",
        "            self._compute_biases(rs)\n",
        "            self._compute_weights(X, rs)\n",
        "\n",
        "        if self._use_rbf_input:\n",
        "            self._compute_centers(X, sp.issparse(X), rs)\n",
        "            self._compute_radii()\n",
        "\n",
        "    def _compute_input_activations(self, X):\n",
        "        \"\"\"Compute input activations given X\"\"\"\n",
        "\n",
        "        n_samples = X.shape[0]\n",
        "\n",
        "        mlp_acts = np.zeros((n_samples, self.n_hidden))\n",
        "        if self._use_mlp_input:\n",
        "            b = self.components_[\"biases\"]\n",
        "            w = self.components_[\"weights\"]\n",
        "            mlp_acts = self.alpha * (safe_sparse_dot(X, w) + b)\n",
        "\n",
        "        rbf_acts = np.zeros((n_samples, self.n_hidden))\n",
        "        if self._use_rbf_input:\n",
        "            radii = self.components_[\"radii\"]\n",
        "            centers = self.components_[\"centers\"]\n",
        "            scale = self.rbf_width * (1.0 - self.alpha)\n",
        "            rbf_acts = scale * cdist(X, centers) / radii\n",
        "\n",
        "        self.input_activations_ = mlp_acts + rbf_acts\n",
        "\n",
        "\n",
        "class MLPRandomLayer(RandomLayer):\n",
        "    \"\"\"Wrapper for RandomLayer with alpha (mixing coefficient) set\n",
        "    to 1.0 for MLP activations only\"\"\"\n",
        "\n",
        "    def __init__(\n",
        "        self,\n",
        "        n_hidden=20,\n",
        "        random_state=None,\n",
        "        activation_func=\"tanh\",\n",
        "        activation_args=None,\n",
        "        weights=None,\n",
        "        biases=None,\n",
        "    ):\n",
        "        user_components = {\"weights\": weights, \"biases\": biases}\n",
        "        super(MLPRandomLayer, self).__init__(\n",
        "            n_hidden=n_hidden,\n",
        "            random_state=random_state,\n",
        "            activation_func=activation_func,\n",
        "            activation_args=activation_args,\n",
        "            user_components=user_components,\n",
        "            alpha=1.0,\n",
        "        )\n",
        "\n",
        "\n",
        "class RBFRandomLayer(RandomLayer):\n",
        "    \"\"\"Wrapper for RandomLayer with alpha (mixing coefficient) set\n",
        "    to 0.0 for RBF activations only\"\"\"\n",
        "\n",
        "    def __init__(\n",
        "        self,\n",
        "        n_hidden=20,\n",
        "        random_state=None,\n",
        "        activation_func=\"gaussian\",\n",
        "        activation_args=None,\n",
        "        centers=None,\n",
        "        radii=None,\n",
        "        rbf_width=1.0,\n",
        "    ):\n",
        "        user_components = {\"centers\": centers, \"radii\": radii}\n",
        "        super(RBFRandomLayer, self).__init__(\n",
        "            n_hidden=n_hidden,\n",
        "            random_state=random_state,\n",
        "            activation_func=activation_func,\n",
        "            activation_args=activation_args,\n",
        "            user_components=user_components,\n",
        "            rbf_width=rbf_width,\n",
        "            alpha=0.0,\n",
        "        )\n",
        "\n",
        "\n",
        "class GRBFRandomLayer(RBFRandomLayer):\n",
        "    \"\"\"Random Generalized RBF Hidden Layer transformer\n",
        "\n",
        "    Creates a layer of radial basis function units where:\n",
        "\n",
        "       f(a), s.t. a = ||x-c||/r\n",
        "\n",
        "    with c the unit center\n",
        "    and f() is exp(-gamma * a^tau) where tau and r are computed\n",
        "    based on [1]\n",
        "\n",
        "    Parameters\n",
        "    ----------\n",
        "    `n_hidden` : int, optional (default=20)\n",
        "        Number of units to generate, ignored if centers are provided\n",
        "\n",
        "    `grbf_lambda` : float, optional (default=0.05)\n",
        "        GRBF shape parameter\n",
        "\n",
        "    `gamma` : {int, float} optional (default=1.0)\n",
        "        Width multiplier for GRBF distance argument\n",
        "\n",
        "    `centers` : array of shape (n_hidden, n_features), optional (default=None)\n",
        "        If provided, overrides internal computation of the centers\n",
        "\n",
        "    `radii` : array of shape (n_hidden),  optional (default=None)\n",
        "        If provided, overrides internal computation of the radii\n",
        "\n",
        "    `use_exemplars` : bool, optional (default=False)\n",
        "        If True, uses random examples from the input to determine the RBF\n",
        "        centers, ignored if centers are provided\n",
        "\n",
        "    `random_state`  : int or RandomState instance, optional (default=None)\n",
        "        Control the pseudo random number generator used to generate the\n",
        "        centers at fit time, ignored if centers are provided\n",
        "\n",
        "    Attributes\n",
        "    ----------\n",
        "    `components_` : dictionary containing two keys:\n",
        "        `radii_`   : numpy array of shape [n_hidden]\n",
        "        `centers_` : numpy array of shape [n_hidden, n_features]\n",
        "\n",
        "    `input_activations_` : numpy array of shape [n_samples, n_hidden]\n",
        "        Array containing ||x-c||/r for all samples\n",
        "\n",
        "    See Also\n",
        "    --------\n",
        "    ELMRegressor, ELMClassifier, SimpleELMRegressor, SimpleELMClassifier,\n",
        "    SimpleRandomLayer\n",
        "\n",
        "    References\n",
        "    ----------\n",
        "    .. [1] Fernandez-Navarro, et al, \"MELM-GRBF: a modified version of the\n",
        "              extreme learning machine for generalized radial basis function\n",
        "              neural networks\", Neurocomputing 74 (2011), 2502-2510\n",
        "\n",
        "    \"\"\"\n",
        "\n",
        "    # def _grbf(acts, taus):\n",
        "    #     \"\"\"GRBF activation function\"\"\"\n",
        "\n",
        "    #     return np.exp(np.exp(-pow(acts, taus)))\n",
        "\n",
        "    _grbf = lambda acts, taus: np.exp(np.exp(-pow(acts, taus)))\n",
        "\n",
        "    _internal_activation_funcs = {\"grbf\": _grbf}\n",
        "\n",
        "    def __init__(\n",
        "        self,\n",
        "        n_hidden=20,\n",
        "        grbf_lambda=0.001,\n",
        "        centers=None,\n",
        "        radii=None,\n",
        "        random_state=None,\n",
        "    ):\n",
        "        super(GRBFRandomLayer, self).__init__(\n",
        "            n_hidden=n_hidden,\n",
        "            activation_func=\"grbf\",\n",
        "            centers=centers,\n",
        "            radii=radii,\n",
        "            random_state=random_state,\n",
        "        )\n",
        "\n",
        "        self.grbf_lambda = grbf_lambda\n",
        "        self.dN_vals = None\n",
        "        self.dF_vals = None\n",
        "        self.tau_vals = None\n",
        "\n",
        "    # get centers from superclass, then calculate tau_vals\n",
        "    # according to ref [1]\n",
        "    def _compute_centers(self, X, sparse, rs):\n",
        "        \"\"\"Generate centers, then compute tau, dF and dN vals\"\"\"\n",
        "\n",
        "        super(GRBFRandomLayer, self)._compute_centers(X, sparse, rs)\n",
        "\n",
        "        centers = self.components_[\"centers\"]\n",
        "        sorted_distances = np.sort(squareform(pdist(centers)))\n",
        "        self.dF_vals = sorted_distances[:, -1]\n",
        "        self.dN_vals = sorted_distances[:, 1] / 100.0\n",
        "        # self.dN_vals = 0.0002 * np.ones(self.dF_vals.shape)\n",
        "\n",
        "        tauNum = np.log(np.log(self.grbf_lambda) / np.log(1.0 - self.grbf_lambda))\n",
        "\n",
        "        tauDenom = np.log(self.dF_vals / self.dN_vals)\n",
        "\n",
        "        self.tau_vals = tauNum / tauDenom\n",
        "\n",
        "        self._extra_args[\"taus\"] = self.tau_vals\n",
        "\n",
        "    # get radii according to ref [1]\n",
        "    def _compute_radii(self):\n",
        "        \"\"\"Generate radii\"\"\"\n",
        "\n",
        "        denom = pow(-np.log(self.grbf_lambda), 1.0 / self.tau_vals)\n",
        "        self.components_[\"radii\"] = self.dF_vals / denom"
      ],
      "metadata": {
        "id": "hJs1D2u35nBX"
      },
      "execution_count": 4,
      "outputs": []
    },
    {
      "cell_type": "code",
      "source": [
        "%%capture\n",
        "# -*- coding: utf8\n",
        "# Author: David C. Lambert [dcl -at- panix -dot- com]\n",
        "# Copyright(c) 2013\n",
        "# License: Simple BSD\n",
        "\n",
        "\"\"\"\n",
        "The :mod:`elm` module implements the\n",
        "Extreme Learning Machine Classifiers and Regressors (ELMClassifier,\n",
        "ELMRegressor, SimpleELMRegressor, SimpleELMClassifier).\n",
        "\n",
        "An Extreme Learning Machine (ELM) is a single layer feedforward\n",
        "network with a random hidden layer components and ordinary linear\n",
        "least squares fitting of the hidden->output weights by default.\n",
        "[1][2]\n",
        "\n",
        "References\n",
        "----------\n",
        ".. [1] http://www.extreme-learning-machines.org\n",
        ".. [2] G.-B. Huang, Q.-Y. Zhu and C.-K. Siew, \"Extreme Learning Machine:\n",
        "          Theory and Applications\", Neurocomputing, vol. 70, pp. 489-501,\n",
        "          2006.\n",
        "\"\"\"\n",
        "\n",
        "from abc import ABCMeta, abstractmethod\n",
        "\n",
        "import numpy as np\n",
        "from scipy.linalg import pinv\n",
        "\n",
        "from sklearn.utils import as_float_array\n",
        "from sklearn.utils.extmath import safe_sparse_dot\n",
        "from sklearn.base import BaseEstimator, ClassifierMixin, RegressorMixin\n",
        "from sklearn.preprocessing import LabelBinarizer\n",
        "\n",
        "# from random_layer import RandomLayer, MLPRandomLayer\n",
        "\n",
        "__all__ = [\"ELMRegressor\",\n",
        "           \"ELMClassifier\",\n",
        "           \"GenELMRegressor\",\n",
        "           \"GenELMClassifier\"]\n",
        "\n",
        "\n",
        "# BaseELM class, regressor and hidden_layer attributes\n",
        "# and provides defaults for docstrings\n",
        "class BaseELM(BaseEstimator):\n",
        "    \"\"\"\n",
        "    Base class for ELMs.\n",
        "\n",
        "    Warning: This class should not be used directly.\n",
        "    Use derived classes instead.\n",
        "    \"\"\"\n",
        "    __metaclass__ = ABCMeta\n",
        "\n",
        "    def __init__(self, hidden_layer, regressor):\n",
        "        self.regressor = regressor\n",
        "        self.hidden_layer = hidden_layer\n",
        "\n",
        "    @abstractmethod\n",
        "    def fit(self, X, y):\n",
        "        \"\"\"\n",
        "        Fit the model using X, y as training data.\n",
        "\n",
        "        Parameters\n",
        "        ----------\n",
        "        X : {array-like, sparse matrix} of shape [n_samples, n_features]\n",
        "            Training vectors, where n_samples is the number of samples\n",
        "            and n_features is the number of features.\n",
        "\n",
        "        y : array-like of shape [n_samples, n_outputs]\n",
        "            Target values (class labels in classification, real numbers in\n",
        "            regression)\n",
        "\n",
        "        Returns\n",
        "        -------\n",
        "        self : object\n",
        "\n",
        "            Returns an instance of self.\n",
        "        \"\"\"\n",
        "\n",
        "    @abstractmethod\n",
        "    def predict(self, X):\n",
        "        \"\"\"\n",
        "        Predict values using the model\n",
        "\n",
        "        Parameters\n",
        "        ----------\n",
        "        X : {array-like, sparse matrix} of shape [n_samples, n_features]\n",
        "\n",
        "        Returns\n",
        "        -------\n",
        "        C : numpy array of shape [n_samples, n_outputs]\n",
        "            Predicted values.\n",
        "        \"\"\"\n",
        "\n",
        "\n",
        "class GenELMRegressor(BaseELM, RegressorMixin):\n",
        "    \"\"\"\n",
        "    ELMRegressor is a regressor based on the Extreme Learning Machine.\n",
        "\n",
        "    An Extreme Learning Machine (ELM) is a single layer feedforward\n",
        "    network with a random hidden layer components and ordinary linear\n",
        "    least squares fitting of the hidden->output weights by default.\n",
        "    [1][2]\n",
        "\n",
        "    Parameters\n",
        "    ----------\n",
        "    `hidden_layer` : random_layer instance, optional\n",
        "        (default=MLPRandomLayer(random_state=0))\n",
        "\n",
        "    `regressor`    : regressor instance, optional (default=None)\n",
        "        If provided, this object is used to perform the regression from hidden\n",
        "        unit activations to the outputs and subsequent predictions.  If not\n",
        "        present, an ordinary linear least squares fit is performed\n",
        "\n",
        "    Attributes\n",
        "    ----------\n",
        "    `coefs_` : numpy array\n",
        "        Fitted regression coefficients if no regressor supplied.\n",
        "\n",
        "    `fitted_` : bool\n",
        "        Flag set when fit has been called already.\n",
        "\n",
        "    `hidden_activations_` : numpy array of shape [n_samples, n_hidden]\n",
        "        Hidden layer activations for last input.\n",
        "\n",
        "    See Also\n",
        "    --------\n",
        "    RBFRandomLayer, MLPRandomLayer, ELMRegressor, ELMClassifier\n",
        "\n",
        "    References\n",
        "    ----------\n",
        "    .. [1] http://www.extreme-learning-machines.org\n",
        "    .. [2] G.-B. Huang, Q.-Y. Zhu and C.-K. Siew, \"Extreme Learning Machine:\n",
        "          Theory and Applications\", Neurocomputing, vol. 70, pp. 489-501,\n",
        "              2006.\n",
        "    \"\"\"\n",
        "\n",
        "    def __init__(self,\n",
        "                 hidden_layer=MLPRandomLayer(random_state=0),\n",
        "                 regressor=None):\n",
        "\n",
        "        super(GenELMRegressor, self).__init__(hidden_layer, regressor)\n",
        "\n",
        "        self.coefs_ = None\n",
        "        self.fitted_ = False\n",
        "        self.hidden_activations_ = None\n",
        "\n",
        "    def _fit_regression(self, y):\n",
        "        \"\"\"\n",
        "        fit regression using pseudo-inverse\n",
        "        or supplied regressor\n",
        "        \"\"\"\n",
        "        if (self.regressor is None):\n",
        "            self.coefs_ = safe_sparse_dot(pinv(self.hidden_activations_), y)\n",
        "        else:\n",
        "            self.regressor.fit(self.hidden_activations_, y)\n",
        "\n",
        "        self.fitted_ = True\n",
        "\n",
        "    def fit(self, X, y):\n",
        "        \"\"\"\n",
        "        Fit the model using X, y as training data.\n",
        "\n",
        "        Parameters\n",
        "        ----------\n",
        "        X : {array-like, sparse matrix} of shape [n_samples, n_features]\n",
        "            Training vectors, where n_samples is the number of samples\n",
        "            and n_features is the number of features.\n",
        "\n",
        "        y : array-like of shape [n_samples, n_outputs]\n",
        "            Target values (class labels in classification, real numbers in\n",
        "            regression)\n",
        "\n",
        "        Returns\n",
        "        -------\n",
        "        self : object\n",
        "\n",
        "            Returns an instance of self.\n",
        "        \"\"\"\n",
        "        # fit random hidden layer and compute the hidden layer activations\n",
        "        self.hidden_activations_ = self.hidden_layer.fit_transform(X)\n",
        "        # print(self.hidden_activations_)\n",
        "        # print(f\"-------training hidden_activations shape {self.hidden_activations_.shape}------------\")\n",
        "\n",
        "        # solve the regression from hidden activations to outputs\n",
        "        self._fit_regression(as_float_array(y, copy=True))\n",
        "\n",
        "        return self\n",
        "\n",
        "    def _get_predictions(self):\n",
        "        \"\"\"get predictions using internal least squares/supplied regressor\"\"\"\n",
        "        if (self.regressor is None):\n",
        "            preds = safe_sparse_dot(self.hidden_activations_, self.coefs_)\n",
        "        else:\n",
        "            preds = self.regressor.predict(self.hidden_activations_)\n",
        "\n",
        "        return preds\n",
        "\n",
        "    def predict(self, X):\n",
        "        \"\"\"\n",
        "        Predict values using the model\n",
        "\n",
        "        Parameters\n",
        "        ----------\n",
        "        X : {array-like, sparse matrix} of shape [n_samples, n_features]\n",
        "\n",
        "        Returns\n",
        "        -------\n",
        "        C : numpy array of shape [n_samples, n_outputs]\n",
        "            Predicted values.\n",
        "        \"\"\"\n",
        "        if (not self.fitted_):\n",
        "            raise ValueError(\"ELMRegressor not fitted\")\n",
        "\n",
        "        # compute hidden layer activations\n",
        "        self.hidden_activations_ = self.hidden_layer.transform(X)\n",
        "        # print(self.hidden_activations_)\n",
        "        # print(f\"-------hidden_activations shape {self.hidden_activations_.shape}------------\")\n",
        "        # compute output predictions for new hidden activations\n",
        "        predictions = self._get_predictions()\n",
        "\n",
        "        return predictions\n",
        "\n",
        "'''\n",
        "class GenELMClassifier(BaseELM, ClassifierMixin):\n",
        "    \"\"\"\n",
        "    GenELMClassifier is a classifier based on the Extreme Learning Machine.\n",
        "\n",
        "    An Extreme Learning Machine (ELM) is a single layer feedforward\n",
        "    network with a random hidden layer components and ordinary linear\n",
        "    least squares fitting of the hidden->output weights by default.\n",
        "    [1][2]\n",
        "\n",
        "    Parameters\n",
        "    ----------\n",
        "    `hidden_layer` : random_layer instance, optional\n",
        "        (default=MLPRandomLayer(random_state=0))\n",
        "\n",
        "    `binarizer` : LabelBinarizer, optional\n",
        "        (default=LabelBinarizer(-1, 1))\n",
        "\n",
        "    `regressor`    : regressor instance, optional (default=None)\n",
        "        If provided, this object is used to perform the regression from hidden\n",
        "        unit activations to the outputs and subsequent predictions.  If not\n",
        "        present, an ordinary linear least squares fit is performed\n",
        "\n",
        "    Attributes\n",
        "    ----------\n",
        "    `classes_` : numpy array of shape [n_classes]\n",
        "        Array of class labels\n",
        "\n",
        "    `genelm_regressor_` : ELMRegressor instance\n",
        "        Performs actual fit of binarized values\n",
        "\n",
        "    See Also\n",
        "    --------\n",
        "    RBFRandomLayer, MLPRandomLayer, ELMRegressor, ELMClassifier\n",
        "\n",
        "    References\n",
        "    ----------\n",
        "    .. [1] http://www.extreme-learning-machines.org\n",
        "    .. [2] G.-B. Huang, Q.-Y. Zhu and C.-K. Siew, \"Extreme Learning Machine:\n",
        "              Theory and Applications\", Neurocomputing, vol. 70, pp. 489-501,\n",
        "              2006.\n",
        "    \"\"\"\n",
        "    def __init__(self,\n",
        "                 hidden_layer=MLPRandomLayer(random_state=0),\n",
        "                 binarizer=LabelBinarizer(-1, 1),\n",
        "                 regressor=None):\n",
        "\n",
        "        super(GenELMClassifier, self).__init__(hidden_layer, regressor)\n",
        "\n",
        "        self.binarizer = binarizer\n",
        "\n",
        "        self.classes_ = None\n",
        "        self.genelm_regressor_ = GenELMRegressor(hidden_layer, regressor)\n",
        "\n",
        "    def decision_function(self, X):\n",
        "        \"\"\"\n",
        "        This function return the decision function values related to each\n",
        "        class on an array of test vectors X.\n",
        "\n",
        "        Parameters\n",
        "        ----------\n",
        "        X : array-like of shape [n_samples, n_features]\n",
        "\n",
        "        Returns\n",
        "        -------\n",
        "        C : array of shape [n_samples, n_classes] or [n_samples,]\n",
        "            Decision function values related to each class, per sample.\n",
        "            In the two-class case, the shape is [n_samples,]\n",
        "        \"\"\"\n",
        "        return self.genelm_regressor_.predict(X)\n",
        "\n",
        "    def fit(self, X, y):\n",
        "        \"\"\"\n",
        "        Fit the model using X, y as training data.\n",
        "\n",
        "        Parameters\n",
        "        ----------\n",
        "        X : {array-like, sparse matrix} of shape [n_samples, n_features]\n",
        "            Training vectors, where n_samples is the number of samples\n",
        "            and n_features is the number of features.\n",
        "\n",
        "        y : array-like of shape [n_samples, n_outputs]\n",
        "            Target values (class labels in classification, real numbers in\n",
        "            regression)\n",
        "\n",
        "        Returns\n",
        "        -------\n",
        "        self : object\n",
        "\n",
        "            Returns an instance of self.\n",
        "        \"\"\"\n",
        "        self.classes_ = np.unique(y)\n",
        "\n",
        "        y_bin = self.binarizer.fit_transform(y)\n",
        "\n",
        "        self.genelm_regressor_.fit(X, y_bin)\n",
        "        return self\n",
        "\n",
        "    def predict(self, X):\n",
        "        \"\"\"Predict values using the model\n",
        "\n",
        "        Parameters\n",
        "        ----------\n",
        "        X : {array-like, sparse matrix} of shape [n_samples, n_features]\n",
        "\n",
        "        Returns\n",
        "        -------\n",
        "        C : numpy array of shape [n_samples, n_outputs]\n",
        "            Predicted values.\n",
        "        \"\"\"\n",
        "        raw_predictions = self.decision_function(X)\n",
        "        class_predictions = self.binarizer.inverse_transform(raw_predictions)\n",
        "\n",
        "        return class_predictions\n",
        "'''\n",
        "\n",
        "# ELMRegressor with default RandomLayer\n",
        "class ELMRegressor(BaseEstimator, RegressorMixin):\n",
        "    \"\"\"\n",
        "    ELMRegressor is a regressor based on the Extreme Learning Machine.\n",
        "\n",
        "    An Extreme Learning Machine (ELM) is a single layer feedforward\n",
        "    network with a random hidden layer components and ordinary linear\n",
        "    least squares fitting of the hidden->output weights by default.\n",
        "    [1][2]\n",
        "\n",
        "    ELMRegressor is a wrapper for an GenELMRegressor that uses a\n",
        "    RandomLayer and passes the __init__ parameters through\n",
        "    to the hidden layer generated by the fit() method.\n",
        "\n",
        "    Parameters\n",
        "    ----------\n",
        "    `n_hidden` : int, optional (default=20)\n",
        "        Number of units to generate in the SimpleRandomLayer\n",
        "\n",
        "    `alpha` : float, optional (default=0.5)\n",
        "        Mixing coefficient for distance and dot product input activations:\n",
        "        activation = alpha*mlp_activation + (1-alpha)*rbf_width*rbf_activation\n",
        "\n",
        "    `rbf_width` : float, optional (default=1.0)\n",
        "        multiplier on rbf_activation\n",
        "\n",
        "    `activation_func` : {callable, string} optional (default='tanh')\n",
        "        Function used to transform input activation\n",
        "\n",
        "        It must be one of 'tanh', 'sine', 'tribas', 'inv_tribase', 'sigmoid',\n",
        "        'hardlim', 'softlim', 'gaussian', 'multiquadric', 'inv_multiquadric' or\n",
        "        a callable.  If none is given, 'tanh' will be used. If a callable\n",
        "        is given, it will be used to compute the hidden unit activations.\n",
        "\n",
        "    `activation_args` : dictionary, optional (default=None)\n",
        "        Supplies keyword arguments for a callable activation_func\n",
        "\n",
        "    `user_components`: dictionary, optional (default=None)\n",
        "        dictionary containing values for components that woud otherwise be\n",
        "        randomly generated.  Valid key/value pairs are as follows:\n",
        "           'radii'  : array-like of shape [n_hidden]\n",
        "           'centers': array-like of shape [n_hidden, n_features]\n",
        "           'biases' : array-like of shape [n_hidden]\n",
        "           'weights': array-like of shape [n_hidden, n_features]\n",
        "\n",
        "    `regressor`    : regressor instance, optional (default=None)\n",
        "        If provided, this object is used to perform the regression from hidden\n",
        "        unit activations to the outputs and subsequent predictions.  If not\n",
        "        present, an ordinary linear least squares fit is performed\n",
        "\n",
        "    `random_state`  : int, RandomState instance or None (default=None)\n",
        "        Control the pseudo random number generator used to generate the\n",
        "        hidden unit weights at fit time.\n",
        "\n",
        "    Attributes\n",
        "    ----------\n",
        "    `genelm_regressor_` : GenELMRegressor object\n",
        "        Wrapped object that actually performs the fit.\n",
        "\n",
        "    See Also\n",
        "    --------\n",
        "    RandomLayer, RBFRandomLayer, MLPRandomLayer,\n",
        "    GenELMRegressor, GenELMClassifier, ELMClassifier\n",
        "\n",
        "    References\n",
        "    ----------\n",
        "    .. [1] http://www.extreme-learning-machines.org\n",
        "    .. [2] G.-B. Huang, Q.-Y. Zhu and C.-K. Siew, \"Extreme Learning Machine:\n",
        "          Theory and Applications\", Neurocomputing, vol. 70, pp. 489-501,\n",
        "              2006.\n",
        "    \"\"\"\n",
        "\n",
        "    def __init__(self, n_hidden=20, alpha=0.5, rbf_width=1.0,\n",
        "                 activation_func='tanh', activation_args=None,\n",
        "                 user_components=None, regressor=None, random_state=None):\n",
        "\n",
        "        self.n_hidden = n_hidden\n",
        "        self.alpha = alpha\n",
        "        self.random_state = random_state\n",
        "        self.activation_func = activation_func\n",
        "        self.activation_args = activation_args\n",
        "        self.user_components = user_components\n",
        "        self.rbf_width = rbf_width\n",
        "        self.regressor = regressor\n",
        "\n",
        "        self._genelm_regressor = None\n",
        "\n",
        "    def _create_random_layer(self):\n",
        "        \"\"\"Pass init params to RandomLayer\"\"\"\n",
        "\n",
        "        return RandomLayer(n_hidden=self.n_hidden,\n",
        "                           alpha=self.alpha, random_state=self.random_state,\n",
        "                           activation_func=self.activation_func,\n",
        "                           activation_args=self.activation_args,\n",
        "                           user_components=self.user_components,\n",
        "                           rbf_width=self.rbf_width)\n",
        "\n",
        "    def fit(self, X, y):\n",
        "        \"\"\"\n",
        "        Fit the model using X, y as training data.\n",
        "\n",
        "        Parameters\n",
        "        ----------\n",
        "        X : {array-like, sparse matrix} of shape [n_samples, n_features]\n",
        "            Training vectors, where n_samples is the number of samples\n",
        "            and n_features is the number of features.\n",
        "\n",
        "        y : array-like of shape [n_samples, n_outputs]\n",
        "            Target values (class labels in classification, real numbers in\n",
        "            regression)\n",
        "\n",
        "        Returns\n",
        "        -------\n",
        "        self : object\n",
        "\n",
        "            Returns an instance of self.\n",
        "        \"\"\"\n",
        "        rhl = self._create_random_layer()\n",
        "        self._genelm_regressor = GenELMRegressor(hidden_layer=rhl,\n",
        "                                                 regressor=self.regressor)\n",
        "        self._genelm_regressor.fit(X, y)\n",
        "        return self\n",
        "\n",
        "    def predict(self, X):\n",
        "        \"\"\"\n",
        "        Predict values using the model\n",
        "\n",
        "        Parameters\n",
        "        ----------\n",
        "        X : {array-like, sparse matrix} of shape [n_samples, n_features]\n",
        "\n",
        "        Returns\n",
        "        -------\n",
        "        C : numpy array of shape [n_samples, n_outputs]\n",
        "            Predicted values.\n",
        "        \"\"\"\n",
        "        if (self._genelm_regressor is None):\n",
        "            raise ValueError(\"SimpleELMRegressor not fitted\")\n",
        "\n",
        "        return self._genelm_regressor.predict(X)\n",
        "\n",
        "'''\n",
        "class ELMClassifier(ELMRegressor):\n",
        "    \"\"\"\n",
        "    ELMClassifier is a classifier based on the Extreme Learning Machine.\n",
        "\n",
        "    An Extreme Learning Machine (ELM) is a single layer feedforward\n",
        "    network with a random hidden layer components and ordinary linear\n",
        "    least squares fitting of the hidden->output weights by default.\n",
        "    [1][2]\n",
        "\n",
        "    ELMClassifier is an ELMRegressor subclass that first binarizes the\n",
        "    data, then uses the superclass to compute the decision function that\n",
        "    is then unbinarized to yield the prediction.\n",
        "\n",
        "    The params for the RandomLayer used in the input transform are\n",
        "    exposed in the ELMClassifier constructor.\n",
        "\n",
        "    Parameters\n",
        "    ----------\n",
        "    `n_hidden` : int, optional (default=20)\n",
        "        Number of units to generate in the SimpleRandomLayer\n",
        "\n",
        "    `activation_func` : {callable, string} optional (default='tanh')\n",
        "        Function used to transform input activation\n",
        "\n",
        "        It must be one of 'tanh', 'sine', 'tribas', 'inv_tribase', 'sigmoid',\n",
        "        'hardlim', 'softlim', 'gaussian', 'multiquadric', 'inv_multiquadric' or\n",
        "        a callable.  If none is given, 'tanh' will be used. If a callable\n",
        "        is given, it will be used to compute the hidden unit activations.\n",
        "\n",
        "    `activation_args` : dictionary, optional (default=None)\n",
        "        Supplies keyword arguments for a callable activation_func\n",
        "\n",
        "    `random_state`  : int, RandomState instance or None (default=None)\n",
        "        Control the pseudo random number generator used to generate the\n",
        "        hidden unit weights at fit time.\n",
        "\n",
        "    Attributes\n",
        "    ----------\n",
        "    `classes_` : numpy array of shape [n_classes]\n",
        "        Array of class labels\n",
        "\n",
        "    See Also\n",
        "    --------\n",
        "    RandomLayer, RBFRandomLayer, MLPRandomLayer,\n",
        "    GenELMRegressor, GenELMClassifier, ELMClassifier\n",
        "\n",
        "    References\n",
        "    ----------\n",
        "    .. [1] http://www.extreme-learning-machines.org\n",
        "    .. [2] G.-B. Huang, Q.-Y. Zhu and C.-K. Siew, \"Extreme Learning Machine:\n",
        "          Theory and Applications\", Neurocomputing, vol. 70, pp. 489-501,\n",
        "              2006.\n",
        "    \"\"\"\n",
        "\n",
        "    def __init__(self, n_hidden=20, alpha=0.5, rbf_width=1.0,\n",
        "                 activation_func='tanh', activation_args=None,\n",
        "                 user_components=None, regressor=None,\n",
        "                 binarizer=LabelBinarizer(-1, 1),\n",
        "                 random_state=None):\n",
        "\n",
        "        super(ELMClassifier, self).__init__(n_hidden=n_hidden,\n",
        "                                            alpha=alpha,\n",
        "                                            random_state=random_state,\n",
        "                                            activation_func=activation_func,\n",
        "                                            activation_args=activation_args,\n",
        "                                            user_components=user_components,\n",
        "                                            rbf_width=rbf_width,\n",
        "                                            regressor=regressor)\n",
        "\n",
        "        self.classes_ = None\n",
        "        self.binarizer = binarizer\n",
        "\n",
        "    def decision_function(self, X):\n",
        "        \"\"\"\n",
        "        This function return the decision function values related to each\n",
        "        class on an array of test vectors X.\n",
        "\n",
        "        Parameters\n",
        "        ----------\n",
        "        X : array-like of shape [n_samples, n_features]\n",
        "\n",
        "        Returns\n",
        "        -------\n",
        "        C : array of shape [n_samples, n_classes] or [n_samples,]\n",
        "            Decision function values related to each class, per sample.\n",
        "            In the two-class case, the shape is [n_samples,]\n",
        "        \"\"\"\n",
        "        return super(ELMClassifier, self).predict(X)\n",
        "\n",
        "    def fit(self, X, y):\n",
        "        \"\"\"\n",
        "        Fit the model using X, y as training data.\n",
        "\n",
        "        Parameters\n",
        "        ----------\n",
        "        X : {array-like, sparse matrix} of shape [n_samples, n_features]\n",
        "            Training vectors, where n_samples is the number of samples\n",
        "            and n_features is the number of features.\n",
        "\n",
        "        y : array-like of shape [n_samples, n_outputs]\n",
        "            Target values (class labels in classification, real numbers in\n",
        "            regression)\n",
        "\n",
        "        Returns\n",
        "        -------\n",
        "        self : object\n",
        "\n",
        "            Returns an instance of self.\n",
        "        \"\"\"\n",
        "        self.classes_ = np.unique(y)\n",
        "\n",
        "        y_bin = self.binarizer.fit_transform(y)\n",
        "\n",
        "        super(ELMClassifier, self).fit(X, y_bin)\n",
        "\n",
        "        return self\n",
        "\n",
        "    def predict(self, X):\n",
        "        \"\"\"\n",
        "        Predict values using the model\n",
        "\n",
        "        Parameters\n",
        "        ----------\n",
        "        X : {array-like, sparse matrix} of shape [n_samples, n_features]\n",
        "\n",
        "        Returns\n",
        "        -------\n",
        "        C : numpy array of shape [n_samples, n_outputs]\n",
        "            Predicted values.\n",
        "        \"\"\"\n",
        "        raw_predictions = self.decision_function(X)\n",
        "        class_predictions = self.binarizer.inverse_transform(raw_predictions)\n",
        "\n",
        "        return class_predictions\n",
        "\n",
        "    def score(self, X, y):\n",
        "        \"\"\"Force use of accuracy score since we don't inherit\n",
        "           from ClassifierMixin\"\"\"\n",
        "\n",
        "        from sklearn.metrics import accuracy_score\n",
        "        return accuracy_score(y, self.predict(X))\n",
        "'''"
      ],
      "metadata": {
        "id": "BRrNFUzw5X5U"
      },
      "execution_count": 5,
      "outputs": []
    },
    {
      "cell_type": "code",
      "source": [
        "%%capture\n",
        "# hide code cell output\n",
        "from google.colab import drive\n",
        "drive.mount('/content/drive')"
      ],
      "metadata": {
        "id": "hHYT6eqn6F0J"
      },
      "execution_count": 6,
      "outputs": []
    },
    {
      "cell_type": "code",
      "execution_count": 7,
      "metadata": {
        "id": "JfzPYjvb4ocM"
      },
      "outputs": [],
      "source": [
        "# from elm import ELMRegressor\n",
        "from collections.abc import Iterable\n",
        "import numpy as np\n",
        "import pandas as pd\n",
        "import math\n",
        "import matplotlib.pyplot as plt\n",
        "import scipy.stats as stats\n",
        "from sklearn import preprocessing\n",
        "from sklearn.metrics import mean_squared_error\n",
        "from skmultiflow.drift_detection import DDM\n",
        "import statsmodels.api as sm\n",
        "import sys\n",
        "# import talib\n",
        "# from talib import abstract\n",
        "from typing import Union\n",
        "\n",
        "sc = preprocessing.StandardScaler()\n",
        "\n",
        "'''\n",
        "    (Cavalcante & Oliveira, 2015)\n",
        "    Feature Selection:\n",
        "    The input data is composed by daily open, high, low and close prices and two classical technical indicators,\n",
        "    the exponential moving average (EMA) and the Bollinger Bands (BB):\n",
        "    1) lowest and highest prices of the 5 previous days;\n",
        "    2) opening and closing prices of the 5 previous days;\n",
        "    3) EMA of the lowest and highest prices of the 5 previous days;\n",
        "    4) EMA of the opening and closing prices of the 5 previous days;\n",
        "    5) BB of the opening and closing prices of the 5 previous days;\n",
        "    6) BB of the lowest and highest prices of the 5 previous days;\n",
        "'''\n",
        "\n",
        "'''\n",
        "    (Mishra & Das, 2022)\n",
        "    Feature Selection:\n",
        "    The available features for the GOLD/USD dataset are price, open price, high price, low price, volume, and price change.\n",
        "    The gold data available for predictions are in 1 Troy Ounce Unit.\n",
        "    This experimentation has worked out for four time horizons such as 1 day, 3 days, 7 days, and 1 month in advance.\n",
        "    A total of 70% of data is selected for training and 30% is selected for testing .\n",
        "'''\n",
        "def handle_datasets(show_fig: bool = False) -> list:\n",
        "    # reverse dataframe datetime\n",
        "    df = pd.read_csv('/content/drive/MyDrive/Colab Notebooks/gold prices 2013-2023.csv', parse_dates=['Date'], index_col='Date')\n",
        "    df= df.sort_values(by='Date')\n",
        "    df = df.rename(columns={\"Close/Last\": \"close\"})\n",
        "    df.columns = df.columns.str.lower()\n",
        "    # replace Nan\n",
        "    df['volume'] = df['volume'].interpolate()\n",
        "    # 5 days average\n",
        "    #  moving_avg = df['close'].rolling(window=5).mean()\n",
        "    # df['moving_average'] = moving_avg\n",
        "\n",
        "    # 1) lowest and highest prices of the 5 previous days;\n",
        "    df['high_previous_1_days'] = df['high'].shift(1)\n",
        "    df['low_previous_1_days'] = df['low'].shift(1)\n",
        "\n",
        "\n",
        "    # 2) opening and closing prices of the 5 previous days;\n",
        "    df['close_previous_1_days'] = df['close'].shift(1)\n",
        "    df['open_previous_1_days'] = df['open'].shift(1)\n",
        "\n",
        "    # change = today-yesterday\n",
        "    df['change'] = df['close'].diff()\n",
        "\n",
        "    # exclude 5 columns, others = input features, start from index=5 drop NaN\n",
        "    x = df[df.columns.difference(['close', 'open', 'high', 'low'])][1:]\n",
        "    y = df[\"close\"][1:]\n",
        "\n",
        "    if show_fig:\n",
        "        plt.title(\"Gold prices\")\n",
        "        plt.plot(y[:30], color=\"green\")\n",
        "        plt.plot(x.drop(columns=['volume','change'])[:30], color=\"orange\")\n",
        "        plt.xlabel(\"Days\")\n",
        "        plt.xticks(rotation=45, ha='right')\n",
        "        plt.ylabel(\"Close price\")\n",
        "        plt.show(block=False)\n",
        "        # show 5 seconds, no need in colab\n",
        "        # plt.pause(5)\n",
        "    # 2d-array x.shape = (input_samples, features)\n",
        "    x_train, x_test = to_ndarray(x, split = 0.8,features = x.shape[1])\n",
        "    y_train, y_test = to_ndarray(y, split = 0.8)\n",
        "    res = [x_train, y_train, x_test, y_test]\n",
        "    return res\n",
        "\n",
        "\n",
        "def to_ndarray(df: Union[pd.DataFrame, pd.Series], split: float = 0.8, features: int = 1):\n",
        "    nd = df.to_numpy()\n",
        "    train_set, test_set = np.split(nd, [int(split * len(nd))])\n",
        "    train_set = train_set.reshape(-1, features)\n",
        "    test_set = test_set.reshape(-1, features)\n",
        "    train_set = sc.fit_transform(train_set)\n",
        "    test_set = sc.fit_transform(test_set)\n",
        "    return train_set, test_set"
      ]
    },
    {
      "cell_type": "code",
      "source": [
        "def plot_fig(x:Iterable, y:Iterable, x_label: str, y_label:str, show: bool=False, color:str=\"black\", clean: bool = True):\n",
        "    if show:\n",
        "        plt.plot(x, y, color=color)\n",
        "        plt.xlabel(x_label)\n",
        "        plt.ylabel(y_label)\n",
        "    if clean:\n",
        "        plt.show(block=False)\n",
        "        plt.clf()"
      ],
      "metadata": {
        "id": "oyEoRha_Cm6_"
      },
      "execution_count": 8,
      "outputs": []
    },
    {
      "cell_type": "code",
      "source": [
        "def drift_detection(data_stream: list, retrain_data: list, nodes: int, warning_level: float = 2.0, drift_detect: float = 3.0, threshold_opt: int = 0) -> None:\n",
        "    '''\n",
        "        prediction: int (either 0 or 1)\n",
        "            This parameter indicates whether the last sample analyzed was\n",
        "            correctly classified or not. 1 indicates an error (miss-classification).\n",
        "    '''\n",
        "    ddm = DDM(min_num_instances=30, warning_level=warning_level, out_control_level=drift_detect)\n",
        "    warning_status = False\n",
        "    warning_start = 0\n",
        "    warning_end = 0\n",
        "    for i in range(len(data_stream)):\n",
        "        ddm.add_element(data_stream[i])\n",
        "        if ddm.detected_change() and warning_status:\n",
        "            warning_end = i\n",
        "            assert warning_end > warning_start\n",
        "            print(f\"warning start at index {warning_start}, Change has been detected in index {warning_end}\")\n",
        "            # retrain\n",
        "            warning_status = False\n",
        "            # at least 30 data samples\n",
        "            if warning_end-warning_start>=30:\n",
        "                # retrain immediately\n",
        "                break\n",
        "        elif ddm.detected_warning_zone():\n",
        "            if not warning_status:\n",
        "                warning_start = i\n",
        "            warning_status = True\n",
        "            # print('Warning zone has been detected in data: ' + str(data_stream[i]) + ' - of index: ' + str(i))\n",
        "        else:\n",
        "            warning_status = False\n",
        "    if warning_end-warning_start>=30:\n",
        "        print(f\"-------------------retrain with data from index {warning_start}~{warning_end}-------------------\")\n",
        "        print(f\"-------------------testing with data from index {warning_end+1}~{len(data_stream)}-------------------\")\n",
        "        x_train = retrain_data[0][warning_start:warning_end]\n",
        "        y_train = retrain_data[1][warning_start:warning_end]\n",
        "        x_test = retrain_data[0][warning_end:]\n",
        "        y_test = retrain_data[1][warning_end:]\n",
        "        datasets = [x_train, y_train, x_test, y_test]\n",
        "        # enable the network to perform feature extraction\n",
        "        train(datasets, nodes=nodes+3, show_fig=True, threshold_opt=threshold_opt, level_config=(warning_level, drift_detect))"
      ],
      "metadata": {
        "id": "AOhBAtg7Cijk"
      },
      "execution_count": 9,
      "outputs": []
    },
    {
      "cell_type": "code",
      "source": [
        "%%capture\n",
        "def train(datasets: list[np.ndarray],nodes: int = 20, show_fig: bool = False, threshold_opt: int = 0, level_config: tuple = (1.0, 2.0)) -> dict:\n",
        "    print(f\"hidden nodes {nodes} ,threshold option {threshold_opt}\")\n",
        "    # option: random_state=1\n",
        "    elmr = ELMRegressor(n_hidden=nodes)\n",
        "    x_train, y_train, x_test, y_test = (\n",
        "        datasets[0],\n",
        "        datasets[1],\n",
        "        datasets[2],\n",
        "        datasets[3],\n",
        "    )\n",
        "    elmr = elmr.fit(x_train, y_train)\n",
        "    # Inverse Transform the Predictions(real world value)\n",
        "    res = elmr.predict(x_test)\n",
        "\n",
        "    y_pred = sc.inverse_transform(elmr.predict(x_test))\n",
        "    y_actual = sc.inverse_transform(y_test)\n",
        "    # squared=True -> MSE\n",
        "    rms = mean_squared_error(y_actual, y_pred, squared=False)\n",
        "    print(\"RMSE \",rms)\n",
        "    # threshold 1: compare with previous price difference\n",
        "    y_prev = np.insert(y_actual, 0, y_actual[0], axis=0)\n",
        "    y_prev = y_prev[:-1]\n",
        "    abs_residual = abs(y_actual - y_pred)\n",
        "\n",
        "    # Residual = actual y - predicted y\n",
        "    residual = y_actual - y_pred\n",
        "\n",
        "    prev_abs_residual = abs(y_prev - y_actual)\n",
        "    bin = abs_residual - prev_abs_residual\n",
        "    # if y prediction errors > naive errors, prediction errors, return 1\n",
        "    error_rates = np.where(bin>0, 1, 0)\n",
        "    error_rates = list(error_rates)\n",
        "    count_errors = []\n",
        "    '''\n",
        "        concept change detection method based on the PAC learning model premise,\n",
        "        that the learner’s error rate will decrease as the number of analysed samples increase,\n",
        "        as long as the data distribution is stationary.\n",
        "    '''\n",
        "    for index in range(len(error_rates)):\n",
        "        err_num = error_rates[:index].count(1) / (index+1)\n",
        "        count_errors.append(err_num)\n",
        "\n",
        "    # threshold 2: compare with price going up or down predicitons\n",
        "    y_trend = np.subtract(y_actual, y_prev)\n",
        "    trend = np.where(y_trend>0, 1, 0)\n",
        "    y_prev_pred = np.insert(y_pred, 0, y_actual[0], axis=0)\n",
        "    y_prev_pred = y_prev_pred[:-1]\n",
        "    y_pred_trend = np.subtract(y_pred, y_prev_pred)\n",
        "    pred_trend = np.where(y_pred_trend>0, 1, 0)\n",
        "    print(np.unique(trend, return_counts=True))\n",
        "    print(np.unique(pred_trend, return_counts=True))\n",
        "    print(\"---------real trend vs pred trend---------\")\n",
        "    trend_result = list()\n",
        "    for index in range(len(pred_trend)):\n",
        "        if pred_trend[index] == trend[index]:\n",
        "            trend_result.append(0)\n",
        "        else:\n",
        "            trend_result.append(1)\n",
        "    count_trend_errors = []\n",
        "    '''\n",
        "        concept change detection method based on the PAC learning model premise,\n",
        "        that the learner’s error rate will decrease as the number of analysed samples increase,\n",
        "        as long as the data distribution is stationary.\n",
        "    '''\n",
        "    for index in range(len(trend_result)):\n",
        "        err_num = trend_result[:index].count(1) / (index+1)\n",
        "        count_trend_errors.append(err_num)\n",
        "\n",
        "\n",
        "    # errors frequency\n",
        "    stat = np.array(np.unique(residual.astype(int), return_counts=True)).T\n",
        "    error_list = list()\n",
        "    freq = list()\n",
        "    for pair in stat:\n",
        "        error_list.append(pair[0])\n",
        "        freq.append(pair[1])\n",
        "    size = [i*100 for i in freq]\n",
        "    plt.clf()\n",
        "    if threshold_opt==0:\n",
        "        print(\"-------------threshold 1---------------\")\n",
        "        plot_fig(x=range(len(error_rates)), y=count_errors, x_label=\"Number of examples\", y_label=\"T1 Errors Rates\", show=show_fig, color=\"red\")\n",
        "    elif threshold_opt==1:\n",
        "        print(\"-------------threshold 2---------------\")\n",
        "        plot_fig(x=range(len(count_trend_errors)), y=count_trend_errors, x_label=\"Number of examples\", y_label=\"T2 Errors Rates\", show=show_fig, color=\"blue\")\n",
        "    plt.clf()\n",
        "    if show_fig:\n",
        "        plot_fig(x=range(len(residual)), y=residual, x_label=\"Index\", y_label=\"Errors\", show=show_fig, color=\"#0080FF\")\n",
        "        plt.scatter(error_list, freq, c=\"#d62728\", s=size, alpha=0.3,)\n",
        "        plt.xlabel(\"Errors\")\n",
        "        plt.ylabel(\"Frequency\")\n",
        "        plt.show(block=False)\n",
        "    DDM_data = error_rates if threshold_opt==0 else trend_result\n",
        "    # implement DDM\n",
        "    # drift_detection(data_stream=DDM_data, retrain_data=[x_test, y_test],nodes=nodes, warning_level=level_config[0], drift_detect=level_config[1], threshold_opt=threshold_opt)\n",
        "    return {\"residual\":residual, \"RMSE\":rms}"
      ],
      "metadata": {
        "id": "aZ-Ho7uzDvz0"
      },
      "execution_count": 40,
      "outputs": []
    },
    {
      "cell_type": "code",
      "source": [
        "if __name__ == \"__main__\":\n",
        "    nodes = 60\n",
        "    level_config_1 = (1.0, 1.75)\n",
        "    level_config_2 = (2, 3)\n",
        "    datasets = handle_datasets(show_fig=False)\n",
        "    all_rmse = []\n",
        "    all_residual = np.array([])\n",
        "    for i in range(100):\n",
        "        # option 0: compare with previous price difference, option 1: compare with price going up or down predicitons\n",
        "        res = train(datasets, nodes=nodes, show_fig=False, threshold_opt=1, level_config=level_config_1)\n",
        "        print(f\"finish model {i}\")\n",
        "        all_rmse.append(res[\"RMSE\"])\n",
        "        all_residual = np.append(all_residual, res[\"residual\"])\n",
        "    plt.scatter(range(100), all_rmse, c=\"#003060\", alpha=0.3,)\n",
        "    plt.xlabel(\"Times\")\n",
        "    plt.ylabel(\"RMSE\")\n",
        "    plt.show(block=False)\n",
        "    rmse_avg = np.mean(all_rmse)\n",
        "    rmse_std = np.std(all_rmse)\n",
        "    print(f\"RMSE AVG = {rmse_avg}, RMSE STD = {rmse_std}\")\n",
        "    plt.clf()\n",
        "    stat = np.array(np.unique(all_residual.astype(int), return_counts=True)).T\n",
        "    error_list = list()\n",
        "    freq = list()\n",
        "    for pair in stat:\n",
        "        error_list.append(pair[0])\n",
        "        freq.append(pair[1])\n",
        "    plt.scatter(error_list, freq, c=\"#d62728\", alpha=0.3,)\n",
        "    plt.xlabel(\"Errors\")\n",
        "    plt.ylabel(\"Frequency\")\n",
        "    plt.show(block=False)\n",
        "    hypo = stats.normaltest(all_residual)\n",
        "    print(hypo)\n",
        "    # print(f\"stat: {hypo.statistic[0]} p_value: {hypo.pvalue[0]}\")\n",
        "    # Shapiro-Wilk test\n",
        "    stat, p_value = stats.shapiro(all_residual)\n",
        "    print(f\"stat: {stat} p_value: {p_value}\")"
      ],
      "metadata": {
        "colab": {
          "base_uri": "https://localhost:8080/",
          "height": 1000
        },
        "id": "vZy7bywzGFkn",
        "outputId": "10ee5d55-9240-472c-d133-92f6b447a99f"
      },
      "execution_count": 42,
      "outputs": [
        {
          "output_type": "stream",
          "name": "stdout",
          "text": [
            "hidden nodes 60 ,threshold option 1\n",
            "RMSE  15.729301380115556\n",
            "(array([0, 1]), array([247, 261]))\n",
            "(array([0, 1]), array([253, 255]))\n",
            "---------real trend vs pred trend---------\n",
            "-------------threshold 2---------------\n"
          ]
        },
        {
          "output_type": "display_data",
          "data": {
            "text/plain": [
              "<Figure size 640x480 with 0 Axes>"
            ]
          },
          "metadata": {}
        },
        {
          "output_type": "stream",
          "name": "stdout",
          "text": [
            "finish model 0\n",
            "hidden nodes 60 ,threshold option 1\n",
            "RMSE  14.457536508983122\n",
            "(array([0, 1]), array([247, 261]))\n",
            "(array([0, 1]), array([265, 243]))\n",
            "---------real trend vs pred trend---------\n",
            "-------------threshold 2---------------\n"
          ]
        },
        {
          "output_type": "display_data",
          "data": {
            "text/plain": [
              "<Figure size 640x480 with 0 Axes>"
            ]
          },
          "metadata": {}
        },
        {
          "output_type": "stream",
          "name": "stdout",
          "text": [
            "finish model 1\n",
            "hidden nodes 60 ,threshold option 1\n",
            "RMSE  13.257681825698308\n",
            "(array([0, 1]), array([247, 261]))\n",
            "(array([0, 1]), array([270, 238]))\n",
            "---------real trend vs pred trend---------\n",
            "-------------threshold 2---------------\n"
          ]
        },
        {
          "output_type": "display_data",
          "data": {
            "text/plain": [
              "<Figure size 640x480 with 0 Axes>"
            ]
          },
          "metadata": {}
        },
        {
          "output_type": "stream",
          "name": "stdout",
          "text": [
            "finish model 2\n",
            "hidden nodes 60 ,threshold option 1\n",
            "RMSE  18.704762481325023\n",
            "(array([0, 1]), array([247, 261]))\n",
            "(array([0, 1]), array([252, 256]))\n",
            "---------real trend vs pred trend---------\n",
            "-------------threshold 2---------------\n"
          ]
        },
        {
          "output_type": "display_data",
          "data": {
            "text/plain": [
              "<Figure size 640x480 with 0 Axes>"
            ]
          },
          "metadata": {}
        },
        {
          "output_type": "stream",
          "name": "stdout",
          "text": [
            "finish model 3\n",
            "hidden nodes 60 ,threshold option 1\n",
            "RMSE  12.040656726139622\n",
            "(array([0, 1]), array([247, 261]))\n",
            "(array([0, 1]), array([255, 253]))\n",
            "---------real trend vs pred trend---------\n",
            "-------------threshold 2---------------\n"
          ]
        },
        {
          "output_type": "display_data",
          "data": {
            "text/plain": [
              "<Figure size 640x480 with 0 Axes>"
            ]
          },
          "metadata": {}
        },
        {
          "output_type": "stream",
          "name": "stdout",
          "text": [
            "finish model 4\n",
            "hidden nodes 60 ,threshold option 1\n",
            "RMSE  12.113470936657125\n",
            "(array([0, 1]), array([247, 261]))\n",
            "(array([0, 1]), array([242, 266]))\n",
            "---------real trend vs pred trend---------\n",
            "-------------threshold 2---------------\n"
          ]
        },
        {
          "output_type": "display_data",
          "data": {
            "text/plain": [
              "<Figure size 640x480 with 0 Axes>"
            ]
          },
          "metadata": {}
        },
        {
          "output_type": "stream",
          "name": "stdout",
          "text": [
            "finish model 5\n",
            "hidden nodes 60 ,threshold option 1\n",
            "RMSE  13.62139157801111\n",
            "(array([0, 1]), array([247, 261]))\n",
            "(array([0, 1]), array([261, 247]))\n",
            "---------real trend vs pred trend---------\n",
            "-------------threshold 2---------------\n"
          ]
        },
        {
          "output_type": "display_data",
          "data": {
            "text/plain": [
              "<Figure size 640x480 with 0 Axes>"
            ]
          },
          "metadata": {}
        },
        {
          "output_type": "stream",
          "name": "stdout",
          "text": [
            "finish model 6\n",
            "hidden nodes 60 ,threshold option 1\n",
            "RMSE  14.65502818441245\n",
            "(array([0, 1]), array([247, 261]))\n",
            "(array([0, 1]), array([253, 255]))\n",
            "---------real trend vs pred trend---------\n",
            "-------------threshold 2---------------\n"
          ]
        },
        {
          "output_type": "display_data",
          "data": {
            "text/plain": [
              "<Figure size 640x480 with 0 Axes>"
            ]
          },
          "metadata": {}
        },
        {
          "output_type": "stream",
          "name": "stdout",
          "text": [
            "finish model 7\n",
            "hidden nodes 60 ,threshold option 1\n",
            "RMSE  11.827198326643803\n",
            "(array([0, 1]), array([247, 261]))\n",
            "(array([0, 1]), array([250, 258]))\n",
            "---------real trend vs pred trend---------\n",
            "-------------threshold 2---------------\n"
          ]
        },
        {
          "output_type": "display_data",
          "data": {
            "text/plain": [
              "<Figure size 640x480 with 0 Axes>"
            ]
          },
          "metadata": {}
        },
        {
          "output_type": "stream",
          "name": "stdout",
          "text": [
            "finish model 8\n",
            "hidden nodes 60 ,threshold option 1\n",
            "RMSE  12.976144058897832\n",
            "(array([0, 1]), array([247, 261]))\n",
            "(array([0, 1]), array([259, 249]))\n",
            "---------real trend vs pred trend---------\n",
            "-------------threshold 2---------------\n"
          ]
        },
        {
          "output_type": "display_data",
          "data": {
            "text/plain": [
              "<Figure size 640x480 with 0 Axes>"
            ]
          },
          "metadata": {}
        },
        {
          "output_type": "stream",
          "name": "stdout",
          "text": [
            "finish model 9\n",
            "hidden nodes 60 ,threshold option 1\n",
            "RMSE  14.508702161333314\n",
            "(array([0, 1]), array([247, 261]))\n",
            "(array([0, 1]), array([266, 242]))\n",
            "---------real trend vs pred trend---------\n",
            "-------------threshold 2---------------\n"
          ]
        },
        {
          "output_type": "display_data",
          "data": {
            "text/plain": [
              "<Figure size 640x480 with 0 Axes>"
            ]
          },
          "metadata": {}
        },
        {
          "output_type": "stream",
          "name": "stdout",
          "text": [
            "finish model 10\n",
            "hidden nodes 60 ,threshold option 1\n",
            "RMSE  13.634930158862883\n",
            "(array([0, 1]), array([247, 261]))\n",
            "(array([0, 1]), array([251, 257]))\n",
            "---------real trend vs pred trend---------\n",
            "-------------threshold 2---------------\n"
          ]
        },
        {
          "output_type": "display_data",
          "data": {
            "text/plain": [
              "<Figure size 640x480 with 0 Axes>"
            ]
          },
          "metadata": {}
        },
        {
          "output_type": "stream",
          "name": "stdout",
          "text": [
            "finish model 11\n",
            "hidden nodes 60 ,threshold option 1\n",
            "RMSE  12.57192576157017\n",
            "(array([0, 1]), array([247, 261]))\n",
            "(array([0, 1]), array([263, 245]))\n",
            "---------real trend vs pred trend---------\n",
            "-------------threshold 2---------------\n"
          ]
        },
        {
          "output_type": "display_data",
          "data": {
            "text/plain": [
              "<Figure size 640x480 with 0 Axes>"
            ]
          },
          "metadata": {}
        },
        {
          "output_type": "stream",
          "name": "stdout",
          "text": [
            "finish model 12\n",
            "hidden nodes 60 ,threshold option 1\n",
            "RMSE  13.045101135780662\n",
            "(array([0, 1]), array([247, 261]))\n",
            "(array([0, 1]), array([245, 263]))\n",
            "---------real trend vs pred trend---------\n",
            "-------------threshold 2---------------\n"
          ]
        },
        {
          "output_type": "display_data",
          "data": {
            "text/plain": [
              "<Figure size 640x480 with 0 Axes>"
            ]
          },
          "metadata": {}
        },
        {
          "output_type": "stream",
          "name": "stdout",
          "text": [
            "finish model 13\n",
            "hidden nodes 60 ,threshold option 1\n",
            "RMSE  12.834576877938499\n",
            "(array([0, 1]), array([247, 261]))\n",
            "(array([0, 1]), array([259, 249]))\n",
            "---------real trend vs pred trend---------\n",
            "-------------threshold 2---------------\n"
          ]
        },
        {
          "output_type": "display_data",
          "data": {
            "text/plain": [
              "<Figure size 640x480 with 0 Axes>"
            ]
          },
          "metadata": {}
        },
        {
          "output_type": "stream",
          "name": "stdout",
          "text": [
            "finish model 14\n",
            "hidden nodes 60 ,threshold option 1\n",
            "RMSE  15.598765265806266\n",
            "(array([0, 1]), array([247, 261]))\n",
            "(array([0, 1]), array([260, 248]))\n",
            "---------real trend vs pred trend---------\n",
            "-------------threshold 2---------------\n"
          ]
        },
        {
          "output_type": "display_data",
          "data": {
            "text/plain": [
              "<Figure size 640x480 with 0 Axes>"
            ]
          },
          "metadata": {}
        },
        {
          "output_type": "stream",
          "name": "stdout",
          "text": [
            "finish model 15\n",
            "hidden nodes 60 ,threshold option 1\n",
            "RMSE  13.083500763291159\n",
            "(array([0, 1]), array([247, 261]))\n",
            "(array([0, 1]), array([248, 260]))\n",
            "---------real trend vs pred trend---------\n",
            "-------------threshold 2---------------\n"
          ]
        },
        {
          "output_type": "display_data",
          "data": {
            "text/plain": [
              "<Figure size 640x480 with 0 Axes>"
            ]
          },
          "metadata": {}
        },
        {
          "output_type": "stream",
          "name": "stdout",
          "text": [
            "finish model 16\n",
            "hidden nodes 60 ,threshold option 1\n",
            "RMSE  16.365324295693476\n",
            "(array([0, 1]), array([247, 261]))\n",
            "(array([0, 1]), array([233, 275]))\n",
            "---------real trend vs pred trend---------\n",
            "-------------threshold 2---------------\n"
          ]
        },
        {
          "output_type": "display_data",
          "data": {
            "text/plain": [
              "<Figure size 640x480 with 0 Axes>"
            ]
          },
          "metadata": {}
        },
        {
          "output_type": "stream",
          "name": "stdout",
          "text": [
            "finish model 17\n",
            "hidden nodes 60 ,threshold option 1\n",
            "RMSE  14.847056816255463\n",
            "(array([0, 1]), array([247, 261]))\n",
            "(array([0, 1]), array([249, 259]))\n",
            "---------real trend vs pred trend---------\n",
            "-------------threshold 2---------------\n"
          ]
        },
        {
          "output_type": "display_data",
          "data": {
            "text/plain": [
              "<Figure size 640x480 with 0 Axes>"
            ]
          },
          "metadata": {}
        },
        {
          "output_type": "stream",
          "name": "stdout",
          "text": [
            "finish model 18\n",
            "hidden nodes 60 ,threshold option 1\n",
            "RMSE  12.878998238733983\n",
            "(array([0, 1]), array([247, 261]))\n",
            "(array([0, 1]), array([272, 236]))\n",
            "---------real trend vs pred trend---------\n",
            "-------------threshold 2---------------\n"
          ]
        },
        {
          "output_type": "display_data",
          "data": {
            "text/plain": [
              "<Figure size 640x480 with 0 Axes>"
            ]
          },
          "metadata": {}
        },
        {
          "output_type": "stream",
          "name": "stdout",
          "text": [
            "finish model 19\n",
            "hidden nodes 60 ,threshold option 1\n",
            "RMSE  16.41971361099497\n",
            "(array([0, 1]), array([247, 261]))\n",
            "(array([0, 1]), array([260, 248]))\n",
            "---------real trend vs pred trend---------\n",
            "-------------threshold 2---------------\n"
          ]
        },
        {
          "output_type": "display_data",
          "data": {
            "text/plain": [
              "<Figure size 640x480 with 0 Axes>"
            ]
          },
          "metadata": {}
        },
        {
          "output_type": "stream",
          "name": "stdout",
          "text": [
            "finish model 20\n",
            "hidden nodes 60 ,threshold option 1\n",
            "RMSE  14.228867038421356\n",
            "(array([0, 1]), array([247, 261]))\n",
            "(array([0, 1]), array([251, 257]))\n",
            "---------real trend vs pred trend---------\n",
            "-------------threshold 2---------------\n"
          ]
        },
        {
          "output_type": "display_data",
          "data": {
            "text/plain": [
              "<Figure size 640x480 with 0 Axes>"
            ]
          },
          "metadata": {}
        },
        {
          "output_type": "stream",
          "name": "stdout",
          "text": [
            "finish model 21\n",
            "hidden nodes 60 ,threshold option 1\n",
            "RMSE  13.884587722745419\n",
            "(array([0, 1]), array([247, 261]))\n",
            "(array([0, 1]), array([236, 272]))\n",
            "---------real trend vs pred trend---------\n",
            "-------------threshold 2---------------\n"
          ]
        },
        {
          "output_type": "display_data",
          "data": {
            "text/plain": [
              "<Figure size 640x480 with 0 Axes>"
            ]
          },
          "metadata": {}
        },
        {
          "output_type": "stream",
          "name": "stdout",
          "text": [
            "finish model 22\n",
            "hidden nodes 60 ,threshold option 1\n",
            "RMSE  13.438629539010426\n",
            "(array([0, 1]), array([247, 261]))\n",
            "(array([0, 1]), array([259, 249]))\n",
            "---------real trend vs pred trend---------\n",
            "-------------threshold 2---------------\n"
          ]
        },
        {
          "output_type": "display_data",
          "data": {
            "text/plain": [
              "<Figure size 640x480 with 0 Axes>"
            ]
          },
          "metadata": {}
        },
        {
          "output_type": "stream",
          "name": "stdout",
          "text": [
            "finish model 23\n",
            "hidden nodes 60 ,threshold option 1\n",
            "RMSE  14.49271880336807\n",
            "(array([0, 1]), array([247, 261]))\n",
            "(array([0, 1]), array([241, 267]))\n",
            "---------real trend vs pred trend---------\n",
            "-------------threshold 2---------------\n"
          ]
        },
        {
          "output_type": "display_data",
          "data": {
            "text/plain": [
              "<Figure size 640x480 with 0 Axes>"
            ]
          },
          "metadata": {}
        },
        {
          "output_type": "stream",
          "name": "stdout",
          "text": [
            "finish model 24\n",
            "hidden nodes 60 ,threshold option 1\n",
            "RMSE  13.869725344253776\n",
            "(array([0, 1]), array([247, 261]))\n",
            "(array([0, 1]), array([270, 238]))\n",
            "---------real trend vs pred trend---------\n",
            "-------------threshold 2---------------\n"
          ]
        },
        {
          "output_type": "display_data",
          "data": {
            "text/plain": [
              "<Figure size 640x480 with 0 Axes>"
            ]
          },
          "metadata": {}
        },
        {
          "output_type": "stream",
          "name": "stdout",
          "text": [
            "finish model 25\n",
            "hidden nodes 60 ,threshold option 1\n",
            "RMSE  13.407754481490123\n",
            "(array([0, 1]), array([247, 261]))\n",
            "(array([0, 1]), array([245, 263]))\n",
            "---------real trend vs pred trend---------\n",
            "-------------threshold 2---------------\n"
          ]
        },
        {
          "output_type": "display_data",
          "data": {
            "text/plain": [
              "<Figure size 640x480 with 0 Axes>"
            ]
          },
          "metadata": {}
        },
        {
          "output_type": "stream",
          "name": "stdout",
          "text": [
            "finish model 26\n",
            "hidden nodes 60 ,threshold option 1\n",
            "RMSE  15.130364989233483\n",
            "(array([0, 1]), array([247, 261]))\n",
            "(array([0, 1]), array([249, 259]))\n",
            "---------real trend vs pred trend---------\n",
            "-------------threshold 2---------------\n"
          ]
        },
        {
          "output_type": "display_data",
          "data": {
            "text/plain": [
              "<Figure size 640x480 with 0 Axes>"
            ]
          },
          "metadata": {}
        },
        {
          "output_type": "stream",
          "name": "stdout",
          "text": [
            "finish model 27\n",
            "hidden nodes 60 ,threshold option 1\n",
            "RMSE  12.685781186723121\n",
            "(array([0, 1]), array([247, 261]))\n",
            "(array([0, 1]), array([245, 263]))\n",
            "---------real trend vs pred trend---------\n",
            "-------------threshold 2---------------\n"
          ]
        },
        {
          "output_type": "display_data",
          "data": {
            "text/plain": [
              "<Figure size 640x480 with 0 Axes>"
            ]
          },
          "metadata": {}
        },
        {
          "output_type": "stream",
          "name": "stdout",
          "text": [
            "finish model 28\n",
            "hidden nodes 60 ,threshold option 1\n",
            "RMSE  12.905307384326195\n",
            "(array([0, 1]), array([247, 261]))\n",
            "(array([0, 1]), array([255, 253]))\n",
            "---------real trend vs pred trend---------\n",
            "-------------threshold 2---------------\n"
          ]
        },
        {
          "output_type": "display_data",
          "data": {
            "text/plain": [
              "<Figure size 640x480 with 0 Axes>"
            ]
          },
          "metadata": {}
        },
        {
          "output_type": "stream",
          "name": "stdout",
          "text": [
            "finish model 29\n",
            "hidden nodes 60 ,threshold option 1\n",
            "RMSE  12.95085096534515\n",
            "(array([0, 1]), array([247, 261]))\n",
            "(array([0, 1]), array([250, 258]))\n",
            "---------real trend vs pred trend---------\n",
            "-------------threshold 2---------------\n"
          ]
        },
        {
          "output_type": "display_data",
          "data": {
            "text/plain": [
              "<Figure size 640x480 with 0 Axes>"
            ]
          },
          "metadata": {}
        },
        {
          "output_type": "stream",
          "name": "stdout",
          "text": [
            "finish model 30\n",
            "hidden nodes 60 ,threshold option 1\n",
            "RMSE  16.227659225750063\n",
            "(array([0, 1]), array([247, 261]))\n",
            "(array([0, 1]), array([249, 259]))\n",
            "---------real trend vs pred trend---------\n",
            "-------------threshold 2---------------\n"
          ]
        },
        {
          "output_type": "display_data",
          "data": {
            "text/plain": [
              "<Figure size 640x480 with 0 Axes>"
            ]
          },
          "metadata": {}
        },
        {
          "output_type": "stream",
          "name": "stdout",
          "text": [
            "finish model 31\n",
            "hidden nodes 60 ,threshold option 1\n",
            "RMSE  12.557761846427406\n",
            "(array([0, 1]), array([247, 261]))\n",
            "(array([0, 1]), array([250, 258]))\n",
            "---------real trend vs pred trend---------\n",
            "-------------threshold 2---------------\n"
          ]
        },
        {
          "output_type": "display_data",
          "data": {
            "text/plain": [
              "<Figure size 640x480 with 0 Axes>"
            ]
          },
          "metadata": {}
        },
        {
          "output_type": "stream",
          "name": "stdout",
          "text": [
            "finish model 32\n",
            "hidden nodes 60 ,threshold option 1\n",
            "RMSE  14.672262250777402\n",
            "(array([0, 1]), array([247, 261]))\n",
            "(array([0, 1]), array([263, 245]))\n",
            "---------real trend vs pred trend---------\n",
            "-------------threshold 2---------------\n"
          ]
        },
        {
          "output_type": "display_data",
          "data": {
            "text/plain": [
              "<Figure size 640x480 with 0 Axes>"
            ]
          },
          "metadata": {}
        },
        {
          "output_type": "stream",
          "name": "stdout",
          "text": [
            "finish model 33\n",
            "hidden nodes 60 ,threshold option 1\n",
            "RMSE  14.252543685767339\n",
            "(array([0, 1]), array([247, 261]))\n",
            "(array([0, 1]), array([271, 237]))\n",
            "---------real trend vs pred trend---------\n",
            "-------------threshold 2---------------\n"
          ]
        },
        {
          "output_type": "display_data",
          "data": {
            "text/plain": [
              "<Figure size 640x480 with 0 Axes>"
            ]
          },
          "metadata": {}
        },
        {
          "output_type": "stream",
          "name": "stdout",
          "text": [
            "finish model 34\n",
            "hidden nodes 60 ,threshold option 1\n",
            "RMSE  17.24026349165319\n",
            "(array([0, 1]), array([247, 261]))\n",
            "(array([0, 1]), array([247, 261]))\n",
            "---------real trend vs pred trend---------\n",
            "-------------threshold 2---------------\n"
          ]
        },
        {
          "output_type": "display_data",
          "data": {
            "text/plain": [
              "<Figure size 640x480 with 0 Axes>"
            ]
          },
          "metadata": {}
        },
        {
          "output_type": "stream",
          "name": "stdout",
          "text": [
            "finish model 35\n",
            "hidden nodes 60 ,threshold option 1\n",
            "RMSE  11.661410840128895\n",
            "(array([0, 1]), array([247, 261]))\n",
            "(array([0, 1]), array([250, 258]))\n",
            "---------real trend vs pred trend---------\n",
            "-------------threshold 2---------------\n"
          ]
        },
        {
          "output_type": "display_data",
          "data": {
            "text/plain": [
              "<Figure size 640x480 with 0 Axes>"
            ]
          },
          "metadata": {}
        },
        {
          "output_type": "stream",
          "name": "stdout",
          "text": [
            "finish model 36\n",
            "hidden nodes 60 ,threshold option 1\n",
            "RMSE  11.9419656281902\n",
            "(array([0, 1]), array([247, 261]))\n",
            "(array([0, 1]), array([255, 253]))\n",
            "---------real trend vs pred trend---------\n",
            "-------------threshold 2---------------\n"
          ]
        },
        {
          "output_type": "display_data",
          "data": {
            "text/plain": [
              "<Figure size 640x480 with 0 Axes>"
            ]
          },
          "metadata": {}
        },
        {
          "output_type": "stream",
          "name": "stdout",
          "text": [
            "finish model 37\n",
            "hidden nodes 60 ,threshold option 1\n",
            "RMSE  19.00492471675678\n",
            "(array([0, 1]), array([247, 261]))\n",
            "(array([0, 1]), array([239, 269]))\n",
            "---------real trend vs pred trend---------\n",
            "-------------threshold 2---------------\n"
          ]
        },
        {
          "output_type": "display_data",
          "data": {
            "text/plain": [
              "<Figure size 640x480 with 0 Axes>"
            ]
          },
          "metadata": {}
        },
        {
          "output_type": "stream",
          "name": "stdout",
          "text": [
            "finish model 38\n",
            "hidden nodes 60 ,threshold option 1\n",
            "RMSE  16.23859861277567\n",
            "(array([0, 1]), array([247, 261]))\n",
            "(array([0, 1]), array([266, 242]))\n",
            "---------real trend vs pred trend---------\n",
            "-------------threshold 2---------------\n"
          ]
        },
        {
          "output_type": "display_data",
          "data": {
            "text/plain": [
              "<Figure size 640x480 with 0 Axes>"
            ]
          },
          "metadata": {}
        },
        {
          "output_type": "stream",
          "name": "stdout",
          "text": [
            "finish model 39\n",
            "hidden nodes 60 ,threshold option 1\n",
            "RMSE  32.00003751125491\n",
            "(array([0, 1]), array([247, 261]))\n",
            "(array([0, 1]), array([259, 249]))\n",
            "---------real trend vs pred trend---------\n",
            "-------------threshold 2---------------\n"
          ]
        },
        {
          "output_type": "display_data",
          "data": {
            "text/plain": [
              "<Figure size 640x480 with 0 Axes>"
            ]
          },
          "metadata": {}
        },
        {
          "output_type": "stream",
          "name": "stdout",
          "text": [
            "finish model 40\n",
            "hidden nodes 60 ,threshold option 1\n",
            "RMSE  12.938222694352984\n",
            "(array([0, 1]), array([247, 261]))\n",
            "(array([0, 1]), array([235, 273]))\n",
            "---------real trend vs pred trend---------\n",
            "-------------threshold 2---------------\n"
          ]
        },
        {
          "output_type": "display_data",
          "data": {
            "text/plain": [
              "<Figure size 640x480 with 0 Axes>"
            ]
          },
          "metadata": {}
        },
        {
          "output_type": "stream",
          "name": "stdout",
          "text": [
            "finish model 41\n",
            "hidden nodes 60 ,threshold option 1\n",
            "RMSE  12.431605863394564\n",
            "(array([0, 1]), array([247, 261]))\n",
            "(array([0, 1]), array([260, 248]))\n",
            "---------real trend vs pred trend---------\n",
            "-------------threshold 2---------------\n"
          ]
        },
        {
          "output_type": "display_data",
          "data": {
            "text/plain": [
              "<Figure size 640x480 with 0 Axes>"
            ]
          },
          "metadata": {}
        },
        {
          "output_type": "stream",
          "name": "stdout",
          "text": [
            "finish model 42\n",
            "hidden nodes 60 ,threshold option 1\n",
            "RMSE  16.704061631925484\n",
            "(array([0, 1]), array([247, 261]))\n",
            "(array([0, 1]), array([266, 242]))\n",
            "---------real trend vs pred trend---------\n",
            "-------------threshold 2---------------\n"
          ]
        },
        {
          "output_type": "display_data",
          "data": {
            "text/plain": [
              "<Figure size 640x480 with 0 Axes>"
            ]
          },
          "metadata": {}
        },
        {
          "output_type": "stream",
          "name": "stdout",
          "text": [
            "finish model 43\n",
            "hidden nodes 60 ,threshold option 1\n",
            "RMSE  15.79734935213061\n",
            "(array([0, 1]), array([247, 261]))\n",
            "(array([0, 1]), array([249, 259]))\n",
            "---------real trend vs pred trend---------\n",
            "-------------threshold 2---------------\n"
          ]
        },
        {
          "output_type": "display_data",
          "data": {
            "text/plain": [
              "<Figure size 640x480 with 0 Axes>"
            ]
          },
          "metadata": {}
        },
        {
          "output_type": "stream",
          "name": "stdout",
          "text": [
            "finish model 44\n",
            "hidden nodes 60 ,threshold option 1\n",
            "RMSE  14.837913701800034\n",
            "(array([0, 1]), array([247, 261]))\n",
            "(array([0, 1]), array([249, 259]))\n",
            "---------real trend vs pred trend---------\n",
            "-------------threshold 2---------------\n"
          ]
        },
        {
          "output_type": "display_data",
          "data": {
            "text/plain": [
              "<Figure size 640x480 with 0 Axes>"
            ]
          },
          "metadata": {}
        },
        {
          "output_type": "stream",
          "name": "stdout",
          "text": [
            "finish model 45\n",
            "hidden nodes 60 ,threshold option 1\n",
            "RMSE  12.879024695294193\n",
            "(array([0, 1]), array([247, 261]))\n",
            "(array([0, 1]), array([240, 268]))\n",
            "---------real trend vs pred trend---------\n",
            "-------------threshold 2---------------\n"
          ]
        },
        {
          "output_type": "display_data",
          "data": {
            "text/plain": [
              "<Figure size 640x480 with 0 Axes>"
            ]
          },
          "metadata": {}
        },
        {
          "output_type": "stream",
          "name": "stdout",
          "text": [
            "finish model 46\n",
            "hidden nodes 60 ,threshold option 1\n",
            "RMSE  13.948380573733052\n",
            "(array([0, 1]), array([247, 261]))\n",
            "(array([0, 1]), array([235, 273]))\n",
            "---------real trend vs pred trend---------\n",
            "-------------threshold 2---------------\n"
          ]
        },
        {
          "output_type": "display_data",
          "data": {
            "text/plain": [
              "<Figure size 640x480 with 0 Axes>"
            ]
          },
          "metadata": {}
        },
        {
          "output_type": "stream",
          "name": "stdout",
          "text": [
            "finish model 47\n",
            "hidden nodes 60 ,threshold option 1\n",
            "RMSE  12.62181947456215\n",
            "(array([0, 1]), array([247, 261]))\n",
            "(array([0, 1]), array([247, 261]))\n",
            "---------real trend vs pred trend---------\n",
            "-------------threshold 2---------------\n"
          ]
        },
        {
          "output_type": "display_data",
          "data": {
            "text/plain": [
              "<Figure size 640x480 with 0 Axes>"
            ]
          },
          "metadata": {}
        },
        {
          "output_type": "stream",
          "name": "stdout",
          "text": [
            "finish model 48\n",
            "hidden nodes 60 ,threshold option 1\n",
            "RMSE  20.96938751205825\n",
            "(array([0, 1]), array([247, 261]))\n",
            "(array([0, 1]), array([269, 239]))\n",
            "---------real trend vs pred trend---------\n",
            "-------------threshold 2---------------\n"
          ]
        },
        {
          "output_type": "display_data",
          "data": {
            "text/plain": [
              "<Figure size 640x480 with 0 Axes>"
            ]
          },
          "metadata": {}
        },
        {
          "output_type": "stream",
          "name": "stdout",
          "text": [
            "finish model 49\n",
            "hidden nodes 60 ,threshold option 1\n",
            "RMSE  12.792249840774993\n",
            "(array([0, 1]), array([247, 261]))\n",
            "(array([0, 1]), array([258, 250]))\n",
            "---------real trend vs pred trend---------\n",
            "-------------threshold 2---------------\n"
          ]
        },
        {
          "output_type": "display_data",
          "data": {
            "text/plain": [
              "<Figure size 640x480 with 0 Axes>"
            ]
          },
          "metadata": {}
        },
        {
          "output_type": "stream",
          "name": "stdout",
          "text": [
            "finish model 50\n",
            "hidden nodes 60 ,threshold option 1\n",
            "RMSE  15.547738857864644\n",
            "(array([0, 1]), array([247, 261]))\n",
            "(array([0, 1]), array([259, 249]))\n",
            "---------real trend vs pred trend---------\n",
            "-------------threshold 2---------------\n"
          ]
        },
        {
          "output_type": "display_data",
          "data": {
            "text/plain": [
              "<Figure size 640x480 with 0 Axes>"
            ]
          },
          "metadata": {}
        },
        {
          "output_type": "stream",
          "name": "stdout",
          "text": [
            "finish model 51\n",
            "hidden nodes 60 ,threshold option 1\n",
            "RMSE  35.79281025052362\n",
            "(array([0, 1]), array([247, 261]))\n",
            "(array([0, 1]), array([270, 238]))\n",
            "---------real trend vs pred trend---------\n",
            "-------------threshold 2---------------\n"
          ]
        },
        {
          "output_type": "display_data",
          "data": {
            "text/plain": [
              "<Figure size 640x480 with 0 Axes>"
            ]
          },
          "metadata": {}
        },
        {
          "output_type": "stream",
          "name": "stdout",
          "text": [
            "finish model 52\n",
            "hidden nodes 60 ,threshold option 1\n",
            "RMSE  15.529683612644455\n",
            "(array([0, 1]), array([247, 261]))\n",
            "(array([0, 1]), array([261, 247]))\n",
            "---------real trend vs pred trend---------\n",
            "-------------threshold 2---------------\n"
          ]
        },
        {
          "output_type": "display_data",
          "data": {
            "text/plain": [
              "<Figure size 640x480 with 0 Axes>"
            ]
          },
          "metadata": {}
        },
        {
          "output_type": "stream",
          "name": "stdout",
          "text": [
            "finish model 53\n",
            "hidden nodes 60 ,threshold option 1\n",
            "RMSE  12.316414060460659\n",
            "(array([0, 1]), array([247, 261]))\n",
            "(array([0, 1]), array([258, 250]))\n",
            "---------real trend vs pred trend---------\n",
            "-------------threshold 2---------------\n"
          ]
        },
        {
          "output_type": "display_data",
          "data": {
            "text/plain": [
              "<Figure size 640x480 with 0 Axes>"
            ]
          },
          "metadata": {}
        },
        {
          "output_type": "stream",
          "name": "stdout",
          "text": [
            "finish model 54\n",
            "hidden nodes 60 ,threshold option 1\n",
            "RMSE  16.797082240689733\n",
            "(array([0, 1]), array([247, 261]))\n",
            "(array([0, 1]), array([259, 249]))\n",
            "---------real trend vs pred trend---------\n",
            "-------------threshold 2---------------\n"
          ]
        },
        {
          "output_type": "display_data",
          "data": {
            "text/plain": [
              "<Figure size 640x480 with 0 Axes>"
            ]
          },
          "metadata": {}
        },
        {
          "output_type": "stream",
          "name": "stdout",
          "text": [
            "finish model 55\n",
            "hidden nodes 60 ,threshold option 1\n",
            "RMSE  13.280349803686002\n",
            "(array([0, 1]), array([247, 261]))\n",
            "(array([0, 1]), array([266, 242]))\n",
            "---------real trend vs pred trend---------\n",
            "-------------threshold 2---------------\n"
          ]
        },
        {
          "output_type": "display_data",
          "data": {
            "text/plain": [
              "<Figure size 640x480 with 0 Axes>"
            ]
          },
          "metadata": {}
        },
        {
          "output_type": "stream",
          "name": "stdout",
          "text": [
            "finish model 56\n",
            "hidden nodes 60 ,threshold option 1\n",
            "RMSE  20.10195984890483\n",
            "(array([0, 1]), array([247, 261]))\n",
            "(array([0, 1]), array([257, 251]))\n",
            "---------real trend vs pred trend---------\n",
            "-------------threshold 2---------------\n"
          ]
        },
        {
          "output_type": "display_data",
          "data": {
            "text/plain": [
              "<Figure size 640x480 with 0 Axes>"
            ]
          },
          "metadata": {}
        },
        {
          "output_type": "stream",
          "name": "stdout",
          "text": [
            "finish model 57\n",
            "hidden nodes 60 ,threshold option 1\n",
            "RMSE  14.496948753563325\n",
            "(array([0, 1]), array([247, 261]))\n",
            "(array([0, 1]), array([260, 248]))\n",
            "---------real trend vs pred trend---------\n",
            "-------------threshold 2---------------\n"
          ]
        },
        {
          "output_type": "display_data",
          "data": {
            "text/plain": [
              "<Figure size 640x480 with 0 Axes>"
            ]
          },
          "metadata": {}
        },
        {
          "output_type": "stream",
          "name": "stdout",
          "text": [
            "finish model 58\n",
            "hidden nodes 60 ,threshold option 1\n",
            "RMSE  13.844342070421044\n",
            "(array([0, 1]), array([247, 261]))\n",
            "(array([0, 1]), array([247, 261]))\n",
            "---------real trend vs pred trend---------\n",
            "-------------threshold 2---------------\n"
          ]
        },
        {
          "output_type": "display_data",
          "data": {
            "text/plain": [
              "<Figure size 640x480 with 0 Axes>"
            ]
          },
          "metadata": {}
        },
        {
          "output_type": "stream",
          "name": "stdout",
          "text": [
            "finish model 59\n",
            "hidden nodes 60 ,threshold option 1\n",
            "RMSE  11.02490152963768\n",
            "(array([0, 1]), array([247, 261]))\n",
            "(array([0, 1]), array([247, 261]))\n",
            "---------real trend vs pred trend---------\n",
            "-------------threshold 2---------------\n"
          ]
        },
        {
          "output_type": "display_data",
          "data": {
            "text/plain": [
              "<Figure size 640x480 with 0 Axes>"
            ]
          },
          "metadata": {}
        },
        {
          "output_type": "stream",
          "name": "stdout",
          "text": [
            "finish model 60\n",
            "hidden nodes 60 ,threshold option 1\n",
            "RMSE  15.011026531702267\n",
            "(array([0, 1]), array([247, 261]))\n",
            "(array([0, 1]), array([238, 270]))\n",
            "---------real trend vs pred trend---------\n",
            "-------------threshold 2---------------\n"
          ]
        },
        {
          "output_type": "display_data",
          "data": {
            "text/plain": [
              "<Figure size 640x480 with 0 Axes>"
            ]
          },
          "metadata": {}
        },
        {
          "output_type": "stream",
          "name": "stdout",
          "text": [
            "finish model 61\n",
            "hidden nodes 60 ,threshold option 1\n",
            "RMSE  14.733762986662297\n",
            "(array([0, 1]), array([247, 261]))\n",
            "(array([0, 1]), array([266, 242]))\n",
            "---------real trend vs pred trend---------\n",
            "-------------threshold 2---------------\n"
          ]
        },
        {
          "output_type": "display_data",
          "data": {
            "text/plain": [
              "<Figure size 640x480 with 0 Axes>"
            ]
          },
          "metadata": {}
        },
        {
          "output_type": "stream",
          "name": "stdout",
          "text": [
            "finish model 62\n",
            "hidden nodes 60 ,threshold option 1\n",
            "RMSE  18.08752283304748\n",
            "(array([0, 1]), array([247, 261]))\n",
            "(array([0, 1]), array([240, 268]))\n",
            "---------real trend vs pred trend---------\n",
            "-------------threshold 2---------------\n"
          ]
        },
        {
          "output_type": "display_data",
          "data": {
            "text/plain": [
              "<Figure size 640x480 with 0 Axes>"
            ]
          },
          "metadata": {}
        },
        {
          "output_type": "stream",
          "name": "stdout",
          "text": [
            "finish model 63\n",
            "hidden nodes 60 ,threshold option 1\n",
            "RMSE  15.549752221171678\n",
            "(array([0, 1]), array([247, 261]))\n",
            "(array([0, 1]), array([264, 244]))\n",
            "---------real trend vs pred trend---------\n",
            "-------------threshold 2---------------\n"
          ]
        },
        {
          "output_type": "display_data",
          "data": {
            "text/plain": [
              "<Figure size 640x480 with 0 Axes>"
            ]
          },
          "metadata": {}
        },
        {
          "output_type": "stream",
          "name": "stdout",
          "text": [
            "finish model 64\n",
            "hidden nodes 60 ,threshold option 1\n",
            "RMSE  13.121501392497455\n",
            "(array([0, 1]), array([247, 261]))\n",
            "(array([0, 1]), array([269, 239]))\n",
            "---------real trend vs pred trend---------\n",
            "-------------threshold 2---------------\n"
          ]
        },
        {
          "output_type": "display_data",
          "data": {
            "text/plain": [
              "<Figure size 640x480 with 0 Axes>"
            ]
          },
          "metadata": {}
        },
        {
          "output_type": "stream",
          "name": "stdout",
          "text": [
            "finish model 65\n",
            "hidden nodes 60 ,threshold option 1\n",
            "RMSE  15.335814925480408\n",
            "(array([0, 1]), array([247, 261]))\n",
            "(array([0, 1]), array([248, 260]))\n",
            "---------real trend vs pred trend---------\n",
            "-------------threshold 2---------------\n"
          ]
        },
        {
          "output_type": "display_data",
          "data": {
            "text/plain": [
              "<Figure size 640x480 with 0 Axes>"
            ]
          },
          "metadata": {}
        },
        {
          "output_type": "stream",
          "name": "stdout",
          "text": [
            "finish model 66\n",
            "hidden nodes 60 ,threshold option 1\n",
            "RMSE  16.471394595201282\n",
            "(array([0, 1]), array([247, 261]))\n",
            "(array([0, 1]), array([270, 238]))\n",
            "---------real trend vs pred trend---------\n",
            "-------------threshold 2---------------\n"
          ]
        },
        {
          "output_type": "display_data",
          "data": {
            "text/plain": [
              "<Figure size 640x480 with 0 Axes>"
            ]
          },
          "metadata": {}
        },
        {
          "output_type": "stream",
          "name": "stdout",
          "text": [
            "finish model 67\n",
            "hidden nodes 60 ,threshold option 1\n",
            "RMSE  12.809423843822184\n",
            "(array([0, 1]), array([247, 261]))\n",
            "(array([0, 1]), array([251, 257]))\n",
            "---------real trend vs pred trend---------\n",
            "-------------threshold 2---------------\n"
          ]
        },
        {
          "output_type": "display_data",
          "data": {
            "text/plain": [
              "<Figure size 640x480 with 0 Axes>"
            ]
          },
          "metadata": {}
        },
        {
          "output_type": "stream",
          "name": "stdout",
          "text": [
            "finish model 68\n",
            "hidden nodes 60 ,threshold option 1\n",
            "RMSE  12.9141633421461\n",
            "(array([0, 1]), array([247, 261]))\n",
            "(array([0, 1]), array([248, 260]))\n",
            "---------real trend vs pred trend---------\n",
            "-------------threshold 2---------------\n"
          ]
        },
        {
          "output_type": "display_data",
          "data": {
            "text/plain": [
              "<Figure size 640x480 with 0 Axes>"
            ]
          },
          "metadata": {}
        },
        {
          "output_type": "stream",
          "name": "stdout",
          "text": [
            "finish model 69\n",
            "hidden nodes 60 ,threshold option 1\n",
            "RMSE  12.830346649376793\n",
            "(array([0, 1]), array([247, 261]))\n",
            "(array([0, 1]), array([260, 248]))\n",
            "---------real trend vs pred trend---------\n",
            "-------------threshold 2---------------\n"
          ]
        },
        {
          "output_type": "display_data",
          "data": {
            "text/plain": [
              "<Figure size 640x480 with 0 Axes>"
            ]
          },
          "metadata": {}
        },
        {
          "output_type": "stream",
          "name": "stdout",
          "text": [
            "finish model 70\n",
            "hidden nodes 60 ,threshold option 1\n",
            "RMSE  18.563004911303253\n",
            "(array([0, 1]), array([247, 261]))\n",
            "(array([0, 1]), array([249, 259]))\n",
            "---------real trend vs pred trend---------\n",
            "-------------threshold 2---------------\n"
          ]
        },
        {
          "output_type": "display_data",
          "data": {
            "text/plain": [
              "<Figure size 640x480 with 0 Axes>"
            ]
          },
          "metadata": {}
        },
        {
          "output_type": "stream",
          "name": "stdout",
          "text": [
            "finish model 71\n",
            "hidden nodes 60 ,threshold option 1\n",
            "RMSE  17.51968993604365\n",
            "(array([0, 1]), array([247, 261]))\n",
            "(array([0, 1]), array([275, 233]))\n",
            "---------real trend vs pred trend---------\n",
            "-------------threshold 2---------------\n"
          ]
        },
        {
          "output_type": "display_data",
          "data": {
            "text/plain": [
              "<Figure size 640x480 with 0 Axes>"
            ]
          },
          "metadata": {}
        },
        {
          "output_type": "stream",
          "name": "stdout",
          "text": [
            "finish model 72\n",
            "hidden nodes 60 ,threshold option 1\n",
            "RMSE  12.615960456483457\n",
            "(array([0, 1]), array([247, 261]))\n",
            "(array([0, 1]), array([247, 261]))\n",
            "---------real trend vs pred trend---------\n",
            "-------------threshold 2---------------\n"
          ]
        },
        {
          "output_type": "display_data",
          "data": {
            "text/plain": [
              "<Figure size 640x480 with 0 Axes>"
            ]
          },
          "metadata": {}
        },
        {
          "output_type": "stream",
          "name": "stdout",
          "text": [
            "finish model 73\n",
            "hidden nodes 60 ,threshold option 1\n",
            "RMSE  19.208865376397306\n",
            "(array([0, 1]), array([247, 261]))\n",
            "(array([0, 1]), array([257, 251]))\n",
            "---------real trend vs pred trend---------\n",
            "-------------threshold 2---------------\n"
          ]
        },
        {
          "output_type": "display_data",
          "data": {
            "text/plain": [
              "<Figure size 640x480 with 0 Axes>"
            ]
          },
          "metadata": {}
        },
        {
          "output_type": "stream",
          "name": "stdout",
          "text": [
            "finish model 74\n",
            "hidden nodes 60 ,threshold option 1\n",
            "RMSE  11.72931847421653\n",
            "(array([0, 1]), array([247, 261]))\n",
            "(array([0, 1]), array([249, 259]))\n",
            "---------real trend vs pred trend---------\n",
            "-------------threshold 2---------------\n"
          ]
        },
        {
          "output_type": "display_data",
          "data": {
            "text/plain": [
              "<Figure size 640x480 with 0 Axes>"
            ]
          },
          "metadata": {}
        },
        {
          "output_type": "stream",
          "name": "stdout",
          "text": [
            "finish model 75\n",
            "hidden nodes 60 ,threshold option 1\n",
            "RMSE  15.713350872374797\n",
            "(array([0, 1]), array([247, 261]))\n",
            "(array([0, 1]), array([267, 241]))\n",
            "---------real trend vs pred trend---------\n",
            "-------------threshold 2---------------\n"
          ]
        },
        {
          "output_type": "display_data",
          "data": {
            "text/plain": [
              "<Figure size 640x480 with 0 Axes>"
            ]
          },
          "metadata": {}
        },
        {
          "output_type": "stream",
          "name": "stdout",
          "text": [
            "finish model 76\n",
            "hidden nodes 60 ,threshold option 1\n",
            "RMSE  13.621116172851877\n",
            "(array([0, 1]), array([247, 261]))\n",
            "(array([0, 1]), array([251, 257]))\n",
            "---------real trend vs pred trend---------\n",
            "-------------threshold 2---------------\n"
          ]
        },
        {
          "output_type": "display_data",
          "data": {
            "text/plain": [
              "<Figure size 640x480 with 0 Axes>"
            ]
          },
          "metadata": {}
        },
        {
          "output_type": "stream",
          "name": "stdout",
          "text": [
            "finish model 77\n",
            "hidden nodes 60 ,threshold option 1\n",
            "RMSE  25.28462241672031\n",
            "(array([0, 1]), array([247, 261]))\n",
            "(array([0, 1]), array([236, 272]))\n",
            "---------real trend vs pred trend---------\n",
            "-------------threshold 2---------------\n"
          ]
        },
        {
          "output_type": "display_data",
          "data": {
            "text/plain": [
              "<Figure size 640x480 with 0 Axes>"
            ]
          },
          "metadata": {}
        },
        {
          "output_type": "stream",
          "name": "stdout",
          "text": [
            "finish model 78\n",
            "hidden nodes 60 ,threshold option 1\n",
            "RMSE  16.85036905349447\n",
            "(array([0, 1]), array([247, 261]))\n",
            "(array([0, 1]), array([257, 251]))\n",
            "---------real trend vs pred trend---------\n",
            "-------------threshold 2---------------\n"
          ]
        },
        {
          "output_type": "display_data",
          "data": {
            "text/plain": [
              "<Figure size 640x480 with 0 Axes>"
            ]
          },
          "metadata": {}
        },
        {
          "output_type": "stream",
          "name": "stdout",
          "text": [
            "finish model 79\n",
            "hidden nodes 60 ,threshold option 1\n",
            "RMSE  14.769922267721286\n",
            "(array([0, 1]), array([247, 261]))\n",
            "(array([0, 1]), array([257, 251]))\n",
            "---------real trend vs pred trend---------\n",
            "-------------threshold 2---------------\n"
          ]
        },
        {
          "output_type": "display_data",
          "data": {
            "text/plain": [
              "<Figure size 640x480 with 0 Axes>"
            ]
          },
          "metadata": {}
        },
        {
          "output_type": "stream",
          "name": "stdout",
          "text": [
            "finish model 80\n",
            "hidden nodes 60 ,threshold option 1\n",
            "RMSE  14.236484833061457\n",
            "(array([0, 1]), array([247, 261]))\n",
            "(array([0, 1]), array([246, 262]))\n",
            "---------real trend vs pred trend---------\n",
            "-------------threshold 2---------------\n"
          ]
        },
        {
          "output_type": "display_data",
          "data": {
            "text/plain": [
              "<Figure size 640x480 with 0 Axes>"
            ]
          },
          "metadata": {}
        },
        {
          "output_type": "stream",
          "name": "stdout",
          "text": [
            "finish model 81\n",
            "hidden nodes 60 ,threshold option 1\n",
            "RMSE  14.439993237051404\n",
            "(array([0, 1]), array([247, 261]))\n",
            "(array([0, 1]), array([251, 257]))\n",
            "---------real trend vs pred trend---------\n",
            "-------------threshold 2---------------\n"
          ]
        },
        {
          "output_type": "display_data",
          "data": {
            "text/plain": [
              "<Figure size 640x480 with 0 Axes>"
            ]
          },
          "metadata": {}
        },
        {
          "output_type": "stream",
          "name": "stdout",
          "text": [
            "finish model 82\n",
            "hidden nodes 60 ,threshold option 1\n",
            "RMSE  13.327400141626075\n",
            "(array([0, 1]), array([247, 261]))\n",
            "(array([0, 1]), array([247, 261]))\n",
            "---------real trend vs pred trend---------\n",
            "-------------threshold 2---------------\n"
          ]
        },
        {
          "output_type": "display_data",
          "data": {
            "text/plain": [
              "<Figure size 640x480 with 0 Axes>"
            ]
          },
          "metadata": {}
        },
        {
          "output_type": "stream",
          "name": "stdout",
          "text": [
            "finish model 83\n",
            "hidden nodes 60 ,threshold option 1\n",
            "RMSE  12.076649751280739\n",
            "(array([0, 1]), array([247, 261]))\n",
            "(array([0, 1]), array([242, 266]))\n",
            "---------real trend vs pred trend---------\n",
            "-------------threshold 2---------------\n"
          ]
        },
        {
          "output_type": "display_data",
          "data": {
            "text/plain": [
              "<Figure size 640x480 with 0 Axes>"
            ]
          },
          "metadata": {}
        },
        {
          "output_type": "stream",
          "name": "stdout",
          "text": [
            "finish model 84\n",
            "hidden nodes 60 ,threshold option 1\n",
            "RMSE  12.27048849547492\n",
            "(array([0, 1]), array([247, 261]))\n",
            "(array([0, 1]), array([248, 260]))\n",
            "---------real trend vs pred trend---------\n",
            "-------------threshold 2---------------\n"
          ]
        },
        {
          "output_type": "display_data",
          "data": {
            "text/plain": [
              "<Figure size 640x480 with 0 Axes>"
            ]
          },
          "metadata": {}
        },
        {
          "output_type": "stream",
          "name": "stdout",
          "text": [
            "finish model 85\n",
            "hidden nodes 60 ,threshold option 1\n",
            "RMSE  11.803346793562376\n",
            "(array([0, 1]), array([247, 261]))\n",
            "(array([0, 1]), array([261, 247]))\n",
            "---------real trend vs pred trend---------\n",
            "-------------threshold 2---------------\n"
          ]
        },
        {
          "output_type": "display_data",
          "data": {
            "text/plain": [
              "<Figure size 640x480 with 0 Axes>"
            ]
          },
          "metadata": {}
        },
        {
          "output_type": "stream",
          "name": "stdout",
          "text": [
            "finish model 86\n",
            "hidden nodes 60 ,threshold option 1\n",
            "RMSE  12.999671449808698\n",
            "(array([0, 1]), array([247, 261]))\n",
            "(array([0, 1]), array([258, 250]))\n",
            "---------real trend vs pred trend---------\n",
            "-------------threshold 2---------------\n"
          ]
        },
        {
          "output_type": "display_data",
          "data": {
            "text/plain": [
              "<Figure size 640x480 with 0 Axes>"
            ]
          },
          "metadata": {}
        },
        {
          "output_type": "stream",
          "name": "stdout",
          "text": [
            "finish model 87\n",
            "hidden nodes 60 ,threshold option 1\n",
            "RMSE  13.297051984947718\n",
            "(array([0, 1]), array([247, 261]))\n",
            "(array([0, 1]), array([251, 257]))\n",
            "---------real trend vs pred trend---------\n",
            "-------------threshold 2---------------\n"
          ]
        },
        {
          "output_type": "display_data",
          "data": {
            "text/plain": [
              "<Figure size 640x480 with 0 Axes>"
            ]
          },
          "metadata": {}
        },
        {
          "output_type": "stream",
          "name": "stdout",
          "text": [
            "finish model 88\n",
            "hidden nodes 60 ,threshold option 1\n",
            "RMSE  12.733894865955097\n",
            "(array([0, 1]), array([247, 261]))\n",
            "(array([0, 1]), array([255, 253]))\n",
            "---------real trend vs pred trend---------\n",
            "-------------threshold 2---------------\n"
          ]
        },
        {
          "output_type": "display_data",
          "data": {
            "text/plain": [
              "<Figure size 640x480 with 0 Axes>"
            ]
          },
          "metadata": {}
        },
        {
          "output_type": "stream",
          "name": "stdout",
          "text": [
            "finish model 89\n",
            "hidden nodes 60 ,threshold option 1\n",
            "RMSE  17.016276648014994\n",
            "(array([0, 1]), array([247, 261]))\n",
            "(array([0, 1]), array([236, 272]))\n",
            "---------real trend vs pred trend---------\n",
            "-------------threshold 2---------------\n"
          ]
        },
        {
          "output_type": "display_data",
          "data": {
            "text/plain": [
              "<Figure size 640x480 with 0 Axes>"
            ]
          },
          "metadata": {}
        },
        {
          "output_type": "stream",
          "name": "stdout",
          "text": [
            "finish model 90\n",
            "hidden nodes 60 ,threshold option 1\n",
            "RMSE  15.103625442271198\n",
            "(array([0, 1]), array([247, 261]))\n",
            "(array([0, 1]), array([233, 275]))\n",
            "---------real trend vs pred trend---------\n",
            "-------------threshold 2---------------\n"
          ]
        },
        {
          "output_type": "display_data",
          "data": {
            "text/plain": [
              "<Figure size 640x480 with 0 Axes>"
            ]
          },
          "metadata": {}
        },
        {
          "output_type": "stream",
          "name": "stdout",
          "text": [
            "finish model 91\n",
            "hidden nodes 60 ,threshold option 1\n",
            "RMSE  11.352873889662947\n",
            "(array([0, 1]), array([247, 261]))\n",
            "(array([0, 1]), array([253, 255]))\n",
            "---------real trend vs pred trend---------\n",
            "-------------threshold 2---------------\n"
          ]
        },
        {
          "output_type": "display_data",
          "data": {
            "text/plain": [
              "<Figure size 640x480 with 0 Axes>"
            ]
          },
          "metadata": {}
        },
        {
          "output_type": "stream",
          "name": "stdout",
          "text": [
            "finish model 92\n",
            "hidden nodes 60 ,threshold option 1\n",
            "RMSE  12.401537785520055\n",
            "(array([0, 1]), array([247, 261]))\n",
            "(array([0, 1]), array([238, 270]))\n",
            "---------real trend vs pred trend---------\n",
            "-------------threshold 2---------------\n"
          ]
        },
        {
          "output_type": "display_data",
          "data": {
            "text/plain": [
              "<Figure size 640x480 with 0 Axes>"
            ]
          },
          "metadata": {}
        },
        {
          "output_type": "stream",
          "name": "stdout",
          "text": [
            "finish model 93\n",
            "hidden nodes 60 ,threshold option 1\n",
            "RMSE  14.428810137095438\n",
            "(array([0, 1]), array([247, 261]))\n",
            "(array([0, 1]), array([264, 244]))\n",
            "---------real trend vs pred trend---------\n",
            "-------------threshold 2---------------\n"
          ]
        },
        {
          "output_type": "display_data",
          "data": {
            "text/plain": [
              "<Figure size 640x480 with 0 Axes>"
            ]
          },
          "metadata": {}
        },
        {
          "output_type": "stream",
          "name": "stdout",
          "text": [
            "finish model 94\n",
            "hidden nodes 60 ,threshold option 1\n",
            "RMSE  13.42561215606417\n",
            "(array([0, 1]), array([247, 261]))\n",
            "(array([0, 1]), array([255, 253]))\n",
            "---------real trend vs pred trend---------\n",
            "-------------threshold 2---------------\n"
          ]
        },
        {
          "output_type": "display_data",
          "data": {
            "text/plain": [
              "<Figure size 640x480 with 0 Axes>"
            ]
          },
          "metadata": {}
        },
        {
          "output_type": "stream",
          "name": "stdout",
          "text": [
            "finish model 95\n",
            "hidden nodes 60 ,threshold option 1\n",
            "RMSE  14.85639017819177\n",
            "(array([0, 1]), array([247, 261]))\n",
            "(array([0, 1]), array([244, 264]))\n",
            "---------real trend vs pred trend---------\n",
            "-------------threshold 2---------------\n"
          ]
        },
        {
          "output_type": "display_data",
          "data": {
            "text/plain": [
              "<Figure size 640x480 with 0 Axes>"
            ]
          },
          "metadata": {}
        },
        {
          "output_type": "stream",
          "name": "stdout",
          "text": [
            "finish model 96\n",
            "hidden nodes 60 ,threshold option 1\n",
            "RMSE  11.853248728800981\n",
            "(array([0, 1]), array([247, 261]))\n",
            "(array([0, 1]), array([256, 252]))\n",
            "---------real trend vs pred trend---------\n",
            "-------------threshold 2---------------\n"
          ]
        },
        {
          "output_type": "display_data",
          "data": {
            "text/plain": [
              "<Figure size 640x480 with 0 Axes>"
            ]
          },
          "metadata": {}
        },
        {
          "output_type": "stream",
          "name": "stdout",
          "text": [
            "finish model 97\n",
            "hidden nodes 60 ,threshold option 1\n",
            "RMSE  12.074067539250217\n",
            "(array([0, 1]), array([247, 261]))\n",
            "(array([0, 1]), array([254, 254]))\n",
            "---------real trend vs pred trend---------\n",
            "-------------threshold 2---------------\n"
          ]
        },
        {
          "output_type": "display_data",
          "data": {
            "text/plain": [
              "<Figure size 640x480 with 0 Axes>"
            ]
          },
          "metadata": {}
        },
        {
          "output_type": "stream",
          "name": "stdout",
          "text": [
            "finish model 98\n",
            "hidden nodes 60 ,threshold option 1\n",
            "RMSE  12.98188063596816\n",
            "(array([0, 1]), array([247, 261]))\n",
            "(array([0, 1]), array([254, 254]))\n",
            "---------real trend vs pred trend---------\n",
            "-------------threshold 2---------------\n"
          ]
        },
        {
          "output_type": "display_data",
          "data": {
            "text/plain": [
              "<Figure size 640x480 with 0 Axes>"
            ]
          },
          "metadata": {}
        },
        {
          "output_type": "stream",
          "name": "stdout",
          "text": [
            "finish model 99\n",
            "all  [ 13.51221452   1.7541151   15.19117655 ...  -4.22334838  -4.19167731\n",
            " -10.24463092]\n"
          ]
        },
        {
          "output_type": "display_data",
          "data": {
            "text/plain": [
              "<Figure size 640x480 with 1 Axes>"
            ],
            "image/png": "[encoded data removed]"
          },
          "metadata": {}
        },
        {
          "output_type": "stream",
          "name": "stdout",
          "text": [
            "RMSE AVG = 14.780362626782892, RMSE STD = 3.5766347247098738\n"
          ]
        },
        {
          "output_type": "display_data",
          "data": {
            "text/plain": [
              "<Figure size 640x480 with 1 Axes>"
            ],
            "image/png": "[encoded data removed]"
          },
          "metadata": {}
        },
        {
          "output_type": "stream",
          "name": "stdout",
          "text": [
            "NormaltestResult(statistic=29348.647203714987, pvalue=0.0)\n",
            "stat: 0.8810331225395203 p_value: 0.0\n"
          ]
        },
        {
          "output_type": "stream",
          "name": "stderr",
          "text": [
            "/usr/local/lib/python3.10/dist-packages/scipy/stats/_morestats.py:1882: UserWarning: p-value may not be accurate for N > 5000.\n",
            "  warnings.warn(\"p-value may not be accurate for N > 5000.\")\n"
          ]
        }
      ]
    }
  ]
}