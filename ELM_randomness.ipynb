{
  "nbformat": 4,
  "nbformat_minor": 0,
  "metadata": {
    "colab": {
      "provenance": [],
      "include_colab_link": true
    },
    "kernelspec": {
      "name": "python3",
      "display_name": "Python 3"
    },
    "language_info": {
      "name": "python"
    }
  },
  "cells": [
    {
      "cell_type": "markdown",
      "metadata": {
        "id": "view-in-github",
        "colab_type": "text"
      },
      "source": [
        "<a href=\"https://colab.research.google.com/github/MISJasonChuang/ELM_Pretest/blob/main/ELM_randomness.ipynb\" target=\"_parent\"><img src=\"https://colab.research.google.com/assets/colab-badge.svg\" alt=\"Open In Colab\"/></a>"
      ]
    },
    {
      "cell_type": "code",
      "source": [
        "#  --quiet hide code cell output\n",
        "!pip install -U scikit-multiflow --quiet\n",
        "!pip install statsmodels --quiet"
      ],
      "metadata": {
        "id": "I09KmeI3l81M",
        "colab": {
          "base_uri": "https://localhost:8080/"
        },
        "outputId": "c3fd18cd-3e00-4496-cdd9-29e89fb039dd"
      },
      "execution_count": 1,
      "outputs": [
        {
          "output_type": "stream",
          "name": "stdout",
          "text": [
            "\u001b[2K     \u001b[90m━━━━━━━━━━━━━━━━━━━━━━━━━━━━━━━━━━━━━━━━\u001b[0m \u001b[32m450.6/450.6 kB\u001b[0m \u001b[31m3.2 MB/s\u001b[0m eta \u001b[36m0:00:00\u001b[0m\n",
            "\u001b[?25h  Preparing metadata (setup.py) ... \u001b[?25l\u001b[?25hdone\n",
            "  Building wheel for scikit-multiflow (setup.py) ... \u001b[?25l\u001b[?25hdone\n"
          ]
        }
      ]
    },
    {
      "cell_type": "code",
      "source": [
        "# -*- coding: utf8\n",
        "# Author: David C. Lambert [dcl -at- panix -dot- com]\n",
        "# Copyright(c) 2013\n",
        "# License: Simple BSD\n",
        "\n",
        "\"\"\"The :mod:`random_layer` module\n",
        "implements Random Layer transformers.\n",
        "\n",
        "Random layers are arrays of hidden unit activations that are\n",
        "random functions of input activation values (dot products for simple\n",
        "activation functions, distances from prototypes for radial basis\n",
        "functions).\n",
        "\n",
        "They are used in the implementation of Extreme Learning Machines (ELMs),\n",
        "but can be used as a general input mapping.\n",
        "\"\"\"\n",
        "\n",
        "from abc import ABCMeta, abstractmethod\n",
        "\n",
        "from math import sqrt\n",
        "\n",
        "import numpy as np\n",
        "import scipy.sparse as sp\n",
        "from scipy.spatial.distance import cdist, pdist, squareform\n",
        "\n",
        "from sklearn.metrics import pairwise_distances\n",
        "from sklearn.utils import check_random_state, check_array\n",
        "from sklearn.utils.extmath import safe_sparse_dot\n",
        "from sklearn.base import BaseEstimator, TransformerMixin\n",
        "\n",
        "__all__ = [\n",
        "    \"RandomLayer\",\n",
        "    \"MLPRandomLayer\",\n",
        "    \"RBFRandomLayer\",\n",
        "    \"GRBFRandomLayer\",\n",
        "]\n",
        "\n",
        "\n",
        "class BaseRandomLayer(BaseEstimator, TransformerMixin):\n",
        "    \"\"\"Abstract Base Class for random  layers\"\"\"\n",
        "\n",
        "    __metaclass__ = ABCMeta\n",
        "\n",
        "    _internal_activation_funcs = dict()\n",
        "\n",
        "    @classmethod\n",
        "    def activation_func_names(cls):\n",
        "        \"\"\"Get list of internal activation function names\"\"\"\n",
        "        return cls._internal_activation_funcs.keys()\n",
        "\n",
        "    # take n_hidden and random_state, init components_ and\n",
        "    # input_activations_\n",
        "    def __init__(\n",
        "        self, n_hidden=20, random_state=0, activation_func=None, activation_args=None\n",
        "    ):\n",
        "        self.n_hidden = n_hidden\n",
        "        self.random_state = random_state\n",
        "        self.activation_func = activation_func\n",
        "        self.activation_args = activation_args\n",
        "\n",
        "        self.components_ = dict()\n",
        "        self.input_activations_ = None\n",
        "\n",
        "        # keyword args for internally defined funcs\n",
        "        self._extra_args = dict()\n",
        "\n",
        "    @abstractmethod\n",
        "    def _generate_components(self, X):\n",
        "        \"\"\"Generate components of hidden layer given X\"\"\"\n",
        "\n",
        "    @abstractmethod\n",
        "    def _compute_input_activations(self, X):\n",
        "        \"\"\"Compute input activations given X\"\"\"\n",
        "\n",
        "    # compute input activations and pass them\n",
        "    # through the hidden layer transfer functions\n",
        "    # to compute the transform\n",
        "    def _compute_hidden_activations(self, X):\n",
        "        \"\"\"Compute hidden activations given X\"\"\"\n",
        "\n",
        "        self._compute_input_activations(X)\n",
        "\n",
        "        acts = self.input_activations_\n",
        "\n",
        "        if callable(self.activation_func):\n",
        "            args_dict = self.activation_args if (self.activation_args) else {}\n",
        "            X_new = self.activation_func(acts, **args_dict)\n",
        "        else:\n",
        "            func_name = self.activation_func\n",
        "            func = self._internal_activation_funcs[func_name]\n",
        "\n",
        "            X_new = func(acts, **self._extra_args)\n",
        "\n",
        "        return X_new\n",
        "\n",
        "    # perform fit by generating random components based\n",
        "    # on the input array\n",
        "    def fit(self, X, y=None):\n",
        "        \"\"\"Generate a random hidden layer.\n",
        "\n",
        "        Parameters\n",
        "        ----------\n",
        "        X : {array-like, sparse matrix} of shape [n_samples, n_features]\n",
        "            Training set: only the shape is used to generate random component\n",
        "            values for hidden units\n",
        "\n",
        "        y : is not used: placeholder to allow for usage in a Pipeline.\n",
        "\n",
        "        Returns\n",
        "        -------\n",
        "        self\n",
        "        \"\"\"\n",
        "        X = check_array(X)\n",
        "\n",
        "        self._generate_components(X)\n",
        "\n",
        "        return self\n",
        "\n",
        "    # perform transformation by calling compute_hidden_activations\n",
        "    # (which will normally call compute_input_activations first)\n",
        "    def transform(self, X, y=None):\n",
        "        \"\"\"Generate the random hidden layer's activations given X as input.\n",
        "\n",
        "        Parameters\n",
        "        ----------\n",
        "        X : {array-like, sparse matrix}, shape [n_samples, n_features]\n",
        "            Data to transform\n",
        "\n",
        "        y : is not used: placeholder to allow for usage in a Pipeline.\n",
        "\n",
        "        Returns\n",
        "        -------\n",
        "        X_new : numpy array of shape [n_samples, n_components]\n",
        "        \"\"\"\n",
        "        X = check_array(X)\n",
        "\n",
        "        if self.components_ is None:\n",
        "            raise ValueError(\"No components initialized\")\n",
        "\n",
        "        return self._compute_hidden_activations(X)\n",
        "\n",
        "\n",
        "class RandomLayer(BaseRandomLayer):\n",
        "    \"\"\"RandomLayer is a transformer that creates a feature mapping of the\n",
        "    inputs that corresponds to a layer of hidden units with randomly\n",
        "    generated components.\n",
        "\n",
        "    The transformed values are a specified function of input activations\n",
        "    that are a weighted combination of dot product (multilayer perceptron)\n",
        "    and distance (rbf) activations:\n",
        "\n",
        "      input_activation = alpha * mlp_activation + (1-alpha) * rbf_activation\n",
        "\n",
        "      mlp_activation(x) = dot(x, weights) + bias\n",
        "      rbf_activation(x) = rbf_width * ||x - center||/radius\n",
        "\n",
        "      alpha and rbf_width are specified by the user\n",
        "\n",
        "      weights and biases are taken from normal distribution of\n",
        "      mean 0 and sd of 1\n",
        "\n",
        "      centers are taken uniformly from the bounding hyperrectangle\n",
        "      of the inputs, and radii are max(||x-c||)/sqrt(n_centers*2)\n",
        "\n",
        "    The input activation is transformed by a transfer function that defaults\n",
        "    to numpy.tanh if not specified, but can be any callable that returns an\n",
        "    array of the same shape as its argument (the input activation array, of\n",
        "    shape [n_samples, n_hidden]).  Functions provided are 'sine', 'tanh',\n",
        "    'tribas', 'inv_tribas', 'sigmoid', 'hardlim', 'softlim', 'gaussian',\n",
        "    'multiquadric', or 'inv_multiquadric'.\n",
        "\n",
        "    Parameters\n",
        "    ----------\n",
        "    `n_hidden` : int, optional (default=20)\n",
        "        Number of units to generate\n",
        "\n",
        "    `alpha` : float, optional (default=0.5)\n",
        "        Mixing coefficient for distance and dot product input activations:\n",
        "        activation = alpha*mlp_activation + (1-alpha)*rbf_width*rbf_activation\n",
        "\n",
        "    `rbf_width` : float, optional (default=1.0)\n",
        "        multiplier on rbf_activation\n",
        "\n",
        "    `user_components`: dictionary, optional (default=None)\n",
        "        dictionary containing values for components that woud otherwise be\n",
        "        randomly generated.  Valid key/value pairs are as follows:\n",
        "           'radii'  : array-like of shape [n_hidden]\n",
        "           'centers': array-like of shape [n_hidden, n_features]\n",
        "           'biases' : array-like of shape [n_hidden]\n",
        "           'weights': array-like of shape [n_features, n_hidden]\n",
        "\n",
        "    `activation_func` : {callable, string} optional (default='tanh')\n",
        "        Function used to transform input activation\n",
        "\n",
        "        It must be one of 'tanh', 'sine', 'tribas', 'inv_tribas',\n",
        "        'sigmoid', 'hardlim', 'softlim', 'gaussian', 'multiquadric',\n",
        "        'inv_multiquadric' or a callable.  If None is given, 'tanh'\n",
        "        will be used.\n",
        "\n",
        "        If a callable is given, it will be used to compute the activations.\n",
        "\n",
        "    `activation_args` : dictionary, optional (default=None)\n",
        "        Supplies keyword arguments for a callable activation_func\n",
        "\n",
        "    `random_state`  : int, RandomState instance or None (default=None)\n",
        "        Control the pseudo random number generator used to generate the\n",
        "        hidden unit weights at fit time.\n",
        "\n",
        "    Attributes\n",
        "    ----------\n",
        "    `input_activations_` : numpy array of shape [n_samples, n_hidden]\n",
        "        Array containing dot(x, hidden_weights) + bias for all samples\n",
        "\n",
        "    `components_` : dictionary containing two keys:\n",
        "        `bias_weights_`   : numpy array of shape [n_hidden]\n",
        "        `hidden_weights_` : numpy array of shape [n_features, n_hidden]\n",
        "\n",
        "    See Also\n",
        "    --------\n",
        "    \"\"\"\n",
        "\n",
        "    # triangular activation function\n",
        "    _tribas = lambda x: np.clip(1.0 - np.fabs(x), 0.0, 1.0)\n",
        "\n",
        "    # inverse triangular activation function\n",
        "    _inv_tribas = lambda x: np.clip(np.fabs(x), 0.0, 1.0)\n",
        "\n",
        "    # sigmoid activation function\n",
        "    _sigmoid = lambda x: 1.0 / (1.0 + np.exp(-x))\n",
        "\n",
        "    # hard limit activation function\n",
        "    _hardlim = lambda x: np.array(x > 0.0, dtype=float)\n",
        "\n",
        "    _softlim = lambda x: np.clip(x, 0.0, 1.0)\n",
        "\n",
        "    # gaussian RBF\n",
        "    _gaussian = lambda x: np.exp(-pow(x, 2.0))\n",
        "\n",
        "    # multiquadric RBF\n",
        "    _multiquadric = lambda x: np.sqrt(1.0 + pow(x, 2.0))\n",
        "\n",
        "    # inverse multiquadric RBF\n",
        "    _inv_multiquadric = lambda x: 1.0 / (np.sqrt(1.0 + pow(x, 2.0)))\n",
        "\n",
        "    # internal activation function table\n",
        "    _internal_activation_funcs = {\n",
        "        \"sine\": np.sin,\n",
        "        \"tanh\": np.tanh,\n",
        "        \"tribas\": _tribas,\n",
        "        \"inv_tribas\": _inv_tribas,\n",
        "        \"sigmoid\": _sigmoid,\n",
        "        \"softlim\": _softlim,\n",
        "        \"hardlim\": _hardlim,\n",
        "        \"gaussian\": _gaussian,\n",
        "        \"multiquadric\": _multiquadric,\n",
        "        \"inv_multiquadric\": _inv_multiquadric,\n",
        "    }\n",
        "\n",
        "    def __init__(\n",
        "        self,\n",
        "        n_hidden=20,\n",
        "        alpha=0.5,\n",
        "        random_state=None,\n",
        "        activation_func=\"tanh\",\n",
        "        activation_args=None,\n",
        "        user_components=None,\n",
        "        rbf_width=1.0,\n",
        "    ):\n",
        "        super(RandomLayer, self).__init__(\n",
        "            n_hidden=n_hidden,\n",
        "            random_state=random_state,\n",
        "            activation_func=activation_func,\n",
        "            activation_args=activation_args,\n",
        "        )\n",
        "\n",
        "        if isinstance(self.activation_func, str):\n",
        "            func_names = self._internal_activation_funcs.keys()\n",
        "            if self.activation_func not in func_names:\n",
        "                msg = \"unknown activation function '%s'\" % self.activation_func\n",
        "                raise ValueError(msg)\n",
        "\n",
        "        self.alpha = alpha\n",
        "        self.rbf_width = rbf_width\n",
        "        self.user_components = user_components\n",
        "\n",
        "        self._use_mlp_input = self.alpha != 0.0\n",
        "        self._use_rbf_input = self.alpha != 1.0\n",
        "\n",
        "    def _get_user_components(self, key):\n",
        "        \"\"\"Look for given user component\"\"\"\n",
        "        try:\n",
        "            return self.user_components[key]\n",
        "        except (TypeError, KeyError):\n",
        "            return None\n",
        "\n",
        "    def _compute_radii(self):\n",
        "        \"\"\"Generate RBF radii\"\"\"\n",
        "\n",
        "        # use supplied radii if present\n",
        "        radii = self._get_user_components(\"radii\")\n",
        "\n",
        "        # compute radii\n",
        "        if radii is None:\n",
        "            centers = self.components_[\"centers\"]\n",
        "\n",
        "            n_centers = centers.shape[0]\n",
        "            max_dist = np.max(pairwise_distances(centers))\n",
        "            radii = np.ones(n_centers) * max_dist / sqrt(2.0 * n_centers)\n",
        "\n",
        "        self.components_[\"radii\"] = radii\n",
        "\n",
        "    def _compute_centers(self, X, sparse, rs):\n",
        "        \"\"\"Generate RBF centers\"\"\"\n",
        "\n",
        "        # use supplied centers if present\n",
        "        centers = self._get_user_components(\"centers\")\n",
        "\n",
        "        # use points taken uniformly from the bounding\n",
        "        # hyperrectangle\n",
        "        if centers is None:\n",
        "            n_features = X.shape[1]\n",
        "\n",
        "            if sparse:\n",
        "                fxr = xrange(n_features)\n",
        "                cols = [X.getcol(i) for i in fxr]\n",
        "\n",
        "                min_dtype = X.dtype.type(1.0e10)\n",
        "                sp_min = lambda col: np.minimum(min_dtype, np.min(col.data))\n",
        "                min_Xs = np.array(map(sp_min, cols))\n",
        "\n",
        "                max_dtype = X.dtype.type(-1.0e10)\n",
        "                sp_max = lambda col: np.maximum(max_dtype, np.max(col.data))\n",
        "                max_Xs = np.array(map(sp_max, cols))\n",
        "            else:\n",
        "                min_Xs = X.min(axis=0)\n",
        "                max_Xs = X.max(axis=0)\n",
        "\n",
        "            spans = max_Xs - min_Xs\n",
        "            ctrs_size = (self.n_hidden, n_features)\n",
        "            centers = min_Xs + spans * rs.uniform(0.0, 1.0, ctrs_size)\n",
        "\n",
        "        self.components_[\"centers\"] = centers\n",
        "\n",
        "    def _compute_biases(self, rs):\n",
        "        \"\"\"Generate MLP biases\"\"\"\n",
        "\n",
        "        # use supplied biases if present\n",
        "        biases = self._get_user_components(\"biases\")\n",
        "        if biases is None:\n",
        "            b_size = self.n_hidden\n",
        "            biases = rs.normal(size=b_size)\n",
        "\n",
        "        self.components_[\"biases\"] = biases\n",
        "\n",
        "    def _compute_weights(self, X, rs):\n",
        "        \"\"\"Generate MLP weights\"\"\"\n",
        "\n",
        "        # use supplied weights if present\n",
        "        weights = self._get_user_components(\"weights\")\n",
        "        if weights is None:\n",
        "            n_features = X.shape[1]\n",
        "            hw_size = (n_features, self.n_hidden)\n",
        "            weights = rs.normal(size=hw_size)\n",
        "\n",
        "        self.components_[\"weights\"] = weights\n",
        "\n",
        "    def _generate_components(self, X):\n",
        "        \"\"\"Generate components of hidden layer given X\"\"\"\n",
        "\n",
        "        rs = check_random_state(self.random_state)\n",
        "        if self._use_mlp_input:\n",
        "            self._compute_biases(rs)\n",
        "            self._compute_weights(X, rs)\n",
        "\n",
        "        if self._use_rbf_input:\n",
        "            self._compute_centers(X, sp.issparse(X), rs)\n",
        "            self._compute_radii()\n",
        "\n",
        "    def _compute_input_activations(self, X):\n",
        "        \"\"\"Compute input activations given X\"\"\"\n",
        "\n",
        "        n_samples = X.shape[0]\n",
        "\n",
        "        mlp_acts = np.zeros((n_samples, self.n_hidden))\n",
        "        if self._use_mlp_input:\n",
        "            b = self.components_[\"biases\"]\n",
        "            w = self.components_[\"weights\"]\n",
        "            mlp_acts = self.alpha * (safe_sparse_dot(X, w) + b)\n",
        "\n",
        "        rbf_acts = np.zeros((n_samples, self.n_hidden))\n",
        "        if self._use_rbf_input:\n",
        "            radii = self.components_[\"radii\"]\n",
        "            centers = self.components_[\"centers\"]\n",
        "            scale = self.rbf_width * (1.0 - self.alpha)\n",
        "            rbf_acts = scale * cdist(X, centers) / radii\n",
        "\n",
        "        self.input_activations_ = mlp_acts + rbf_acts\n",
        "\n",
        "\n",
        "class MLPRandomLayer(RandomLayer):\n",
        "    \"\"\"Wrapper for RandomLayer with alpha (mixing coefficient) set\n",
        "    to 1.0 for MLP activations only\"\"\"\n",
        "\n",
        "    def __init__(\n",
        "        self,\n",
        "        n_hidden=20,\n",
        "        random_state=None,\n",
        "        activation_func=\"tanh\",\n",
        "        activation_args=None,\n",
        "        weights=None,\n",
        "        biases=None,\n",
        "    ):\n",
        "        user_components = {\"weights\": weights, \"biases\": biases}\n",
        "        super(MLPRandomLayer, self).__init__(\n",
        "            n_hidden=n_hidden,\n",
        "            random_state=random_state,\n",
        "            activation_func=activation_func,\n",
        "            activation_args=activation_args,\n",
        "            user_components=user_components,\n",
        "            alpha=1.0,\n",
        "        )\n",
        "\n",
        "\n",
        "class RBFRandomLayer(RandomLayer):\n",
        "    \"\"\"Wrapper for RandomLayer with alpha (mixing coefficient) set\n",
        "    to 0.0 for RBF activations only\"\"\"\n",
        "\n",
        "    def __init__(\n",
        "        self,\n",
        "        n_hidden=20,\n",
        "        random_state=None,\n",
        "        activation_func=\"gaussian\",\n",
        "        activation_args=None,\n",
        "        centers=None,\n",
        "        radii=None,\n",
        "        rbf_width=1.0,\n",
        "    ):\n",
        "        user_components = {\"centers\": centers, \"radii\": radii}\n",
        "        super(RBFRandomLayer, self).__init__(\n",
        "            n_hidden=n_hidden,\n",
        "            random_state=random_state,\n",
        "            activation_func=activation_func,\n",
        "            activation_args=activation_args,\n",
        "            user_components=user_components,\n",
        "            rbf_width=rbf_width,\n",
        "            alpha=0.0,\n",
        "        )\n",
        "\n",
        "\n",
        "class GRBFRandomLayer(RBFRandomLayer):\n",
        "    \"\"\"Random Generalized RBF Hidden Layer transformer\n",
        "\n",
        "    Creates a layer of radial basis function units where:\n",
        "\n",
        "       f(a), s.t. a = ||x-c||/r\n",
        "\n",
        "    with c the unit center\n",
        "    and f() is exp(-gamma * a^tau) where tau and r are computed\n",
        "    based on [1]\n",
        "\n",
        "    Parameters\n",
        "    ----------\n",
        "    `n_hidden` : int, optional (default=20)\n",
        "        Number of units to generate, ignored if centers are provided\n",
        "\n",
        "    `grbf_lambda` : float, optional (default=0.05)\n",
        "        GRBF shape parameter\n",
        "\n",
        "    `gamma` : {int, float} optional (default=1.0)\n",
        "        Width multiplier for GRBF distance argument\n",
        "\n",
        "    `centers` : array of shape (n_hidden, n_features), optional (default=None)\n",
        "        If provided, overrides internal computation of the centers\n",
        "\n",
        "    `radii` : array of shape (n_hidden),  optional (default=None)\n",
        "        If provided, overrides internal computation of the radii\n",
        "\n",
        "    `use_exemplars` : bool, optional (default=False)\n",
        "        If True, uses random examples from the input to determine the RBF\n",
        "        centers, ignored if centers are provided\n",
        "\n",
        "    `random_state`  : int or RandomState instance, optional (default=None)\n",
        "        Control the pseudo random number generator used to generate the\n",
        "        centers at fit time, ignored if centers are provided\n",
        "\n",
        "    Attributes\n",
        "    ----------\n",
        "    `components_` : dictionary containing two keys:\n",
        "        `radii_`   : numpy array of shape [n_hidden]\n",
        "        `centers_` : numpy array of shape [n_hidden, n_features]\n",
        "\n",
        "    `input_activations_` : numpy array of shape [n_samples, n_hidden]\n",
        "        Array containing ||x-c||/r for all samples\n",
        "\n",
        "    See Also\n",
        "    --------\n",
        "    ELMRegressor, ELMClassifier, SimpleELMRegressor, SimpleELMClassifier,\n",
        "    SimpleRandomLayer\n",
        "\n",
        "    References\n",
        "    ----------\n",
        "    .. [1] Fernandez-Navarro, et al, \"MELM-GRBF: a modified version of the\n",
        "              extreme learning machine for generalized radial basis function\n",
        "              neural networks\", Neurocomputing 74 (2011), 2502-2510\n",
        "\n",
        "    \"\"\"\n",
        "\n",
        "    # def _grbf(acts, taus):\n",
        "    #     \"\"\"GRBF activation function\"\"\"\n",
        "\n",
        "    #     return np.exp(np.exp(-pow(acts, taus)))\n",
        "\n",
        "    _grbf = lambda acts, taus: np.exp(np.exp(-pow(acts, taus)))\n",
        "\n",
        "    _internal_activation_funcs = {\"grbf\": _grbf}\n",
        "\n",
        "    def __init__(\n",
        "        self,\n",
        "        n_hidden=20,\n",
        "        grbf_lambda=0.001,\n",
        "        centers=None,\n",
        "        radii=None,\n",
        "        random_state=None,\n",
        "    ):\n",
        "        super(GRBFRandomLayer, self).__init__(\n",
        "            n_hidden=n_hidden,\n",
        "            activation_func=\"grbf\",\n",
        "            centers=centers,\n",
        "            radii=radii,\n",
        "            random_state=random_state,\n",
        "        )\n",
        "\n",
        "        self.grbf_lambda = grbf_lambda\n",
        "        self.dN_vals = None\n",
        "        self.dF_vals = None\n",
        "        self.tau_vals = None\n",
        "\n",
        "    # get centers from superclass, then calculate tau_vals\n",
        "    # according to ref [1]\n",
        "    def _compute_centers(self, X, sparse, rs):\n",
        "        \"\"\"Generate centers, then compute tau, dF and dN vals\"\"\"\n",
        "\n",
        "        super(GRBFRandomLayer, self)._compute_centers(X, sparse, rs)\n",
        "\n",
        "        centers = self.components_[\"centers\"]\n",
        "        sorted_distances = np.sort(squareform(pdist(centers)))\n",
        "        self.dF_vals = sorted_distances[:, -1]\n",
        "        self.dN_vals = sorted_distances[:, 1] / 100.0\n",
        "        # self.dN_vals = 0.0002 * np.ones(self.dF_vals.shape)\n",
        "\n",
        "        tauNum = np.log(np.log(self.grbf_lambda) / np.log(1.0 - self.grbf_lambda))\n",
        "\n",
        "        tauDenom = np.log(self.dF_vals / self.dN_vals)\n",
        "\n",
        "        self.tau_vals = tauNum / tauDenom\n",
        "\n",
        "        self._extra_args[\"taus\"] = self.tau_vals\n",
        "\n",
        "    # get radii according to ref [1]\n",
        "    def _compute_radii(self):\n",
        "        \"\"\"Generate radii\"\"\"\n",
        "\n",
        "        denom = pow(-np.log(self.grbf_lambda), 1.0 / self.tau_vals)\n",
        "        self.components_[\"radii\"] = self.dF_vals / denom"
      ],
      "metadata": {
        "id": "hJs1D2u35nBX"
      },
      "execution_count": 2,
      "outputs": []
    },
    {
      "cell_type": "code",
      "source": [
        "%%capture\n",
        "# -*- coding: utf8\n",
        "# Author: David C. Lambert [dcl -at- panix -dot- com]\n",
        "# Copyright(c) 2013\n",
        "# License: Simple BSD\n",
        "\n",
        "\"\"\"\n",
        "The :mod:`elm` module implements the\n",
        "Extreme Learning Machine Classifiers and Regressors (ELMClassifier,\n",
        "ELMRegressor, SimpleELMRegressor, SimpleELMClassifier).\n",
        "\n",
        "An Extreme Learning Machine (ELM) is a single layer feedforward\n",
        "network with a random hidden layer components and ordinary linear\n",
        "least squares fitting of the hidden->output weights by default.\n",
        "[1][2]\n",
        "\n",
        "References\n",
        "----------\n",
        ".. [1] http://www.extreme-learning-machines.org\n",
        ".. [2] G.-B. Huang, Q.-Y. Zhu and C.-K. Siew, \"Extreme Learning Machine:\n",
        "          Theory and Applications\", Neurocomputing, vol. 70, pp. 489-501,\n",
        "          2006.\n",
        "\"\"\"\n",
        "\n",
        "from abc import ABCMeta, abstractmethod\n",
        "\n",
        "import numpy as np\n",
        "from scipy.linalg import pinv\n",
        "\n",
        "from sklearn.utils import as_float_array\n",
        "from sklearn.utils.extmath import safe_sparse_dot\n",
        "from sklearn.base import BaseEstimator, ClassifierMixin, RegressorMixin\n",
        "from sklearn.preprocessing import LabelBinarizer\n",
        "\n",
        "# from random_layer import RandomLayer, MLPRandomLayer\n",
        "\n",
        "__all__ = [\"ELMRegressor\",\n",
        "           \"ELMClassifier\",\n",
        "           \"GenELMRegressor\",\n",
        "           \"GenELMClassifier\"]\n",
        "\n",
        "\n",
        "# BaseELM class, regressor and hidden_layer attributes\n",
        "# and provides defaults for docstrings\n",
        "class BaseELM(BaseEstimator):\n",
        "    \"\"\"\n",
        "    Base class for ELMs.\n",
        "\n",
        "    Warning: This class should not be used directly.\n",
        "    Use derived classes instead.\n",
        "    \"\"\"\n",
        "    __metaclass__ = ABCMeta\n",
        "\n",
        "    def __init__(self, hidden_layer, regressor):\n",
        "        self.regressor = regressor\n",
        "        self.hidden_layer = hidden_layer\n",
        "\n",
        "    @abstractmethod\n",
        "    def fit(self, X, y):\n",
        "        \"\"\"\n",
        "        Fit the model using X, y as training data.\n",
        "\n",
        "        Parameters\n",
        "        ----------\n",
        "        X : {array-like, sparse matrix} of shape [n_samples, n_features]\n",
        "            Training vectors, where n_samples is the number of samples\n",
        "            and n_features is the number of features.\n",
        "\n",
        "        y : array-like of shape [n_samples, n_outputs]\n",
        "            Target values (class labels in classification, real numbers in\n",
        "            regression)\n",
        "\n",
        "        Returns\n",
        "        -------\n",
        "        self : object\n",
        "\n",
        "            Returns an instance of self.\n",
        "        \"\"\"\n",
        "\n",
        "    @abstractmethod\n",
        "    def predict(self, X):\n",
        "        \"\"\"\n",
        "        Predict values using the model\n",
        "\n",
        "        Parameters\n",
        "        ----------\n",
        "        X : {array-like, sparse matrix} of shape [n_samples, n_features]\n",
        "\n",
        "        Returns\n",
        "        -------\n",
        "        C : numpy array of shape [n_samples, n_outputs]\n",
        "            Predicted values.\n",
        "        \"\"\"\n",
        "\n",
        "\n",
        "class GenELMRegressor(BaseELM, RegressorMixin):\n",
        "    \"\"\"\n",
        "    ELMRegressor is a regressor based on the Extreme Learning Machine.\n",
        "\n",
        "    An Extreme Learning Machine (ELM) is a single layer feedforward\n",
        "    network with a random hidden layer components and ordinary linear\n",
        "    least squares fitting of the hidden->output weights by default.\n",
        "    [1][2]\n",
        "\n",
        "    Parameters\n",
        "    ----------\n",
        "    `hidden_layer` : random_layer instance, optional\n",
        "        (default=MLPRandomLayer(random_state=0))\n",
        "\n",
        "    `regressor`    : regressor instance, optional (default=None)\n",
        "        If provided, this object is used to perform the regression from hidden\n",
        "        unit activations to the outputs and subsequent predictions.  If not\n",
        "        present, an ordinary linear least squares fit is performed\n",
        "\n",
        "    Attributes\n",
        "    ----------\n",
        "    `coefs_` : numpy array\n",
        "        Fitted regression coefficients if no regressor supplied.\n",
        "\n",
        "    `fitted_` : bool\n",
        "        Flag set when fit has been called already.\n",
        "\n",
        "    `hidden_activations_` : numpy array of shape [n_samples, n_hidden]\n",
        "        Hidden layer activations for last input.\n",
        "\n",
        "    See Also\n",
        "    --------\n",
        "    RBFRandomLayer, MLPRandomLayer, ELMRegressor, ELMClassifier\n",
        "\n",
        "    References\n",
        "    ----------\n",
        "    .. [1] http://www.extreme-learning-machines.org\n",
        "    .. [2] G.-B. Huang, Q.-Y. Zhu and C.-K. Siew, \"Extreme Learning Machine:\n",
        "          Theory and Applications\", Neurocomputing, vol. 70, pp. 489-501,\n",
        "              2006.\n",
        "    \"\"\"\n",
        "\n",
        "    def __init__(self,\n",
        "                 hidden_layer=MLPRandomLayer(random_state=0),\n",
        "                 regressor=None):\n",
        "\n",
        "        super(GenELMRegressor, self).__init__(hidden_layer, regressor)\n",
        "\n",
        "        self.coefs_ = None\n",
        "        self.fitted_ = False\n",
        "        self.hidden_activations_ = None\n",
        "\n",
        "    def _fit_regression(self, y):\n",
        "        \"\"\"\n",
        "        fit regression using pseudo-inverse\n",
        "        or supplied regressor\n",
        "        \"\"\"\n",
        "        if (self.regressor is None):\n",
        "            self.coefs_ = safe_sparse_dot(pinv(self.hidden_activations_), y)\n",
        "        else:\n",
        "            self.regressor.fit(self.hidden_activations_, y)\n",
        "\n",
        "        self.fitted_ = True\n",
        "\n",
        "    def fit(self, X, y):\n",
        "        \"\"\"\n",
        "        Fit the model using X, y as training data.\n",
        "\n",
        "        Parameters\n",
        "        ----------\n",
        "        X : {array-like, sparse matrix} of shape [n_samples, n_features]\n",
        "            Training vectors, where n_samples is the number of samples\n",
        "            and n_features is the number of features.\n",
        "\n",
        "        y : array-like of shape [n_samples, n_outputs]\n",
        "            Target values (class labels in classification, real numbers in\n",
        "            regression)\n",
        "\n",
        "        Returns\n",
        "        -------\n",
        "        self : object\n",
        "\n",
        "            Returns an instance of self.\n",
        "        \"\"\"\n",
        "        # fit random hidden layer and compute the hidden layer activations\n",
        "        self.hidden_activations_ = self.hidden_layer.fit_transform(X)\n",
        "        # print(self.hidden_activations_)\n",
        "        # print(f\"-------training hidden_activations shape {self.hidden_activations_.shape}------------\")\n",
        "\n",
        "        # solve the regression from hidden activations to outputs\n",
        "        self._fit_regression(as_float_array(y, copy=True))\n",
        "\n",
        "        return self\n",
        "\n",
        "    def _get_predictions(self):\n",
        "        \"\"\"get predictions using internal least squares/supplied regressor\"\"\"\n",
        "        if (self.regressor is None):\n",
        "            preds = safe_sparse_dot(self.hidden_activations_, self.coefs_)\n",
        "        else:\n",
        "            preds = self.regressor.predict(self.hidden_activations_)\n",
        "\n",
        "        return preds\n",
        "\n",
        "    def predict(self, X):\n",
        "        \"\"\"\n",
        "        Predict values using the model\n",
        "\n",
        "        Parameters\n",
        "        ----------\n",
        "        X : {array-like, sparse matrix} of shape [n_samples, n_features]\n",
        "\n",
        "        Returns\n",
        "        -------\n",
        "        C : numpy array of shape [n_samples, n_outputs]\n",
        "            Predicted values.\n",
        "        \"\"\"\n",
        "        if (not self.fitted_):\n",
        "            raise ValueError(\"ELMRegressor not fitted\")\n",
        "\n",
        "        # compute hidden layer activations\n",
        "        self.hidden_activations_ = self.hidden_layer.transform(X)\n",
        "        # print(self.hidden_activations_)\n",
        "        # print(f\"-------hidden_activations shape {self.hidden_activations_.shape}------------\")\n",
        "        # compute output predictions for new hidden activations\n",
        "        predictions = self._get_predictions()\n",
        "\n",
        "        return predictions\n",
        "\n",
        "'''\n",
        "class GenELMClassifier(BaseELM, ClassifierMixin):\n",
        "    \"\"\"\n",
        "    GenELMClassifier is a classifier based on the Extreme Learning Machine.\n",
        "\n",
        "    An Extreme Learning Machine (ELM) is a single layer feedforward\n",
        "    network with a random hidden layer components and ordinary linear\n",
        "    least squares fitting of the hidden->output weights by default.\n",
        "    [1][2]\n",
        "\n",
        "    Parameters\n",
        "    ----------\n",
        "    `hidden_layer` : random_layer instance, optional\n",
        "        (default=MLPRandomLayer(random_state=0))\n",
        "\n",
        "    `binarizer` : LabelBinarizer, optional\n",
        "        (default=LabelBinarizer(-1, 1))\n",
        "\n",
        "    `regressor`    : regressor instance, optional (default=None)\n",
        "        If provided, this object is used to perform the regression from hidden\n",
        "        unit activations to the outputs and subsequent predictions.  If not\n",
        "        present, an ordinary linear least squares fit is performed\n",
        "\n",
        "    Attributes\n",
        "    ----------\n",
        "    `classes_` : numpy array of shape [n_classes]\n",
        "        Array of class labels\n",
        "\n",
        "    `genelm_regressor_` : ELMRegressor instance\n",
        "        Performs actual fit of binarized values\n",
        "\n",
        "    See Also\n",
        "    --------\n",
        "    RBFRandomLayer, MLPRandomLayer, ELMRegressor, ELMClassifier\n",
        "\n",
        "    References\n",
        "    ----------\n",
        "    .. [1] http://www.extreme-learning-machines.org\n",
        "    .. [2] G.-B. Huang, Q.-Y. Zhu and C.-K. Siew, \"Extreme Learning Machine:\n",
        "              Theory and Applications\", Neurocomputing, vol. 70, pp. 489-501,\n",
        "              2006.\n",
        "    \"\"\"\n",
        "    def __init__(self,\n",
        "                 hidden_layer=MLPRandomLayer(random_state=0),\n",
        "                 binarizer=LabelBinarizer(-1, 1),\n",
        "                 regressor=None):\n",
        "\n",
        "        super(GenELMClassifier, self).__init__(hidden_layer, regressor)\n",
        "\n",
        "        self.binarizer = binarizer\n",
        "\n",
        "        self.classes_ = None\n",
        "        self.genelm_regressor_ = GenELMRegressor(hidden_layer, regressor)\n",
        "\n",
        "    def decision_function(self, X):\n",
        "        \"\"\"\n",
        "        This function return the decision function values related to each\n",
        "        class on an array of test vectors X.\n",
        "\n",
        "        Parameters\n",
        "        ----------\n",
        "        X : array-like of shape [n_samples, n_features]\n",
        "\n",
        "        Returns\n",
        "        -------\n",
        "        C : array of shape [n_samples, n_classes] or [n_samples,]\n",
        "            Decision function values related to each class, per sample.\n",
        "            In the two-class case, the shape is [n_samples,]\n",
        "        \"\"\"\n",
        "        return self.genelm_regressor_.predict(X)\n",
        "\n",
        "    def fit(self, X, y):\n",
        "        \"\"\"\n",
        "        Fit the model using X, y as training data.\n",
        "\n",
        "        Parameters\n",
        "        ----------\n",
        "        X : {array-like, sparse matrix} of shape [n_samples, n_features]\n",
        "            Training vectors, where n_samples is the number of samples\n",
        "            and n_features is the number of features.\n",
        "\n",
        "        y : array-like of shape [n_samples, n_outputs]\n",
        "            Target values (class labels in classification, real numbers in\n",
        "            regression)\n",
        "\n",
        "        Returns\n",
        "        -------\n",
        "        self : object\n",
        "\n",
        "            Returns an instance of self.\n",
        "        \"\"\"\n",
        "        self.classes_ = np.unique(y)\n",
        "\n",
        "        y_bin = self.binarizer.fit_transform(y)\n",
        "\n",
        "        self.genelm_regressor_.fit(X, y_bin)\n",
        "        return self\n",
        "\n",
        "    def predict(self, X):\n",
        "        \"\"\"Predict values using the model\n",
        "\n",
        "        Parameters\n",
        "        ----------\n",
        "        X : {array-like, sparse matrix} of shape [n_samples, n_features]\n",
        "\n",
        "        Returns\n",
        "        -------\n",
        "        C : numpy array of shape [n_samples, n_outputs]\n",
        "            Predicted values.\n",
        "        \"\"\"\n",
        "        raw_predictions = self.decision_function(X)\n",
        "        class_predictions = self.binarizer.inverse_transform(raw_predictions)\n",
        "\n",
        "        return class_predictions\n",
        "'''\n",
        "\n",
        "# ELMRegressor with default RandomLayer\n",
        "class ELMRegressor(BaseEstimator, RegressorMixin):\n",
        "    \"\"\"\n",
        "    ELMRegressor is a regressor based on the Extreme Learning Machine.\n",
        "\n",
        "    An Extreme Learning Machine (ELM) is a single layer feedforward\n",
        "    network with a random hidden layer components and ordinary linear\n",
        "    least squares fitting of the hidden->output weights by default.\n",
        "    [1][2]\n",
        "\n",
        "    ELMRegressor is a wrapper for an GenELMRegressor that uses a\n",
        "    RandomLayer and passes the __init__ parameters through\n",
        "    to the hidden layer generated by the fit() method.\n",
        "\n",
        "    Parameters\n",
        "    ----------\n",
        "    `n_hidden` : int, optional (default=20)\n",
        "        Number of units to generate in the SimpleRandomLayer\n",
        "\n",
        "    `alpha` : float, optional (default=0.5)\n",
        "        Mixing coefficient for distance and dot product input activations:\n",
        "        activation = alpha*mlp_activation + (1-alpha)*rbf_width*rbf_activation\n",
        "\n",
        "    `rbf_width` : float, optional (default=1.0)\n",
        "        multiplier on rbf_activation\n",
        "\n",
        "    `activation_func` : {callable, string} optional (default='tanh')\n",
        "        Function used to transform input activation\n",
        "\n",
        "        It must be one of 'tanh', 'sine', 'tribas', 'inv_tribase', 'sigmoid',\n",
        "        'hardlim', 'softlim', 'gaussian', 'multiquadric', 'inv_multiquadric' or\n",
        "        a callable.  If none is given, 'tanh' will be used. If a callable\n",
        "        is given, it will be used to compute the hidden unit activations.\n",
        "\n",
        "    `activation_args` : dictionary, optional (default=None)\n",
        "        Supplies keyword arguments for a callable activation_func\n",
        "\n",
        "    `user_components`: dictionary, optional (default=None)\n",
        "        dictionary containing values for components that woud otherwise be\n",
        "        randomly generated.  Valid key/value pairs are as follows:\n",
        "           'radii'  : array-like of shape [n_hidden]\n",
        "           'centers': array-like of shape [n_hidden, n_features]\n",
        "           'biases' : array-like of shape [n_hidden]\n",
        "           'weights': array-like of shape [n_hidden, n_features]\n",
        "\n",
        "    `regressor`    : regressor instance, optional (default=None)\n",
        "        If provided, this object is used to perform the regression from hidden\n",
        "        unit activations to the outputs and subsequent predictions.  If not\n",
        "        present, an ordinary linear least squares fit is performed\n",
        "\n",
        "    `random_state`  : int, RandomState instance or None (default=None)\n",
        "        Control the pseudo random number generator used to generate the\n",
        "        hidden unit weights at fit time.\n",
        "\n",
        "    Attributes\n",
        "    ----------\n",
        "    `genelm_regressor_` : GenELMRegressor object\n",
        "        Wrapped object that actually performs the fit.\n",
        "\n",
        "    See Also\n",
        "    --------\n",
        "    RandomLayer, RBFRandomLayer, MLPRandomLayer,\n",
        "    GenELMRegressor, GenELMClassifier, ELMClassifier\n",
        "\n",
        "    References\n",
        "    ----------\n",
        "    .. [1] http://www.extreme-learning-machines.org\n",
        "    .. [2] G.-B. Huang, Q.-Y. Zhu and C.-K. Siew, \"Extreme Learning Machine:\n",
        "          Theory and Applications\", Neurocomputing, vol. 70, pp. 489-501,\n",
        "              2006.\n",
        "    \"\"\"\n",
        "\n",
        "    def __init__(self, n_hidden=20, alpha=0.5, rbf_width=1.0,\n",
        "                 activation_func='tanh', activation_args=None,\n",
        "                 user_components=None, regressor=None, random_state=None):\n",
        "\n",
        "        self.n_hidden = n_hidden\n",
        "        self.alpha = alpha\n",
        "        self.random_state = random_state\n",
        "        self.activation_func = activation_func\n",
        "        self.activation_args = activation_args\n",
        "        self.user_components = user_components\n",
        "        self.rbf_width = rbf_width\n",
        "        self.regressor = regressor\n",
        "\n",
        "        self._genelm_regressor = None\n",
        "\n",
        "    def _create_random_layer(self):\n",
        "        \"\"\"Pass init params to RandomLayer\"\"\"\n",
        "\n",
        "        return RandomLayer(n_hidden=self.n_hidden,\n",
        "                           alpha=self.alpha, random_state=self.random_state,\n",
        "                           activation_func=self.activation_func,\n",
        "                           activation_args=self.activation_args,\n",
        "                           user_components=self.user_components,\n",
        "                           rbf_width=self.rbf_width)\n",
        "\n",
        "    def fit(self, X, y):\n",
        "        \"\"\"\n",
        "        Fit the model using X, y as training data.\n",
        "\n",
        "        Parameters\n",
        "        ----------\n",
        "        X : {array-like, sparse matrix} of shape [n_samples, n_features]\n",
        "            Training vectors, where n_samples is the number of samples\n",
        "            and n_features is the number of features.\n",
        "\n",
        "        y : array-like of shape [n_samples, n_outputs]\n",
        "            Target values (class labels in classification, real numbers in\n",
        "            regression)\n",
        "\n",
        "        Returns\n",
        "        -------\n",
        "        self : object\n",
        "\n",
        "            Returns an instance of self.\n",
        "        \"\"\"\n",
        "        rhl = self._create_random_layer()\n",
        "        self._genelm_regressor = GenELMRegressor(hidden_layer=rhl,\n",
        "                                                 regressor=self.regressor)\n",
        "        self._genelm_regressor.fit(X, y)\n",
        "        return self\n",
        "\n",
        "    def predict(self, X):\n",
        "        \"\"\"\n",
        "        Predict values using the model\n",
        "\n",
        "        Parameters\n",
        "        ----------\n",
        "        X : {array-like, sparse matrix} of shape [n_samples, n_features]\n",
        "\n",
        "        Returns\n",
        "        -------\n",
        "        C : numpy array of shape [n_samples, n_outputs]\n",
        "            Predicted values.\n",
        "        \"\"\"\n",
        "        if (self._genelm_regressor is None):\n",
        "            raise ValueError(\"SimpleELMRegressor not fitted\")\n",
        "\n",
        "        return self._genelm_regressor.predict(X)\n",
        "\n",
        "'''\n",
        "class ELMClassifier(ELMRegressor):\n",
        "    \"\"\"\n",
        "    ELMClassifier is a classifier based on the Extreme Learning Machine.\n",
        "\n",
        "    An Extreme Learning Machine (ELM) is a single layer feedforward\n",
        "    network with a random hidden layer components and ordinary linear\n",
        "    least squares fitting of the hidden->output weights by default.\n",
        "    [1][2]\n",
        "\n",
        "    ELMClassifier is an ELMRegressor subclass that first binarizes the\n",
        "    data, then uses the superclass to compute the decision function that\n",
        "    is then unbinarized to yield the prediction.\n",
        "\n",
        "    The params for the RandomLayer used in the input transform are\n",
        "    exposed in the ELMClassifier constructor.\n",
        "\n",
        "    Parameters\n",
        "    ----------\n",
        "    `n_hidden` : int, optional (default=20)\n",
        "        Number of units to generate in the SimpleRandomLayer\n",
        "\n",
        "    `activation_func` : {callable, string} optional (default='tanh')\n",
        "        Function used to transform input activation\n",
        "\n",
        "        It must be one of 'tanh', 'sine', 'tribas', 'inv_tribase', 'sigmoid',\n",
        "        'hardlim', 'softlim', 'gaussian', 'multiquadric', 'inv_multiquadric' or\n",
        "        a callable.  If none is given, 'tanh' will be used. If a callable\n",
        "        is given, it will be used to compute the hidden unit activations.\n",
        "\n",
        "    `activation_args` : dictionary, optional (default=None)\n",
        "        Supplies keyword arguments for a callable activation_func\n",
        "\n",
        "    `random_state`  : int, RandomState instance or None (default=None)\n",
        "        Control the pseudo random number generator used to generate the\n",
        "        hidden unit weights at fit time.\n",
        "\n",
        "    Attributes\n",
        "    ----------\n",
        "    `classes_` : numpy array of shape [n_classes]\n",
        "        Array of class labels\n",
        "\n",
        "    See Also\n",
        "    --------\n",
        "    RandomLayer, RBFRandomLayer, MLPRandomLayer,\n",
        "    GenELMRegressor, GenELMClassifier, ELMClassifier\n",
        "\n",
        "    References\n",
        "    ----------\n",
        "    .. [1] http://www.extreme-learning-machines.org\n",
        "    .. [2] G.-B. Huang, Q.-Y. Zhu and C.-K. Siew, \"Extreme Learning Machine:\n",
        "          Theory and Applications\", Neurocomputing, vol. 70, pp. 489-501,\n",
        "              2006.\n",
        "    \"\"\"\n",
        "\n",
        "    def __init__(self, n_hidden=20, alpha=0.5, rbf_width=1.0,\n",
        "                 activation_func='tanh', activation_args=None,\n",
        "                 user_components=None, regressor=None,\n",
        "                 binarizer=LabelBinarizer(-1, 1),\n",
        "                 random_state=None):\n",
        "\n",
        "        super(ELMClassifier, self).__init__(n_hidden=n_hidden,\n",
        "                                            alpha=alpha,\n",
        "                                            random_state=random_state,\n",
        "                                            activation_func=activation_func,\n",
        "                                            activation_args=activation_args,\n",
        "                                            user_components=user_components,\n",
        "                                            rbf_width=rbf_width,\n",
        "                                            regressor=regressor)\n",
        "\n",
        "        self.classes_ = None\n",
        "        self.binarizer = binarizer\n",
        "\n",
        "    def decision_function(self, X):\n",
        "        \"\"\"\n",
        "        This function return the decision function values related to each\n",
        "        class on an array of test vectors X.\n",
        "\n",
        "        Parameters\n",
        "        ----------\n",
        "        X : array-like of shape [n_samples, n_features]\n",
        "\n",
        "        Returns\n",
        "        -------\n",
        "        C : array of shape [n_samples, n_classes] or [n_samples,]\n",
        "            Decision function values related to each class, per sample.\n",
        "            In the two-class case, the shape is [n_samples,]\n",
        "        \"\"\"\n",
        "        return super(ELMClassifier, self).predict(X)\n",
        "\n",
        "    def fit(self, X, y):\n",
        "        \"\"\"\n",
        "        Fit the model using X, y as training data.\n",
        "\n",
        "        Parameters\n",
        "        ----------\n",
        "        X : {array-like, sparse matrix} of shape [n_samples, n_features]\n",
        "            Training vectors, where n_samples is the number of samples\n",
        "            and n_features is the number of features.\n",
        "\n",
        "        y : array-like of shape [n_samples, n_outputs]\n",
        "            Target values (class labels in classification, real numbers in\n",
        "            regression)\n",
        "\n",
        "        Returns\n",
        "        -------\n",
        "        self : object\n",
        "\n",
        "            Returns an instance of self.\n",
        "        \"\"\"\n",
        "        self.classes_ = np.unique(y)\n",
        "\n",
        "        y_bin = self.binarizer.fit_transform(y)\n",
        "\n",
        "        super(ELMClassifier, self).fit(X, y_bin)\n",
        "\n",
        "        return self\n",
        "\n",
        "    def predict(self, X):\n",
        "        \"\"\"\n",
        "        Predict values using the model\n",
        "\n",
        "        Parameters\n",
        "        ----------\n",
        "        X : {array-like, sparse matrix} of shape [n_samples, n_features]\n",
        "\n",
        "        Returns\n",
        "        -------\n",
        "        C : numpy array of shape [n_samples, n_outputs]\n",
        "            Predicted values.\n",
        "        \"\"\"\n",
        "        raw_predictions = self.decision_function(X)\n",
        "        class_predictions = self.binarizer.inverse_transform(raw_predictions)\n",
        "\n",
        "        return class_predictions\n",
        "\n",
        "    def score(self, X, y):\n",
        "        \"\"\"Force use of accuracy score since we don't inherit\n",
        "           from ClassifierMixin\"\"\"\n",
        "\n",
        "        from sklearn.metrics import accuracy_score\n",
        "        return accuracy_score(y, self.predict(X))\n",
        "'''"
      ],
      "metadata": {
        "id": "BRrNFUzw5X5U"
      },
      "execution_count": 3,
      "outputs": []
    },
    {
      "cell_type": "code",
      "source": [
        "%%capture\n",
        "# hide code cell output\n",
        "from google.colab import drive\n",
        "drive.mount('/content/drive')"
      ],
      "metadata": {
        "id": "hHYT6eqn6F0J"
      },
      "execution_count": 4,
      "outputs": []
    },
    {
      "cell_type": "code",
      "execution_count": 13,
      "metadata": {
        "id": "JfzPYjvb4ocM"
      },
      "outputs": [],
      "source": [
        "# from elm import ELMRegressor\n",
        "from collections.abc import Iterable\n",
        "import numpy as np\n",
        "import pandas as pd\n",
        "import math\n",
        "import matplotlib.pyplot as plt\n",
        "import pylab as py\n",
        "import scipy.stats as stats\n",
        "from sklearn import preprocessing\n",
        "from sklearn.metrics import mean_squared_error\n",
        "from skmultiflow.drift_detection import DDM\n",
        "import statsmodels.api as sm\n",
        "import sys\n",
        "from typing import Union\n",
        "\n",
        "sc = preprocessing.StandardScaler()\n",
        "\n",
        "'''\n",
        "    (Cavalcante & Oliveira, 2015)\n",
        "    Feature Selection:\n",
        "    The input data is composed by daily open, high, low and close prices and two classical technical indicators,\n",
        "    the exponential moving average (EMA) and the Bollinger Bands (BB):\n",
        "    1) lowest and highest prices of the 5 previous days;\n",
        "    2) opening and closing prices of the 5 previous days;\n",
        "    3) EMA of the lowest and highest prices of the 5 previous days;\n",
        "    4) EMA of the opening and closing prices of the 5 previous days;\n",
        "    5) BB of the opening and closing prices of the 5 previous days;\n",
        "    6) BB of the lowest and highest prices of the 5 previous days;\n",
        "'''\n",
        "\n",
        "'''\n",
        "    (Mishra & Das, 2022)\n",
        "    Feature Selection:\n",
        "    The available features for the GOLD/USD dataset are price, open price, high price, low price, volume, and price change.\n",
        "    The gold data available for predictions are in 1 Troy Ounce Unit.\n",
        "    This experimentation has worked out for four time horizons such as 1 day, 3 days, 7 days, and 1 month in advance.\n",
        "    A total of 70% of data is selected for training and 30% is selected for testing .\n",
        "'''\n",
        "def handle_datasets(train_split: float = 0.8, show_fig: bool = False) -> list:\n",
        "    # reverse dataframe datetime\n",
        "    df = pd.read_csv('/content/drive/MyDrive/Colab Notebooks/gold prices 2013-2023.csv', parse_dates=['Date'], index_col='Date')\n",
        "    df= df.sort_values(by='Date')\n",
        "    df = df.rename(columns={\"Close/Last\": \"close\"})\n",
        "    df.columns = df.columns.str.lower()\n",
        "    # replace Nan\n",
        "    df['volume'] = df['volume'].interpolate()\n",
        "    # 5 days average\n",
        "    #  moving_avg = df['close'].rolling(window=5).mean()\n",
        "    # df['moving_average'] = moving_avg\n",
        "\n",
        "    # 1) lowest and highest prices of the 5 previous days;\n",
        "    df['high_previous_1_days'] = df['high'].shift(1)\n",
        "    df['low_previous_1_days'] = df['low'].shift(1)\n",
        "\n",
        "\n",
        "    # 2) opening and closing prices of the 5 previous days;\n",
        "    df['close_previous_1_days'] = df['close'].shift(1)\n",
        "    df['open_previous_1_days'] = df['open'].shift(1)\n",
        "\n",
        "    # change = yesterday - the day before yesterday\n",
        "    df['change'] = df['close'].diff()\n",
        "    df['change'] = df['change'].shift(1)\n",
        "\n",
        "    # exclude 5 columns, others = input features, start from index=5 drop NaN\n",
        "    x = df[df.columns.difference(['close', 'open', 'high', 'low'])][2:]\n",
        "    y = df[\"close\"][2:]\n",
        "\n",
        "    if show_fig:\n",
        "        plt.title(\"Gold prices\")\n",
        "        plt.plot(y[:50], color=\"green\")\n",
        "        plt.plot(x.drop(columns=['volume','change'])[:50], color=\"orange\")\n",
        "        plt.xlabel(\"Days\")\n",
        "        plt.xticks(rotation=45, ha='right')\n",
        "        plt.ylabel(\"Close price\")\n",
        "        plt.show(block=False)\n",
        "    # 2d-array x.shape = (input_samples, features)\n",
        "    x_train, x_test = to_ndarray(x, split = train_split,features = x.shape[1])\n",
        "    y_train, y_test = to_ndarray(y, split = train_split)\n",
        "    res = [x_train, y_train, x_test, y_test]\n",
        "    return res\n",
        "\n",
        "\n",
        "def to_ndarray(df: Union[pd.DataFrame, pd.Series], split: float = 0.8, features: int = 1):\n",
        "    nd = df.to_numpy()\n",
        "    train_set, test_set = np.split(nd, [int(split * len(nd))])\n",
        "    train_set = train_set.reshape(-1, features)\n",
        "    test_set = test_set.reshape(-1, features)\n",
        "    train_set = sc.fit_transform(train_set)\n",
        "    test_set = sc.fit_transform(test_set)\n",
        "    return train_set, test_set"
      ]
    },
    {
      "cell_type": "code",
      "source": [
        "def plot_fig(x:Iterable, y:Iterable, x_label: str, y_label:str, show: bool=False, color:str=\"black\", clean: bool = True):\n",
        "    if show:\n",
        "        plt.plot(x, y, color=color)\n",
        "        plt.xlabel(x_label)\n",
        "        plt.ylabel(y_label)\n",
        "    if clean:\n",
        "        plt.show(block=False)\n",
        "        plt.clf()"
      ],
      "metadata": {
        "id": "oyEoRha_Cm6_"
      },
      "execution_count": 6,
      "outputs": []
    },
    {
      "cell_type": "code",
      "source": [
        "def drift_detection(data_stream: list, retrain_data: list, nodes: int, warning_level: float = 2.0, drift_detect: float = 3.0, threshold_opt: int = 0) -> None:\n",
        "    '''\n",
        "        prediction: int (either 0 or 1)\n",
        "            This parameter indicates whether the last sample analyzed was\n",
        "            correctly classified or not. 1 indicates an error (miss-classification).\n",
        "    '''\n",
        "    ddm = DDM(min_num_instances=30, warning_level=warning_level, out_control_level=drift_detect)\n",
        "    warning_status = False\n",
        "    warning_start = 0\n",
        "    warning_end = 0\n",
        "    for i in range(len(data_stream)):\n",
        "        ddm.add_element(data_stream[i])\n",
        "        if ddm.detected_change() and warning_status:\n",
        "            warning_end = i\n",
        "            assert warning_end > warning_start\n",
        "            print(f\"warning start at index {warning_start}, Change has been detected in index {warning_end}\")\n",
        "            # retrain\n",
        "            warning_status = False\n",
        "            # at least 30 data samples\n",
        "            if warning_end-warning_start>=30:\n",
        "                # retrain immediately\n",
        "                break\n",
        "        elif ddm.detected_warning_zone():\n",
        "            if not warning_status:\n",
        "                warning_start = i\n",
        "            warning_status = True\n",
        "            # print('Warning zone has been detected in data: ' + str(data_stream[i]) + ' - of index: ' + str(i))\n",
        "        else:\n",
        "            warning_status = False\n",
        "    if warning_end-warning_start>=30:\n",
        "        print(f\"-------------------retrain with data from index {warning_start}~{warning_end}-------------------\")\n",
        "        print(f\"-------------------testing with data from index {warning_end+1}~{len(data_stream)}-------------------\")\n",
        "        x_train = retrain_data[0][warning_start:warning_end]\n",
        "        y_train = retrain_data[1][warning_start:warning_end]\n",
        "        x_test = retrain_data[0][warning_end:]\n",
        "        y_test = retrain_data[1][warning_end:]\n",
        "        datasets = [x_train, y_train, x_test, y_test]\n",
        "        # enable the network to perform feature extraction\n",
        "        train(datasets, nodes=nodes+3, show_fig=True, threshold_opt=threshold_opt, level_config=(warning_level, drift_detect))"
      ],
      "metadata": {
        "id": "AOhBAtg7Cijk"
      },
      "execution_count": 7,
      "outputs": []
    },
    {
      "cell_type": "code",
      "source": [
        "def train(datasets: list[np.ndarray],nodes: int = 20, show_fig: bool = False, threshold_opt: int = 0, level_config: tuple = (1.0, 2.0)) -> dict:\n",
        "    print(f\"hidden nodes {nodes} ,threshold option {threshold_opt}\")\n",
        "    # option: random_state=1\n",
        "    elmr = ELMRegressor(n_hidden=nodes)\n",
        "    x_train, y_train, x_test, y_test = (\n",
        "        datasets[0],\n",
        "        datasets[1],\n",
        "        datasets[2],\n",
        "        datasets[3],\n",
        "    )\n",
        "    elmr = elmr.fit(x_train, y_train)\n",
        "    # Inverse Transform the Predictions(real world value)\n",
        "    res = elmr.predict(x_test)\n",
        "\n",
        "    y_pred = sc.inverse_transform(elmr.predict(x_test))\n",
        "    y_actual = sc.inverse_transform(y_test)\n",
        "    # squared=True -> MSE\n",
        "    rms = mean_squared_error(y_actual, y_pred, squared=False)\n",
        "    # threshold 1: compare with previous price difference\n",
        "    y_prev = np.insert(y_actual, 0, y_actual[0], axis=0)\n",
        "    y_prev = y_prev[:-1]\n",
        "    abs_residual = abs(y_actual - y_pred)\n",
        "\n",
        "    # Residual = actual y - predicted y\n",
        "    residual = y_actual - y_pred\n",
        "    res_avg = np.mean(residual)\n",
        "    res_std = np.std(residual)\n",
        "    print(f\"Residual AVG = {res_avg}, Residual STD = {res_std}, RMSE = {rms}\")\n",
        "\n",
        "    prev_abs_residual = abs(y_prev - y_actual)\n",
        "    bin = abs_residual - prev_abs_residual\n",
        "    # if y prediction errors > naive errors, prediction errors, return 1\n",
        "    error_rates = np.where(bin>0, 1, 0)\n",
        "    error_rates = list(error_rates)\n",
        "    count_errors = []\n",
        "    '''\n",
        "        concept change detection method based on the PAC learning model premise,\n",
        "        that the learner’s error rate will decrease as the number of analysed samples increase,\n",
        "        as long as the data distribution is stationary.\n",
        "    '''\n",
        "    for index in range(len(error_rates)):\n",
        "        err_num = error_rates[:index].count(1) / (index+1)\n",
        "        count_errors.append(err_num)\n",
        "\n",
        "    # threshold 2: compare with price going up or down predicitons\n",
        "    y_trend = np.subtract(y_actual, y_prev)\n",
        "    trend = np.where(y_trend>0, 1, 0)\n",
        "    y_prev_pred = np.insert(y_pred, 0, y_actual[0], axis=0)\n",
        "    y_prev_pred = y_prev_pred[:-1]\n",
        "    y_pred_trend = np.subtract(y_pred, y_prev_pred)\n",
        "    pred_trend = np.where(y_pred_trend>0, 1, 0)\n",
        "    print(np.unique(trend, return_counts=True))\n",
        "    print(np.unique(pred_trend, return_counts=True))\n",
        "    print(\"---------real trend vs pred trend---------\")\n",
        "    trend_result = list()\n",
        "    for index in range(len(pred_trend)):\n",
        "        if pred_trend[index] == trend[index]:\n",
        "            trend_result.append(0)\n",
        "        else:\n",
        "            trend_result.append(1)\n",
        "    count_trend_errors = []\n",
        "    '''\n",
        "        concept change detection method based on the PAC learning model premise,\n",
        "        that the learner’s error rate will decrease as the number of analysed samples increase,\n",
        "        as long as the data distribution is stationary.\n",
        "    '''\n",
        "    for index in range(len(trend_result)):\n",
        "        err_num = trend_result[:index].count(1) / (index+1)\n",
        "        count_trend_errors.append(err_num)\n",
        "\n",
        "\n",
        "    # errors frequency\n",
        "    stat = np.array(np.unique(residual.astype(int), return_counts=True)).T\n",
        "    error_list = list()\n",
        "    freq = list()\n",
        "    for pair in stat:\n",
        "        error_list.append(pair[0])\n",
        "        freq.append(pair[1])\n",
        "    size = [i*100 for i in freq]\n",
        "    plt.clf()\n",
        "    if threshold_opt==0:\n",
        "        print(\"-------------threshold 1---------------\")\n",
        "        plot_fig(x=range(len(error_rates)), y=count_errors, x_label=\"Number of examples\", y_label=\"T1 Errors Rates\", show=show_fig, color=\"red\")\n",
        "    elif threshold_opt==1:\n",
        "        print(\"-------------threshold 2---------------\")\n",
        "        plot_fig(x=range(len(count_trend_errors)), y=count_trend_errors, x_label=\"Number of examples\", y_label=\"T2 Errors Rates\", show=show_fig, color=\"blue\")\n",
        "    plt.clf()\n",
        "    if show_fig:\n",
        "        plot_fig(x=range(len(residual)), y=residual, x_label=\"Index\", y_label=\"Errors\", show=show_fig, color=\"#0080FF\")\n",
        "        plt.scatter(error_list, freq, c=\"#d62728\", s=size, alpha=0.3,)\n",
        "        plt.xlabel(\"Errors\")\n",
        "        plt.ylabel(\"Frequency\")\n",
        "        plt.show(block=False)\n",
        "    DDM_data = error_rates if threshold_opt==0 else trend_result\n",
        "    # implement DDM\n",
        "    # drift_detection(data_stream=DDM_data, retrain_data=[x_test, y_test],nodes=nodes, warning_level=level_config[0], drift_detect=level_config[1], threshold_opt=threshold_opt)\n",
        "    return {\"residual\":residual, \"RMSE\":rms}"
      ],
      "metadata": {
        "id": "aZ-Ho7uzDvz0"
      },
      "execution_count": 8,
      "outputs": []
    },
    {
      "cell_type": "code",
      "source": [
        "if __name__ == \"__main__\":\n",
        "    nodes = 80\n",
        "    level_config_1 = (1.0, 1.75)\n",
        "    level_config_2 = (2, 3)\n",
        "    datasets = handle_datasets(train_split=0.8, show_fig=False)\n",
        "    all_rmse = []\n",
        "    all_residual = np.array([])\n",
        "    for i in range(100):\n",
        "        # option 0: compare with previous price difference, option 1: compare with price going up or down predicitons\n",
        "        res = train(datasets, nodes=nodes, show_fig=False, threshold_opt=1, level_config=level_config_1)\n",
        "        print(f\"finish model {i}\")\n",
        "        all_rmse.append(res[\"RMSE\"])\n",
        "        all_residual = np.append(all_residual, res[\"residual\"])\n",
        "    plt.clf()\n",
        "    plt.hist(all_rmse, bins=8, range=(0, 40), facecolor=\"red\", edgecolor=\"black\", alpha=0.3)\n",
        "    plt.xlabel(\"RMSE\")\n",
        "    plt.ylabel(\"frequency\")\n",
        "    plt.show(block=False)\n",
        "    rmse_avg = np.mean(all_rmse)\n",
        "    rmse_std = np.std(all_rmse)\n",
        "    print(f\"RMSE AVG = {rmse_avg}, RMSE STD = {rmse_std}\")\n",
        "    res_avg = np.mean(all_residual)\n",
        "    res_std = np.std(all_residual)\n",
        "    print(f\"Residual AVG = {res_avg}, Residual STD = {res_std}\")\n",
        "    # np.histogram 取誤差範圍 range=-200~200, bins=? 分?組\n",
        "    hist,bins = np.histogram(a=all_residual,bins=10,range=(-200,200),density=False)\n",
        "    plt.clf()\n",
        "    # 顯示常態分佈曲線\n",
        "    mu = 0\n",
        "    sigma = 20\n",
        "    x = np.linspace(mu - 3*sigma, mu + 3*sigma, 10000)\n",
        "    plt.plot(x, stats.norm.pdf(x, mu, sigma), color=\"#FF0000\")\n",
        "    # 取誤差範圍 range=-200~200, bins=80 分80組 每組差5, density=True 回傳機率而非次數\n",
        "    plt.hist(all_residual, bins=40, range=(-100,100), facecolor=\"blue\", edgecolor=\"black\", alpha=0.7, density=True)\n",
        "    plt.xlabel(\"residual\")\n",
        "    plt.ylabel(\"Probability\")\n",
        "    plt.show()\n",
        "    # Normal distribution Test\n",
        "    test_result = stats.normaltest(all_residual)\n",
        "    print(f\"stat: {test_result.statistic}, p_value: {test_result.pvalue}\")\n",
        "    print(f\"Skew: {stats.skew(all_residual)}, Kurtosis: {stats.kurtosis(all_residual)}\")\n",
        "    print()"
      ],
      "metadata": {
        "colab": {
          "base_uri": "https://localhost:8080/",
          "height": 1000
        },
        "id": "vZy7bywzGFkn",
        "outputId": "3f840110-2a2e-485e-cd87-3a9b0d7b6fdb"
      },
      "execution_count": 21,
      "outputs": [
        {
          "output_type": "stream",
          "name": "stdout",
          "text": [
            "hidden nodes 80 ,threshold option 1\n",
            "Residual AVG = -2.327785163263496, Residual STD = 18.022474579684033, RMSE = 18.17218131490182\n",
            "(array([0, 1]), array([247, 261]))\n",
            "(array([0, 1]), array([249, 259]))\n",
            "---------real trend vs pred trend---------\n",
            "-------------threshold 2---------------\n"
          ]
        },
        {
          "output_type": "display_data",
          "data": {
            "text/plain": [
              "<Figure size 640x480 with 0 Axes>"
            ]
          },
          "metadata": {}
        },
        {
          "output_type": "stream",
          "name": "stdout",
          "text": [
            "finish model 0\n",
            "hidden nodes 80 ,threshold option 1\n",
            "Residual AVG = 1.1878665112530506, Residual STD = 18.623892615675384, RMSE = 18.66173633424191\n",
            "(array([0, 1]), array([247, 261]))\n",
            "(array([0, 1]), array([257, 251]))\n",
            "---------real trend vs pred trend---------\n",
            "-------------threshold 2---------------\n"
          ]
        },
        {
          "output_type": "display_data",
          "data": {
            "text/plain": [
              "<Figure size 640x480 with 0 Axes>"
            ]
          },
          "metadata": {}
        },
        {
          "output_type": "stream",
          "name": "stdout",
          "text": [
            "finish model 1\n",
            "hidden nodes 80 ,threshold option 1\n",
            "Residual AVG = -4.328754096401894, Residual STD = 22.44447556752361, RMSE = 22.85809693584049\n",
            "(array([0, 1]), array([247, 261]))\n",
            "(array([0, 1]), array([260, 248]))\n",
            "---------real trend vs pred trend---------\n",
            "-------------threshold 2---------------\n"
          ]
        },
        {
          "output_type": "display_data",
          "data": {
            "text/plain": [
              "<Figure size 640x480 with 0 Axes>"
            ]
          },
          "metadata": {}
        },
        {
          "output_type": "stream",
          "name": "stdout",
          "text": [
            "finish model 2\n",
            "hidden nodes 80 ,threshold option 1\n",
            "Residual AVG = -2.3713226085315213, Residual STD = 20.18222282331584, RMSE = 20.32105531225442\n",
            "(array([0, 1]), array([247, 261]))\n",
            "(array([0, 1]), array([242, 266]))\n",
            "---------real trend vs pred trend---------\n",
            "-------------threshold 2---------------\n"
          ]
        },
        {
          "output_type": "display_data",
          "data": {
            "text/plain": [
              "<Figure size 640x480 with 0 Axes>"
            ]
          },
          "metadata": {}
        },
        {
          "output_type": "stream",
          "name": "stdout",
          "text": [
            "finish model 3\n",
            "hidden nodes 80 ,threshold option 1\n",
            "Residual AVG = -0.18577804910353818, Residual STD = 19.274991433275055, RMSE = 19.27588670428303\n",
            "(array([0, 1]), array([247, 261]))\n",
            "(array([0, 1]), array([245, 263]))\n",
            "---------real trend vs pred trend---------\n",
            "-------------threshold 2---------------\n"
          ]
        },
        {
          "output_type": "display_data",
          "data": {
            "text/plain": [
              "<Figure size 640x480 with 0 Axes>"
            ]
          },
          "metadata": {}
        },
        {
          "output_type": "stream",
          "name": "stdout",
          "text": [
            "finish model 4\n",
            "hidden nodes 80 ,threshold option 1\n",
            "Residual AVG = -2.8555797391090723, Residual STD = 18.586872583239664, RMSE = 18.804950626683297\n",
            "(array([0, 1]), array([247, 261]))\n",
            "(array([0, 1]), array([244, 264]))\n",
            "---------real trend vs pred trend---------\n",
            "-------------threshold 2---------------\n"
          ]
        },
        {
          "output_type": "display_data",
          "data": {
            "text/plain": [
              "<Figure size 640x480 with 0 Axes>"
            ]
          },
          "metadata": {}
        },
        {
          "output_type": "stream",
          "name": "stdout",
          "text": [
            "finish model 5\n",
            "hidden nodes 80 ,threshold option 1\n",
            "Residual AVG = -2.224823743665161, Residual STD = 18.755053264996214, RMSE = 18.88655245573478\n",
            "(array([0, 1]), array([247, 261]))\n",
            "(array([0, 1]), array([244, 264]))\n",
            "---------real trend vs pred trend---------\n",
            "-------------threshold 2---------------\n"
          ]
        },
        {
          "output_type": "display_data",
          "data": {
            "text/plain": [
              "<Figure size 640x480 with 0 Axes>"
            ]
          },
          "metadata": {}
        },
        {
          "output_type": "stream",
          "name": "stdout",
          "text": [
            "finish model 6\n",
            "hidden nodes 80 ,threshold option 1\n",
            "Residual AVG = 1.060780079927116, Residual STD = 19.897652298402523, RMSE = 19.92590829463223\n",
            "(array([0, 1]), array([247, 261]))\n",
            "(array([0, 1]), array([252, 256]))\n",
            "---------real trend vs pred trend---------\n",
            "-------------threshold 2---------------\n"
          ]
        },
        {
          "output_type": "display_data",
          "data": {
            "text/plain": [
              "<Figure size 640x480 with 0 Axes>"
            ]
          },
          "metadata": {}
        },
        {
          "output_type": "stream",
          "name": "stdout",
          "text": [
            "finish model 7\n",
            "hidden nodes 80 ,threshold option 1\n",
            "Residual AVG = 1.8145831841361397, Residual STD = 23.05358012680406, RMSE = 23.124884189874873\n",
            "(array([0, 1]), array([247, 261]))\n",
            "(array([0, 1]), array([235, 273]))\n",
            "---------real trend vs pred trend---------\n",
            "-------------threshold 2---------------\n"
          ]
        },
        {
          "output_type": "display_data",
          "data": {
            "text/plain": [
              "<Figure size 640x480 with 0 Axes>"
            ]
          },
          "metadata": {}
        },
        {
          "output_type": "stream",
          "name": "stdout",
          "text": [
            "finish model 8\n",
            "hidden nodes 80 ,threshold option 1\n",
            "Residual AVG = -1.3579649051236868, Residual STD = 17.515768729765117, RMSE = 17.568330110689665\n",
            "(array([0, 1]), array([247, 261]))\n",
            "(array([0, 1]), array([244, 264]))\n",
            "---------real trend vs pred trend---------\n",
            "-------------threshold 2---------------\n"
          ]
        },
        {
          "output_type": "display_data",
          "data": {
            "text/plain": [
              "<Figure size 640x480 with 0 Axes>"
            ]
          },
          "metadata": {}
        },
        {
          "output_type": "stream",
          "name": "stdout",
          "text": [
            "finish model 9\n",
            "hidden nodes 80 ,threshold option 1\n",
            "Residual AVG = -0.22283955150802878, Residual STD = 18.352546554524732, RMSE = 18.35389938137708\n",
            "(array([0, 1]), array([247, 261]))\n",
            "(array([0, 1]), array([249, 259]))\n",
            "---------real trend vs pred trend---------\n",
            "-------------threshold 2---------------\n"
          ]
        },
        {
          "output_type": "display_data",
          "data": {
            "text/plain": [
              "<Figure size 640x480 with 0 Axes>"
            ]
          },
          "metadata": {}
        },
        {
          "output_type": "stream",
          "name": "stdout",
          "text": [
            "finish model 10\n",
            "hidden nodes 80 ,threshold option 1\n",
            "Residual AVG = -2.0341468254142447, Residual STD = 17.6645930549727, RMSE = 17.781327315617713\n",
            "(array([0, 1]), array([247, 261]))\n",
            "(array([0, 1]), array([253, 255]))\n",
            "---------real trend vs pred trend---------\n",
            "-------------threshold 2---------------\n"
          ]
        },
        {
          "output_type": "display_data",
          "data": {
            "text/plain": [
              "<Figure size 640x480 with 0 Axes>"
            ]
          },
          "metadata": {}
        },
        {
          "output_type": "stream",
          "name": "stdout",
          "text": [
            "finish model 11\n",
            "hidden nodes 80 ,threshold option 1\n",
            "Residual AVG = -2.0315327091362145, Residual STD = 19.464184725441953, RMSE = 19.569915998144143\n",
            "(array([0, 1]), array([247, 261]))\n",
            "(array([0, 1]), array([244, 264]))\n",
            "---------real trend vs pred trend---------\n",
            "-------------threshold 2---------------\n"
          ]
        },
        {
          "output_type": "display_data",
          "data": {
            "text/plain": [
              "<Figure size 640x480 with 0 Axes>"
            ]
          },
          "metadata": {}
        },
        {
          "output_type": "stream",
          "name": "stdout",
          "text": [
            "finish model 12\n",
            "hidden nodes 80 ,threshold option 1\n",
            "Residual AVG = 0.83193479004225, Residual STD = 19.52948783322654, RMSE = 19.547199557047197\n",
            "(array([0, 1]), array([247, 261]))\n",
            "(array([0, 1]), array([256, 252]))\n",
            "---------real trend vs pred trend---------\n",
            "-------------threshold 2---------------\n"
          ]
        },
        {
          "output_type": "display_data",
          "data": {
            "text/plain": [
              "<Figure size 640x480 with 0 Axes>"
            ]
          },
          "metadata": {}
        },
        {
          "output_type": "stream",
          "name": "stdout",
          "text": [
            "finish model 13\n",
            "hidden nodes 80 ,threshold option 1\n",
            "Residual AVG = -1.374531541807352, Residual STD = 17.777776380531918, RMSE = 17.830834809274126\n",
            "(array([0, 1]), array([247, 261]))\n",
            "(array([0, 1]), array([250, 258]))\n",
            "---------real trend vs pred trend---------\n",
            "-------------threshold 2---------------\n"
          ]
        },
        {
          "output_type": "display_data",
          "data": {
            "text/plain": [
              "<Figure size 640x480 with 0 Axes>"
            ]
          },
          "metadata": {}
        },
        {
          "output_type": "stream",
          "name": "stdout",
          "text": [
            "finish model 14\n",
            "hidden nodes 80 ,threshold option 1\n",
            "Residual AVG = -2.93242257406799, Residual STD = 19.033266645695118, RMSE = 19.257838439426006\n",
            "(array([0, 1]), array([247, 261]))\n",
            "(array([0, 1]), array([238, 270]))\n",
            "---------real trend vs pred trend---------\n",
            "-------------threshold 2---------------\n"
          ]
        },
        {
          "output_type": "display_data",
          "data": {
            "text/plain": [
              "<Figure size 640x480 with 0 Axes>"
            ]
          },
          "metadata": {}
        },
        {
          "output_type": "stream",
          "name": "stdout",
          "text": [
            "finish model 15\n",
            "hidden nodes 80 ,threshold option 1\n",
            "Residual AVG = -0.5211485208127634, Residual STD = 19.872073365375172, RMSE = 19.87890579532985\n",
            "(array([0, 1]), array([247, 261]))\n",
            "(array([0, 1]), array([246, 262]))\n",
            "---------real trend vs pred trend---------\n",
            "-------------threshold 2---------------\n"
          ]
        },
        {
          "output_type": "display_data",
          "data": {
            "text/plain": [
              "<Figure size 640x480 with 0 Axes>"
            ]
          },
          "metadata": {}
        },
        {
          "output_type": "stream",
          "name": "stdout",
          "text": [
            "finish model 16\n",
            "hidden nodes 80 ,threshold option 1\n",
            "Residual AVG = -0.8141762643788302, Residual STD = 19.170089139498394, RMSE = 19.187370862257083\n",
            "(array([0, 1]), array([247, 261]))\n",
            "(array([0, 1]), array([245, 263]))\n",
            "---------real trend vs pred trend---------\n",
            "-------------threshold 2---------------\n"
          ]
        },
        {
          "output_type": "display_data",
          "data": {
            "text/plain": [
              "<Figure size 640x480 with 0 Axes>"
            ]
          },
          "metadata": {}
        },
        {
          "output_type": "stream",
          "name": "stdout",
          "text": [
            "finish model 17\n",
            "hidden nodes 80 ,threshold option 1\n",
            "Residual AVG = 0.6603657926634011, Residual STD = 20.030407684232866, RMSE = 20.04129025229401\n",
            "(array([0, 1]), array([247, 261]))\n",
            "(array([0, 1]), array([251, 257]))\n",
            "---------real trend vs pred trend---------\n",
            "-------------threshold 2---------------\n"
          ]
        },
        {
          "output_type": "display_data",
          "data": {
            "text/plain": [
              "<Figure size 640x480 with 0 Axes>"
            ]
          },
          "metadata": {}
        },
        {
          "output_type": "stream",
          "name": "stdout",
          "text": [
            "finish model 18\n",
            "hidden nodes 80 ,threshold option 1\n",
            "Residual AVG = -2.2782742598942307, Residual STD = 17.854167203356553, RMSE = 17.998939416774235\n",
            "(array([0, 1]), array([247, 261]))\n",
            "(array([0, 1]), array([240, 268]))\n",
            "---------real trend vs pred trend---------\n",
            "-------------threshold 2---------------\n"
          ]
        },
        {
          "output_type": "display_data",
          "data": {
            "text/plain": [
              "<Figure size 640x480 with 0 Axes>"
            ]
          },
          "metadata": {}
        },
        {
          "output_type": "stream",
          "name": "stdout",
          "text": [
            "finish model 19\n",
            "hidden nodes 80 ,threshold option 1\n",
            "Residual AVG = -1.4535384331811096, Residual STD = 17.99410241420816, RMSE = 18.05271435739641\n",
            "(array([0, 1]), array([247, 261]))\n",
            "(array([0, 1]), array([245, 263]))\n",
            "---------real trend vs pred trend---------\n",
            "-------------threshold 2---------------\n"
          ]
        },
        {
          "output_type": "display_data",
          "data": {
            "text/plain": [
              "<Figure size 640x480 with 0 Axes>"
            ]
          },
          "metadata": {}
        },
        {
          "output_type": "stream",
          "name": "stdout",
          "text": [
            "finish model 20\n",
            "hidden nodes 80 ,threshold option 1\n",
            "Residual AVG = -0.9002756299876277, Residual STD = 18.157492441092238, RMSE = 18.17979724744672\n",
            "(array([0, 1]), array([247, 261]))\n",
            "(array([0, 1]), array([234, 274]))\n",
            "---------real trend vs pred trend---------\n",
            "-------------threshold 2---------------\n"
          ]
        },
        {
          "output_type": "display_data",
          "data": {
            "text/plain": [
              "<Figure size 640x480 with 0 Axes>"
            ]
          },
          "metadata": {}
        },
        {
          "output_type": "stream",
          "name": "stdout",
          "text": [
            "finish model 21\n",
            "hidden nodes 80 ,threshold option 1\n",
            "Residual AVG = -0.47113968173824455, Residual STD = 19.763729710476966, RMSE = 19.769344568510572\n",
            "(array([0, 1]), array([247, 261]))\n",
            "(array([0, 1]), array([242, 266]))\n",
            "---------real trend vs pred trend---------\n",
            "-------------threshold 2---------------\n"
          ]
        },
        {
          "output_type": "display_data",
          "data": {
            "text/plain": [
              "<Figure size 640x480 with 0 Axes>"
            ]
          },
          "metadata": {}
        },
        {
          "output_type": "stream",
          "name": "stdout",
          "text": [
            "finish model 22\n",
            "hidden nodes 80 ,threshold option 1\n",
            "Residual AVG = -1.5674944761944336, Residual STD = 19.783106551274926, RMSE = 19.845108811795335\n",
            "(array([0, 1]), array([247, 261]))\n",
            "(array([0, 1]), array([244, 264]))\n",
            "---------real trend vs pred trend---------\n",
            "-------------threshold 2---------------\n"
          ]
        },
        {
          "output_type": "display_data",
          "data": {
            "text/plain": [
              "<Figure size 640x480 with 0 Axes>"
            ]
          },
          "metadata": {}
        },
        {
          "output_type": "stream",
          "name": "stdout",
          "text": [
            "finish model 23\n",
            "hidden nodes 80 ,threshold option 1\n",
            "Residual AVG = -4.499430243414358, Residual STD = 21.273246811651788, RMSE = 21.7438704564023\n",
            "(array([0, 1]), array([247, 261]))\n",
            "(array([0, 1]), array([251, 257]))\n",
            "---------real trend vs pred trend---------\n",
            "-------------threshold 2---------------\n"
          ]
        },
        {
          "output_type": "display_data",
          "data": {
            "text/plain": [
              "<Figure size 640x480 with 0 Axes>"
            ]
          },
          "metadata": {}
        },
        {
          "output_type": "stream",
          "name": "stdout",
          "text": [
            "finish model 24\n",
            "hidden nodes 80 ,threshold option 1\n",
            "Residual AVG = 0.13019824217380752, Residual STD = 20.377616532401326, RMSE = 20.37803246449129\n",
            "(array([0, 1]), array([247, 261]))\n",
            "(array([0, 1]), array([255, 253]))\n",
            "---------real trend vs pred trend---------\n",
            "-------------threshold 2---------------\n"
          ]
        },
        {
          "output_type": "display_data",
          "data": {
            "text/plain": [
              "<Figure size 640x480 with 0 Axes>"
            ]
          },
          "metadata": {}
        },
        {
          "output_type": "stream",
          "name": "stdout",
          "text": [
            "finish model 25\n",
            "hidden nodes 80 ,threshold option 1\n",
            "Residual AVG = -0.33032997454070684, Residual STD = 17.588335877347504, RMSE = 17.59143759976624\n",
            "(array([0, 1]), array([247, 261]))\n",
            "(array([0, 1]), array([249, 259]))\n",
            "---------real trend vs pred trend---------\n",
            "-------------threshold 2---------------\n"
          ]
        },
        {
          "output_type": "display_data",
          "data": {
            "text/plain": [
              "<Figure size 640x480 with 0 Axes>"
            ]
          },
          "metadata": {}
        },
        {
          "output_type": "stream",
          "name": "stdout",
          "text": [
            "finish model 26\n",
            "hidden nodes 80 ,threshold option 1\n",
            "Residual AVG = -1.3145254226530134, Residual STD = 17.882599243536504, RMSE = 17.930848635570303\n",
            "(array([0, 1]), array([247, 261]))\n",
            "(array([0, 1]), array([253, 255]))\n",
            "---------real trend vs pred trend---------\n",
            "-------------threshold 2---------------\n"
          ]
        },
        {
          "output_type": "display_data",
          "data": {
            "text/plain": [
              "<Figure size 640x480 with 0 Axes>"
            ]
          },
          "metadata": {}
        },
        {
          "output_type": "stream",
          "name": "stdout",
          "text": [
            "finish model 27\n",
            "hidden nodes 80 ,threshold option 1\n",
            "Residual AVG = -1.3905721584228443, Residual STD = 17.91092888610324, RMSE = 17.964828540535205\n",
            "(array([0, 1]), array([247, 261]))\n",
            "(array([0, 1]), array([240, 268]))\n",
            "---------real trend vs pred trend---------\n",
            "-------------threshold 2---------------\n"
          ]
        },
        {
          "output_type": "display_data",
          "data": {
            "text/plain": [
              "<Figure size 640x480 with 0 Axes>"
            ]
          },
          "metadata": {}
        },
        {
          "output_type": "stream",
          "name": "stdout",
          "text": [
            "finish model 28\n",
            "hidden nodes 80 ,threshold option 1\n",
            "Residual AVG = 0.0316087211868336, Residual STD = 18.311534293178998, RMSE = 18.311561574085527\n",
            "(array([0, 1]), array([247, 261]))\n",
            "(array([0, 1]), array([252, 256]))\n",
            "---------real trend vs pred trend---------\n",
            "-------------threshold 2---------------\n"
          ]
        },
        {
          "output_type": "display_data",
          "data": {
            "text/plain": [
              "<Figure size 640x480 with 0 Axes>"
            ]
          },
          "metadata": {}
        },
        {
          "output_type": "stream",
          "name": "stdout",
          "text": [
            "finish model 29\n",
            "hidden nodes 80 ,threshold option 1\n",
            "Residual AVG = -1.7026981345986594, Residual STD = 17.693146109319308, RMSE = 17.774886783979433\n",
            "(array([0, 1]), array([247, 261]))\n",
            "(array([0, 1]), array([243, 265]))\n",
            "---------real trend vs pred trend---------\n",
            "-------------threshold 2---------------\n"
          ]
        },
        {
          "output_type": "display_data",
          "data": {
            "text/plain": [
              "<Figure size 640x480 with 0 Axes>"
            ]
          },
          "metadata": {}
        },
        {
          "output_type": "stream",
          "name": "stdout",
          "text": [
            "finish model 30\n",
            "hidden nodes 80 ,threshold option 1\n",
            "Residual AVG = -2.8901722086937722, Residual STD = 18.91950283090326, RMSE = 19.138983326301904\n",
            "(array([0, 1]), array([247, 261]))\n",
            "(array([0, 1]), array([262, 246]))\n",
            "---------real trend vs pred trend---------\n",
            "-------------threshold 2---------------\n"
          ]
        },
        {
          "output_type": "display_data",
          "data": {
            "text/plain": [
              "<Figure size 640x480 with 0 Axes>"
            ]
          },
          "metadata": {}
        },
        {
          "output_type": "stream",
          "name": "stdout",
          "text": [
            "finish model 31\n",
            "hidden nodes 80 ,threshold option 1\n",
            "Residual AVG = 1.4097430128059645, Residual STD = 21.449954438520713, RMSE = 21.49623038527383\n",
            "(array([0, 1]), array([247, 261]))\n",
            "(array([0, 1]), array([245, 263]))\n",
            "---------real trend vs pred trend---------\n",
            "-------------threshold 2---------------\n"
          ]
        },
        {
          "output_type": "display_data",
          "data": {
            "text/plain": [
              "<Figure size 640x480 with 0 Axes>"
            ]
          },
          "metadata": {}
        },
        {
          "output_type": "stream",
          "name": "stdout",
          "text": [
            "finish model 32\n",
            "hidden nodes 80 ,threshold option 1\n",
            "Residual AVG = -1.2985211823647818, Residual STD = 18.089369160384, RMSE = 18.135915578809406\n",
            "(array([0, 1]), array([247, 261]))\n",
            "(array([0, 1]), array([238, 270]))\n",
            "---------real trend vs pred trend---------\n",
            "-------------threshold 2---------------\n"
          ]
        },
        {
          "output_type": "display_data",
          "data": {
            "text/plain": [
              "<Figure size 640x480 with 0 Axes>"
            ]
          },
          "metadata": {}
        },
        {
          "output_type": "stream",
          "name": "stdout",
          "text": [
            "finish model 33\n",
            "hidden nodes 80 ,threshold option 1\n",
            "Residual AVG = -1.5318296951076948, Residual STD = 19.75682155567276, RMSE = 19.816117182675054\n",
            "(array([0, 1]), array([247, 261]))\n",
            "(array([0, 1]), array([253, 255]))\n",
            "---------real trend vs pred trend---------\n",
            "-------------threshold 2---------------\n"
          ]
        },
        {
          "output_type": "display_data",
          "data": {
            "text/plain": [
              "<Figure size 640x480 with 0 Axes>"
            ]
          },
          "metadata": {}
        },
        {
          "output_type": "stream",
          "name": "stdout",
          "text": [
            "finish model 34\n",
            "hidden nodes 80 ,threshold option 1\n",
            "Residual AVG = -2.418183029605915, Residual STD = 20.86616991996711, RMSE = 21.005824342158398\n",
            "(array([0, 1]), array([247, 261]))\n",
            "(array([0, 1]), array([233, 275]))\n",
            "---------real trend vs pred trend---------\n",
            "-------------threshold 2---------------\n"
          ]
        },
        {
          "output_type": "display_data",
          "data": {
            "text/plain": [
              "<Figure size 640x480 with 0 Axes>"
            ]
          },
          "metadata": {}
        },
        {
          "output_type": "stream",
          "name": "stdout",
          "text": [
            "finish model 35\n",
            "hidden nodes 80 ,threshold option 1\n",
            "Residual AVG = -0.3230930432005779, Residual STD = 18.283041128652883, RMSE = 18.285895712996325\n",
            "(array([0, 1]), array([247, 261]))\n",
            "(array([0, 1]), array([254, 254]))\n",
            "---------real trend vs pred trend---------\n",
            "-------------threshold 2---------------\n"
          ]
        },
        {
          "output_type": "display_data",
          "data": {
            "text/plain": [
              "<Figure size 640x480 with 0 Axes>"
            ]
          },
          "metadata": {}
        },
        {
          "output_type": "stream",
          "name": "stdout",
          "text": [
            "finish model 36\n",
            "hidden nodes 80 ,threshold option 1\n",
            "Residual AVG = -0.4955918106272027, Residual STD = 17.952931308985583, RMSE = 17.95977042804043\n",
            "(array([0, 1]), array([247, 261]))\n",
            "(array([0, 1]), array([248, 260]))\n",
            "---------real trend vs pred trend---------\n",
            "-------------threshold 2---------------\n"
          ]
        },
        {
          "output_type": "display_data",
          "data": {
            "text/plain": [
              "<Figure size 640x480 with 0 Axes>"
            ]
          },
          "metadata": {}
        },
        {
          "output_type": "stream",
          "name": "stdout",
          "text": [
            "finish model 37\n",
            "hidden nodes 80 ,threshold option 1\n",
            "Residual AVG = -1.6894505596380618, Residual STD = 17.443397625360195, RMSE = 17.525021081581702\n",
            "(array([0, 1]), array([247, 261]))\n",
            "(array([0, 1]), array([242, 266]))\n",
            "---------real trend vs pred trend---------\n",
            "-------------threshold 2---------------\n"
          ]
        },
        {
          "output_type": "display_data",
          "data": {
            "text/plain": [
              "<Figure size 640x480 with 0 Axes>"
            ]
          },
          "metadata": {}
        },
        {
          "output_type": "stream",
          "name": "stdout",
          "text": [
            "finish model 38\n",
            "hidden nodes 80 ,threshold option 1\n",
            "Residual AVG = -1.1070797522839622, Residual STD = 18.04983377698802, RMSE = 18.083753066076046\n",
            "(array([0, 1]), array([247, 261]))\n",
            "(array([0, 1]), array([248, 260]))\n",
            "---------real trend vs pred trend---------\n",
            "-------------threshold 2---------------\n"
          ]
        },
        {
          "output_type": "display_data",
          "data": {
            "text/plain": [
              "<Figure size 640x480 with 0 Axes>"
            ]
          },
          "metadata": {}
        },
        {
          "output_type": "stream",
          "name": "stdout",
          "text": [
            "finish model 39\n",
            "hidden nodes 80 ,threshold option 1\n",
            "Residual AVG = 0.6582140256722199, Residual STD = 19.156397674728936, RMSE = 19.16770245950077\n",
            "(array([0, 1]), array([247, 261]))\n",
            "(array([0, 1]), array([249, 259]))\n",
            "---------real trend vs pred trend---------\n",
            "-------------threshold 2---------------\n"
          ]
        },
        {
          "output_type": "display_data",
          "data": {
            "text/plain": [
              "<Figure size 640x480 with 0 Axes>"
            ]
          },
          "metadata": {}
        },
        {
          "output_type": "stream",
          "name": "stdout",
          "text": [
            "finish model 40\n",
            "hidden nodes 80 ,threshold option 1\n",
            "Residual AVG = -0.8599250505802676, Residual STD = 17.950369847720182, RMSE = 17.970955699755017\n",
            "(array([0, 1]), array([247, 261]))\n",
            "(array([0, 1]), array([242, 266]))\n",
            "---------real trend vs pred trend---------\n",
            "-------------threshold 2---------------\n"
          ]
        },
        {
          "output_type": "display_data",
          "data": {
            "text/plain": [
              "<Figure size 640x480 with 0 Axes>"
            ]
          },
          "metadata": {}
        },
        {
          "output_type": "stream",
          "name": "stdout",
          "text": [
            "finish model 41\n",
            "hidden nodes 80 ,threshold option 1\n",
            "Residual AVG = 1.0907290198771311, Residual STD = 17.435502678079654, RMSE = 17.469586241011115\n",
            "(array([0, 1]), array([247, 261]))\n",
            "(array([0, 1]), array([224, 284]))\n",
            "---------real trend vs pred trend---------\n",
            "-------------threshold 2---------------\n"
          ]
        },
        {
          "output_type": "display_data",
          "data": {
            "text/plain": [
              "<Figure size 640x480 with 0 Axes>"
            ]
          },
          "metadata": {}
        },
        {
          "output_type": "stream",
          "name": "stdout",
          "text": [
            "finish model 42\n",
            "hidden nodes 80 ,threshold option 1\n",
            "Residual AVG = -0.07732461011940539, Residual STD = 17.717333036186623, RMSE = 17.717501771143695\n",
            "(array([0, 1]), array([247, 261]))\n",
            "(array([0, 1]), array([236, 272]))\n",
            "---------real trend vs pred trend---------\n",
            "-------------threshold 2---------------\n"
          ]
        },
        {
          "output_type": "display_data",
          "data": {
            "text/plain": [
              "<Figure size 640x480 with 0 Axes>"
            ]
          },
          "metadata": {}
        },
        {
          "output_type": "stream",
          "name": "stdout",
          "text": [
            "finish model 43\n",
            "hidden nodes 80 ,threshold option 1\n",
            "Residual AVG = -1.6948900211767894, Residual STD = 18.53200845363358, RMSE = 18.60935220552911\n",
            "(array([0, 1]), array([247, 261]))\n",
            "(array([0, 1]), array([257, 251]))\n",
            "---------real trend vs pred trend---------\n",
            "-------------threshold 2---------------\n"
          ]
        },
        {
          "output_type": "display_data",
          "data": {
            "text/plain": [
              "<Figure size 640x480 with 0 Axes>"
            ]
          },
          "metadata": {}
        },
        {
          "output_type": "stream",
          "name": "stdout",
          "text": [
            "finish model 44\n",
            "hidden nodes 80 ,threshold option 1\n",
            "Residual AVG = -0.7803147560057127, Residual STD = 17.786083345589958, RMSE = 17.803192182715794\n",
            "(array([0, 1]), array([247, 261]))\n",
            "(array([0, 1]), array([243, 265]))\n",
            "---------real trend vs pred trend---------\n",
            "-------------threshold 2---------------\n"
          ]
        },
        {
          "output_type": "display_data",
          "data": {
            "text/plain": [
              "<Figure size 640x480 with 0 Axes>"
            ]
          },
          "metadata": {}
        },
        {
          "output_type": "stream",
          "name": "stdout",
          "text": [
            "finish model 45\n",
            "hidden nodes 80 ,threshold option 1\n",
            "Residual AVG = -2.2312915611301056, Residual STD = 18.211566706929748, RMSE = 18.34774710834337\n",
            "(array([0, 1]), array([247, 261]))\n",
            "(array([0, 1]), array([249, 259]))\n",
            "---------real trend vs pred trend---------\n",
            "-------------threshold 2---------------\n"
          ]
        },
        {
          "output_type": "display_data",
          "data": {
            "text/plain": [
              "<Figure size 640x480 with 0 Axes>"
            ]
          },
          "metadata": {}
        },
        {
          "output_type": "stream",
          "name": "stdout",
          "text": [
            "finish model 46\n",
            "hidden nodes 80 ,threshold option 1\n",
            "Residual AVG = -1.3789483711295636, Residual STD = 19.472388349213343, RMSE = 19.521152799791828\n",
            "(array([0, 1]), array([247, 261]))\n",
            "(array([0, 1]), array([248, 260]))\n",
            "---------real trend vs pred trend---------\n",
            "-------------threshold 2---------------\n"
          ]
        },
        {
          "output_type": "display_data",
          "data": {
            "text/plain": [
              "<Figure size 640x480 with 0 Axes>"
            ]
          },
          "metadata": {}
        },
        {
          "output_type": "stream",
          "name": "stdout",
          "text": [
            "finish model 47\n",
            "hidden nodes 80 ,threshold option 1\n",
            "Residual AVG = -3.59821525946755, Residual STD = 21.099312020531695, RMSE = 21.40392769547726\n",
            "(array([0, 1]), array([247, 261]))\n",
            "(array([0, 1]), array([243, 265]))\n",
            "---------real trend vs pred trend---------\n",
            "-------------threshold 2---------------\n"
          ]
        },
        {
          "output_type": "display_data",
          "data": {
            "text/plain": [
              "<Figure size 640x480 with 0 Axes>"
            ]
          },
          "metadata": {}
        },
        {
          "output_type": "stream",
          "name": "stdout",
          "text": [
            "finish model 48\n",
            "hidden nodes 80 ,threshold option 1\n",
            "Residual AVG = -2.9183771157901655, Residual STD = 17.286839681870212, RMSE = 17.531450344356863\n",
            "(array([0, 1]), array([247, 261]))\n",
            "(array([0, 1]), array([279, 229]))\n",
            "---------real trend vs pred trend---------\n",
            "-------------threshold 2---------------\n"
          ]
        },
        {
          "output_type": "display_data",
          "data": {
            "text/plain": [
              "<Figure size 640x480 with 0 Axes>"
            ]
          },
          "metadata": {}
        },
        {
          "output_type": "stream",
          "name": "stdout",
          "text": [
            "finish model 49\n",
            "hidden nodes 80 ,threshold option 1\n",
            "Residual AVG = -3.5367950222817783, Residual STD = 23.903357807667586, RMSE = 24.16359728002062\n",
            "(array([0, 1]), array([247, 261]))\n",
            "(array([0, 1]), array([241, 267]))\n",
            "---------real trend vs pred trend---------\n",
            "-------------threshold 2---------------\n"
          ]
        },
        {
          "output_type": "display_data",
          "data": {
            "text/plain": [
              "<Figure size 640x480 with 0 Axes>"
            ]
          },
          "metadata": {}
        },
        {
          "output_type": "stream",
          "name": "stdout",
          "text": [
            "finish model 50\n",
            "hidden nodes 80 ,threshold option 1\n",
            "Residual AVG = -0.5153625053612299, Residual STD = 19.008024174282106, RMSE = 19.015009374755117\n",
            "(array([0, 1]), array([247, 261]))\n",
            "(array([0, 1]), array([241, 267]))\n",
            "---------real trend vs pred trend---------\n",
            "-------------threshold 2---------------\n"
          ]
        },
        {
          "output_type": "display_data",
          "data": {
            "text/plain": [
              "<Figure size 640x480 with 0 Axes>"
            ]
          },
          "metadata": {}
        },
        {
          "output_type": "stream",
          "name": "stdout",
          "text": [
            "finish model 51\n",
            "hidden nodes 80 ,threshold option 1\n",
            "Residual AVG = -2.060567783547566, Residual STD = 17.8494381190939, RMSE = 17.967982100334932\n",
            "(array([0, 1]), array([247, 261]))\n",
            "(array([0, 1]), array([252, 256]))\n",
            "---------real trend vs pred trend---------\n",
            "-------------threshold 2---------------\n"
          ]
        },
        {
          "output_type": "display_data",
          "data": {
            "text/plain": [
              "<Figure size 640x480 with 0 Axes>"
            ]
          },
          "metadata": {}
        },
        {
          "output_type": "stream",
          "name": "stdout",
          "text": [
            "finish model 52\n",
            "hidden nodes 80 ,threshold option 1\n",
            "Residual AVG = -1.2042328357853296, Residual STD = 23.285644721698233, RMSE = 23.31676278620032\n",
            "(array([0, 1]), array([247, 261]))\n",
            "(array([0, 1]), array([261, 247]))\n",
            "---------real trend vs pred trend---------\n",
            "-------------threshold 2---------------\n"
          ]
        },
        {
          "output_type": "display_data",
          "data": {
            "text/plain": [
              "<Figure size 640x480 with 0 Axes>"
            ]
          },
          "metadata": {}
        },
        {
          "output_type": "stream",
          "name": "stdout",
          "text": [
            "finish model 53\n",
            "hidden nodes 80 ,threshold option 1\n",
            "Residual AVG = 1.563761843775009, Residual STD = 20.626470077125678, RMSE = 20.685662158766096\n",
            "(array([0, 1]), array([247, 261]))\n",
            "(array([0, 1]), array([251, 257]))\n",
            "---------real trend vs pred trend---------\n",
            "-------------threshold 2---------------\n"
          ]
        },
        {
          "output_type": "display_data",
          "data": {
            "text/plain": [
              "<Figure size 640x480 with 0 Axes>"
            ]
          },
          "metadata": {}
        },
        {
          "output_type": "stream",
          "name": "stdout",
          "text": [
            "finish model 54\n",
            "hidden nodes 80 ,threshold option 1\n",
            "Residual AVG = -2.2333680049357802, Residual STD = 19.091315789327304, RMSE = 19.22150543566473\n",
            "(array([0, 1]), array([247, 261]))\n",
            "(array([0, 1]), array([251, 257]))\n",
            "---------real trend vs pred trend---------\n",
            "-------------threshold 2---------------\n"
          ]
        },
        {
          "output_type": "display_data",
          "data": {
            "text/plain": [
              "<Figure size 640x480 with 0 Axes>"
            ]
          },
          "metadata": {}
        },
        {
          "output_type": "stream",
          "name": "stdout",
          "text": [
            "finish model 55\n",
            "hidden nodes 80 ,threshold option 1\n",
            "Residual AVG = -0.3478381826736487, Residual STD = 17.53370306983922, RMSE = 17.5371529828138\n",
            "(array([0, 1]), array([247, 261]))\n",
            "(array([0, 1]), array([235, 273]))\n",
            "---------real trend vs pred trend---------\n",
            "-------------threshold 2---------------\n"
          ]
        },
        {
          "output_type": "display_data",
          "data": {
            "text/plain": [
              "<Figure size 640x480 with 0 Axes>"
            ]
          },
          "metadata": {}
        },
        {
          "output_type": "stream",
          "name": "stdout",
          "text": [
            "finish model 56\n",
            "hidden nodes 80 ,threshold option 1\n",
            "Residual AVG = 1.1344921738451437, Residual STD = 19.218641539979462, RMSE = 19.252097421702913\n",
            "(array([0, 1]), array([247, 261]))\n",
            "(array([0, 1]), array([246, 262]))\n",
            "---------real trend vs pred trend---------\n",
            "-------------threshold 2---------------\n"
          ]
        },
        {
          "output_type": "display_data",
          "data": {
            "text/plain": [
              "<Figure size 640x480 with 0 Axes>"
            ]
          },
          "metadata": {}
        },
        {
          "output_type": "stream",
          "name": "stdout",
          "text": [
            "finish model 57\n",
            "hidden nodes 80 ,threshold option 1\n",
            "Residual AVG = -1.853435531393276, Residual STD = 18.206341969970666, RMSE = 18.300440191332733\n",
            "(array([0, 1]), array([247, 261]))\n",
            "(array([0, 1]), array([252, 256]))\n",
            "---------real trend vs pred trend---------\n",
            "-------------threshold 2---------------\n"
          ]
        },
        {
          "output_type": "display_data",
          "data": {
            "text/plain": [
              "<Figure size 640x480 with 0 Axes>"
            ]
          },
          "metadata": {}
        },
        {
          "output_type": "stream",
          "name": "stdout",
          "text": [
            "finish model 58\n",
            "hidden nodes 80 ,threshold option 1\n",
            "Residual AVG = 2.6494520033307176, Residual STD = 24.64205633219112, RMSE = 24.784078280154652\n",
            "(array([0, 1]), array([247, 261]))\n",
            "(array([0, 1]), array([254, 254]))\n",
            "---------real trend vs pred trend---------\n",
            "-------------threshold 2---------------\n"
          ]
        },
        {
          "output_type": "display_data",
          "data": {
            "text/plain": [
              "<Figure size 640x480 with 0 Axes>"
            ]
          },
          "metadata": {}
        },
        {
          "output_type": "stream",
          "name": "stdout",
          "text": [
            "finish model 59\n",
            "hidden nodes 80 ,threshold option 1\n",
            "Residual AVG = -0.849219222842974, Residual STD = 18.55513703356988, RMSE = 18.574560119233038\n",
            "(array([0, 1]), array([247, 261]))\n",
            "(array([0, 1]), array([232, 276]))\n",
            "---------real trend vs pred trend---------\n",
            "-------------threshold 2---------------\n"
          ]
        },
        {
          "output_type": "display_data",
          "data": {
            "text/plain": [
              "<Figure size 640x480 with 0 Axes>"
            ]
          },
          "metadata": {}
        },
        {
          "output_type": "stream",
          "name": "stdout",
          "text": [
            "finish model 60\n",
            "hidden nodes 80 ,threshold option 1\n",
            "Residual AVG = -1.5478802693694367, Residual STD = 18.770214874068337, RMSE = 18.833929482373012\n",
            "(array([0, 1]), array([247, 261]))\n",
            "(array([0, 1]), array([249, 259]))\n",
            "---------real trend vs pred trend---------\n",
            "-------------threshold 2---------------\n"
          ]
        },
        {
          "output_type": "display_data",
          "data": {
            "text/plain": [
              "<Figure size 640x480 with 0 Axes>"
            ]
          },
          "metadata": {}
        },
        {
          "output_type": "stream",
          "name": "stdout",
          "text": [
            "finish model 61\n",
            "hidden nodes 80 ,threshold option 1\n",
            "Residual AVG = -2.283729344713635, Residual STD = 18.65697382019068, RMSE = 18.796225468087645\n",
            "(array([0, 1]), array([247, 261]))\n",
            "(array([0, 1]), array([242, 266]))\n",
            "---------real trend vs pred trend---------\n",
            "-------------threshold 2---------------\n"
          ]
        },
        {
          "output_type": "display_data",
          "data": {
            "text/plain": [
              "<Figure size 640x480 with 0 Axes>"
            ]
          },
          "metadata": {}
        },
        {
          "output_type": "stream",
          "name": "stdout",
          "text": [
            "finish model 62\n",
            "hidden nodes 80 ,threshold option 1\n",
            "Residual AVG = -2.13153004919402, Residual STD = 19.13308707298041, RMSE = 19.251452965759935\n",
            "(array([0, 1]), array([247, 261]))\n",
            "(array([0, 1]), array([249, 259]))\n",
            "---------real trend vs pred trend---------\n",
            "-------------threshold 2---------------\n"
          ]
        },
        {
          "output_type": "display_data",
          "data": {
            "text/plain": [
              "<Figure size 640x480 with 0 Axes>"
            ]
          },
          "metadata": {}
        },
        {
          "output_type": "stream",
          "name": "stdout",
          "text": [
            "finish model 63\n",
            "hidden nodes 80 ,threshold option 1\n",
            "Residual AVG = -2.823487015966071, Residual STD = 19.180092474324848, RMSE = 19.386800309823737\n",
            "(array([0, 1]), array([247, 261]))\n",
            "(array([0, 1]), array([250, 258]))\n",
            "---------real trend vs pred trend---------\n",
            "-------------threshold 2---------------\n"
          ]
        },
        {
          "output_type": "display_data",
          "data": {
            "text/plain": [
              "<Figure size 640x480 with 0 Axes>"
            ]
          },
          "metadata": {}
        },
        {
          "output_type": "stream",
          "name": "stdout",
          "text": [
            "finish model 64\n",
            "hidden nodes 80 ,threshold option 1\n",
            "Residual AVG = -2.369406971333749, Residual STD = 18.039279987335714, RMSE = 18.19422193602397\n",
            "(array([0, 1]), array([247, 261]))\n",
            "(array([0, 1]), array([267, 241]))\n",
            "---------real trend vs pred trend---------\n",
            "-------------threshold 2---------------\n"
          ]
        },
        {
          "output_type": "display_data",
          "data": {
            "text/plain": [
              "<Figure size 640x480 with 0 Axes>"
            ]
          },
          "metadata": {}
        },
        {
          "output_type": "stream",
          "name": "stdout",
          "text": [
            "finish model 65\n",
            "hidden nodes 80 ,threshold option 1\n",
            "Residual AVG = -1.1313861795507103, Residual STD = 18.95769863565274, RMSE = 18.99142891536885\n",
            "(array([0, 1]), array([247, 261]))\n",
            "(array([0, 1]), array([241, 267]))\n",
            "---------real trend vs pred trend---------\n",
            "-------------threshold 2---------------\n"
          ]
        },
        {
          "output_type": "display_data",
          "data": {
            "text/plain": [
              "<Figure size 640x480 with 0 Axes>"
            ]
          },
          "metadata": {}
        },
        {
          "output_type": "stream",
          "name": "stdout",
          "text": [
            "finish model 66\n",
            "hidden nodes 80 ,threshold option 1\n",
            "Residual AVG = -3.9502557969231606, Residual STD = 21.915651390260084, RMSE = 22.268818934118034\n",
            "(array([0, 1]), array([247, 261]))\n",
            "(array([0, 1]), array([258, 250]))\n",
            "---------real trend vs pred trend---------\n",
            "-------------threshold 2---------------\n"
          ]
        },
        {
          "output_type": "display_data",
          "data": {
            "text/plain": [
              "<Figure size 640x480 with 0 Axes>"
            ]
          },
          "metadata": {}
        },
        {
          "output_type": "stream",
          "name": "stdout",
          "text": [
            "finish model 67\n",
            "hidden nodes 80 ,threshold option 1\n",
            "Residual AVG = -0.8719493784989424, Residual STD = 18.041184624657063, RMSE = 18.062243448133103\n",
            "(array([0, 1]), array([247, 261]))\n",
            "(array([0, 1]), array([250, 258]))\n",
            "---------real trend vs pred trend---------\n",
            "-------------threshold 2---------------\n"
          ]
        },
        {
          "output_type": "display_data",
          "data": {
            "text/plain": [
              "<Figure size 640x480 with 0 Axes>"
            ]
          },
          "metadata": {}
        },
        {
          "output_type": "stream",
          "name": "stdout",
          "text": [
            "finish model 68\n",
            "hidden nodes 80 ,threshold option 1\n",
            "Residual AVG = -1.1272651808719196, Residual STD = 21.255129213901995, RMSE = 21.285000462477708\n",
            "(array([0, 1]), array([247, 261]))\n",
            "(array([0, 1]), array([235, 273]))\n",
            "---------real trend vs pred trend---------\n",
            "-------------threshold 2---------------\n"
          ]
        },
        {
          "output_type": "display_data",
          "data": {
            "text/plain": [
              "<Figure size 640x480 with 0 Axes>"
            ]
          },
          "metadata": {}
        },
        {
          "output_type": "stream",
          "name": "stdout",
          "text": [
            "finish model 69\n",
            "hidden nodes 80 ,threshold option 1\n",
            "Residual AVG = 0.6261297872996716, Residual STD = 18.560487395276702, RMSE = 18.571045497245688\n",
            "(array([0, 1]), array([247, 261]))\n",
            "(array([0, 1]), array([254, 254]))\n",
            "---------real trend vs pred trend---------\n",
            "-------------threshold 2---------------\n"
          ]
        },
        {
          "output_type": "display_data",
          "data": {
            "text/plain": [
              "<Figure size 640x480 with 0 Axes>"
            ]
          },
          "metadata": {}
        },
        {
          "output_type": "stream",
          "name": "stdout",
          "text": [
            "finish model 70\n",
            "hidden nodes 80 ,threshold option 1\n",
            "Residual AVG = -1.0876843322499883, Residual STD = 18.931435691080026, RMSE = 18.962655787945966\n",
            "(array([0, 1]), array([247, 261]))\n",
            "(array([0, 1]), array([241, 267]))\n",
            "---------real trend vs pred trend---------\n",
            "-------------threshold 2---------------\n"
          ]
        },
        {
          "output_type": "display_data",
          "data": {
            "text/plain": [
              "<Figure size 640x480 with 0 Axes>"
            ]
          },
          "metadata": {}
        },
        {
          "output_type": "stream",
          "name": "stdout",
          "text": [
            "finish model 71\n",
            "hidden nodes 80 ,threshold option 1\n",
            "Residual AVG = -0.6572719063852117, Residual STD = 18.563794304586082, RMSE = 18.575426383852022\n",
            "(array([0, 1]), array([247, 261]))\n",
            "(array([0, 1]), array([250, 258]))\n",
            "---------real trend vs pred trend---------\n",
            "-------------threshold 2---------------\n"
          ]
        },
        {
          "output_type": "display_data",
          "data": {
            "text/plain": [
              "<Figure size 640x480 with 0 Axes>"
            ]
          },
          "metadata": {}
        },
        {
          "output_type": "stream",
          "name": "stdout",
          "text": [
            "finish model 72\n",
            "hidden nodes 80 ,threshold option 1\n",
            "Residual AVG = 0.9682758711658511, Residual STD = 22.532126738228047, RMSE = 22.552922061459203\n",
            "(array([0, 1]), array([247, 261]))\n",
            "(array([0, 1]), array([245, 263]))\n",
            "---------real trend vs pred trend---------\n",
            "-------------threshold 2---------------\n"
          ]
        },
        {
          "output_type": "display_data",
          "data": {
            "text/plain": [
              "<Figure size 640x480 with 0 Axes>"
            ]
          },
          "metadata": {}
        },
        {
          "output_type": "stream",
          "name": "stdout",
          "text": [
            "finish model 73\n",
            "hidden nodes 80 ,threshold option 1\n",
            "Residual AVG = -4.104765974166311, Residual STD = 23.12060732834686, RMSE = 23.482154648461883\n",
            "(array([0, 1]), array([247, 261]))\n",
            "(array([0, 1]), array([239, 269]))\n",
            "---------real trend vs pred trend---------\n",
            "-------------threshold 2---------------\n"
          ]
        },
        {
          "output_type": "display_data",
          "data": {
            "text/plain": [
              "<Figure size 640x480 with 0 Axes>"
            ]
          },
          "metadata": {}
        },
        {
          "output_type": "stream",
          "name": "stdout",
          "text": [
            "finish model 74\n",
            "hidden nodes 80 ,threshold option 1\n",
            "Residual AVG = -2.916819222583808, Residual STD = 20.34298340404096, RMSE = 20.551029369701176\n",
            "(array([0, 1]), array([247, 261]))\n",
            "(array([0, 1]), array([256, 252]))\n",
            "---------real trend vs pred trend---------\n",
            "-------------threshold 2---------------\n"
          ]
        },
        {
          "output_type": "display_data",
          "data": {
            "text/plain": [
              "<Figure size 640x480 with 0 Axes>"
            ]
          },
          "metadata": {}
        },
        {
          "output_type": "stream",
          "name": "stdout",
          "text": [
            "finish model 75\n",
            "hidden nodes 80 ,threshold option 1\n",
            "Residual AVG = -0.8435776087061552, Residual STD = 18.62279087449421, RMSE = 18.641887327656907\n",
            "(array([0, 1]), array([247, 261]))\n",
            "(array([0, 1]), array([237, 271]))\n",
            "---------real trend vs pred trend---------\n",
            "-------------threshold 2---------------\n"
          ]
        },
        {
          "output_type": "display_data",
          "data": {
            "text/plain": [
              "<Figure size 640x480 with 0 Axes>"
            ]
          },
          "metadata": {}
        },
        {
          "output_type": "stream",
          "name": "stdout",
          "text": [
            "finish model 76\n",
            "hidden nodes 80 ,threshold option 1\n",
            "Residual AVG = -1.0689948927539292, Residual STD = 17.437950225355344, RMSE = 17.470685680381997\n",
            "(array([0, 1]), array([247, 261]))\n",
            "(array([0, 1]), array([242, 266]))\n",
            "---------real trend vs pred trend---------\n",
            "-------------threshold 2---------------\n"
          ]
        },
        {
          "output_type": "display_data",
          "data": {
            "text/plain": [
              "<Figure size 640x480 with 0 Axes>"
            ]
          },
          "metadata": {}
        },
        {
          "output_type": "stream",
          "name": "stdout",
          "text": [
            "finish model 77\n",
            "hidden nodes 80 ,threshold option 1\n",
            "Residual AVG = -0.9333548575072039, Residual STD = 20.95602630256534, RMSE = 20.97680122620803\n",
            "(array([0, 1]), array([247, 261]))\n",
            "(array([0, 1]), array([258, 250]))\n",
            "---------real trend vs pred trend---------\n",
            "-------------threshold 2---------------\n"
          ]
        },
        {
          "output_type": "display_data",
          "data": {
            "text/plain": [
              "<Figure size 640x480 with 0 Axes>"
            ]
          },
          "metadata": {}
        },
        {
          "output_type": "stream",
          "name": "stdout",
          "text": [
            "finish model 78\n",
            "hidden nodes 80 ,threshold option 1\n",
            "Residual AVG = -3.091357280464304, Residual STD = 17.817850088141938, RMSE = 18.084033609761384\n",
            "(array([0, 1]), array([247, 261]))\n",
            "(array([0, 1]), array([243, 265]))\n",
            "---------real trend vs pred trend---------\n",
            "-------------threshold 2---------------\n"
          ]
        },
        {
          "output_type": "display_data",
          "data": {
            "text/plain": [
              "<Figure size 640x480 with 0 Axes>"
            ]
          },
          "metadata": {}
        },
        {
          "output_type": "stream",
          "name": "stdout",
          "text": [
            "finish model 79\n",
            "hidden nodes 80 ,threshold option 1\n",
            "Residual AVG = -3.551966995255536, Residual STD = 20.079903629942784, RMSE = 20.391640427468655\n",
            "(array([0, 1]), array([247, 261]))\n",
            "(array([0, 1]), array([249, 259]))\n",
            "---------real trend vs pred trend---------\n",
            "-------------threshold 2---------------\n"
          ]
        },
        {
          "output_type": "display_data",
          "data": {
            "text/plain": [
              "<Figure size 640x480 with 0 Axes>"
            ]
          },
          "metadata": {}
        },
        {
          "output_type": "stream",
          "name": "stdout",
          "text": [
            "finish model 80\n",
            "hidden nodes 80 ,threshold option 1\n",
            "Residual AVG = -2.316207164553677, Residual STD = 17.97888308959557, RMSE = 18.127466805333704\n",
            "(array([0, 1]), array([247, 261]))\n",
            "(array([0, 1]), array([242, 266]))\n",
            "---------real trend vs pred trend---------\n",
            "-------------threshold 2---------------\n"
          ]
        },
        {
          "output_type": "display_data",
          "data": {
            "text/plain": [
              "<Figure size 640x480 with 0 Axes>"
            ]
          },
          "metadata": {}
        },
        {
          "output_type": "stream",
          "name": "stdout",
          "text": [
            "finish model 81\n",
            "hidden nodes 80 ,threshold option 1\n",
            "Residual AVG = 0.5390195002676987, Residual STD = 18.873538278944004, RMSE = 18.881233783533148\n",
            "(array([0, 1]), array([247, 261]))\n",
            "(array([0, 1]), array([236, 272]))\n",
            "---------real trend vs pred trend---------\n",
            "-------------threshold 2---------------\n"
          ]
        },
        {
          "output_type": "display_data",
          "data": {
            "text/plain": [
              "<Figure size 640x480 with 0 Axes>"
            ]
          },
          "metadata": {}
        },
        {
          "output_type": "stream",
          "name": "stdout",
          "text": [
            "finish model 82\n",
            "hidden nodes 80 ,threshold option 1\n",
            "Residual AVG = -0.8394167591308657, Residual STD = 20.934240476825753, RMSE = 20.951063095630243\n",
            "(array([0, 1]), array([247, 261]))\n",
            "(array([0, 1]), array([259, 249]))\n",
            "---------real trend vs pred trend---------\n",
            "-------------threshold 2---------------\n"
          ]
        },
        {
          "output_type": "display_data",
          "data": {
            "text/plain": [
              "<Figure size 640x480 with 0 Axes>"
            ]
          },
          "metadata": {}
        },
        {
          "output_type": "stream",
          "name": "stdout",
          "text": [
            "finish model 83\n",
            "hidden nodes 80 ,threshold option 1\n",
            "Residual AVG = -0.5382694101253713, Residual STD = 18.466857218042797, RMSE = 18.474700253845963\n",
            "(array([0, 1]), array([247, 261]))\n",
            "(array([0, 1]), array([251, 257]))\n",
            "---------real trend vs pred trend---------\n",
            "-------------threshold 2---------------\n"
          ]
        },
        {
          "output_type": "display_data",
          "data": {
            "text/plain": [
              "<Figure size 640x480 with 0 Axes>"
            ]
          },
          "metadata": {}
        },
        {
          "output_type": "stream",
          "name": "stdout",
          "text": [
            "finish model 84\n",
            "hidden nodes 80 ,threshold option 1\n",
            "Residual AVG = 1.3361508196491116, Residual STD = 21.166811769452256, RMSE = 21.208941970222646\n",
            "(array([0, 1]), array([247, 261]))\n",
            "(array([0, 1]), array([264, 244]))\n",
            "---------real trend vs pred trend---------\n",
            "-------------threshold 2---------------\n"
          ]
        },
        {
          "output_type": "display_data",
          "data": {
            "text/plain": [
              "<Figure size 640x480 with 0 Axes>"
            ]
          },
          "metadata": {}
        },
        {
          "output_type": "stream",
          "name": "stdout",
          "text": [
            "finish model 85\n",
            "hidden nodes 80 ,threshold option 1\n",
            "Residual AVG = -0.02994934905005429, Residual STD = 18.862396245898605, RMSE = 18.862420022383084\n",
            "(array([0, 1]), array([247, 261]))\n",
            "(array([0, 1]), array([248, 260]))\n",
            "---------real trend vs pred trend---------\n",
            "-------------threshold 2---------------\n"
          ]
        },
        {
          "output_type": "display_data",
          "data": {
            "text/plain": [
              "<Figure size 640x480 with 0 Axes>"
            ]
          },
          "metadata": {}
        },
        {
          "output_type": "stream",
          "name": "stdout",
          "text": [
            "finish model 86\n",
            "hidden nodes 80 ,threshold option 1\n",
            "Residual AVG = -6.636539925271601, Residual STD = 24.130780269103898, RMSE = 25.02675006019555\n",
            "(array([0, 1]), array([247, 261]))\n",
            "(array([0, 1]), array([250, 258]))\n",
            "---------real trend vs pred trend---------\n",
            "-------------threshold 2---------------\n"
          ]
        },
        {
          "output_type": "display_data",
          "data": {
            "text/plain": [
              "<Figure size 640x480 with 0 Axes>"
            ]
          },
          "metadata": {}
        },
        {
          "output_type": "stream",
          "name": "stdout",
          "text": [
            "finish model 87\n",
            "hidden nodes 80 ,threshold option 1\n",
            "Residual AVG = 0.40116168044152, Residual STD = 22.960289331858863, RMSE = 22.96379360855968\n",
            "(array([0, 1]), array([247, 261]))\n",
            "(array([0, 1]), array([248, 260]))\n",
            "---------real trend vs pred trend---------\n",
            "-------------threshold 2---------------\n"
          ]
        },
        {
          "output_type": "display_data",
          "data": {
            "text/plain": [
              "<Figure size 640x480 with 0 Axes>"
            ]
          },
          "metadata": {}
        },
        {
          "output_type": "stream",
          "name": "stdout",
          "text": [
            "finish model 88\n",
            "hidden nodes 80 ,threshold option 1\n",
            "Residual AVG = -0.21680957296951592, Residual STD = 18.32766354914079, RMSE = 18.328945893352277\n",
            "(array([0, 1]), array([247, 261]))\n",
            "(array([0, 1]), array([251, 257]))\n",
            "---------real trend vs pred trend---------\n",
            "-------------threshold 2---------------\n"
          ]
        },
        {
          "output_type": "display_data",
          "data": {
            "text/plain": [
              "<Figure size 640x480 with 0 Axes>"
            ]
          },
          "metadata": {}
        },
        {
          "output_type": "stream",
          "name": "stdout",
          "text": [
            "finish model 89\n",
            "hidden nodes 80 ,threshold option 1\n",
            "Residual AVG = -2.2828971900542054, Residual STD = 17.794544628739242, RMSE = 17.940385673796147\n",
            "(array([0, 1]), array([247, 261]))\n",
            "(array([0, 1]), array([245, 263]))\n",
            "---------real trend vs pred trend---------\n",
            "-------------threshold 2---------------\n"
          ]
        },
        {
          "output_type": "display_data",
          "data": {
            "text/plain": [
              "<Figure size 640x480 with 0 Axes>"
            ]
          },
          "metadata": {}
        },
        {
          "output_type": "stream",
          "name": "stdout",
          "text": [
            "finish model 90\n",
            "hidden nodes 80 ,threshold option 1\n",
            "Residual AVG = -0.18250375639294322, Residual STD = 18.061309026513474, RMSE = 18.062231074048263\n",
            "(array([0, 1]), array([247, 261]))\n",
            "(array([0, 1]), array([244, 264]))\n",
            "---------real trend vs pred trend---------\n",
            "-------------threshold 2---------------\n"
          ]
        },
        {
          "output_type": "display_data",
          "data": {
            "text/plain": [
              "<Figure size 640x480 with 0 Axes>"
            ]
          },
          "metadata": {}
        },
        {
          "output_type": "stream",
          "name": "stdout",
          "text": [
            "finish model 91\n",
            "hidden nodes 80 ,threshold option 1\n",
            "Residual AVG = -0.22092111177063523, Residual STD = 17.925155613985588, RMSE = 17.926516949012292\n",
            "(array([0, 1]), array([247, 261]))\n",
            "(array([0, 1]), array([241, 267]))\n",
            "---------real trend vs pred trend---------\n",
            "-------------threshold 2---------------\n"
          ]
        },
        {
          "output_type": "display_data",
          "data": {
            "text/plain": [
              "<Figure size 640x480 with 0 Axes>"
            ]
          },
          "metadata": {}
        },
        {
          "output_type": "stream",
          "name": "stdout",
          "text": [
            "finish model 92\n",
            "hidden nodes 80 ,threshold option 1\n",
            "Residual AVG = -2.303361612649909, Residual STD = 18.018347600927612, RMSE = 18.164975226696097\n",
            "(array([0, 1]), array([247, 261]))\n",
            "(array([0, 1]), array([254, 254]))\n",
            "---------real trend vs pred trend---------\n",
            "-------------threshold 2---------------\n"
          ]
        },
        {
          "output_type": "display_data",
          "data": {
            "text/plain": [
              "<Figure size 640x480 with 0 Axes>"
            ]
          },
          "metadata": {}
        },
        {
          "output_type": "stream",
          "name": "stdout",
          "text": [
            "finish model 93\n",
            "hidden nodes 80 ,threshold option 1\n",
            "Residual AVG = -6.185259121695782, Residual STD = 23.6939278755278, RMSE = 24.487949047914043\n",
            "(array([0, 1]), array([247, 261]))\n",
            "(array([0, 1]), array([256, 252]))\n",
            "---------real trend vs pred trend---------\n",
            "-------------threshold 2---------------\n"
          ]
        },
        {
          "output_type": "display_data",
          "data": {
            "text/plain": [
              "<Figure size 640x480 with 0 Axes>"
            ]
          },
          "metadata": {}
        },
        {
          "output_type": "stream",
          "name": "stdout",
          "text": [
            "finish model 94\n",
            "hidden nodes 80 ,threshold option 1\n",
            "Residual AVG = -1.9423208168374588, Residual STD = 17.755948256811767, RMSE = 17.861867445877458\n",
            "(array([0, 1]), array([247, 261]))\n",
            "(array([0, 1]), array([249, 259]))\n",
            "---------real trend vs pred trend---------\n",
            "-------------threshold 2---------------\n"
          ]
        },
        {
          "output_type": "display_data",
          "data": {
            "text/plain": [
              "<Figure size 640x480 with 0 Axes>"
            ]
          },
          "metadata": {}
        },
        {
          "output_type": "stream",
          "name": "stdout",
          "text": [
            "finish model 95\n",
            "hidden nodes 80 ,threshold option 1\n",
            "Residual AVG = 0.8599960125193781, Residual STD = 19.748856785796526, RMSE = 19.767572878010355\n",
            "(array([0, 1]), array([247, 261]))\n",
            "(array([0, 1]), array([245, 263]))\n",
            "---------real trend vs pred trend---------\n",
            "-------------threshold 2---------------\n"
          ]
        },
        {
          "output_type": "display_data",
          "data": {
            "text/plain": [
              "<Figure size 640x480 with 0 Axes>"
            ]
          },
          "metadata": {}
        },
        {
          "output_type": "stream",
          "name": "stdout",
          "text": [
            "finish model 96\n",
            "hidden nodes 80 ,threshold option 1\n",
            "Residual AVG = -1.613307585460527, Residual STD = 17.985147397643342, RMSE = 18.057361055266675\n",
            "(array([0, 1]), array([247, 261]))\n",
            "(array([0, 1]), array([251, 257]))\n",
            "---------real trend vs pred trend---------\n",
            "-------------threshold 2---------------\n"
          ]
        },
        {
          "output_type": "display_data",
          "data": {
            "text/plain": [
              "<Figure size 640x480 with 0 Axes>"
            ]
          },
          "metadata": {}
        },
        {
          "output_type": "stream",
          "name": "stdout",
          "text": [
            "finish model 97\n",
            "hidden nodes 80 ,threshold option 1\n",
            "Residual AVG = -2.1289077811992274, Residual STD = 19.26063408466062, RMSE = 19.377932647319245\n",
            "(array([0, 1]), array([247, 261]))\n",
            "(array([0, 1]), array([257, 251]))\n",
            "---------real trend vs pred trend---------\n",
            "-------------threshold 2---------------\n"
          ]
        },
        {
          "output_type": "display_data",
          "data": {
            "text/plain": [
              "<Figure size 640x480 with 0 Axes>"
            ]
          },
          "metadata": {}
        },
        {
          "output_type": "stream",
          "name": "stdout",
          "text": [
            "finish model 98\n",
            "hidden nodes 80 ,threshold option 1\n",
            "Residual AVG = -5.600802683203633, Residual STD = 25.524174157474484, RMSE = 26.131445752527153\n",
            "(array([0, 1]), array([247, 261]))\n",
            "(array([0, 1]), array([249, 259]))\n",
            "---------real trend vs pred trend---------\n",
            "-------------threshold 2---------------\n"
          ]
        },
        {
          "output_type": "display_data",
          "data": {
            "text/plain": [
              "<Figure size 640x480 with 0 Axes>"
            ]
          },
          "metadata": {}
        },
        {
          "output_type": "stream",
          "name": "stdout",
          "text": [
            "finish model 99\n"
          ]
        },
        {
          "output_type": "display_data",
          "data": {
            "text/plain": [
              "<Figure size 640x480 with 1 Axes>"
            ],
            "image/png": "[encoded data removed]"
          },
          "metadata": {}
        },
        {
          "output_type": "stream",
          "name": "stdout",
          "text": [
            "RMSE AVG = 19.483324200750072, RMSE STD = 1.9208131890042508\n",
            "Residual AVG = -1.2996080584751961, Residual STD = 19.534596594578872\n"
          ]
        },
        {
          "output_type": "display_data",
          "data": {
            "text/plain": [
              "<Figure size 640x480 with 1 Axes>"
            ],
            "image/png": "[encoded data removed]"
          },
          "metadata": {}
        },
        {
          "output_type": "stream",
          "name": "stdout",
          "text": [
            "stat: 5576.559015703576, p_value: 0.0\n",
            "Skew: -0.08430728149643996, Kurtosis: 4.942626928382608\n",
            "\n"
          ]
        }
      ]
    },
    {
      "cell_type": "code",
      "source": [
        "import numpy as np\n",
        "import statsmodels.api as sm\n",
        "import pylab as py\n",
        "\n",
        "# np.random generates different random numbers\n",
        "# whenever the code is executed\n",
        "# Note: When you execute the same code\n",
        "# the graph look different than shown below.\n",
        "\n",
        "# Random data points generated\n",
        "data_points = np.random.normal(0, 1, 100)\n",
        "print(data_points)\n",
        "sm.qqplot(data_points, line ='45')\n",
        "py.show()\n",
        "\n",
        "test_result = stats.normaltest(data_points)\n",
        "print(f\"stat: {test_result.statistic} p_value: {test_result.pvalue}\")"
      ],
      "metadata": {
        "colab": {
          "base_uri": "https://localhost:8080/",
          "height": 761
        },
        "id": "Ob2EjKRI3YJS",
        "outputId": "c3b0c186-5c39-4609-db8c-6022ffa94041"
      },
      "execution_count": 17,
      "outputs": [
        {
          "output_type": "stream",
          "name": "stdout",
          "text": [
            "[ 0.02745348 -0.42966153  0.13375155  0.4589942  -0.8603793  -1.46524274\n",
            " -0.32124446  0.11852611  0.46586051 -1.09246804 -1.30211767  0.2046996\n",
            " -0.11045659 -0.7024213   0.15903933 -0.48306023 -3.24620514 -1.3997489\n",
            "  0.73133234 -0.14504792 -0.52975122 -1.3024192  -0.28307024 -0.78258251\n",
            "  0.27515044  1.08115967  0.51797495 -0.76228472 -0.72554746  0.50326192\n",
            "  0.46532792 -0.02799584  0.36749728 -2.63066671 -1.08275357 -0.43317344\n",
            " -2.47814295  0.3100942   0.58869423 -0.34262213  0.11455021  0.21668278\n",
            "  1.36313702  0.63305696 -1.1084442   1.75173029  0.10629126 -0.32622863\n",
            " -0.01614382 -1.26539203 -1.34623048 -1.16634151 -0.76730707 -0.31527263\n",
            " -1.03884762 -0.19352518  0.94343722  0.20926037  1.59107388 -0.53262754\n",
            " -0.61312737 -1.13214609 -0.93566972 -0.01016199  0.64845646 -0.60794628\n",
            "  0.41177113  0.39164819  1.93522228 -0.2718301   0.94503541  0.36893298\n",
            "  0.36138008 -1.13371742 -0.46691618 -1.55701959 -1.0720243  -1.23912905\n",
            "  0.30747206  0.41749958 -0.68109923 -0.32879488 -1.57541169  0.64262948\n",
            " -1.11252544 -0.12946977 -0.50099859 -1.7957601   0.87803546  0.11954736\n",
            " -0.17394256 -0.16679204 -0.38074417  0.12565489 -0.65585771  0.33484276\n",
            "  1.27108872  2.09130785 -0.00849567  0.07819816]\n"
          ]
        },
        {
          "output_type": "display_data",
          "data": {
            "text/plain": [
              "<Figure size 640x480 with 1 Axes>"
            ],
            "image/png": "[encoded data removed]"
          },
          "metadata": {}
        },
        {
          "output_type": "stream",
          "name": "stdout",
          "text": [
            "stat: 4.220478786142868 p_value: 0.12120894637796159\n"
          ]
        }
      ]
    }
  ]
}