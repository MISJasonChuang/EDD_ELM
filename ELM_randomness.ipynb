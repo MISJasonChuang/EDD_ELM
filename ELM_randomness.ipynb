{
  "nbformat": 4,
  "nbformat_minor": 0,
  "metadata": {
    "colab": {
      "provenance": [],
      "include_colab_link": true
    },
    "kernelspec": {
      "name": "python3",
      "display_name": "Python 3"
    },
    "language_info": {
      "name": "python"
    }
  },
  "cells": [
    {
      "cell_type": "markdown",
      "metadata": {
        "id": "view-in-github",
        "colab_type": "text"
      },
      "source": [
        "<a href=\"https://colab.research.google.com/github/MISJasonChuang/ELM_Pretest/blob/main/ELM_randomness.ipynb\" target=\"_parent\"><img src=\"https://colab.research.google.com/assets/colab-badge.svg\" alt=\"Open In Colab\"/></a>"
      ]
    },
    {
      "cell_type": "code",
      "source": [
        "#  --quiet hide code cell output\n",
        "!pip install -U scikit-multiflow --quiet\n",
        "!pip install statsmodels --quiet"
      ],
      "metadata": {
        "id": "I09KmeI3l81M",
        "colab": {
          "base_uri": "https://localhost:8080/"
        },
        "outputId": "5da00cf0-26fd-4fb3-9e5f-3811fac62c5e"
      },
      "execution_count": 1,
      "outputs": [
        {
          "output_type": "stream",
          "name": "stdout",
          "text": [
            "\u001b[?25l     \u001b[90m━━━━━━━━━━━━━━━━━━━━━━━━━━━━━━━━━━━━━━━━\u001b[0m \u001b[32m0.0/450.6 kB\u001b[0m \u001b[31m?\u001b[0m eta \u001b[36m-:--:--\u001b[0m\r\u001b[2K     \u001b[91m━━━━━━━━━\u001b[0m\u001b[91m╸\u001b[0m\u001b[90m━━━━━━━━━━━━━━━━━━━━━━━━━━━━━━\u001b[0m \u001b[32m112.6/450.6 kB\u001b[0m \u001b[31m3.0 MB/s\u001b[0m eta \u001b[36m0:00:01\u001b[0m\r\u001b[2K     \u001b[91m━━━━━━━━━━━━━━━━━━━━━━━━━━━━━━━━━━━━━━━\u001b[0m\u001b[91m╸\u001b[0m \u001b[32m450.6/450.6 kB\u001b[0m \u001b[31m6.7 MB/s\u001b[0m eta \u001b[36m0:00:01\u001b[0m\r\u001b[2K     \u001b[90m━━━━━━━━━━━━━━━━━━━━━━━━━━━━━━━━━━━━━━━━\u001b[0m \u001b[32m450.6/450.6 kB\u001b[0m \u001b[31m5.4 MB/s\u001b[0m eta \u001b[36m0:00:00\u001b[0m\n",
            "\u001b[?25h  Preparing metadata (setup.py) ... \u001b[?25l\u001b[?25hdone\n",
            "  Building wheel for scikit-multiflow (setup.py) ... \u001b[?25l\u001b[?25hdone\n"
          ]
        }
      ]
    },
    {
      "cell_type": "code",
      "source": [
        "# -*- coding: utf8\n",
        "# Author: David C. Lambert [dcl -at- panix -dot- com]\n",
        "# Copyright(c) 2013\n",
        "# License: Simple BSD\n",
        "\n",
        "\"\"\"The :mod:`random_layer` module\n",
        "implements Random Layer transformers.\n",
        "\n",
        "Random layers are arrays of hidden unit activations that are\n",
        "random functions of input activation values (dot products for simple\n",
        "activation functions, distances from prototypes for radial basis\n",
        "functions).\n",
        "\n",
        "They are used in the implementation of Extreme Learning Machines (ELMs),\n",
        "but can be used as a general input mapping.\n",
        "\"\"\"\n",
        "\n",
        "from abc import ABCMeta, abstractmethod\n",
        "\n",
        "from math import sqrt\n",
        "\n",
        "import numpy as np\n",
        "import scipy.sparse as sp\n",
        "from scipy.spatial.distance import cdist, pdist, squareform\n",
        "\n",
        "from sklearn.metrics import pairwise_distances\n",
        "from sklearn.utils import check_random_state, check_array\n",
        "from sklearn.utils.extmath import safe_sparse_dot\n",
        "from sklearn.base import BaseEstimator, TransformerMixin\n",
        "\n",
        "__all__ = [\n",
        "    \"RandomLayer\",\n",
        "    \"MLPRandomLayer\",\n",
        "    \"RBFRandomLayer\",\n",
        "    \"GRBFRandomLayer\",\n",
        "]\n",
        "\n",
        "\n",
        "class BaseRandomLayer(BaseEstimator, TransformerMixin):\n",
        "    \"\"\"Abstract Base Class for random  layers\"\"\"\n",
        "\n",
        "    __metaclass__ = ABCMeta\n",
        "\n",
        "    _internal_activation_funcs = dict()\n",
        "\n",
        "    @classmethod\n",
        "    def activation_func_names(cls):\n",
        "        \"\"\"Get list of internal activation function names\"\"\"\n",
        "        return cls._internal_activation_funcs.keys()\n",
        "\n",
        "    # take n_hidden and random_state, init components_ and\n",
        "    # input_activations_\n",
        "    def __init__(\n",
        "        self, n_hidden=20, random_state=0, activation_func=None, activation_args=None\n",
        "    ):\n",
        "        self.n_hidden = n_hidden\n",
        "        self.random_state = random_state\n",
        "        self.activation_func = activation_func\n",
        "        self.activation_args = activation_args\n",
        "\n",
        "        self.components_ = dict()\n",
        "        self.input_activations_ = None\n",
        "\n",
        "        # keyword args for internally defined funcs\n",
        "        self._extra_args = dict()\n",
        "\n",
        "    @abstractmethod\n",
        "    def _generate_components(self, X):\n",
        "        \"\"\"Generate components of hidden layer given X\"\"\"\n",
        "\n",
        "    @abstractmethod\n",
        "    def _compute_input_activations(self, X):\n",
        "        \"\"\"Compute input activations given X\"\"\"\n",
        "\n",
        "    # compute input activations and pass them\n",
        "    # through the hidden layer transfer functions\n",
        "    # to compute the transform\n",
        "    def _compute_hidden_activations(self, X):\n",
        "        \"\"\"Compute hidden activations given X\"\"\"\n",
        "\n",
        "        self._compute_input_activations(X)\n",
        "\n",
        "        acts = self.input_activations_\n",
        "\n",
        "        if callable(self.activation_func):\n",
        "            args_dict = self.activation_args if (self.activation_args) else {}\n",
        "            X_new = self.activation_func(acts, **args_dict)\n",
        "        else:\n",
        "            func_name = self.activation_func\n",
        "            func = self._internal_activation_funcs[func_name]\n",
        "\n",
        "            X_new = func(acts, **self._extra_args)\n",
        "\n",
        "        return X_new\n",
        "\n",
        "    # perform fit by generating random components based\n",
        "    # on the input array\n",
        "    def fit(self, X, y=None):\n",
        "        \"\"\"Generate a random hidden layer.\n",
        "\n",
        "        Parameters\n",
        "        ----------\n",
        "        X : {array-like, sparse matrix} of shape [n_samples, n_features]\n",
        "            Training set: only the shape is used to generate random component\n",
        "            values for hidden units\n",
        "\n",
        "        y : is not used: placeholder to allow for usage in a Pipeline.\n",
        "\n",
        "        Returns\n",
        "        -------\n",
        "        self\n",
        "        \"\"\"\n",
        "        X = check_array(X)\n",
        "\n",
        "        self._generate_components(X)\n",
        "\n",
        "        return self\n",
        "\n",
        "    # perform transformation by calling compute_hidden_activations\n",
        "    # (which will normally call compute_input_activations first)\n",
        "    def transform(self, X, y=None):\n",
        "        \"\"\"Generate the random hidden layer's activations given X as input.\n",
        "\n",
        "        Parameters\n",
        "        ----------\n",
        "        X : {array-like, sparse matrix}, shape [n_samples, n_features]\n",
        "            Data to transform\n",
        "\n",
        "        y : is not used: placeholder to allow for usage in a Pipeline.\n",
        "\n",
        "        Returns\n",
        "        -------\n",
        "        X_new : numpy array of shape [n_samples, n_components]\n",
        "        \"\"\"\n",
        "        X = check_array(X)\n",
        "\n",
        "        if self.components_ is None:\n",
        "            raise ValueError(\"No components initialized\")\n",
        "\n",
        "        return self._compute_hidden_activations(X)\n",
        "\n",
        "\n",
        "class RandomLayer(BaseRandomLayer):\n",
        "    \"\"\"RandomLayer is a transformer that creates a feature mapping of the\n",
        "    inputs that corresponds to a layer of hidden units with randomly\n",
        "    generated components.\n",
        "\n",
        "    The transformed values are a specified function of input activations\n",
        "    that are a weighted combination of dot product (multilayer perceptron)\n",
        "    and distance (rbf) activations:\n",
        "\n",
        "      input_activation = alpha * mlp_activation + (1-alpha) * rbf_activation\n",
        "\n",
        "      mlp_activation(x) = dot(x, weights) + bias\n",
        "      rbf_activation(x) = rbf_width * ||x - center||/radius\n",
        "\n",
        "      alpha and rbf_width are specified by the user\n",
        "\n",
        "      weights and biases are taken from normal distribution of\n",
        "      mean 0 and sd of 1\n",
        "\n",
        "      centers are taken uniformly from the bounding hyperrectangle\n",
        "      of the inputs, and radii are max(||x-c||)/sqrt(n_centers*2)\n",
        "\n",
        "    The input activation is transformed by a transfer function that defaults\n",
        "    to numpy.tanh if not specified, but can be any callable that returns an\n",
        "    array of the same shape as its argument (the input activation array, of\n",
        "    shape [n_samples, n_hidden]).  Functions provided are 'sine', 'tanh',\n",
        "    'tribas', 'inv_tribas', 'sigmoid', 'hardlim', 'softlim', 'gaussian',\n",
        "    'multiquadric', or 'inv_multiquadric'.\n",
        "\n",
        "    Parameters\n",
        "    ----------\n",
        "    `n_hidden` : int, optional (default=20)\n",
        "        Number of units to generate\n",
        "\n",
        "    `alpha` : float, optional (default=0.5)\n",
        "        Mixing coefficient for distance and dot product input activations:\n",
        "        activation = alpha*mlp_activation + (1-alpha)*rbf_width*rbf_activation\n",
        "\n",
        "    `rbf_width` : float, optional (default=1.0)\n",
        "        multiplier on rbf_activation\n",
        "\n",
        "    `user_components`: dictionary, optional (default=None)\n",
        "        dictionary containing values for components that woud otherwise be\n",
        "        randomly generated.  Valid key/value pairs are as follows:\n",
        "           'radii'  : array-like of shape [n_hidden]\n",
        "           'centers': array-like of shape [n_hidden, n_features]\n",
        "           'biases' : array-like of shape [n_hidden]\n",
        "           'weights': array-like of shape [n_features, n_hidden]\n",
        "\n",
        "    `activation_func` : {callable, string} optional (default='tanh')\n",
        "        Function used to transform input activation\n",
        "\n",
        "        It must be one of 'tanh', 'sine', 'tribas', 'inv_tribas',\n",
        "        'sigmoid', 'hardlim', 'softlim', 'gaussian', 'multiquadric',\n",
        "        'inv_multiquadric' or a callable.  If None is given, 'tanh'\n",
        "        will be used.\n",
        "\n",
        "        If a callable is given, it will be used to compute the activations.\n",
        "\n",
        "    `activation_args` : dictionary, optional (default=None)\n",
        "        Supplies keyword arguments for a callable activation_func\n",
        "\n",
        "    `random_state`  : int, RandomState instance or None (default=None)\n",
        "        Control the pseudo random number generator used to generate the\n",
        "        hidden unit weights at fit time.\n",
        "\n",
        "    Attributes\n",
        "    ----------\n",
        "    `input_activations_` : numpy array of shape [n_samples, n_hidden]\n",
        "        Array containing dot(x, hidden_weights) + bias for all samples\n",
        "\n",
        "    `components_` : dictionary containing two keys:\n",
        "        `bias_weights_`   : numpy array of shape [n_hidden]\n",
        "        `hidden_weights_` : numpy array of shape [n_features, n_hidden]\n",
        "\n",
        "    See Also\n",
        "    --------\n",
        "    \"\"\"\n",
        "\n",
        "    # triangular activation function\n",
        "    _tribas = lambda x: np.clip(1.0 - np.fabs(x), 0.0, 1.0)\n",
        "\n",
        "    # inverse triangular activation function\n",
        "    _inv_tribas = lambda x: np.clip(np.fabs(x), 0.0, 1.0)\n",
        "\n",
        "    # sigmoid activation function\n",
        "    _sigmoid = lambda x: 1.0 / (1.0 + np.exp(-x))\n",
        "\n",
        "    # hard limit activation function\n",
        "    _hardlim = lambda x: np.array(x > 0.0, dtype=float)\n",
        "\n",
        "    _softlim = lambda x: np.clip(x, 0.0, 1.0)\n",
        "\n",
        "    # gaussian RBF\n",
        "    _gaussian = lambda x: np.exp(-pow(x, 2.0))\n",
        "\n",
        "    # multiquadric RBF\n",
        "    _multiquadric = lambda x: np.sqrt(1.0 + pow(x, 2.0))\n",
        "\n",
        "    # inverse multiquadric RBF\n",
        "    _inv_multiquadric = lambda x: 1.0 / (np.sqrt(1.0 + pow(x, 2.0)))\n",
        "\n",
        "    # internal activation function table\n",
        "    _internal_activation_funcs = {\n",
        "        \"sine\": np.sin,\n",
        "        \"tanh\": np.tanh,\n",
        "        \"tribas\": _tribas,\n",
        "        \"inv_tribas\": _inv_tribas,\n",
        "        \"sigmoid\": _sigmoid,\n",
        "        \"softlim\": _softlim,\n",
        "        \"hardlim\": _hardlim,\n",
        "        \"gaussian\": _gaussian,\n",
        "        \"multiquadric\": _multiquadric,\n",
        "        \"inv_multiquadric\": _inv_multiquadric,\n",
        "    }\n",
        "\n",
        "    def __init__(\n",
        "        self,\n",
        "        n_hidden=20,\n",
        "        alpha=0.5,\n",
        "        random_state=None,\n",
        "        activation_func=\"tanh\",\n",
        "        activation_args=None,\n",
        "        user_components=None,\n",
        "        rbf_width=1.0,\n",
        "    ):\n",
        "        super(RandomLayer, self).__init__(\n",
        "            n_hidden=n_hidden,\n",
        "            random_state=random_state,\n",
        "            activation_func=activation_func,\n",
        "            activation_args=activation_args,\n",
        "        )\n",
        "\n",
        "        if isinstance(self.activation_func, str):\n",
        "            func_names = self._internal_activation_funcs.keys()\n",
        "            if self.activation_func not in func_names:\n",
        "                msg = \"unknown activation function '%s'\" % self.activation_func\n",
        "                raise ValueError(msg)\n",
        "\n",
        "        self.alpha = alpha\n",
        "        self.rbf_width = rbf_width\n",
        "        self.user_components = user_components\n",
        "\n",
        "        self._use_mlp_input = self.alpha != 0.0\n",
        "        self._use_rbf_input = self.alpha != 1.0\n",
        "\n",
        "    def _get_user_components(self, key):\n",
        "        \"\"\"Look for given user component\"\"\"\n",
        "        try:\n",
        "            return self.user_components[key]\n",
        "        except (TypeError, KeyError):\n",
        "            return None\n",
        "\n",
        "    def _compute_radii(self):\n",
        "        \"\"\"Generate RBF radii\"\"\"\n",
        "\n",
        "        # use supplied radii if present\n",
        "        radii = self._get_user_components(\"radii\")\n",
        "\n",
        "        # compute radii\n",
        "        if radii is None:\n",
        "            centers = self.components_[\"centers\"]\n",
        "\n",
        "            n_centers = centers.shape[0]\n",
        "            max_dist = np.max(pairwise_distances(centers))\n",
        "            radii = np.ones(n_centers) * max_dist / sqrt(2.0 * n_centers)\n",
        "\n",
        "        self.components_[\"radii\"] = radii\n",
        "\n",
        "    def _compute_centers(self, X, sparse, rs):\n",
        "        \"\"\"Generate RBF centers\"\"\"\n",
        "\n",
        "        # use supplied centers if present\n",
        "        centers = self._get_user_components(\"centers\")\n",
        "\n",
        "        # use points taken uniformly from the bounding\n",
        "        # hyperrectangle\n",
        "        if centers is None:\n",
        "            n_features = X.shape[1]\n",
        "\n",
        "            if sparse:\n",
        "                fxr = xrange(n_features)\n",
        "                cols = [X.getcol(i) for i in fxr]\n",
        "\n",
        "                min_dtype = X.dtype.type(1.0e10)\n",
        "                sp_min = lambda col: np.minimum(min_dtype, np.min(col.data))\n",
        "                min_Xs = np.array(map(sp_min, cols))\n",
        "\n",
        "                max_dtype = X.dtype.type(-1.0e10)\n",
        "                sp_max = lambda col: np.maximum(max_dtype, np.max(col.data))\n",
        "                max_Xs = np.array(map(sp_max, cols))\n",
        "            else:\n",
        "                min_Xs = X.min(axis=0)\n",
        "                max_Xs = X.max(axis=0)\n",
        "\n",
        "            spans = max_Xs - min_Xs\n",
        "            ctrs_size = (self.n_hidden, n_features)\n",
        "            centers = min_Xs + spans * rs.uniform(0.0, 1.0, ctrs_size)\n",
        "\n",
        "        self.components_[\"centers\"] = centers\n",
        "\n",
        "    def _compute_biases(self, rs):\n",
        "        \"\"\"Generate MLP biases\"\"\"\n",
        "\n",
        "        # use supplied biases if present\n",
        "        biases = self._get_user_components(\"biases\")\n",
        "        if biases is None:\n",
        "            b_size = self.n_hidden\n",
        "            biases = rs.normal(size=b_size)\n",
        "\n",
        "        self.components_[\"biases\"] = biases\n",
        "\n",
        "    def _compute_weights(self, X, rs):\n",
        "        \"\"\"Generate MLP weights\"\"\"\n",
        "\n",
        "        # use supplied weights if present\n",
        "        weights = self._get_user_components(\"weights\")\n",
        "        if weights is None:\n",
        "            n_features = X.shape[1]\n",
        "            hw_size = (n_features, self.n_hidden)\n",
        "            weights = rs.normal(size=hw_size)\n",
        "\n",
        "        self.components_[\"weights\"] = weights\n",
        "\n",
        "    def _generate_components(self, X):\n",
        "        \"\"\"Generate components of hidden layer given X\"\"\"\n",
        "\n",
        "        rs = check_random_state(self.random_state)\n",
        "        if self._use_mlp_input:\n",
        "            self._compute_biases(rs)\n",
        "            self._compute_weights(X, rs)\n",
        "\n",
        "        if self._use_rbf_input:\n",
        "            self._compute_centers(X, sp.issparse(X), rs)\n",
        "            self._compute_radii()\n",
        "\n",
        "    def _compute_input_activations(self, X):\n",
        "        \"\"\"Compute input activations given X\"\"\"\n",
        "\n",
        "        n_samples = X.shape[0]\n",
        "\n",
        "        mlp_acts = np.zeros((n_samples, self.n_hidden))\n",
        "        if self._use_mlp_input:\n",
        "            b = self.components_[\"biases\"]\n",
        "            w = self.components_[\"weights\"]\n",
        "            mlp_acts = self.alpha * (safe_sparse_dot(X, w) + b)\n",
        "\n",
        "        rbf_acts = np.zeros((n_samples, self.n_hidden))\n",
        "        if self._use_rbf_input:\n",
        "            radii = self.components_[\"radii\"]\n",
        "            centers = self.components_[\"centers\"]\n",
        "            scale = self.rbf_width * (1.0 - self.alpha)\n",
        "            rbf_acts = scale * cdist(X, centers) / radii\n",
        "\n",
        "        self.input_activations_ = mlp_acts + rbf_acts\n",
        "\n",
        "\n",
        "class MLPRandomLayer(RandomLayer):\n",
        "    \"\"\"Wrapper for RandomLayer with alpha (mixing coefficient) set\n",
        "    to 1.0 for MLP activations only\"\"\"\n",
        "\n",
        "    def __init__(\n",
        "        self,\n",
        "        n_hidden=20,\n",
        "        random_state=None,\n",
        "        activation_func=\"tanh\",\n",
        "        activation_args=None,\n",
        "        weights=None,\n",
        "        biases=None,\n",
        "    ):\n",
        "        user_components = {\"weights\": weights, \"biases\": biases}\n",
        "        super(MLPRandomLayer, self).__init__(\n",
        "            n_hidden=n_hidden,\n",
        "            random_state=random_state,\n",
        "            activation_func=activation_func,\n",
        "            activation_args=activation_args,\n",
        "            user_components=user_components,\n",
        "            alpha=1.0,\n",
        "        )\n",
        "\n",
        "\n",
        "class RBFRandomLayer(RandomLayer):\n",
        "    \"\"\"Wrapper for RandomLayer with alpha (mixing coefficient) set\n",
        "    to 0.0 for RBF activations only\"\"\"\n",
        "\n",
        "    def __init__(\n",
        "        self,\n",
        "        n_hidden=20,\n",
        "        random_state=None,\n",
        "        activation_func=\"gaussian\",\n",
        "        activation_args=None,\n",
        "        centers=None,\n",
        "        radii=None,\n",
        "        rbf_width=1.0,\n",
        "    ):\n",
        "        user_components = {\"centers\": centers, \"radii\": radii}\n",
        "        super(RBFRandomLayer, self).__init__(\n",
        "            n_hidden=n_hidden,\n",
        "            random_state=random_state,\n",
        "            activation_func=activation_func,\n",
        "            activation_args=activation_args,\n",
        "            user_components=user_components,\n",
        "            rbf_width=rbf_width,\n",
        "            alpha=0.0,\n",
        "        )\n",
        "\n",
        "\n",
        "class GRBFRandomLayer(RBFRandomLayer):\n",
        "    \"\"\"Random Generalized RBF Hidden Layer transformer\n",
        "\n",
        "    Creates a layer of radial basis function units where:\n",
        "\n",
        "       f(a), s.t. a = ||x-c||/r\n",
        "\n",
        "    with c the unit center\n",
        "    and f() is exp(-gamma * a^tau) where tau and r are computed\n",
        "    based on [1]\n",
        "\n",
        "    Parameters\n",
        "    ----------\n",
        "    `n_hidden` : int, optional (default=20)\n",
        "        Number of units to generate, ignored if centers are provided\n",
        "\n",
        "    `grbf_lambda` : float, optional (default=0.05)\n",
        "        GRBF shape parameter\n",
        "\n",
        "    `gamma` : {int, float} optional (default=1.0)\n",
        "        Width multiplier for GRBF distance argument\n",
        "\n",
        "    `centers` : array of shape (n_hidden, n_features), optional (default=None)\n",
        "        If provided, overrides internal computation of the centers\n",
        "\n",
        "    `radii` : array of shape (n_hidden),  optional (default=None)\n",
        "        If provided, overrides internal computation of the radii\n",
        "\n",
        "    `use_exemplars` : bool, optional (default=False)\n",
        "        If True, uses random examples from the input to determine the RBF\n",
        "        centers, ignored if centers are provided\n",
        "\n",
        "    `random_state`  : int or RandomState instance, optional (default=None)\n",
        "        Control the pseudo random number generator used to generate the\n",
        "        centers at fit time, ignored if centers are provided\n",
        "\n",
        "    Attributes\n",
        "    ----------\n",
        "    `components_` : dictionary containing two keys:\n",
        "        `radii_`   : numpy array of shape [n_hidden]\n",
        "        `centers_` : numpy array of shape [n_hidden, n_features]\n",
        "\n",
        "    `input_activations_` : numpy array of shape [n_samples, n_hidden]\n",
        "        Array containing ||x-c||/r for all samples\n",
        "\n",
        "    See Also\n",
        "    --------\n",
        "    ELMRegressor, ELMClassifier, SimpleELMRegressor, SimpleELMClassifier,\n",
        "    SimpleRandomLayer\n",
        "\n",
        "    References\n",
        "    ----------\n",
        "    .. [1] Fernandez-Navarro, et al, \"MELM-GRBF: a modified version of the\n",
        "              extreme learning machine for generalized radial basis function\n",
        "              neural networks\", Neurocomputing 74 (2011), 2502-2510\n",
        "\n",
        "    \"\"\"\n",
        "\n",
        "    # def _grbf(acts, taus):\n",
        "    #     \"\"\"GRBF activation function\"\"\"\n",
        "\n",
        "    #     return np.exp(np.exp(-pow(acts, taus)))\n",
        "\n",
        "    _grbf = lambda acts, taus: np.exp(np.exp(-pow(acts, taus)))\n",
        "\n",
        "    _internal_activation_funcs = {\"grbf\": _grbf}\n",
        "\n",
        "    def __init__(\n",
        "        self,\n",
        "        n_hidden=20,\n",
        "        grbf_lambda=0.001,\n",
        "        centers=None,\n",
        "        radii=None,\n",
        "        random_state=None,\n",
        "    ):\n",
        "        super(GRBFRandomLayer, self).__init__(\n",
        "            n_hidden=n_hidden,\n",
        "            activation_func=\"grbf\",\n",
        "            centers=centers,\n",
        "            radii=radii,\n",
        "            random_state=random_state,\n",
        "        )\n",
        "\n",
        "        self.grbf_lambda = grbf_lambda\n",
        "        self.dN_vals = None\n",
        "        self.dF_vals = None\n",
        "        self.tau_vals = None\n",
        "\n",
        "    # get centers from superclass, then calculate tau_vals\n",
        "    # according to ref [1]\n",
        "    def _compute_centers(self, X, sparse, rs):\n",
        "        \"\"\"Generate centers, then compute tau, dF and dN vals\"\"\"\n",
        "\n",
        "        super(GRBFRandomLayer, self)._compute_centers(X, sparse, rs)\n",
        "\n",
        "        centers = self.components_[\"centers\"]\n",
        "        sorted_distances = np.sort(squareform(pdist(centers)))\n",
        "        self.dF_vals = sorted_distances[:, -1]\n",
        "        self.dN_vals = sorted_distances[:, 1] / 100.0\n",
        "        # self.dN_vals = 0.0002 * np.ones(self.dF_vals.shape)\n",
        "\n",
        "        tauNum = np.log(np.log(self.grbf_lambda) / np.log(1.0 - self.grbf_lambda))\n",
        "\n",
        "        tauDenom = np.log(self.dF_vals / self.dN_vals)\n",
        "\n",
        "        self.tau_vals = tauNum / tauDenom\n",
        "\n",
        "        self._extra_args[\"taus\"] = self.tau_vals\n",
        "\n",
        "    # get radii according to ref [1]\n",
        "    def _compute_radii(self):\n",
        "        \"\"\"Generate radii\"\"\"\n",
        "\n",
        "        denom = pow(-np.log(self.grbf_lambda), 1.0 / self.tau_vals)\n",
        "        self.components_[\"radii\"] = self.dF_vals / denom"
      ],
      "metadata": {
        "id": "hJs1D2u35nBX"
      },
      "execution_count": 2,
      "outputs": []
    },
    {
      "cell_type": "code",
      "source": [
        "%%capture\n",
        "# -*- coding: utf8\n",
        "# Author: David C. Lambert [dcl -at- panix -dot- com]\n",
        "# Copyright(c) 2013\n",
        "# License: Simple BSD\n",
        "\n",
        "\"\"\"\n",
        "The :mod:`elm` module implements the\n",
        "Extreme Learning Machine Classifiers and Regressors (ELMClassifier,\n",
        "ELMRegressor, SimpleELMRegressor, SimpleELMClassifier).\n",
        "\n",
        "An Extreme Learning Machine (ELM) is a single layer feedforward\n",
        "network with a random hidden layer components and ordinary linear\n",
        "least squares fitting of the hidden->output weights by default.\n",
        "[1][2]\n",
        "\n",
        "References\n",
        "----------\n",
        ".. [1] http://www.extreme-learning-machines.org\n",
        ".. [2] G.-B. Huang, Q.-Y. Zhu and C.-K. Siew, \"Extreme Learning Machine:\n",
        "          Theory and Applications\", Neurocomputing, vol. 70, pp. 489-501,\n",
        "          2006.\n",
        "\"\"\"\n",
        "\n",
        "from abc import ABCMeta, abstractmethod\n",
        "\n",
        "import numpy as np\n",
        "from scipy.linalg import pinv\n",
        "\n",
        "from sklearn.utils import as_float_array\n",
        "from sklearn.utils.extmath import safe_sparse_dot\n",
        "from sklearn.base import BaseEstimator, ClassifierMixin, RegressorMixin\n",
        "from sklearn.preprocessing import LabelBinarizer\n",
        "\n",
        "# from random_layer import RandomLayer, MLPRandomLayer\n",
        "\n",
        "__all__ = [\"ELMRegressor\",\n",
        "           \"ELMClassifier\",\n",
        "           \"GenELMRegressor\",\n",
        "           \"GenELMClassifier\"]\n",
        "\n",
        "\n",
        "# BaseELM class, regressor and hidden_layer attributes\n",
        "# and provides defaults for docstrings\n",
        "class BaseELM(BaseEstimator):\n",
        "    \"\"\"\n",
        "    Base class for ELMs.\n",
        "\n",
        "    Warning: This class should not be used directly.\n",
        "    Use derived classes instead.\n",
        "    \"\"\"\n",
        "    __metaclass__ = ABCMeta\n",
        "\n",
        "    def __init__(self, hidden_layer, regressor):\n",
        "        self.regressor = regressor\n",
        "        self.hidden_layer = hidden_layer\n",
        "\n",
        "    @abstractmethod\n",
        "    def fit(self, X, y):\n",
        "        \"\"\"\n",
        "        Fit the model using X, y as training data.\n",
        "\n",
        "        Parameters\n",
        "        ----------\n",
        "        X : {array-like, sparse matrix} of shape [n_samples, n_features]\n",
        "            Training vectors, where n_samples is the number of samples\n",
        "            and n_features is the number of features.\n",
        "\n",
        "        y : array-like of shape [n_samples, n_outputs]\n",
        "            Target values (class labels in classification, real numbers in\n",
        "            regression)\n",
        "\n",
        "        Returns\n",
        "        -------\n",
        "        self : object\n",
        "\n",
        "            Returns an instance of self.\n",
        "        \"\"\"\n",
        "\n",
        "    @abstractmethod\n",
        "    def predict(self, X):\n",
        "        \"\"\"\n",
        "        Predict values using the model\n",
        "\n",
        "        Parameters\n",
        "        ----------\n",
        "        X : {array-like, sparse matrix} of shape [n_samples, n_features]\n",
        "\n",
        "        Returns\n",
        "        -------\n",
        "        C : numpy array of shape [n_samples, n_outputs]\n",
        "            Predicted values.\n",
        "        \"\"\"\n",
        "\n",
        "\n",
        "class GenELMRegressor(BaseELM, RegressorMixin):\n",
        "    \"\"\"\n",
        "    ELMRegressor is a regressor based on the Extreme Learning Machine.\n",
        "\n",
        "    An Extreme Learning Machine (ELM) is a single layer feedforward\n",
        "    network with a random hidden layer components and ordinary linear\n",
        "    least squares fitting of the hidden->output weights by default.\n",
        "    [1][2]\n",
        "\n",
        "    Parameters\n",
        "    ----------\n",
        "    `hidden_layer` : random_layer instance, optional\n",
        "        (default=MLPRandomLayer(random_state=0))\n",
        "\n",
        "    `regressor`    : regressor instance, optional (default=None)\n",
        "        If provided, this object is used to perform the regression from hidden\n",
        "        unit activations to the outputs and subsequent predictions.  If not\n",
        "        present, an ordinary linear least squares fit is performed\n",
        "\n",
        "    Attributes\n",
        "    ----------\n",
        "    `coefs_` : numpy array\n",
        "        Fitted regression coefficients if no regressor supplied.\n",
        "\n",
        "    `fitted_` : bool\n",
        "        Flag set when fit has been called already.\n",
        "\n",
        "    `hidden_activations_` : numpy array of shape [n_samples, n_hidden]\n",
        "        Hidden layer activations for last input.\n",
        "\n",
        "    See Also\n",
        "    --------\n",
        "    RBFRandomLayer, MLPRandomLayer, ELMRegressor, ELMClassifier\n",
        "\n",
        "    References\n",
        "    ----------\n",
        "    .. [1] http://www.extreme-learning-machines.org\n",
        "    .. [2] G.-B. Huang, Q.-Y. Zhu and C.-K. Siew, \"Extreme Learning Machine:\n",
        "          Theory and Applications\", Neurocomputing, vol. 70, pp. 489-501,\n",
        "              2006.\n",
        "    \"\"\"\n",
        "\n",
        "    def __init__(self,\n",
        "                 hidden_layer=MLPRandomLayer(random_state=0),\n",
        "                 regressor=None):\n",
        "\n",
        "        super(GenELMRegressor, self).__init__(hidden_layer, regressor)\n",
        "\n",
        "        self.coefs_ = None\n",
        "        self.fitted_ = False\n",
        "        self.hidden_activations_ = None\n",
        "\n",
        "    def _fit_regression(self, y):\n",
        "        \"\"\"\n",
        "        fit regression using pseudo-inverse\n",
        "        or supplied regressor\n",
        "        \"\"\"\n",
        "        if (self.regressor is None):\n",
        "            self.coefs_ = safe_sparse_dot(pinv(self.hidden_activations_), y)\n",
        "        else:\n",
        "            self.regressor.fit(self.hidden_activations_, y)\n",
        "\n",
        "        self.fitted_ = True\n",
        "\n",
        "    def fit(self, X, y):\n",
        "        \"\"\"\n",
        "        Fit the model using X, y as training data.\n",
        "\n",
        "        Parameters\n",
        "        ----------\n",
        "        X : {array-like, sparse matrix} of shape [n_samples, n_features]\n",
        "            Training vectors, where n_samples is the number of samples\n",
        "            and n_features is the number of features.\n",
        "\n",
        "        y : array-like of shape [n_samples, n_outputs]\n",
        "            Target values (class labels in classification, real numbers in\n",
        "            regression)\n",
        "\n",
        "        Returns\n",
        "        -------\n",
        "        self : object\n",
        "\n",
        "            Returns an instance of self.\n",
        "        \"\"\"\n",
        "        # fit random hidden layer and compute the hidden layer activations\n",
        "        self.hidden_activations_ = self.hidden_layer.fit_transform(X)\n",
        "        # print(self.hidden_activations_)\n",
        "        # print(f\"-------training hidden_activations shape {self.hidden_activations_.shape}------------\")\n",
        "\n",
        "        # solve the regression from hidden activations to outputs\n",
        "        self._fit_regression(as_float_array(y, copy=True))\n",
        "\n",
        "        return self\n",
        "\n",
        "    def _get_predictions(self):\n",
        "        \"\"\"get predictions using internal least squares/supplied regressor\"\"\"\n",
        "        if (self.regressor is None):\n",
        "            preds = safe_sparse_dot(self.hidden_activations_, self.coefs_)\n",
        "        else:\n",
        "            preds = self.regressor.predict(self.hidden_activations_)\n",
        "\n",
        "        return preds\n",
        "\n",
        "    def predict(self, X):\n",
        "        \"\"\"\n",
        "        Predict values using the model\n",
        "\n",
        "        Parameters\n",
        "        ----------\n",
        "        X : {array-like, sparse matrix} of shape [n_samples, n_features]\n",
        "\n",
        "        Returns\n",
        "        -------\n",
        "        C : numpy array of shape [n_samples, n_outputs]\n",
        "            Predicted values.\n",
        "        \"\"\"\n",
        "        if (not self.fitted_):\n",
        "            raise ValueError(\"ELMRegressor not fitted\")\n",
        "\n",
        "        # compute hidden layer activations\n",
        "        self.hidden_activations_ = self.hidden_layer.transform(X)\n",
        "        # print(self.hidden_activations_)\n",
        "        # print(f\"-------hidden_activations shape {self.hidden_activations_.shape}------------\")\n",
        "        # compute output predictions for new hidden activations\n",
        "        predictions = self._get_predictions()\n",
        "\n",
        "        return predictions\n",
        "\n",
        "'''\n",
        "class GenELMClassifier(BaseELM, ClassifierMixin):\n",
        "    \"\"\"\n",
        "    GenELMClassifier is a classifier based on the Extreme Learning Machine.\n",
        "\n",
        "    An Extreme Learning Machine (ELM) is a single layer feedforward\n",
        "    network with a random hidden layer components and ordinary linear\n",
        "    least squares fitting of the hidden->output weights by default.\n",
        "    [1][2]\n",
        "\n",
        "    Parameters\n",
        "    ----------\n",
        "    `hidden_layer` : random_layer instance, optional\n",
        "        (default=MLPRandomLayer(random_state=0))\n",
        "\n",
        "    `binarizer` : LabelBinarizer, optional\n",
        "        (default=LabelBinarizer(-1, 1))\n",
        "\n",
        "    `regressor`    : regressor instance, optional (default=None)\n",
        "        If provided, this object is used to perform the regression from hidden\n",
        "        unit activations to the outputs and subsequent predictions.  If not\n",
        "        present, an ordinary linear least squares fit is performed\n",
        "\n",
        "    Attributes\n",
        "    ----------\n",
        "    `classes_` : numpy array of shape [n_classes]\n",
        "        Array of class labels\n",
        "\n",
        "    `genelm_regressor_` : ELMRegressor instance\n",
        "        Performs actual fit of binarized values\n",
        "\n",
        "    See Also\n",
        "    --------\n",
        "    RBFRandomLayer, MLPRandomLayer, ELMRegressor, ELMClassifier\n",
        "\n",
        "    References\n",
        "    ----------\n",
        "    .. [1] http://www.extreme-learning-machines.org\n",
        "    .. [2] G.-B. Huang, Q.-Y. Zhu and C.-K. Siew, \"Extreme Learning Machine:\n",
        "              Theory and Applications\", Neurocomputing, vol. 70, pp. 489-501,\n",
        "              2006.\n",
        "    \"\"\"\n",
        "    def __init__(self,\n",
        "                 hidden_layer=MLPRandomLayer(random_state=0),\n",
        "                 binarizer=LabelBinarizer(-1, 1),\n",
        "                 regressor=None):\n",
        "\n",
        "        super(GenELMClassifier, self).__init__(hidden_layer, regressor)\n",
        "\n",
        "        self.binarizer = binarizer\n",
        "\n",
        "        self.classes_ = None\n",
        "        self.genelm_regressor_ = GenELMRegressor(hidden_layer, regressor)\n",
        "\n",
        "    def decision_function(self, X):\n",
        "        \"\"\"\n",
        "        This function return the decision function values related to each\n",
        "        class on an array of test vectors X.\n",
        "\n",
        "        Parameters\n",
        "        ----------\n",
        "        X : array-like of shape [n_samples, n_features]\n",
        "\n",
        "        Returns\n",
        "        -------\n",
        "        C : array of shape [n_samples, n_classes] or [n_samples,]\n",
        "            Decision function values related to each class, per sample.\n",
        "            In the two-class case, the shape is [n_samples,]\n",
        "        \"\"\"\n",
        "        return self.genelm_regressor_.predict(X)\n",
        "\n",
        "    def fit(self, X, y):\n",
        "        \"\"\"\n",
        "        Fit the model using X, y as training data.\n",
        "\n",
        "        Parameters\n",
        "        ----------\n",
        "        X : {array-like, sparse matrix} of shape [n_samples, n_features]\n",
        "            Training vectors, where n_samples is the number of samples\n",
        "            and n_features is the number of features.\n",
        "\n",
        "        y : array-like of shape [n_samples, n_outputs]\n",
        "            Target values (class labels in classification, real numbers in\n",
        "            regression)\n",
        "\n",
        "        Returns\n",
        "        -------\n",
        "        self : object\n",
        "\n",
        "            Returns an instance of self.\n",
        "        \"\"\"\n",
        "        self.classes_ = np.unique(y)\n",
        "\n",
        "        y_bin = self.binarizer.fit_transform(y)\n",
        "\n",
        "        self.genelm_regressor_.fit(X, y_bin)\n",
        "        return self\n",
        "\n",
        "    def predict(self, X):\n",
        "        \"\"\"Predict values using the model\n",
        "\n",
        "        Parameters\n",
        "        ----------\n",
        "        X : {array-like, sparse matrix} of shape [n_samples, n_features]\n",
        "\n",
        "        Returns\n",
        "        -------\n",
        "        C : numpy array of shape [n_samples, n_outputs]\n",
        "            Predicted values.\n",
        "        \"\"\"\n",
        "        raw_predictions = self.decision_function(X)\n",
        "        class_predictions = self.binarizer.inverse_transform(raw_predictions)\n",
        "\n",
        "        return class_predictions\n",
        "'''\n",
        "\n",
        "# ELMRegressor with default RandomLayer\n",
        "class ELMRegressor(BaseEstimator, RegressorMixin):\n",
        "    \"\"\"\n",
        "    ELMRegressor is a regressor based on the Extreme Learning Machine.\n",
        "\n",
        "    An Extreme Learning Machine (ELM) is a single layer feedforward\n",
        "    network with a random hidden layer components and ordinary linear\n",
        "    least squares fitting of the hidden->output weights by default.\n",
        "    [1][2]\n",
        "\n",
        "    ELMRegressor is a wrapper for an GenELMRegressor that uses a\n",
        "    RandomLayer and passes the __init__ parameters through\n",
        "    to the hidden layer generated by the fit() method.\n",
        "\n",
        "    Parameters\n",
        "    ----------\n",
        "    `n_hidden` : int, optional (default=20)\n",
        "        Number of units to generate in the SimpleRandomLayer\n",
        "\n",
        "    `alpha` : float, optional (default=0.5)\n",
        "        Mixing coefficient for distance and dot product input activations:\n",
        "        activation = alpha*mlp_activation + (1-alpha)*rbf_width*rbf_activation\n",
        "\n",
        "    `rbf_width` : float, optional (default=1.0)\n",
        "        multiplier on rbf_activation\n",
        "\n",
        "    `activation_func` : {callable, string} optional (default='tanh')\n",
        "        Function used to transform input activation\n",
        "\n",
        "        It must be one of 'tanh', 'sine', 'tribas', 'inv_tribase', 'sigmoid',\n",
        "        'hardlim', 'softlim', 'gaussian', 'multiquadric', 'inv_multiquadric' or\n",
        "        a callable.  If none is given, 'tanh' will be used. If a callable\n",
        "        is given, it will be used to compute the hidden unit activations.\n",
        "\n",
        "    `activation_args` : dictionary, optional (default=None)\n",
        "        Supplies keyword arguments for a callable activation_func\n",
        "\n",
        "    `user_components`: dictionary, optional (default=None)\n",
        "        dictionary containing values for components that woud otherwise be\n",
        "        randomly generated.  Valid key/value pairs are as follows:\n",
        "           'radii'  : array-like of shape [n_hidden]\n",
        "           'centers': array-like of shape [n_hidden, n_features]\n",
        "           'biases' : array-like of shape [n_hidden]\n",
        "           'weights': array-like of shape [n_hidden, n_features]\n",
        "\n",
        "    `regressor`    : regressor instance, optional (default=None)\n",
        "        If provided, this object is used to perform the regression from hidden\n",
        "        unit activations to the outputs and subsequent predictions.  If not\n",
        "        present, an ordinary linear least squares fit is performed\n",
        "\n",
        "    `random_state`  : int, RandomState instance or None (default=None)\n",
        "        Control the pseudo random number generator used to generate the\n",
        "        hidden unit weights at fit time.\n",
        "\n",
        "    Attributes\n",
        "    ----------\n",
        "    `genelm_regressor_` : GenELMRegressor object\n",
        "        Wrapped object that actually performs the fit.\n",
        "\n",
        "    See Also\n",
        "    --------\n",
        "    RandomLayer, RBFRandomLayer, MLPRandomLayer,\n",
        "    GenELMRegressor, GenELMClassifier, ELMClassifier\n",
        "\n",
        "    References\n",
        "    ----------\n",
        "    .. [1] http://www.extreme-learning-machines.org\n",
        "    .. [2] G.-B. Huang, Q.-Y. Zhu and C.-K. Siew, \"Extreme Learning Machine:\n",
        "          Theory and Applications\", Neurocomputing, vol. 70, pp. 489-501,\n",
        "              2006.\n",
        "    \"\"\"\n",
        "\n",
        "    def __init__(self, n_hidden=20, alpha=0.5, rbf_width=1.0,\n",
        "                 activation_func='tanh', activation_args=None,\n",
        "                 user_components=None, regressor=None, random_state=None):\n",
        "\n",
        "        self.n_hidden = n_hidden\n",
        "        self.alpha = alpha\n",
        "        self.random_state = random_state\n",
        "        self.activation_func = activation_func\n",
        "        self.activation_args = activation_args\n",
        "        self.user_components = user_components\n",
        "        self.rbf_width = rbf_width\n",
        "        self.regressor = regressor\n",
        "\n",
        "        self._genelm_regressor = None\n",
        "\n",
        "    def _create_random_layer(self):\n",
        "        \"\"\"Pass init params to RandomLayer\"\"\"\n",
        "\n",
        "        return RandomLayer(n_hidden=self.n_hidden,\n",
        "                           alpha=self.alpha, random_state=self.random_state,\n",
        "                           activation_func=self.activation_func,\n",
        "                           activation_args=self.activation_args,\n",
        "                           user_components=self.user_components,\n",
        "                           rbf_width=self.rbf_width)\n",
        "\n",
        "    def fit(self, X, y):\n",
        "        \"\"\"\n",
        "        Fit the model using X, y as training data.\n",
        "\n",
        "        Parameters\n",
        "        ----------\n",
        "        X : {array-like, sparse matrix} of shape [n_samples, n_features]\n",
        "            Training vectors, where n_samples is the number of samples\n",
        "            and n_features is the number of features.\n",
        "\n",
        "        y : array-like of shape [n_samples, n_outputs]\n",
        "            Target values (class labels in classification, real numbers in\n",
        "            regression)\n",
        "\n",
        "        Returns\n",
        "        -------\n",
        "        self : object\n",
        "\n",
        "            Returns an instance of self.\n",
        "        \"\"\"\n",
        "        rhl = self._create_random_layer()\n",
        "        self._genelm_regressor = GenELMRegressor(hidden_layer=rhl,\n",
        "                                                 regressor=self.regressor)\n",
        "        self._genelm_regressor.fit(X, y)\n",
        "        return self\n",
        "\n",
        "    def predict(self, X):\n",
        "        \"\"\"\n",
        "        Predict values using the model\n",
        "\n",
        "        Parameters\n",
        "        ----------\n",
        "        X : {array-like, sparse matrix} of shape [n_samples, n_features]\n",
        "\n",
        "        Returns\n",
        "        -------\n",
        "        C : numpy array of shape [n_samples, n_outputs]\n",
        "            Predicted values.\n",
        "        \"\"\"\n",
        "        if (self._genelm_regressor is None):\n",
        "            raise ValueError(\"SimpleELMRegressor not fitted\")\n",
        "\n",
        "        return self._genelm_regressor.predict(X)\n",
        "\n",
        "'''\n",
        "class ELMClassifier(ELMRegressor):\n",
        "    \"\"\"\n",
        "    ELMClassifier is a classifier based on the Extreme Learning Machine.\n",
        "\n",
        "    An Extreme Learning Machine (ELM) is a single layer feedforward\n",
        "    network with a random hidden layer components and ordinary linear\n",
        "    least squares fitting of the hidden->output weights by default.\n",
        "    [1][2]\n",
        "\n",
        "    ELMClassifier is an ELMRegressor subclass that first binarizes the\n",
        "    data, then uses the superclass to compute the decision function that\n",
        "    is then unbinarized to yield the prediction.\n",
        "\n",
        "    The params for the RandomLayer used in the input transform are\n",
        "    exposed in the ELMClassifier constructor.\n",
        "\n",
        "    Parameters\n",
        "    ----------\n",
        "    `n_hidden` : int, optional (default=20)\n",
        "        Number of units to generate in the SimpleRandomLayer\n",
        "\n",
        "    `activation_func` : {callable, string} optional (default='tanh')\n",
        "        Function used to transform input activation\n",
        "\n",
        "        It must be one of 'tanh', 'sine', 'tribas', 'inv_tribase', 'sigmoid',\n",
        "        'hardlim', 'softlim', 'gaussian', 'multiquadric', 'inv_multiquadric' or\n",
        "        a callable.  If none is given, 'tanh' will be used. If a callable\n",
        "        is given, it will be used to compute the hidden unit activations.\n",
        "\n",
        "    `activation_args` : dictionary, optional (default=None)\n",
        "        Supplies keyword arguments for a callable activation_func\n",
        "\n",
        "    `random_state`  : int, RandomState instance or None (default=None)\n",
        "        Control the pseudo random number generator used to generate the\n",
        "        hidden unit weights at fit time.\n",
        "\n",
        "    Attributes\n",
        "    ----------\n",
        "    `classes_` : numpy array of shape [n_classes]\n",
        "        Array of class labels\n",
        "\n",
        "    See Also\n",
        "    --------\n",
        "    RandomLayer, RBFRandomLayer, MLPRandomLayer,\n",
        "    GenELMRegressor, GenELMClassifier, ELMClassifier\n",
        "\n",
        "    References\n",
        "    ----------\n",
        "    .. [1] http://www.extreme-learning-machines.org\n",
        "    .. [2] G.-B. Huang, Q.-Y. Zhu and C.-K. Siew, \"Extreme Learning Machine:\n",
        "          Theory and Applications\", Neurocomputing, vol. 70, pp. 489-501,\n",
        "              2006.\n",
        "    \"\"\"\n",
        "\n",
        "    def __init__(self, n_hidden=20, alpha=0.5, rbf_width=1.0,\n",
        "                 activation_func='tanh', activation_args=None,\n",
        "                 user_components=None, regressor=None,\n",
        "                 binarizer=LabelBinarizer(-1, 1),\n",
        "                 random_state=None):\n",
        "\n",
        "        super(ELMClassifier, self).__init__(n_hidden=n_hidden,\n",
        "                                            alpha=alpha,\n",
        "                                            random_state=random_state,\n",
        "                                            activation_func=activation_func,\n",
        "                                            activation_args=activation_args,\n",
        "                                            user_components=user_components,\n",
        "                                            rbf_width=rbf_width,\n",
        "                                            regressor=regressor)\n",
        "\n",
        "        self.classes_ = None\n",
        "        self.binarizer = binarizer\n",
        "\n",
        "    def decision_function(self, X):\n",
        "        \"\"\"\n",
        "        This function return the decision function values related to each\n",
        "        class on an array of test vectors X.\n",
        "\n",
        "        Parameters\n",
        "        ----------\n",
        "        X : array-like of shape [n_samples, n_features]\n",
        "\n",
        "        Returns\n",
        "        -------\n",
        "        C : array of shape [n_samples, n_classes] or [n_samples,]\n",
        "            Decision function values related to each class, per sample.\n",
        "            In the two-class case, the shape is [n_samples,]\n",
        "        \"\"\"\n",
        "        return super(ELMClassifier, self).predict(X)\n",
        "\n",
        "    def fit(self, X, y):\n",
        "        \"\"\"\n",
        "        Fit the model using X, y as training data.\n",
        "\n",
        "        Parameters\n",
        "        ----------\n",
        "        X : {array-like, sparse matrix} of shape [n_samples, n_features]\n",
        "            Training vectors, where n_samples is the number of samples\n",
        "            and n_features is the number of features.\n",
        "\n",
        "        y : array-like of shape [n_samples, n_outputs]\n",
        "            Target values (class labels in classification, real numbers in\n",
        "            regression)\n",
        "\n",
        "        Returns\n",
        "        -------\n",
        "        self : object\n",
        "\n",
        "            Returns an instance of self.\n",
        "        \"\"\"\n",
        "        self.classes_ = np.unique(y)\n",
        "\n",
        "        y_bin = self.binarizer.fit_transform(y)\n",
        "\n",
        "        super(ELMClassifier, self).fit(X, y_bin)\n",
        "\n",
        "        return self\n",
        "\n",
        "    def predict(self, X):\n",
        "        \"\"\"\n",
        "        Predict values using the model\n",
        "\n",
        "        Parameters\n",
        "        ----------\n",
        "        X : {array-like, sparse matrix} of shape [n_samples, n_features]\n",
        "\n",
        "        Returns\n",
        "        -------\n",
        "        C : numpy array of shape [n_samples, n_outputs]\n",
        "            Predicted values.\n",
        "        \"\"\"\n",
        "        raw_predictions = self.decision_function(X)\n",
        "        class_predictions = self.binarizer.inverse_transform(raw_predictions)\n",
        "\n",
        "        return class_predictions\n",
        "\n",
        "    def score(self, X, y):\n",
        "        \"\"\"Force use of accuracy score since we don't inherit\n",
        "           from ClassifierMixin\"\"\"\n",
        "\n",
        "        from sklearn.metrics import accuracy_score\n",
        "        return accuracy_score(y, self.predict(X))\n",
        "'''"
      ],
      "metadata": {
        "id": "BRrNFUzw5X5U"
      },
      "execution_count": 3,
      "outputs": []
    },
    {
      "cell_type": "code",
      "source": [
        "%%capture\n",
        "# hide code cell output\n",
        "from google.colab import drive\n",
        "drive.mount('/content/drive')"
      ],
      "metadata": {
        "id": "hHYT6eqn6F0J"
      },
      "execution_count": 4,
      "outputs": []
    },
    {
      "cell_type": "code",
      "execution_count": 5,
      "metadata": {
        "id": "JfzPYjvb4ocM"
      },
      "outputs": [],
      "source": [
        "# from elm import ELMRegressor\n",
        "from collections.abc import Iterable\n",
        "import numpy as np\n",
        "import pandas as pd\n",
        "import math\n",
        "import matplotlib.pyplot as plt\n",
        "import pylab as py\n",
        "import random\n",
        "import scipy.stats as stats\n",
        "from sklearn import preprocessing\n",
        "from sklearn.metrics import mean_squared_error, r2_score\n",
        "from skmultiflow.drift_detection import DDM\n",
        "import statsmodels.api as sm\n",
        "import sys\n",
        "from typing import Union\n",
        "\n",
        "sc = preprocessing.StandardScaler()\n",
        "\n",
        "'''\n",
        "    (Cavalcante & Oliveira, 2015)\n",
        "    Feature Selection:\n",
        "    The input data is composed by daily open, high, low and close prices and two classical technical indicators,\n",
        "    the exponential moving average (EMA) and the Bollinger Bands (BB):\n",
        "    1) lowest and highest prices of the 5 previous days;\n",
        "    2) opening and closing prices of the 5 previous days;\n",
        "    3) EMA of the lowest and highest prices of the 5 previous days;\n",
        "    4) EMA of the opening and closing prices of the 5 previous days;\n",
        "    5) BB of the opening and closing prices of the 5 previous days;\n",
        "    6) BB of the lowest and highest prices of the 5 previous days;\n",
        "'''\n",
        "\n",
        "'''\n",
        "    (Mishra & Das, 2022)\n",
        "    Feature Selection:\n",
        "    The available features for the GOLD/USD dataset are price, open price, high price, low price, volume, and price change.\n",
        "    The gold data available for predictions are in 1 Troy Ounce Unit.\n",
        "    This experimentation has worked out for four time horizons such as 1 day, 3 days, 7 days, and 1 month in advance.\n",
        "    A total of 70% of data is selected for training and 30% is selected for testing .\n",
        "'''\n",
        "def handle_datasets(train_split: float = 0.8, show_fig: bool = False) -> list:\n",
        "    # reverse dataframe datetime\n",
        "    df = pd.read_csv('/content/drive/MyDrive/Colab Notebooks/gold prices 2013-2023.csv', parse_dates=['Date'], index_col='Date')\n",
        "    df= df.sort_values(by='Date')\n",
        "    df = df.rename(columns={\"Close/Last\": \"close\"})\n",
        "    df.columns = df.columns.str.lower()\n",
        "    # replace Nan\n",
        "    df['volume'] = df['volume'].interpolate()\n",
        "    # 5 days average\n",
        "    #  moving_avg = df['close'].rolling(window=5).mean()\n",
        "    # df['moving_average'] = moving_avg\n",
        "\n",
        "    # 1) lowest and highest prices of the 5 previous days;\n",
        "    df['high_previous_1_days'] = df['high'].shift(1)\n",
        "    df['low_previous_1_days'] = df['low'].shift(1)\n",
        "\n",
        "\n",
        "    # 2) opening and closing prices of the 5 previous days;\n",
        "    df['close_previous_1_days'] = df['close'].shift(1)\n",
        "    df['open_previous_1_days'] = df['open'].shift(1)\n",
        "\n",
        "    # change = yesterday - the day before yesterday\n",
        "    df['change'] = df['close'].diff()\n",
        "    df['change'] = df['change'].shift(1)\n",
        "\n",
        "    # exclude 5 columns, others = input features, start from index=5 drop NaN\n",
        "    x = df[df.columns.difference(['close', 'open', 'high', 'low'])][2:]\n",
        "    y = df[\"close\"][2:]\n",
        "\n",
        "    if show_fig:\n",
        "        plt.title(\"Gold prices\")\n",
        "        plt.plot(y[:50], color=\"green\")\n",
        "        plt.plot(x.drop(columns=['volume','change'])[:50], color=\"orange\")\n",
        "        plt.xlabel(\"Days\")\n",
        "        plt.xticks(rotation=45, ha='right')\n",
        "        plt.ylabel(\"Close price\")\n",
        "        plt.show(block=False)\n",
        "    # 2d-array x.shape = (input_samples, features)\n",
        "    x_train, x_test = to_ndarray(x, split = train_split,features = x.shape[1])\n",
        "    y_train, y_test = to_ndarray(y, split = train_split)\n",
        "    res = [x_train, y_train, x_test, y_test]\n",
        "    return res\n",
        "\n",
        "\n",
        "def to_ndarray(df: Union[pd.DataFrame, pd.Series], split: float = 0.8, features: int = 1):\n",
        "    nd = df.to_numpy()\n",
        "    train_set, test_set = np.split(nd, [int(split * len(nd))])\n",
        "    train_set = train_set.reshape(-1, features)\n",
        "    test_set = test_set.reshape(-1, features)\n",
        "    train_set = sc.fit_transform(train_set)\n",
        "    test_set = sc.fit_transform(test_set)\n",
        "    return train_set, test_set"
      ]
    },
    {
      "cell_type": "code",
      "source": [
        "def plot_fig(x:Iterable, y:Iterable, x_label: str, y_label:str, show: bool=False, color:str=\"black\", clean: bool = True):\n",
        "    if show:\n",
        "        plt.plot(x, y, color=color)\n",
        "        plt.xlabel(x_label)\n",
        "        plt.ylabel(y_label)\n",
        "    if clean:\n",
        "        plt.show(block=False)\n",
        "        plt.clf()"
      ],
      "metadata": {
        "id": "oyEoRha_Cm6_"
      },
      "execution_count": 6,
      "outputs": []
    },
    {
      "cell_type": "code",
      "source": [
        "def drift_detection(data_stream: list, retrain_data: list, nodes: int, warning_level: float = 2.0, drift_detect: float = 3.0, threshold_opt: int = 0) -> None:\n",
        "    '''\n",
        "        prediction: int (either 0 or 1)\n",
        "            This parameter indicates whether the last sample analyzed was\n",
        "            correctly classified or not. 1 indicates an error (miss-classification).\n",
        "    '''\n",
        "    ddm = DDM(min_num_instances=30, warning_level=warning_level, out_control_level=drift_detect)\n",
        "    warning_status = False\n",
        "    warning_start = 0\n",
        "    warning_end = 0\n",
        "    for i in range(len(data_stream)):\n",
        "        ddm.add_element(data_stream[i])\n",
        "        if ddm.detected_change() and warning_status:\n",
        "            warning_end = i\n",
        "            assert warning_end > warning_start\n",
        "            print(f\"warning start at index {warning_start}, Change has been detected in index {warning_end}\")\n",
        "            # retrain\n",
        "            warning_status = False\n",
        "            # at least 30 data samples\n",
        "            if warning_end-warning_start>=30:\n",
        "                # retrain immediately\n",
        "                break\n",
        "        elif ddm.detected_warning_zone():\n",
        "            if not warning_status:\n",
        "                warning_start = i\n",
        "            warning_status = True\n",
        "            # print('Warning zone has been detected in data: ' + str(data_stream[i]) + ' - of index: ' + str(i))\n",
        "        else:\n",
        "            warning_status = False\n",
        "    if warning_end-warning_start>=30:\n",
        "        print(f\"-------------------retrain with data from index {warning_start}~{warning_end}-------------------\")\n",
        "        print(f\"-------------------testing with data from index {warning_end+1}~{len(data_stream)}-------------------\")\n",
        "        x_train = retrain_data[0][warning_start:warning_end]\n",
        "        y_train = retrain_data[1][warning_start:warning_end]\n",
        "        x_test = retrain_data[0][warning_end:]\n",
        "        y_test = retrain_data[1][warning_end:]\n",
        "        datasets = [x_train, y_train, x_test, y_test]\n",
        "        # enable the network to perform feature extraction\n",
        "        train(datasets, nodes=nodes+3, show_fig=True, threshold_opt=threshold_opt, level_config=(warning_level, drift_detect))"
      ],
      "metadata": {
        "id": "AOhBAtg7Cijk"
      },
      "execution_count": 7,
      "outputs": []
    },
    {
      "cell_type": "code",
      "source": [
        "def train(datasets: list[np.ndarray],nodes: int = 20, random_state: int = 0, show_fig: bool = False, threshold_opt: int = 0, level_config: tuple = (1.0, 2.0)) -> dict:\n",
        "    print(f\"hidden nodes {nodes} ,threshold option {threshold_opt}\")\n",
        "    # option: random_state=1\n",
        "    elmr = ELMRegressor(n_hidden=nodes, random_state=random_state)\n",
        "    x_train, y_train, x_test, y_test = (\n",
        "        datasets[0],\n",
        "        datasets[1],\n",
        "        datasets[2],\n",
        "        datasets[3],\n",
        "    )\n",
        "    elmr = elmr.fit(x_train, y_train)\n",
        "    # Inverse Transform the Predictions(real world value)\n",
        "    res = elmr.predict(x_test)\n",
        "\n",
        "    y_pred = sc.inverse_transform(elmr.predict(x_test))\n",
        "    y_actual = sc.inverse_transform(y_test)\n",
        "    # squared=True -> MSE\n",
        "    rms = mean_squared_error(y_actual, y_pred, squared=False)\n",
        "    # threshold 1: compare with previous price difference\n",
        "    y_prev = np.insert(y_actual, 0, y_actual[0], axis=0)\n",
        "    y_prev = y_prev[:-1]\n",
        "    abs_residual = abs(y_actual - y_pred)\n",
        "\n",
        "    # Residual = actual y - predicted y\n",
        "    residual = y_actual - y_pred\n",
        "    res_avg = np.mean(residual)\n",
        "    res_std = np.std(residual)\n",
        "    r2 = r2_score(y_true=y_actual, y_pred=y_pred)\n",
        "    # n: observations, p: predictors(features)\n",
        "    n = np.shape(x_test)[0]\n",
        "    p = np.shape(x_test)[1]\n",
        "    adj_r2 = 1-(1-r2)*(n-1)/(n-p-1)\n",
        "    print(f\"Random state = {random_state}, Residual AVG = {res_avg}, Residual STD = {res_std}, RMSE = {rms}\")\n",
        "    print(f\"R2 score = {r2}, Adjusted R2 score {adj_r2}\")\n",
        "\n",
        "    prev_abs_residual = abs(y_prev - y_actual)\n",
        "    bin = abs_residual - prev_abs_residual\n",
        "    # if y prediction errors > naive errors, prediction errors, return 1\n",
        "    error_rates = np.where(bin>0, 1, 0)\n",
        "    error_rates = list(error_rates)\n",
        "    count_errors = []\n",
        "    '''\n",
        "        concept change detection method based on the PAC learning model premise,\n",
        "        that the learner’s error rate will decrease as the number of analysed samples increase,\n",
        "        as long as the data distribution is stationary.\n",
        "    '''\n",
        "    for index in range(len(error_rates)):\n",
        "        err_num = error_rates[:index].count(1) / (index+1)\n",
        "        count_errors.append(err_num)\n",
        "\n",
        "    # threshold 2: compare with price going up or down predicitons\n",
        "    y_trend = np.subtract(y_actual, y_prev)\n",
        "    trend = np.where(y_trend>0, 1, 0)\n",
        "    y_prev_pred = np.insert(y_pred, 0, y_actual[0], axis=0)\n",
        "    y_prev_pred = y_prev_pred[:-1]\n",
        "    y_pred_trend = np.subtract(y_pred, y_prev_pred)\n",
        "    pred_trend = np.where(y_pred_trend>0, 1, 0)\n",
        "    trend_result = list()\n",
        "    for index in range(len(pred_trend)):\n",
        "        if pred_trend[index] == trend[index]:\n",
        "            trend_result.append(0)\n",
        "        else:\n",
        "            trend_result.append(1)\n",
        "    count_trend_errors = []\n",
        "    '''\n",
        "        concept change detection method based on the PAC learning model premise,\n",
        "        that the learner’s error rate will decrease as the number of analysed samples increase,\n",
        "        as long as the data distribution is stationary.\n",
        "    '''\n",
        "    for index in range(len(trend_result)):\n",
        "        err_num = trend_result[:index].count(1) / (index+1)\n",
        "        count_trend_errors.append(err_num)\n",
        "\n",
        "\n",
        "    # errors frequency\n",
        "    stat = np.array(np.unique(residual.astype(int), return_counts=True)).T\n",
        "    error_list = list()\n",
        "    freq = list()\n",
        "    for pair in stat:\n",
        "        error_list.append(pair[0])\n",
        "        freq.append(pair[1])\n",
        "    size = [i*100 for i in freq]\n",
        "    plt.clf()\n",
        "    if threshold_opt==0:\n",
        "        print(\"-------------threshold 1---------------\")\n",
        "        plot_fig(x=range(len(error_rates)), y=count_errors, x_label=\"Number of examples\", y_label=\"T1 Errors Rates\", show=show_fig, color=\"red\")\n",
        "    elif threshold_opt==1:\n",
        "        print(\"-------------threshold 2---------------\")\n",
        "        plot_fig(x=range(len(count_trend_errors)), y=count_trend_errors, x_label=\"Number of examples\", y_label=\"T2 Errors Rates\", show=show_fig, color=\"blue\")\n",
        "    plt.clf()\n",
        "    if show_fig:\n",
        "        plt.clf()\n",
        "        # 取誤差範圍 range=-100~100, bins=? 分?組 每組差5\n",
        "        plt.hist(residual, bins=40, range=(-100,100), facecolor=\"blue\", edgecolor=\"black\", alpha=0.7, density=True)\n",
        "        # 顯示常態分佈曲線\n",
        "        mu = 0\n",
        "        sigma = 20\n",
        "        x = np.linspace(mu - 3*sigma, mu + 3*sigma, 10000)\n",
        "        plt.plot(x, stats.norm.pdf(x, mu, sigma), color=\"#FF0000\")\n",
        "        plt.xlabel(\"residual\")\n",
        "        plt.ylabel(\"Probability\")\n",
        "        plt.show(block=False)\n",
        "    DDM_data = error_rates if threshold_opt==0 else trend_result\n",
        "    # implement DDM\n",
        "    # drift_detection(data_stream=DDM_data, retrain_data=[x_test, y_test],nodes=nodes, warning_level=level_config[0], drift_detect=level_config[1], threshold_opt=threshold_opt)\n",
        "    return {\"residual\":residual, \"RMSE\":rms}"
      ],
      "metadata": {
        "id": "aZ-Ho7uzDvz0"
      },
      "execution_count": 8,
      "outputs": []
    },
    {
      "cell_type": "code",
      "source": [
        "def count_items_in_interval(input_list: np.ndarray, lower_bound: np.float64, upper_bound: np.float64):\n",
        "    count = len([item for item in input_list if lower_bound <= item <= upper_bound])\n",
        "    return count/len(input_list)"
      ],
      "metadata": {
        "id": "N_rPVkkY6kU4"
      },
      "execution_count": 21,
      "outputs": []
    },
    {
      "cell_type": "code",
      "source": [
        "if __name__ == \"__main__\":\n",
        "    nodes = 60\n",
        "    times = 100\n",
        "    level_config_1 = (1.0, 2.0)\n",
        "    level_config_2 = (2, 3)\n",
        "    datasets = handle_datasets(train_split=0.8, show_fig=False)\n",
        "    # Random int without repetition\n",
        "    random_list = random.sample(range(0, 2**32 - 1), times)\n",
        "    all_rmse = []\n",
        "    all_residual = np.array([])\n",
        "    for i in range(len(random_list)):\n",
        "        # option 0: compare with previous price difference, option 1: compare with price going up or down predicitons\n",
        "        res = train(datasets, nodes=nodes, random_state=random_list[i], show_fig=False, threshold_opt=1, level_config=level_config_1)\n",
        "        print(f\"finish model {i}\")\n",
        "        all_rmse.append(res[\"RMSE\"])\n",
        "        all_residual = np.append(all_residual, res[\"residual\"])\n",
        "    plt.clf()\n",
        "    plt.hist(all_rmse, bins=8, range=(0, 40), facecolor=\"red\", edgecolor=\"black\", alpha=0.3)\n",
        "    plt.xlabel(\"RMSE\")\n",
        "    plt.ylabel(\"frequency\")\n",
        "    plt.show(block=False)\n",
        "    rmse_avg = np.mean(all_rmse)\n",
        "    rmse_std = np.std(all_rmse)\n",
        "    print(f\"RMSE AVG = {rmse_avg}, RMSE STD = {rmse_std}\")\n",
        "    res_avg = np.mean(all_residual)\n",
        "    res_std = np.std(all_residual)\n",
        "    print(f\"Residual AVG = {res_avg}, Residual STD = {res_std}\")\n",
        "    # Normal distribution Test\n",
        "    test_result = stats.normaltest(all_residual)\n",
        "    print(f\"stat: {test_result.statistic}, p_value: {test_result.pvalue}\")\n",
        "    print(f\"Skew: {stats.skew(all_residual)}, Kurtosis: {stats.kurtosis(all_residual)}\")\n",
        "    # check three-sigma rule\n",
        "    one_sigma = count_items_in_interval(all_residual,res_avg-res_std,res_avg+res_std)\n",
        "    two_sigma = count_items_in_interval(all_residual,res_avg-2*res_std,res_avg+2*res_std)\n",
        "    three_sigma = count_items_in_interval(all_residual,res_avg-3*res_std,res_avg+3*res_std)\n",
        "    print(f\"one sigma percent: {one_sigma}, two sigma percent: {two_sigma}, three sigma percent: {three_sigma}\")\n",
        "    # np.histogram 取誤差範圍 range=-200~200, bins=? 分?組\n",
        "    hist,bins = np.histogram(a=all_residual,bins=10,range=(-200,200),density=False)\n",
        "    plt.clf()\n",
        "    # 顯示常態分佈曲線\n",
        "    mu = 0\n",
        "    sigma = 20\n",
        "    x = np.linspace(mu - 3*sigma, mu + 3*sigma, 10000)\n",
        "    plt.plot(x, stats.norm.pdf(x, mu, sigma), color=\"#FF0000\")\n",
        "    # 取誤差範圍 range=-200~200, bins=80 分80組 每組差5, density=True 回傳機率而非次數\n",
        "    plt.hist(all_residual, bins=40, range=(-100,100), facecolor=\"blue\", edgecolor=\"black\", alpha=0.7, density=True)\n",
        "    plt.xlabel(\"Residual\")\n",
        "    plt.ylabel(\"Probability\")\n",
        "    plt.show()\n",
        "    # 顯示z score分佈曲線\n",
        "    mu = 0\n",
        "    sigma = 1\n",
        "    z_residual = stats.zscore(all_residual)\n",
        "    x = np.linspace(mu - 3*sigma, mu + 3*sigma, 10000)\n",
        "    plt.plot(x, stats.norm.cdf(x, mu, sigma), color=\"#FF0000\")\n",
        "    plt.hist(z_residual, bins=50, range=(-3,3), facecolor=\"#007500\", edgecolor=\"black\", alpha=0.7, density=True, cumulative=True)\n",
        "    plt.xlabel(\"Residual Z score\")\n",
        "    plt.ylabel(\"Cumulative Probability\")\n",
        "    plt.show()"
      ],
      "metadata": {
        "colab": {
          "base_uri": "https://localhost:8080/",
          "height": 1000
        },
        "id": "vZy7bywzGFkn",
        "outputId": "693cf8c3-5e08-4b4b-f6ca-a2c5fb2fb2b4"
      },
      "execution_count": 23,
      "outputs": [
        {
          "output_type": "stream",
          "name": "stdout",
          "text": [
            "hidden nodes 60 ,threshold option 1\n",
            "Random state = 1046219274, Residual AVG = -1.0414804230532961, Residual STD = 17.829300463811002, RMSE = 17.859693068483974\n",
            "R2 score = 0.9662223784529966, Adjusted R2 score 0.9658178560392601\n",
            "-------------threshold 2---------------\n"
          ]
        },
        {
          "output_type": "display_data",
          "data": {
            "text/plain": [
              "<Figure size 640x480 with 0 Axes>"
            ]
          },
          "metadata": {}
        },
        {
          "output_type": "stream",
          "name": "stdout",
          "text": [
            "finish model 0\n",
            "hidden nodes 60 ,threshold option 1\n",
            "Random state = 1040911606, Residual AVG = -1.3319612014845756, Residual STD = 19.51512711822986, RMSE = 19.560529314998885\n",
            "R2 score = 0.9594825328129157, Adjusted R2 score 0.9589972936849267\n",
            "-------------threshold 2---------------\n"
          ]
        },
        {
          "output_type": "display_data",
          "data": {
            "text/plain": [
              "<Figure size 640x480 with 0 Axes>"
            ]
          },
          "metadata": {}
        },
        {
          "output_type": "stream",
          "name": "stdout",
          "text": [
            "finish model 1\n",
            "hidden nodes 60 ,threshold option 1\n",
            "Random state = 2214024942, Residual AVG = -0.6212358852891944, Residual STD = 17.242757107894686, RMSE = 17.253944670915804\n",
            "R2 score = 0.9684747974511101, Adjusted R2 score 0.9680972501151952\n",
            "-------------threshold 2---------------\n"
          ]
        },
        {
          "output_type": "display_data",
          "data": {
            "text/plain": [
              "<Figure size 640x480 with 0 Axes>"
            ]
          },
          "metadata": {}
        },
        {
          "output_type": "stream",
          "name": "stdout",
          "text": [
            "finish model 2\n",
            "hidden nodes 60 ,threshold option 1\n",
            "Random state = 4236595295, Residual AVG = -2.8148034455626743, Residual STD = 19.937557106690477, RMSE = 20.13527506193286\n",
            "R2 score = 0.9570665076316619, Adjusted R2 score 0.9565523340703644\n",
            "-------------threshold 2---------------\n"
          ]
        },
        {
          "output_type": "display_data",
          "data": {
            "text/plain": [
              "<Figure size 640x480 with 0 Axes>"
            ]
          },
          "metadata": {}
        },
        {
          "output_type": "stream",
          "name": "stdout",
          "text": [
            "finish model 3\n",
            "hidden nodes 60 ,threshold option 1\n",
            "Random state = 1625920497, Residual AVG = -3.047834916811955, Residual STD = 20.567179386667004, RMSE = 20.791781203241783\n",
            "R2 score = 0.9542211924237345, Adjusted R2 score 0.9536729432312043\n",
            "-------------threshold 2---------------\n"
          ]
        },
        {
          "output_type": "display_data",
          "data": {
            "text/plain": [
              "<Figure size 640x480 with 0 Axes>"
            ]
          },
          "metadata": {}
        },
        {
          "output_type": "stream",
          "name": "stdout",
          "text": [
            "finish model 4\n",
            "hidden nodes 60 ,threshold option 1\n",
            "Random state = 3956604370, Residual AVG = 1.5739676250464654, Residual STD = 19.023782464903796, RMSE = 19.08878396746832\n",
            "R2 score = 0.9614133025856664, Adjusted R2 score 0.9609511864489677\n",
            "-------------threshold 2---------------\n"
          ]
        },
        {
          "output_type": "display_data",
          "data": {
            "text/plain": [
              "<Figure size 640x480 with 0 Axes>"
            ]
          },
          "metadata": {}
        },
        {
          "output_type": "stream",
          "name": "stdout",
          "text": [
            "finish model 5\n",
            "hidden nodes 60 ,threshold option 1\n",
            "Random state = 946483584, Residual AVG = 1.1069221319296678, Residual STD = 19.362538166339444, RMSE = 19.394152748937177\n",
            "R2 score = 0.9601688626887265, Adjusted R2 score 0.9596918430802083\n",
            "-------------threshold 2---------------\n"
          ]
        },
        {
          "output_type": "display_data",
          "data": {
            "text/plain": [
              "<Figure size 640x480 with 0 Axes>"
            ]
          },
          "metadata": {}
        },
        {
          "output_type": "stream",
          "name": "stdout",
          "text": [
            "finish model 6\n",
            "hidden nodes 60 ,threshold option 1\n",
            "Random state = 3891665768, Residual AVG = -2.1573282157439966, Residual STD = 17.539033556087162, RMSE = 17.67121283647494\n",
            "R2 score = 0.9669315530519331, Adjusted R2 score 0.9665355237471659\n",
            "-------------threshold 2---------------\n"
          ]
        },
        {
          "output_type": "display_data",
          "data": {
            "text/plain": [
              "<Figure size 640x480 with 0 Axes>"
            ]
          },
          "metadata": {}
        },
        {
          "output_type": "stream",
          "name": "stdout",
          "text": [
            "finish model 7\n",
            "hidden nodes 60 ,threshold option 1\n",
            "Random state = 1634263920, Residual AVG = -2.434658232960431, Residual STD = 18.870416652615774, RMSE = 19.026828042389006\n",
            "R2 score = 0.9616633755987867, Adjusted R2 score 0.9612042543484728\n",
            "-------------threshold 2---------------\n"
          ]
        },
        {
          "output_type": "display_data",
          "data": {
            "text/plain": [
              "<Figure size 640x480 with 0 Axes>"
            ]
          },
          "metadata": {}
        },
        {
          "output_type": "stream",
          "name": "stdout",
          "text": [
            "finish model 8\n",
            "hidden nodes 60 ,threshold option 1\n",
            "Random state = 2249320698, Residual AVG = -2.441813834722738, Residual STD = 17.812463080632224, RMSE = 17.979051582392476\n",
            "R2 score = 0.9657693898501327, Adjusted R2 score 0.9653594424231882\n",
            "-------------threshold 2---------------\n"
          ]
        },
        {
          "output_type": "display_data",
          "data": {
            "text/plain": [
              "<Figure size 640x480 with 0 Axes>"
            ]
          },
          "metadata": {}
        },
        {
          "output_type": "stream",
          "name": "stdout",
          "text": [
            "finish model 9\n",
            "hidden nodes 60 ,threshold option 1\n",
            "Random state = 2025831013, Residual AVG = -1.32239827189634, Residual STD = 18.609167322541648, RMSE = 18.65609406140166\n",
            "R2 score = 0.9631427838984593, Adjusted R2 score 0.9627013801128121\n",
            "-------------threshold 2---------------\n"
          ]
        },
        {
          "output_type": "display_data",
          "data": {
            "text/plain": [
              "<Figure size 640x480 with 0 Axes>"
            ]
          },
          "metadata": {}
        },
        {
          "output_type": "stream",
          "name": "stdout",
          "text": [
            "finish model 10\n",
            "hidden nodes 60 ,threshold option 1\n",
            "Random state = 1144985200, Residual AVG = -1.4810104287539925, Residual STD = 17.892143880657, RMSE = 17.953334078555155\n",
            "R2 score = 0.9658672477630746, Adjusted R2 score 0.9654584722871833\n",
            "-------------threshold 2---------------\n"
          ]
        },
        {
          "output_type": "display_data",
          "data": {
            "text/plain": [
              "<Figure size 640x480 with 0 Axes>"
            ]
          },
          "metadata": {}
        },
        {
          "output_type": "stream",
          "name": "stdout",
          "text": [
            "finish model 11\n",
            "hidden nodes 60 ,threshold option 1\n",
            "Random state = 4293687303, Residual AVG = 1.552611302306256, Residual STD = 20.726510364987323, RMSE = 20.784581635577275\n",
            "R2 score = 0.9542528905795, Adjusted R2 score 0.9537050210056018\n",
            "-------------threshold 2---------------\n"
          ]
        },
        {
          "output_type": "display_data",
          "data": {
            "text/plain": [
              "<Figure size 640x480 with 0 Axes>"
            ]
          },
          "metadata": {}
        },
        {
          "output_type": "stream",
          "name": "stdout",
          "text": [
            "finish model 12\n",
            "hidden nodes 60 ,threshold option 1\n",
            "Random state = 970755711, Residual AVG = 1.5666293797713702, Residual STD = 20.36660330315121, RMSE = 20.426768166342235\n",
            "R2 score = 0.9558144359515982, Adjusted R2 score 0.9552852675198809\n",
            "-------------threshold 2---------------\n"
          ]
        },
        {
          "output_type": "display_data",
          "data": {
            "text/plain": [
              "<Figure size 640x480 with 0 Axes>"
            ]
          },
          "metadata": {}
        },
        {
          "output_type": "stream",
          "name": "stdout",
          "text": [
            "finish model 13\n",
            "hidden nodes 60 ,threshold option 1\n",
            "Random state = 3395639891, Residual AVG = 0.40051833703418427, Residual STD = 17.528928790442848, RMSE = 17.533503913328815\n",
            "R2 score = 0.9674449390505693, Adjusted R2 score 0.967055058081115\n",
            "-------------threshold 2---------------\n"
          ]
        },
        {
          "output_type": "display_data",
          "data": {
            "text/plain": [
              "<Figure size 640x480 with 0 Axes>"
            ]
          },
          "metadata": {}
        },
        {
          "output_type": "stream",
          "name": "stdout",
          "text": [
            "finish model 14\n",
            "hidden nodes 60 ,threshold option 1\n",
            "Random state = 1284132381, Residual AVG = -2.588873872596575, Residual STD = 19.62136255176939, RMSE = 19.79141572288833\n",
            "R2 score = 0.9585203764559495, Adjusted R2 score 0.9580236144973381\n",
            "-------------threshold 2---------------\n"
          ]
        },
        {
          "output_type": "display_data",
          "data": {
            "text/plain": [
              "<Figure size 640x480 with 0 Axes>"
            ]
          },
          "metadata": {}
        },
        {
          "output_type": "stream",
          "name": "stdout",
          "text": [
            "finish model 15\n",
            "hidden nodes 60 ,threshold option 1\n",
            "Random state = 884633291, Residual AVG = -0.31685693872640913, Residual STD = 18.237935222319955, RMSE = 18.240687473150725\n",
            "R2 score = 0.9647658751928458, Adjusted R2 score 0.9643439096262931\n",
            "-------------threshold 2---------------\n"
          ]
        },
        {
          "output_type": "display_data",
          "data": {
            "text/plain": [
              "<Figure size 640x480 with 0 Axes>"
            ]
          },
          "metadata": {}
        },
        {
          "output_type": "stream",
          "name": "stdout",
          "text": [
            "finish model 16\n",
            "hidden nodes 60 ,threshold option 1\n",
            "Random state = 2562428987, Residual AVG = -0.48386360874203915, Residual STD = 18.212922282314853, RMSE = 18.219348562819306\n",
            "R2 score = 0.9648482644174475, Adjusted R2 score 0.9644272855481955\n",
            "-------------threshold 2---------------\n"
          ]
        },
        {
          "output_type": "display_data",
          "data": {
            "text/plain": [
              "<Figure size 640x480 with 0 Axes>"
            ]
          },
          "metadata": {}
        },
        {
          "output_type": "stream",
          "name": "stdout",
          "text": [
            "finish model 17\n",
            "hidden nodes 60 ,threshold option 1\n",
            "Random state = 3804184246, Residual AVG = 1.4959318631940186, Residual STD = 19.221191669893972, RMSE = 19.279315894245848\n",
            "R2 score = 0.9606391632514403, Adjusted R2 score 0.9601677759849905\n",
            "-------------threshold 2---------------\n"
          ]
        },
        {
          "output_type": "display_data",
          "data": {
            "text/plain": [
              "<Figure size 640x480 with 0 Axes>"
            ]
          },
          "metadata": {}
        },
        {
          "output_type": "stream",
          "name": "stdout",
          "text": [
            "finish model 18\n",
            "hidden nodes 60 ,threshold option 1\n",
            "Random state = 2637304358, Residual AVG = 0.3691725103161419, Residual STD = 19.048424035937156, RMSE = 19.052001117867945\n",
            "R2 score = 0.9615618674405869, Adjusted R2 score 0.9611015305237077\n",
            "-------------threshold 2---------------\n"
          ]
        },
        {
          "output_type": "display_data",
          "data": {
            "text/plain": [
              "<Figure size 640x480 with 0 Axes>"
            ]
          },
          "metadata": {}
        },
        {
          "output_type": "stream",
          "name": "stdout",
          "text": [
            "finish model 19\n",
            "hidden nodes 60 ,threshold option 1\n",
            "Random state = 2692335420, Residual AVG = -2.6799776066122893, Residual STD = 19.465729149590572, RMSE = 19.649348368258003\n",
            "R2 score = 0.9591137397776991, Adjusted R2 score 0.9586240839666536\n",
            "-------------threshold 2---------------\n"
          ]
        },
        {
          "output_type": "display_data",
          "data": {
            "text/plain": [
              "<Figure size 640x480 with 0 Axes>"
            ]
          },
          "metadata": {}
        },
        {
          "output_type": "stream",
          "name": "stdout",
          "text": [
            "finish model 20\n",
            "hidden nodes 60 ,threshold option 1\n",
            "Random state = 2314104137, Residual AVG = -0.2271336658652166, Residual STD = 20.902828580804524, RMSE = 20.90406258076807\n",
            "R2 score = 0.9537254208947714, Adjusted R2 score 0.9531712343186609\n",
            "-------------threshold 2---------------\n"
          ]
        },
        {
          "output_type": "display_data",
          "data": {
            "text/plain": [
              "<Figure size 640x480 with 0 Axes>"
            ]
          },
          "metadata": {}
        },
        {
          "output_type": "stream",
          "name": "stdout",
          "text": [
            "finish model 21\n",
            "hidden nodes 60 ,threshold option 1\n",
            "Random state = 3817578227, Residual AVG = -0.8714418581631627, Residual STD = 18.272068464326022, RMSE = 18.292837310739316\n",
            "R2 score = 0.9645641195830523, Adjusted R2 score 0.9641397377816517\n",
            "-------------threshold 2---------------\n"
          ]
        },
        {
          "output_type": "display_data",
          "data": {
            "text/plain": [
              "<Figure size 640x480 with 0 Axes>"
            ]
          },
          "metadata": {}
        },
        {
          "output_type": "stream",
          "name": "stdout",
          "text": [
            "finish model 22\n",
            "hidden nodes 60 ,threshold option 1\n",
            "Random state = 2617790304, Residual AVG = -2.3868874124476642, Residual STD = 17.924079821350343, RMSE = 18.082308175723576\n",
            "R2 score = 0.9653750769597983, Adjusted R2 score 0.9649604072227899\n",
            "-------------threshold 2---------------\n"
          ]
        },
        {
          "output_type": "display_data",
          "data": {
            "text/plain": [
              "<Figure size 640x480 with 0 Axes>"
            ]
          },
          "metadata": {}
        },
        {
          "output_type": "stream",
          "name": "stdout",
          "text": [
            "finish model 23\n",
            "hidden nodes 60 ,threshold option 1\n",
            "Random state = 2373307472, Residual AVG = 0.3153042281442171, Residual STD = 20.84764403838541, RMSE = 20.850028266348044\n",
            "R2 score = 0.9539643393845635, Adjusted R2 score 0.9534130141077319\n",
            "-------------threshold 2---------------\n"
          ]
        },
        {
          "output_type": "display_data",
          "data": {
            "text/plain": [
              "<Figure size 640x480 with 0 Axes>"
            ]
          },
          "metadata": {}
        },
        {
          "output_type": "stream",
          "name": "stdout",
          "text": [
            "finish model 24\n",
            "hidden nodes 60 ,threshold option 1\n",
            "Random state = 2978819999, Residual AVG = -2.8252288591267494, Residual STD = 20.136557889238276, RMSE = 20.33378670422917\n",
            "R2 score = 0.9562157806606364, Adjusted R2 score 0.9556914187523805\n",
            "-------------threshold 2---------------\n"
          ]
        },
        {
          "output_type": "display_data",
          "data": {
            "text/plain": [
              "<Figure size 640x480 with 0 Axes>"
            ]
          },
          "metadata": {}
        },
        {
          "output_type": "stream",
          "name": "stdout",
          "text": [
            "finish model 25\n",
            "hidden nodes 60 ,threshold option 1\n",
            "Random state = 649170344, Residual AVG = 0.553629798605646, Residual STD = 17.91999873783087, RMSE = 17.928548762177158\n",
            "R2 score = 0.9659614260473542, Adjusted R2 score 0.965553778455107\n",
            "-------------threshold 2---------------\n"
          ]
        },
        {
          "output_type": "display_data",
          "data": {
            "text/plain": [
              "<Figure size 640x480 with 0 Axes>"
            ]
          },
          "metadata": {}
        },
        {
          "output_type": "stream",
          "name": "stdout",
          "text": [
            "finish model 26\n",
            "hidden nodes 60 ,threshold option 1\n",
            "Random state = 736123320, Residual AVG = 0.7951493876933183, Residual STD = 17.857521022768417, RMSE = 17.875215233036073\n",
            "R2 score = 0.9661636395219693, Adjusted R2 score 0.9657584136479809\n",
            "-------------threshold 2---------------\n"
          ]
        },
        {
          "output_type": "display_data",
          "data": {
            "text/plain": [
              "<Figure size 640x480 with 0 Axes>"
            ]
          },
          "metadata": {}
        },
        {
          "output_type": "stream",
          "name": "stdout",
          "text": [
            "finish model 27\n",
            "hidden nodes 60 ,threshold option 1\n",
            "Random state = 3583444588, Residual AVG = -0.6279258127625866, Residual STD = 17.773679220872392, RMSE = 17.784767748632664\n",
            "R2 score = 0.9665051929964026, Adjusted R2 score 0.9661040575831858\n",
            "-------------threshold 2---------------\n"
          ]
        },
        {
          "output_type": "display_data",
          "data": {
            "text/plain": [
              "<Figure size 640x480 with 0 Axes>"
            ]
          },
          "metadata": {}
        },
        {
          "output_type": "stream",
          "name": "stdout",
          "text": [
            "finish model 28\n",
            "hidden nodes 60 ,threshold option 1\n",
            "Random state = 70635030, Residual AVG = 0.17169431689304532, Residual STD = 19.330023660955046, RMSE = 19.33078616279057\n",
            "R2 score = 0.9604287183214307, Adjusted R2 score 0.959954810756418\n",
            "-------------threshold 2---------------\n"
          ]
        },
        {
          "output_type": "display_data",
          "data": {
            "text/plain": [
              "<Figure size 640x480 with 0 Axes>"
            ]
          },
          "metadata": {}
        },
        {
          "output_type": "stream",
          "name": "stdout",
          "text": [
            "finish model 29\n",
            "hidden nodes 60 ,threshold option 1\n",
            "Random state = 4971183, Residual AVG = -1.5280814420890012, Residual STD = 19.084255830277616, RMSE = 19.145335032042194\n",
            "R2 score = 0.9611843355529444, Adjusted R2 score 0.9607194772960934\n",
            "-------------threshold 2---------------\n"
          ]
        },
        {
          "output_type": "display_data",
          "data": {
            "text/plain": [
              "<Figure size 640x480 with 0 Axes>"
            ]
          },
          "metadata": {}
        },
        {
          "output_type": "stream",
          "name": "stdout",
          "text": [
            "finish model 30\n",
            "hidden nodes 60 ,threshold option 1\n",
            "Random state = 2005328328, Residual AVG = 0.05536042252843149, Residual STD = 18.303775217219687, RMSE = 18.3038589368168\n",
            "R2 score = 0.9645214057409514, Adjusted R2 score 0.9640965123965316\n",
            "-------------threshold 2---------------\n"
          ]
        },
        {
          "output_type": "display_data",
          "data": {
            "text/plain": [
              "<Figure size 640x480 with 0 Axes>"
            ]
          },
          "metadata": {}
        },
        {
          "output_type": "stream",
          "name": "stdout",
          "text": [
            "finish model 31\n",
            "hidden nodes 60 ,threshold option 1\n",
            "Random state = 3241673269, Residual AVG = -1.3613372226020122, Residual STD = 17.523902328063667, RMSE = 17.576700254517537\n",
            "R2 score = 0.9672843331853929, Adjusted R2 score 0.9668925287924035\n",
            "-------------threshold 2---------------\n"
          ]
        },
        {
          "output_type": "display_data",
          "data": {
            "text/plain": [
              "<Figure size 640x480 with 0 Axes>"
            ]
          },
          "metadata": {}
        },
        {
          "output_type": "stream",
          "name": "stdout",
          "text": [
            "finish model 32\n",
            "hidden nodes 60 ,threshold option 1\n",
            "Random state = 2009021786, Residual AVG = 1.6283875733213715, Residual STD = 20.262449795280833, RMSE = 20.32777700082387\n",
            "R2 score = 0.9562416579152262, Adjusted R2 score 0.955717605914211\n",
            "-------------threshold 2---------------\n"
          ]
        },
        {
          "output_type": "display_data",
          "data": {
            "text/plain": [
              "<Figure size 640x480 with 0 Axes>"
            ]
          },
          "metadata": {}
        },
        {
          "output_type": "stream",
          "name": "stdout",
          "text": [
            "finish model 33\n",
            "hidden nodes 60 ,threshold option 1\n",
            "Random state = 44281835, Residual AVG = 0.0016875009242762716, Residual STD = 17.395281619565875, RMSE = 17.395281701417364\n",
            "R2 score = 0.9679561997485905, Adjusted R2 score 0.9675724416617473\n",
            "-------------threshold 2---------------\n"
          ]
        },
        {
          "output_type": "display_data",
          "data": {
            "text/plain": [
              "<Figure size 640x480 with 0 Axes>"
            ]
          },
          "metadata": {}
        },
        {
          "output_type": "stream",
          "name": "stdout",
          "text": [
            "finish model 34\n",
            "hidden nodes 60 ,threshold option 1\n",
            "Random state = 3637489133, Residual AVG = -1.7984979479723677, Residual STD = 18.475823333673816, RMSE = 18.563152822890473\n",
            "R2 score = 0.9635091009375135, Adjusted R2 score 0.9630720841822742\n",
            "-------------threshold 2---------------\n"
          ]
        },
        {
          "output_type": "display_data",
          "data": {
            "text/plain": [
              "<Figure size 640x480 with 0 Axes>"
            ]
          },
          "metadata": {}
        },
        {
          "output_type": "stream",
          "name": "stdout",
          "text": [
            "finish model 35\n",
            "hidden nodes 60 ,threshold option 1\n",
            "Random state = 3558993948, Residual AVG = -3.4446153400382005, Residual STD = 20.949256601050752, RMSE = 21.23056115550164\n",
            "R2 score = 0.9522686156600881, Adjusted R2 score 0.9516969823147\n",
            "-------------threshold 2---------------\n"
          ]
        },
        {
          "output_type": "display_data",
          "data": {
            "text/plain": [
              "<Figure size 640x480 with 0 Axes>"
            ]
          },
          "metadata": {}
        },
        {
          "output_type": "stream",
          "name": "stdout",
          "text": [
            "finish model 36\n",
            "hidden nodes 60 ,threshold option 1\n",
            "Random state = 3183102303, Residual AVG = -0.5186739449030008, Residual STD = 18.394058525694128, RMSE = 18.40136983237341\n",
            "R2 score = 0.9641423857090596, Adjusted R2 score 0.9637129532025813\n",
            "-------------threshold 2---------------\n"
          ]
        },
        {
          "output_type": "display_data",
          "data": {
            "text/plain": [
              "<Figure size 640x480 with 0 Axes>"
            ]
          },
          "metadata": {}
        },
        {
          "output_type": "stream",
          "name": "stdout",
          "text": [
            "finish model 37\n",
            "hidden nodes 60 ,threshold option 1\n",
            "Random state = 957755958, Residual AVG = -0.8668227031469274, Residual STD = 18.259572719765618, RMSE = 18.28013614574847\n",
            "R2 score = 0.9646133104993, Adjusted R2 score 0.9641895178106689\n",
            "-------------threshold 2---------------\n"
          ]
        },
        {
          "output_type": "display_data",
          "data": {
            "text/plain": [
              "<Figure size 640x480 with 0 Axes>"
            ]
          },
          "metadata": {}
        },
        {
          "output_type": "stream",
          "name": "stdout",
          "text": [
            "finish model 38\n",
            "hidden nodes 60 ,threshold option 1\n",
            "Random state = 3077768135, Residual AVG = -2.2068669609500424, Residual STD = 20.362005746818433, RMSE = 20.48124849262856\n",
            "R2 score = 0.9555784266022471, Adjusted R2 score 0.955046431711256\n",
            "-------------threshold 2---------------\n"
          ]
        },
        {
          "output_type": "display_data",
          "data": {
            "text/plain": [
              "<Figure size 640x480 with 0 Axes>"
            ]
          },
          "metadata": {}
        },
        {
          "output_type": "stream",
          "name": "stdout",
          "text": [
            "finish model 39\n",
            "hidden nodes 60 ,threshold option 1\n",
            "Random state = 2582625312, Residual AVG = -2.7290475105581713, Residual STD = 21.214882898429014, RMSE = 21.389692767988503\n",
            "R2 score = 0.9515504021340594, Adjusted R2 score 0.950970167429078\n",
            "-------------threshold 2---------------\n"
          ]
        },
        {
          "output_type": "display_data",
          "data": {
            "text/plain": [
              "<Figure size 640x480 with 0 Axes>"
            ]
          },
          "metadata": {}
        },
        {
          "output_type": "stream",
          "name": "stdout",
          "text": [
            "finish model 40\n",
            "hidden nodes 60 ,threshold option 1\n",
            "Random state = 3848159986, Residual AVG = -3.004915377412221, Residual STD = 17.657257507388294, RMSE = 17.91112110136126\n",
            "R2 score = 0.966027569092126, Adjusted R2 score 0.9656207136321514\n",
            "-------------threshold 2---------------\n"
          ]
        },
        {
          "output_type": "display_data",
          "data": {
            "text/plain": [
              "<Figure size 640x480 with 0 Axes>"
            ]
          },
          "metadata": {}
        },
        {
          "output_type": "stream",
          "name": "stdout",
          "text": [
            "finish model 41\n",
            "hidden nodes 60 ,threshold option 1\n",
            "Random state = 1293250570, Residual AVG = -0.9475327272728161, Residual STD = 18.06401791195966, RMSE = 18.088851853914125\n",
            "R2 score = 0.9653500120899556, Adjusted R2 score 0.9649350421748653\n",
            "-------------threshold 2---------------\n"
          ]
        },
        {
          "output_type": "display_data",
          "data": {
            "text/plain": [
              "<Figure size 640x480 with 0 Axes>"
            ]
          },
          "metadata": {}
        },
        {
          "output_type": "stream",
          "name": "stdout",
          "text": [
            "finish model 42\n",
            "hidden nodes 60 ,threshold option 1\n",
            "Random state = 2750125358, Residual AVG = -1.2611642329679844, Residual STD = 19.547080953806162, RMSE = 19.587723426604978\n",
            "R2 score = 0.9593697953278043, Adjusted R2 score 0.958883206050293\n",
            "-------------threshold 2---------------\n"
          ]
        },
        {
          "output_type": "display_data",
          "data": {
            "text/plain": [
              "<Figure size 640x480 with 0 Axes>"
            ]
          },
          "metadata": {}
        },
        {
          "output_type": "stream",
          "name": "stdout",
          "text": [
            "finish model 43\n",
            "hidden nodes 60 ,threshold option 1\n",
            "Random state = 4105754568, Residual AVG = 1.0878897829947451, Residual STD = 20.618008508545035, RMSE = 20.646689299700807\n",
            "R2 score = 0.9548578823510525, Adjusted R2 score 0.954317258187592\n",
            "-------------threshold 2---------------\n"
          ]
        },
        {
          "output_type": "display_data",
          "data": {
            "text/plain": [
              "<Figure size 640x480 with 0 Axes>"
            ]
          },
          "metadata": {}
        },
        {
          "output_type": "stream",
          "name": "stdout",
          "text": [
            "finish model 44\n",
            "hidden nodes 60 ,threshold option 1\n",
            "Random state = 2218910115, Residual AVG = -4.631415239596261, Residual STD = 23.845335349502385, RMSE = 24.290945330550496\n",
            "R2 score = 0.9375158427528628, Adjusted R2 score 0.936767529492418\n",
            "-------------threshold 2---------------\n"
          ]
        },
        {
          "output_type": "display_data",
          "data": {
            "text/plain": [
              "<Figure size 640x480 with 0 Axes>"
            ]
          },
          "metadata": {}
        },
        {
          "output_type": "stream",
          "name": "stdout",
          "text": [
            "finish model 45\n",
            "hidden nodes 60 ,threshold option 1\n",
            "Random state = 3130211006, Residual AVG = -0.2304364915608396, Residual STD = 18.210972800093607, RMSE = 18.212430680784816\n",
            "R2 score = 0.9648749535597493, Adjusted R2 score 0.9644542943209439\n",
            "-------------threshold 2---------------\n"
          ]
        },
        {
          "output_type": "display_data",
          "data": {
            "text/plain": [
              "<Figure size 640x480 with 0 Axes>"
            ]
          },
          "metadata": {}
        },
        {
          "output_type": "stream",
          "name": "stdout",
          "text": [
            "finish model 46\n",
            "hidden nodes 60 ,threshold option 1\n",
            "Random state = 801395784, Residual AVG = -0.3376514779008908, Residual STD = 19.03305773925649, RMSE = 19.036052516905915\n",
            "R2 score = 0.9616261943158387, Adjusted R2 score 0.9611666277806991\n",
            "-------------threshold 2---------------\n"
          ]
        },
        {
          "output_type": "display_data",
          "data": {
            "text/plain": [
              "<Figure size 640x480 with 0 Axes>"
            ]
          },
          "metadata": {}
        },
        {
          "output_type": "stream",
          "name": "stdout",
          "text": [
            "finish model 47\n",
            "hidden nodes 60 ,threshold option 1\n",
            "Random state = 3178947770, Residual AVG = -3.0445676242002278, Residual STD = 22.026513235715054, RMSE = 22.235932122163412\n",
            "R2 score = 0.9476409494380686, Adjusted R2 score 0.947013894940321\n",
            "-------------threshold 2---------------\n"
          ]
        },
        {
          "output_type": "display_data",
          "data": {
            "text/plain": [
              "<Figure size 640x480 with 0 Axes>"
            ]
          },
          "metadata": {}
        },
        {
          "output_type": "stream",
          "name": "stdout",
          "text": [
            "finish model 48\n",
            "hidden nodes 60 ,threshold option 1\n",
            "Random state = 3699310972, Residual AVG = -0.8923200125297029, Residual STD = 19.6587599185424, RMSE = 19.67900090298413\n",
            "R2 score = 0.9589902449908555, Adjusted R2 score 0.9584991102003269\n",
            "-------------threshold 2---------------\n"
          ]
        },
        {
          "output_type": "display_data",
          "data": {
            "text/plain": [
              "<Figure size 640x480 with 0 Axes>"
            ]
          },
          "metadata": {}
        },
        {
          "output_type": "stream",
          "name": "stdout",
          "text": [
            "finish model 49\n",
            "hidden nodes 60 ,threshold option 1\n",
            "Random state = 3617632121, Residual AVG = -1.6924734190175696, Residual STD = 18.007320331792773, RMSE = 18.08668161399095\n",
            "R2 score = 0.9653583259704227, Adjusted R2 score 0.9649434556227631\n",
            "-------------threshold 2---------------\n"
          ]
        },
        {
          "output_type": "display_data",
          "data": {
            "text/plain": [
              "<Figure size 640x480 with 0 Axes>"
            ]
          },
          "metadata": {}
        },
        {
          "output_type": "stream",
          "name": "stdout",
          "text": [
            "finish model 50\n",
            "hidden nodes 60 ,threshold option 1\n",
            "Random state = 354617892, Residual AVG = -0.36398583424523606, Residual STD = 17.800763835951784, RMSE = 17.80448479543455\n",
            "R2 score = 0.9664308839278147, Adjusted R2 score 0.9660288585856329\n",
            "-------------threshold 2---------------\n"
          ]
        },
        {
          "output_type": "display_data",
          "data": {
            "text/plain": [
              "<Figure size 640x480 with 0 Axes>"
            ]
          },
          "metadata": {}
        },
        {
          "output_type": "stream",
          "name": "stdout",
          "text": [
            "finish model 51\n",
            "hidden nodes 60 ,threshold option 1\n",
            "Random state = 1155049373, Residual AVG = -3.518414688523434, Residual STD = 20.76717669628746, RMSE = 21.06311633769425\n",
            "R2 score = 0.9530185586399055, Adjusted R2 score 0.9524559066475691\n",
            "-------------threshold 2---------------\n"
          ]
        },
        {
          "output_type": "display_data",
          "data": {
            "text/plain": [
              "<Figure size 640x480 with 0 Axes>"
            ]
          },
          "metadata": {}
        },
        {
          "output_type": "stream",
          "name": "stdout",
          "text": [
            "finish model 52\n",
            "hidden nodes 60 ,threshold option 1\n",
            "Random state = 2002949093, Residual AVG = -1.0793127150325634, Residual STD = 18.179998979926363, RMSE = 18.212009193028504\n",
            "R2 score = 0.964876579329089, Adjusted R2 score 0.9644559395605751\n",
            "-------------threshold 2---------------\n"
          ]
        },
        {
          "output_type": "display_data",
          "data": {
            "text/plain": [
              "<Figure size 640x480 with 0 Axes>"
            ]
          },
          "metadata": {}
        },
        {
          "output_type": "stream",
          "name": "stdout",
          "text": [
            "finish model 53\n",
            "hidden nodes 60 ,threshold option 1\n",
            "Random state = 640272077, Residual AVG = 1.0408101937974328, Residual STD = 18.169182485258315, RMSE = 18.198969147787743\n",
            "R2 score = 0.9649268590119805, Adjusted R2 score 0.9645068213953575\n",
            "-------------threshold 2---------------\n"
          ]
        },
        {
          "output_type": "display_data",
          "data": {
            "text/plain": [
              "<Figure size 640x480 with 0 Axes>"
            ]
          },
          "metadata": {}
        },
        {
          "output_type": "stream",
          "name": "stdout",
          "text": [
            "finish model 54\n",
            "hidden nodes 60 ,threshold option 1\n",
            "Random state = 2652643145, Residual AVG = 1.1477696421338335, Residual STD = 20.657935911553203, RMSE = 20.68979679158893\n",
            "R2 score = 0.9546691843088415, Adjusted R2 score 0.9541263002885881\n",
            "-------------threshold 2---------------\n"
          ]
        },
        {
          "output_type": "display_data",
          "data": {
            "text/plain": [
              "<Figure size 640x480 with 0 Axes>"
            ]
          },
          "metadata": {}
        },
        {
          "output_type": "stream",
          "name": "stdout",
          "text": [
            "finish model 55\n",
            "hidden nodes 60 ,threshold option 1\n",
            "Random state = 946733608, Residual AVG = 1.6686996414830835, Residual STD = 23.869838496932836, RMSE = 23.92809537683981\n",
            "R2 score = 0.9393686349864655, Adjusted R2 score 0.9386425108545668\n",
            "-------------threshold 2---------------\n"
          ]
        },
        {
          "output_type": "display_data",
          "data": {
            "text/plain": [
              "<Figure size 640x480 with 0 Axes>"
            ]
          },
          "metadata": {}
        },
        {
          "output_type": "stream",
          "name": "stdout",
          "text": [
            "finish model 56\n",
            "hidden nodes 60 ,threshold option 1\n",
            "Random state = 3696617426, Residual AVG = -0.3943436087265519, Residual STD = 18.49518846968298, RMSE = 18.499391974084926\n",
            "R2 score = 0.9637593488187024, Adjusted R2 score 0.9633253290440761\n",
            "-------------threshold 2---------------\n"
          ]
        },
        {
          "output_type": "display_data",
          "data": {
            "text/plain": [
              "<Figure size 640x480 with 0 Axes>"
            ]
          },
          "metadata": {}
        },
        {
          "output_type": "stream",
          "name": "stdout",
          "text": [
            "finish model 57\n",
            "hidden nodes 60 ,threshold option 1\n",
            "Random state = 2489805691, Residual AVG = -0.6015190643003303, Residual STD = 19.0856257217264, RMSE = 19.09510236617079\n",
            "R2 score = 0.9613877539190485, Adjusted R2 score 0.9609253318102946\n",
            "-------------threshold 2---------------\n"
          ]
        },
        {
          "output_type": "display_data",
          "data": {
            "text/plain": [
              "<Figure size 640x480 with 0 Axes>"
            ]
          },
          "metadata": {}
        },
        {
          "output_type": "stream",
          "name": "stdout",
          "text": [
            "finish model 58\n",
            "hidden nodes 60 ,threshold option 1\n",
            "Random state = 2608962591, Residual AVG = -3.164718762067245, Residual STD = 17.926507074077534, RMSE = 18.203711179864733\n",
            "R2 score = 0.9649085788965899, Adjusted R2 score 0.9644883223564292\n",
            "-------------threshold 2---------------\n"
          ]
        },
        {
          "output_type": "display_data",
          "data": {
            "text/plain": [
              "<Figure size 640x480 with 0 Axes>"
            ]
          },
          "metadata": {}
        },
        {
          "output_type": "stream",
          "name": "stdout",
          "text": [
            "finish model 59\n",
            "hidden nodes 60 ,threshold option 1\n",
            "Random state = 1865481950, Residual AVG = -14.495640817475834, Residual STD = 55.0670687902196, RMSE = 56.9430036778536\n",
            "R2 score = 0.6566304119599575, Adjusted R2 score 0.6525182013247475\n",
            "-------------threshold 2---------------\n"
          ]
        },
        {
          "output_type": "display_data",
          "data": {
            "text/plain": [
              "<Figure size 640x480 with 0 Axes>"
            ]
          },
          "metadata": {}
        },
        {
          "output_type": "stream",
          "name": "stdout",
          "text": [
            "finish model 60\n",
            "hidden nodes 60 ,threshold option 1\n",
            "Random state = 858707510, Residual AVG = 0.6656430827529919, Residual STD = 20.58166449544344, RMSE = 20.592425649170472\n",
            "R2 score = 0.9550948556567049, Adjusted R2 score 0.954557069496905\n",
            "-------------threshold 2---------------\n"
          ]
        },
        {
          "output_type": "display_data",
          "data": {
            "text/plain": [
              "<Figure size 640x480 with 0 Axes>"
            ]
          },
          "metadata": {}
        },
        {
          "output_type": "stream",
          "name": "stdout",
          "text": [
            "finish model 61\n",
            "hidden nodes 60 ,threshold option 1\n",
            "Random state = 2866611408, Residual AVG = -2.7666821594925737, Residual STD = 20.30911007527935, RMSE = 20.496694421820013\n",
            "R2 score = 0.9555114002975907, Adjusted R2 score 0.9549786026963643\n",
            "-------------threshold 2---------------\n"
          ]
        },
        {
          "output_type": "display_data",
          "data": {
            "text/plain": [
              "<Figure size 640x480 with 0 Axes>"
            ]
          },
          "metadata": {}
        },
        {
          "output_type": "stream",
          "name": "stdout",
          "text": [
            "finish model 62\n",
            "hidden nodes 60 ,threshold option 1\n",
            "Random state = 2496812584, Residual AVG = 0.17741120501473215, Residual STD = 17.96019550165563, RMSE = 17.961071716168718\n",
            "R2 score = 0.9658378199387382, Adjusted R2 score 0.9654286920338129\n",
            "-------------threshold 2---------------\n"
          ]
        },
        {
          "output_type": "display_data",
          "data": {
            "text/plain": [
              "<Figure size 640x480 with 0 Axes>"
            ]
          },
          "metadata": {}
        },
        {
          "output_type": "stream",
          "name": "stdout",
          "text": [
            "finish model 63\n",
            "hidden nodes 60 ,threshold option 1\n",
            "Random state = 1402263799, Residual AVG = 1.7549317483692426, Residual STD = 19.885581297977236, RMSE = 19.962868756766802\n",
            "R2 score = 0.9577985875557514, Adjusted R2 score 0.9572931814186946\n",
            "-------------threshold 2---------------\n"
          ]
        },
        {
          "output_type": "display_data",
          "data": {
            "text/plain": [
              "<Figure size 640x480 with 0 Axes>"
            ]
          },
          "metadata": {}
        },
        {
          "output_type": "stream",
          "name": "stdout",
          "text": [
            "finish model 64\n",
            "hidden nodes 60 ,threshold option 1\n",
            "Random state = 989199827, Residual AVG = -4.359801287113459, Residual STD = 24.669794162342193, RMSE = 25.052077983182336\n",
            "R2 score = 0.9335387365082548, Adjusted R2 score 0.9327427932329045\n",
            "-------------threshold 2---------------\n"
          ]
        },
        {
          "output_type": "display_data",
          "data": {
            "text/plain": [
              "<Figure size 640x480 with 0 Axes>"
            ]
          },
          "metadata": {}
        },
        {
          "output_type": "stream",
          "name": "stdout",
          "text": [
            "finish model 65\n",
            "hidden nodes 60 ,threshold option 1\n",
            "Random state = 329913586, Residual AVG = 0.22483494771912824, Residual STD = 19.369843422641743, RMSE = 19.371148261560887\n",
            "R2 score = 0.9602632985192624, Adjusted R2 score 0.9597874098787745\n",
            "-------------threshold 2---------------\n"
          ]
        },
        {
          "output_type": "display_data",
          "data": {
            "text/plain": [
              "<Figure size 640x480 with 0 Axes>"
            ]
          },
          "metadata": {}
        },
        {
          "output_type": "stream",
          "name": "stdout",
          "text": [
            "finish model 66\n",
            "hidden nodes 60 ,threshold option 1\n",
            "Random state = 929345262, Residual AVG = -2.3790858184214168, Residual STD = 21.23735588759964, RMSE = 21.37019734181173\n",
            "R2 score = 0.9516386797096494, Adjusted R2 score 0.9510595022211422\n",
            "-------------threshold 2---------------\n"
          ]
        },
        {
          "output_type": "display_data",
          "data": {
            "text/plain": [
              "<Figure size 640x480 with 0 Axes>"
            ]
          },
          "metadata": {}
        },
        {
          "output_type": "stream",
          "name": "stdout",
          "text": [
            "finish model 67\n",
            "hidden nodes 60 ,threshold option 1\n",
            "Random state = 2763237690, Residual AVG = -0.2487154013256809, Residual STD = 20.42888333244776, RMSE = 20.43039729328871\n",
            "R2 score = 0.9557987340779993, Adjusted R2 score 0.9552693775998915\n",
            "-------------threshold 2---------------\n"
          ]
        },
        {
          "output_type": "display_data",
          "data": {
            "text/plain": [
              "<Figure size 640x480 with 0 Axes>"
            ]
          },
          "metadata": {}
        },
        {
          "output_type": "stream",
          "name": "stdout",
          "text": [
            "finish model 68\n",
            "hidden nodes 60 ,threshold option 1\n",
            "Random state = 3294789101, Residual AVG = 1.279698677704262, Residual STD = 23.41348010160445, RMSE = 23.448425942351555\n",
            "R2 score = 0.9417751373784369, Adjusted R2 score 0.9410778336344661\n",
            "-------------threshold 2---------------\n"
          ]
        },
        {
          "output_type": "display_data",
          "data": {
            "text/plain": [
              "<Figure size 640x480 with 0 Axes>"
            ]
          },
          "metadata": {}
        },
        {
          "output_type": "stream",
          "name": "stdout",
          "text": [
            "finish model 69\n",
            "hidden nodes 60 ,threshold option 1\n",
            "Random state = 374859758, Residual AVG = -2.500631225362209, Residual STD = 20.12703827853446, RMSE = 20.281785581916793\n",
            "R2 score = 0.956439439659901, Adjusted R2 score 0.9559177563025345\n",
            "-------------threshold 2---------------\n"
          ]
        },
        {
          "output_type": "display_data",
          "data": {
            "text/plain": [
              "<Figure size 640x480 with 0 Axes>"
            ]
          },
          "metadata": {}
        },
        {
          "output_type": "stream",
          "name": "stdout",
          "text": [
            "finish model 70\n",
            "hidden nodes 60 ,threshold option 1\n",
            "Random state = 1305023723, Residual AVG = -2.1198480560729007, Residual STD = 18.83020342073808, RMSE = 18.949150815992052\n",
            "R2 score = 0.9619757559942577, Adjusted R2 score 0.9615203758265243\n",
            "-------------threshold 2---------------\n"
          ]
        },
        {
          "output_type": "display_data",
          "data": {
            "text/plain": [
              "<Figure size 640x480 with 0 Axes>"
            ]
          },
          "metadata": {}
        },
        {
          "output_type": "stream",
          "name": "stdout",
          "text": [
            "finish model 71\n",
            "hidden nodes 60 ,threshold option 1\n",
            "Random state = 77695492, Residual AVG = -1.6944370738182613, Residual STD = 19.294118435236605, RMSE = 19.36837946731907\n",
            "R2 score = 0.9602746571528108, Adjusted R2 score 0.9597989045438624\n",
            "-------------threshold 2---------------\n"
          ]
        },
        {
          "output_type": "display_data",
          "data": {
            "text/plain": [
              "<Figure size 640x480 with 0 Axes>"
            ]
          },
          "metadata": {}
        },
        {
          "output_type": "stream",
          "name": "stdout",
          "text": [
            "finish model 72\n",
            "hidden nodes 60 ,threshold option 1\n",
            "Random state = 3411658431, Residual AVG = -1.184506012926157, Residual STD = 19.597824175195505, RMSE = 19.63358772350422\n",
            "R2 score = 0.9591793028058524, Adjusted R2 score 0.9586904321807728\n",
            "-------------threshold 2---------------\n"
          ]
        },
        {
          "output_type": "display_data",
          "data": {
            "text/plain": [
              "<Figure size 640x480 with 0 Axes>"
            ]
          },
          "metadata": {}
        },
        {
          "output_type": "stream",
          "name": "stdout",
          "text": [
            "finish model 73\n",
            "hidden nodes 60 ,threshold option 1\n",
            "Random state = 227174164, Residual AVG = -2.765415823598242, Residual STD = 19.33614148737003, RMSE = 19.532892573733157\n",
            "R2 score = 0.9595969448195423, Adjusted R2 score 0.9591130758952254\n",
            "-------------threshold 2---------------\n"
          ]
        },
        {
          "output_type": "display_data",
          "data": {
            "text/plain": [
              "<Figure size 640x480 with 0 Axes>"
            ]
          },
          "metadata": {}
        },
        {
          "output_type": "stream",
          "name": "stdout",
          "text": [
            "finish model 74\n",
            "hidden nodes 60 ,threshold option 1\n",
            "Random state = 2158728301, Residual AVG = -3.065833369886942, Residual STD = 19.43181872792942, RMSE = 19.672186287421663\n",
            "R2 score = 0.9590186425023112, Adjusted R2 score 0.95852784780174\n",
            "-------------threshold 2---------------\n"
          ]
        },
        {
          "output_type": "display_data",
          "data": {
            "text/plain": [
              "<Figure size 640x480 with 0 Axes>"
            ]
          },
          "metadata": {}
        },
        {
          "output_type": "stream",
          "name": "stdout",
          "text": [
            "finish model 75\n",
            "hidden nodes 60 ,threshold option 1\n",
            "Random state = 3433852578, Residual AVG = -3.7171765855110706, Residual STD = 19.260999563248312, RMSE = 19.616409099101787\n",
            "R2 score = 0.9592507045949167, Adjusted R2 score 0.9587626890810833\n",
            "-------------threshold 2---------------\n"
          ]
        },
        {
          "output_type": "display_data",
          "data": {
            "text/plain": [
              "<Figure size 640x480 with 0 Axes>"
            ]
          },
          "metadata": {}
        },
        {
          "output_type": "stream",
          "name": "stdout",
          "text": [
            "finish model 76\n",
            "hidden nodes 60 ,threshold option 1\n",
            "Random state = 2798888054, Residual AVG = -0.6643618566319556, Residual STD = 20.67046311145632, RMSE = 20.681136862334817\n",
            "R2 score = 0.9547071237342977, Adjusted R2 score 0.954164694078421\n",
            "-------------threshold 2---------------\n"
          ]
        },
        {
          "output_type": "display_data",
          "data": {
            "text/plain": [
              "<Figure size 640x480 with 0 Axes>"
            ]
          },
          "metadata": {}
        },
        {
          "output_type": "stream",
          "name": "stdout",
          "text": [
            "finish model 77\n",
            "hidden nodes 60 ,threshold option 1\n",
            "Random state = 244624246, Residual AVG = -0.47381532195892506, Residual STD = 22.144262004627407, RMSE = 22.149330479472923\n",
            "R2 score = 0.9480479977960603, Adjusted R2 score 0.9474258181289472\n",
            "-------------threshold 2---------------\n"
          ]
        },
        {
          "output_type": "display_data",
          "data": {
            "text/plain": [
              "<Figure size 640x480 with 0 Axes>"
            ]
          },
          "metadata": {}
        },
        {
          "output_type": "stream",
          "name": "stdout",
          "text": [
            "finish model 78\n",
            "hidden nodes 60 ,threshold option 1\n",
            "Random state = 4084735252, Residual AVG = -3.5533006899704827, Residual STD = 19.570022378350387, RMSE = 19.889990489753373\n",
            "R2 score = 0.9581061537549314, Adjusted R2 score 0.9576044310454096\n",
            "-------------threshold 2---------------\n"
          ]
        },
        {
          "output_type": "display_data",
          "data": {
            "text/plain": [
              "<Figure size 640x480 with 0 Axes>"
            ]
          },
          "metadata": {}
        },
        {
          "output_type": "stream",
          "name": "stdout",
          "text": [
            "finish model 79\n",
            "hidden nodes 60 ,threshold option 1\n",
            "Random state = 865026754, Residual AVG = -0.24320833027465058, Residual STD = 17.62706250429327, RMSE = 17.628740250573117\n",
            "R2 score = 0.9670903213959874, Adjusted R2 score 0.9666961935085142\n",
            "-------------threshold 2---------------\n"
          ]
        },
        {
          "output_type": "display_data",
          "data": {
            "text/plain": [
              "<Figure size 640x480 with 0 Axes>"
            ]
          },
          "metadata": {}
        },
        {
          "output_type": "stream",
          "name": "stdout",
          "text": [
            "finish model 80\n",
            "hidden nodes 60 ,threshold option 1\n",
            "Random state = 568361114, Residual AVG = 0.9909830160098819, Residual STD = 19.44703801923683, RMSE = 19.472270927132843\n",
            "R2 score = 0.9598473428535474, Adjusted R2 score 0.959366472708081\n",
            "-------------threshold 2---------------\n"
          ]
        },
        {
          "output_type": "display_data",
          "data": {
            "text/plain": [
              "<Figure size 640x480 with 0 Axes>"
            ]
          },
          "metadata": {}
        },
        {
          "output_type": "stream",
          "name": "stdout",
          "text": [
            "finish model 81\n",
            "hidden nodes 60 ,threshold option 1\n",
            "Random state = 455054418, Residual AVG = -2.4788946646649017, Residual STD = 19.029761392503385, RMSE = 19.19053770518472\n",
            "R2 score = 0.9610008294313243, Adjusted R2 score 0.96053377349637\n",
            "-------------threshold 2---------------\n"
          ]
        },
        {
          "output_type": "display_data",
          "data": {
            "text/plain": [
              "<Figure size 640x480 with 0 Axes>"
            ]
          },
          "metadata": {}
        },
        {
          "output_type": "stream",
          "name": "stdout",
          "text": [
            "finish model 82\n",
            "hidden nodes 60 ,threshold option 1\n",
            "Random state = 2322235648, Residual AVG = -2.680126816321834, Residual STD = 18.635461215745146, RMSE = 18.827200919815695\n",
            "R2 score = 0.9624636017510408, Adjusted R2 score 0.9620140640474605\n",
            "-------------threshold 2---------------\n"
          ]
        },
        {
          "output_type": "display_data",
          "data": {
            "text/plain": [
              "<Figure size 640x480 with 0 Axes>"
            ]
          },
          "metadata": {}
        },
        {
          "output_type": "stream",
          "name": "stdout",
          "text": [
            "finish model 83\n",
            "hidden nodes 60 ,threshold option 1\n",
            "Random state = 30838875, Residual AVG = -2.090645922351069, Residual STD = 24.31443336837418, RMSE = 24.404148630873216\n",
            "R2 score = 0.9369320947871156, Adjusted R2 score 0.9361767905330691\n",
            "-------------threshold 2---------------\n"
          ]
        },
        {
          "output_type": "display_data",
          "data": {
            "text/plain": [
              "<Figure size 640x480 with 0 Axes>"
            ]
          },
          "metadata": {}
        },
        {
          "output_type": "stream",
          "name": "stdout",
          "text": [
            "finish model 84\n",
            "hidden nodes 60 ,threshold option 1\n",
            "Random state = 201981682, Residual AVG = 1.499481914799998, Residual STD = 18.08881153381082, RMSE = 18.15085531644555\n",
            "R2 score = 0.9651120642831095, Adjusted R2 score 0.9646942446936856\n",
            "-------------threshold 2---------------\n"
          ]
        },
        {
          "output_type": "display_data",
          "data": {
            "text/plain": [
              "<Figure size 640x480 with 0 Axes>"
            ]
          },
          "metadata": {}
        },
        {
          "output_type": "stream",
          "name": "stdout",
          "text": [
            "finish model 85\n",
            "hidden nodes 60 ,threshold option 1\n",
            "Random state = 2776704109, Residual AVG = -1.0604176816224729, Residual STD = 17.451041819586592, RMSE = 17.483230429427444\n",
            "R2 score = 0.9676313604257566, Adjusted R2 score 0.9672437120476219\n",
            "-------------threshold 2---------------\n"
          ]
        },
        {
          "output_type": "display_data",
          "data": {
            "text/plain": [
              "<Figure size 640x480 with 0 Axes>"
            ]
          },
          "metadata": {}
        },
        {
          "output_type": "stream",
          "name": "stdout",
          "text": [
            "finish model 86\n",
            "hidden nodes 60 ,threshold option 1\n",
            "Random state = 2482699742, Residual AVG = -2.089586030795804, Residual STD = 18.772298595980015, RMSE = 18.888238783876336\n",
            "R2 score = 0.9622198209013332, Adjusted R2 score 0.9617673636666186\n",
            "-------------threshold 2---------------\n"
          ]
        },
        {
          "output_type": "display_data",
          "data": {
            "text/plain": [
              "<Figure size 640x480 with 0 Axes>"
            ]
          },
          "metadata": {}
        },
        {
          "output_type": "stream",
          "name": "stdout",
          "text": [
            "finish model 87\n",
            "hidden nodes 60 ,threshold option 1\n",
            "Random state = 741650533, Residual AVG = -2.800834330461289, Residual STD = 19.465412712341248, RMSE = 19.665883275573126\n",
            "R2 score = 0.9590448993298137, Adjusted R2 score 0.9585544190822666\n",
            "-------------threshold 2---------------\n"
          ]
        },
        {
          "output_type": "display_data",
          "data": {
            "text/plain": [
              "<Figure size 640x480 with 0 Axes>"
            ]
          },
          "metadata": {}
        },
        {
          "output_type": "stream",
          "name": "stdout",
          "text": [
            "finish model 88\n",
            "hidden nodes 60 ,threshold option 1\n",
            "Random state = 746475642, Residual AVG = -0.9416097744029348, Residual STD = 19.358202400631395, RMSE = 19.381089472758294\n",
            "R2 score = 0.9602225025581063, Adjusted R2 score 0.9597461253432333\n",
            "-------------threshold 2---------------\n"
          ]
        },
        {
          "output_type": "display_data",
          "data": {
            "text/plain": [
              "<Figure size 640x480 with 0 Axes>"
            ]
          },
          "metadata": {}
        },
        {
          "output_type": "stream",
          "name": "stdout",
          "text": [
            "finish model 89\n",
            "hidden nodes 60 ,threshold option 1\n",
            "Random state = 3017816617, Residual AVG = -2.223718473475689, Residual STD = 20.108419693267397, RMSE = 20.2310026051568\n",
            "R2 score = 0.9566573066188163, Adjusted R2 score 0.9561382324465866\n",
            "-------------threshold 2---------------\n"
          ]
        },
        {
          "output_type": "display_data",
          "data": {
            "text/plain": [
              "<Figure size 640x480 with 0 Axes>"
            ]
          },
          "metadata": {}
        },
        {
          "output_type": "stream",
          "name": "stdout",
          "text": [
            "finish model 90\n",
            "hidden nodes 60 ,threshold option 1\n",
            "Random state = 3835856505, Residual AVG = -3.73764449398334, Residual STD = 19.418362808409423, RMSE = 19.77480216139778\n",
            "R2 score = 0.9585899859320247, Adjusted R2 score 0.9580940576198334\n",
            "-------------threshold 2---------------\n"
          ]
        },
        {
          "output_type": "display_data",
          "data": {
            "text/plain": [
              "<Figure size 640x480 with 0 Axes>"
            ]
          },
          "metadata": {}
        },
        {
          "output_type": "stream",
          "name": "stdout",
          "text": [
            "finish model 91\n",
            "hidden nodes 60 ,threshold option 1\n",
            "Random state = 3379087713, Residual AVG = -2.6097743625389414, Residual STD = 18.2230020483046, RMSE = 18.408930601093566\n",
            "R2 score = 0.9641129132482424, Adjusted R2 score 0.9636831277781616\n",
            "-------------threshold 2---------------\n"
          ]
        },
        {
          "output_type": "display_data",
          "data": {
            "text/plain": [
              "<Figure size 640x480 with 0 Axes>"
            ]
          },
          "metadata": {}
        },
        {
          "output_type": "stream",
          "name": "stdout",
          "text": [
            "finish model 92\n",
            "hidden nodes 60 ,threshold option 1\n",
            "Random state = 2793349193, Residual AVG = 1.45085661716399, Residual STD = 18.363332012813814, RMSE = 18.42055774227266\n",
            "R2 score = 0.9640675661277668, Adjusted R2 score 0.9636372375783987\n",
            "-------------threshold 2---------------\n"
          ]
        },
        {
          "output_type": "display_data",
          "data": {
            "text/plain": [
              "<Figure size 640x480 with 0 Axes>"
            ]
          },
          "metadata": {}
        },
        {
          "output_type": "stream",
          "name": "stdout",
          "text": [
            "finish model 93\n",
            "hidden nodes 60 ,threshold option 1\n",
            "Random state = 2407579622, Residual AVG = 0.4358701227027731, Residual STD = 17.533880024637785, RMSE = 17.539296778441745\n",
            "R2 score = 0.9674234238724007, Adjusted R2 score 0.967033285236142\n",
            "-------------threshold 2---------------\n"
          ]
        },
        {
          "output_type": "display_data",
          "data": {
            "text/plain": [
              "<Figure size 640x480 with 0 Axes>"
            ]
          },
          "metadata": {}
        },
        {
          "output_type": "stream",
          "name": "stdout",
          "text": [
            "finish model 94\n",
            "hidden nodes 60 ,threshold option 1\n",
            "Random state = 3723646943, Residual AVG = -0.7017556608315864, Residual STD = 21.690982075670814, RMSE = 21.702330852113136\n",
            "R2 score = 0.9501237442084512, Adjusted R2 score 0.94952642377981\n",
            "-------------threshold 2---------------\n"
          ]
        },
        {
          "output_type": "display_data",
          "data": {
            "text/plain": [
              "<Figure size 640x480 with 0 Axes>"
            ]
          },
          "metadata": {}
        },
        {
          "output_type": "stream",
          "name": "stdout",
          "text": [
            "finish model 95\n",
            "hidden nodes 60 ,threshold option 1\n",
            "Random state = 3345789756, Residual AVG = -2.90332505958107, Residual STD = 20.489887488454507, RMSE = 20.694559325849777\n",
            "R2 score = 0.9546483127253722, Adjusted R2 score 0.9541051787460353\n",
            "-------------threshold 2---------------\n"
          ]
        },
        {
          "output_type": "display_data",
          "data": {
            "text/plain": [
              "<Figure size 640x480 with 0 Axes>"
            ]
          },
          "metadata": {}
        },
        {
          "output_type": "stream",
          "name": "stdout",
          "text": [
            "finish model 96\n",
            "hidden nodes 60 ,threshold option 1\n",
            "Random state = 854114181, Residual AVG = -2.321356647998704, Residual STD = 19.488977876921147, RMSE = 19.62674082404742\n",
            "R2 score = 0.9592077689709405, Adjusted R2 score 0.9587192392580176\n",
            "-------------threshold 2---------------\n"
          ]
        },
        {
          "output_type": "display_data",
          "data": {
            "text/plain": [
              "<Figure size 640x480 with 0 Axes>"
            ]
          },
          "metadata": {}
        },
        {
          "output_type": "stream",
          "name": "stdout",
          "text": [
            "finish model 97\n",
            "hidden nodes 60 ,threshold option 1\n",
            "Random state = 277580350, Residual AVG = -2.8949193328754093, Residual STD = 18.44223574199205, RMSE = 18.668064096393735\n",
            "R2 score = 0.9630954724194752, Adjusted R2 score 0.9626535020292893\n",
            "-------------threshold 2---------------\n"
          ]
        },
        {
          "output_type": "display_data",
          "data": {
            "text/plain": [
              "<Figure size 640x480 with 0 Axes>"
            ]
          },
          "metadata": {}
        },
        {
          "output_type": "stream",
          "name": "stdout",
          "text": [
            "finish model 98\n",
            "hidden nodes 60 ,threshold option 1\n",
            "Random state = 1313506531, Residual AVG = 0.15517457838273244, Residual STD = 19.81114061813074, RMSE = 19.81174832621104\n",
            "R2 score = 0.9584351049454396, Adjusted R2 score 0.9579373217711334\n",
            "-------------threshold 2---------------\n"
          ]
        },
        {
          "output_type": "display_data",
          "data": {
            "text/plain": [
              "<Figure size 640x480 with 0 Axes>"
            ]
          },
          "metadata": {}
        },
        {
          "output_type": "stream",
          "name": "stdout",
          "text": [
            "finish model 99\n"
          ]
        },
        {
          "output_type": "display_data",
          "data": {
            "text/plain": [
              "<Figure size 640x480 with 1 Axes>"
            ],
            "image/png": "[encoded data removed]"
          },
          "metadata": {}
        },
        {
          "output_type": "stream",
          "name": "stdout",
          "text": [
            "RMSE AVG = 19.876686020394814, RMSE STD = 4.050154125469045\n",
            "Residual AVG = -1.2392147637194408, Residual STD = 20.24724036412845\n",
            "stat: 18308.36806089597, p_value: 0.0\n",
            "Skew: -1.1212108966788639, Kurtosis: 15.979324093084276\n",
            "one sigma percent: 0.7556692913385826, two sigma percent: 0.9559842519685039, three sigma percent: 0.9881299212598426\n"
          ]
        },
        {
          "output_type": "display_data",
          "data": {
            "text/plain": [
              "<Figure size 640x480 with 1 Axes>"
            ],
            "image/png": "[encoded data removed]"
          },
          "metadata": {}
        },
        {
          "output_type": "display_data",
          "data": {
            "text/plain": [
              "<Figure size 640x480 with 1 Axes>"
            ],
            "image/png": "[encoded data removed]"
          },
          "metadata": {}
        }
      ]
    }
  ]
}