{
  "nbformat": 4,
  "nbformat_minor": 0,
  "metadata": {
    "colab": {
      "provenance": [],
      "include_colab_link": true
    },
    "kernelspec": {
      "name": "python3",
      "display_name": "Python 3"
    },
    "language_info": {
      "name": "python"
    }
  },
  "cells": [
    {
      "cell_type": "markdown",
      "metadata": {
        "id": "view-in-github",
        "colab_type": "text"
      },
      "source": [
        "<a href=\"https://colab.research.google.com/github/MISJasonChuang/ELM_Pretest/blob/main/ELM_randomness.ipynb\" target=\"_parent\"><img src=\"https://colab.research.google.com/assets/colab-badge.svg\" alt=\"Open In Colab\"/></a>"
      ]
    },
    {
      "cell_type": "code",
      "source": [
        "#  --quiet hide code cell output\n",
        "!pip install -U scikit-multiflow --quiet\n",
        "!pip install statsmodels --quiet"
      ],
      "metadata": {
        "id": "I09KmeI3l81M",
        "colab": {
          "base_uri": "https://localhost:8080/"
        },
        "outputId": "d4cfa2c2-5e25-4ce6-e87a-7fcfeac8982b"
      },
      "execution_count": 1,
      "outputs": [
        {
          "output_type": "stream",
          "name": "stdout",
          "text": [
            "\u001b[2K     \u001b[90m━━━━━━━━━━━━━━━━━━━━━━━━━━━━━━━━━━━━━━━━\u001b[0m \u001b[32m450.6/450.6 kB\u001b[0m \u001b[31m3.2 MB/s\u001b[0m eta \u001b[36m0:00:00\u001b[0m\n",
            "\u001b[?25h  Preparing metadata (setup.py) ... \u001b[?25l\u001b[?25hdone\n",
            "  Building wheel for scikit-multiflow (setup.py) ... \u001b[?25l\u001b[?25hdone\n"
          ]
        }
      ]
    },
    {
      "cell_type": "code",
      "source": [
        "# -*- coding: utf8\n",
        "# Author: David C. Lambert [dcl -at- panix -dot- com]\n",
        "# Copyright(c) 2013\n",
        "# License: Simple BSD\n",
        "\n",
        "\"\"\"The :mod:`random_layer` module\n",
        "implements Random Layer transformers.\n",
        "\n",
        "Random layers are arrays of hidden unit activations that are\n",
        "random functions of input activation values (dot products for simple\n",
        "activation functions, distances from prototypes for radial basis\n",
        "functions).\n",
        "\n",
        "They are used in the implementation of Extreme Learning Machines (ELMs),\n",
        "but can be used as a general input mapping.\n",
        "\"\"\"\n",
        "\n",
        "from abc import ABCMeta, abstractmethod\n",
        "\n",
        "from math import sqrt\n",
        "\n",
        "import numpy as np\n",
        "import scipy.sparse as sp\n",
        "from scipy.spatial.distance import cdist, pdist, squareform\n",
        "\n",
        "from sklearn.metrics import pairwise_distances\n",
        "from sklearn.utils import check_random_state, check_array\n",
        "from sklearn.utils.extmath import safe_sparse_dot\n",
        "from sklearn.base import BaseEstimator, TransformerMixin\n",
        "\n",
        "__all__ = [\n",
        "    \"RandomLayer\",\n",
        "    \"MLPRandomLayer\",\n",
        "    \"RBFRandomLayer\",\n",
        "    \"GRBFRandomLayer\",\n",
        "]\n",
        "\n",
        "\n",
        "class BaseRandomLayer(BaseEstimator, TransformerMixin):\n",
        "    \"\"\"Abstract Base Class for random  layers\"\"\"\n",
        "\n",
        "    __metaclass__ = ABCMeta\n",
        "\n",
        "    _internal_activation_funcs = dict()\n",
        "\n",
        "    @classmethod\n",
        "    def activation_func_names(cls):\n",
        "        \"\"\"Get list of internal activation function names\"\"\"\n",
        "        return cls._internal_activation_funcs.keys()\n",
        "\n",
        "    # take n_hidden and random_state, init components_ and\n",
        "    # input_activations_\n",
        "    def __init__(\n",
        "        self, n_hidden=20, random_state=0, activation_func=None, activation_args=None\n",
        "    ):\n",
        "        self.n_hidden = n_hidden\n",
        "        self.random_state = random_state\n",
        "        self.activation_func = activation_func\n",
        "        self.activation_args = activation_args\n",
        "\n",
        "        self.components_ = dict()\n",
        "        self.input_activations_ = None\n",
        "\n",
        "        # keyword args for internally defined funcs\n",
        "        self._extra_args = dict()\n",
        "\n",
        "    @abstractmethod\n",
        "    def _generate_components(self, X):\n",
        "        \"\"\"Generate components of hidden layer given X\"\"\"\n",
        "\n",
        "    @abstractmethod\n",
        "    def _compute_input_activations(self, X):\n",
        "        \"\"\"Compute input activations given X\"\"\"\n",
        "\n",
        "    # compute input activations and pass them\n",
        "    # through the hidden layer transfer functions\n",
        "    # to compute the transform\n",
        "    def _compute_hidden_activations(self, X):\n",
        "        \"\"\"Compute hidden activations given X\"\"\"\n",
        "\n",
        "        self._compute_input_activations(X)\n",
        "\n",
        "        acts = self.input_activations_\n",
        "\n",
        "        if callable(self.activation_func):\n",
        "            args_dict = self.activation_args if (self.activation_args) else {}\n",
        "            X_new = self.activation_func(acts, **args_dict)\n",
        "        else:\n",
        "            func_name = self.activation_func\n",
        "            func = self._internal_activation_funcs[func_name]\n",
        "\n",
        "            X_new = func(acts, **self._extra_args)\n",
        "\n",
        "        return X_new\n",
        "\n",
        "    # perform fit by generating random components based\n",
        "    # on the input array\n",
        "    def fit(self, X, y=None):\n",
        "        \"\"\"Generate a random hidden layer.\n",
        "\n",
        "        Parameters\n",
        "        ----------\n",
        "        X : {array-like, sparse matrix} of shape [n_samples, n_features]\n",
        "            Training set: only the shape is used to generate random component\n",
        "            values for hidden units\n",
        "\n",
        "        y : is not used: placeholder to allow for usage in a Pipeline.\n",
        "\n",
        "        Returns\n",
        "        -------\n",
        "        self\n",
        "        \"\"\"\n",
        "        X = check_array(X)\n",
        "\n",
        "        self._generate_components(X)\n",
        "\n",
        "        return self\n",
        "\n",
        "    # perform transformation by calling compute_hidden_activations\n",
        "    # (which will normally call compute_input_activations first)\n",
        "    def transform(self, X, y=None):\n",
        "        \"\"\"Generate the random hidden layer's activations given X as input.\n",
        "\n",
        "        Parameters\n",
        "        ----------\n",
        "        X : {array-like, sparse matrix}, shape [n_samples, n_features]\n",
        "            Data to transform\n",
        "\n",
        "        y : is not used: placeholder to allow for usage in a Pipeline.\n",
        "\n",
        "        Returns\n",
        "        -------\n",
        "        X_new : numpy array of shape [n_samples, n_components]\n",
        "        \"\"\"\n",
        "        X = check_array(X)\n",
        "\n",
        "        if self.components_ is None:\n",
        "            raise ValueError(\"No components initialized\")\n",
        "\n",
        "        return self._compute_hidden_activations(X)\n",
        "\n",
        "\n",
        "class RandomLayer(BaseRandomLayer):\n",
        "    \"\"\"RandomLayer is a transformer that creates a feature mapping of the\n",
        "    inputs that corresponds to a layer of hidden units with randomly\n",
        "    generated components.\n",
        "\n",
        "    The transformed values are a specified function of input activations\n",
        "    that are a weighted combination of dot product (multilayer perceptron)\n",
        "    and distance (rbf) activations:\n",
        "\n",
        "      input_activation = alpha * mlp_activation + (1-alpha) * rbf_activation\n",
        "\n",
        "      mlp_activation(x) = dot(x, weights) + bias\n",
        "      rbf_activation(x) = rbf_width * ||x - center||/radius\n",
        "\n",
        "      alpha and rbf_width are specified by the user\n",
        "\n",
        "      weights and biases are taken from normal distribution of\n",
        "      mean 0 and sd of 1\n",
        "\n",
        "      centers are taken uniformly from the bounding hyperrectangle\n",
        "      of the inputs, and radii are max(||x-c||)/sqrt(n_centers*2)\n",
        "\n",
        "    The input activation is transformed by a transfer function that defaults\n",
        "    to numpy.tanh if not specified, but can be any callable that returns an\n",
        "    array of the same shape as its argument (the input activation array, of\n",
        "    shape [n_samples, n_hidden]).  Functions provided are 'sine', 'tanh',\n",
        "    'tribas', 'inv_tribas', 'sigmoid', 'hardlim', 'softlim', 'gaussian',\n",
        "    'multiquadric', or 'inv_multiquadric'.\n",
        "\n",
        "    Parameters\n",
        "    ----------\n",
        "    `n_hidden` : int, optional (default=20)\n",
        "        Number of units to generate\n",
        "\n",
        "    `alpha` : float, optional (default=0.5)\n",
        "        Mixing coefficient for distance and dot product input activations:\n",
        "        activation = alpha*mlp_activation + (1-alpha)*rbf_width*rbf_activation\n",
        "\n",
        "    `rbf_width` : float, optional (default=1.0)\n",
        "        multiplier on rbf_activation\n",
        "\n",
        "    `user_components`: dictionary, optional (default=None)\n",
        "        dictionary containing values for components that woud otherwise be\n",
        "        randomly generated.  Valid key/value pairs are as follows:\n",
        "           'radii'  : array-like of shape [n_hidden]\n",
        "           'centers': array-like of shape [n_hidden, n_features]\n",
        "           'biases' : array-like of shape [n_hidden]\n",
        "           'weights': array-like of shape [n_features, n_hidden]\n",
        "\n",
        "    `activation_func` : {callable, string} optional (default='tanh')\n",
        "        Function used to transform input activation\n",
        "\n",
        "        It must be one of 'tanh', 'sine', 'tribas', 'inv_tribas',\n",
        "        'sigmoid', 'hardlim', 'softlim', 'gaussian', 'multiquadric',\n",
        "        'inv_multiquadric' or a callable.  If None is given, 'tanh'\n",
        "        will be used.\n",
        "\n",
        "        If a callable is given, it will be used to compute the activations.\n",
        "\n",
        "    `activation_args` : dictionary, optional (default=None)\n",
        "        Supplies keyword arguments for a callable activation_func\n",
        "\n",
        "    `random_state`  : int, RandomState instance or None (default=None)\n",
        "        Control the pseudo random number generator used to generate the\n",
        "        hidden unit weights at fit time.\n",
        "\n",
        "    Attributes\n",
        "    ----------\n",
        "    `input_activations_` : numpy array of shape [n_samples, n_hidden]\n",
        "        Array containing dot(x, hidden_weights) + bias for all samples\n",
        "\n",
        "    `components_` : dictionary containing two keys:\n",
        "        `bias_weights_`   : numpy array of shape [n_hidden]\n",
        "        `hidden_weights_` : numpy array of shape [n_features, n_hidden]\n",
        "\n",
        "    See Also\n",
        "    --------\n",
        "    \"\"\"\n",
        "\n",
        "    # triangular activation function\n",
        "    _tribas = lambda x: np.clip(1.0 - np.fabs(x), 0.0, 1.0)\n",
        "\n",
        "    # inverse triangular activation function\n",
        "    _inv_tribas = lambda x: np.clip(np.fabs(x), 0.0, 1.0)\n",
        "\n",
        "    # sigmoid activation function\n",
        "    _sigmoid = lambda x: 1.0 / (1.0 + np.exp(-x))\n",
        "\n",
        "    # hard limit activation function\n",
        "    _hardlim = lambda x: np.array(x > 0.0, dtype=float)\n",
        "\n",
        "    _softlim = lambda x: np.clip(x, 0.0, 1.0)\n",
        "\n",
        "    # gaussian RBF\n",
        "    _gaussian = lambda x: np.exp(-pow(x, 2.0))\n",
        "\n",
        "    # multiquadric RBF\n",
        "    _multiquadric = lambda x: np.sqrt(1.0 + pow(x, 2.0))\n",
        "\n",
        "    # inverse multiquadric RBF\n",
        "    _inv_multiquadric = lambda x: 1.0 / (np.sqrt(1.0 + pow(x, 2.0)))\n",
        "\n",
        "    # internal activation function table\n",
        "    _internal_activation_funcs = {\n",
        "        \"sine\": np.sin,\n",
        "        \"tanh\": np.tanh,\n",
        "        \"tribas\": _tribas,\n",
        "        \"inv_tribas\": _inv_tribas,\n",
        "        \"sigmoid\": _sigmoid,\n",
        "        \"softlim\": _softlim,\n",
        "        \"hardlim\": _hardlim,\n",
        "        \"gaussian\": _gaussian,\n",
        "        \"multiquadric\": _multiquadric,\n",
        "        \"inv_multiquadric\": _inv_multiquadric,\n",
        "    }\n",
        "\n",
        "    def __init__(\n",
        "        self,\n",
        "        n_hidden=20,\n",
        "        alpha=0.5,\n",
        "        random_state=None,\n",
        "        activation_func=\"tanh\",\n",
        "        activation_args=None,\n",
        "        user_components=None,\n",
        "        rbf_width=1.0,\n",
        "    ):\n",
        "        super(RandomLayer, self).__init__(\n",
        "            n_hidden=n_hidden,\n",
        "            random_state=random_state,\n",
        "            activation_func=activation_func,\n",
        "            activation_args=activation_args,\n",
        "        )\n",
        "\n",
        "        if isinstance(self.activation_func, str):\n",
        "            func_names = self._internal_activation_funcs.keys()\n",
        "            if self.activation_func not in func_names:\n",
        "                msg = \"unknown activation function '%s'\" % self.activation_func\n",
        "                raise ValueError(msg)\n",
        "\n",
        "        self.alpha = alpha\n",
        "        self.rbf_width = rbf_width\n",
        "        self.user_components = user_components\n",
        "\n",
        "        self._use_mlp_input = self.alpha != 0.0\n",
        "        self._use_rbf_input = self.alpha != 1.0\n",
        "\n",
        "    def _get_user_components(self, key):\n",
        "        \"\"\"Look for given user component\"\"\"\n",
        "        try:\n",
        "            return self.user_components[key]\n",
        "        except (TypeError, KeyError):\n",
        "            return None\n",
        "\n",
        "    def _compute_radii(self):\n",
        "        \"\"\"Generate RBF radii\"\"\"\n",
        "\n",
        "        # use supplied radii if present\n",
        "        radii = self._get_user_components(\"radii\")\n",
        "\n",
        "        # compute radii\n",
        "        if radii is None:\n",
        "            centers = self.components_[\"centers\"]\n",
        "\n",
        "            n_centers = centers.shape[0]\n",
        "            max_dist = np.max(pairwise_distances(centers))\n",
        "            radii = np.ones(n_centers) * max_dist / sqrt(2.0 * n_centers)\n",
        "\n",
        "        self.components_[\"radii\"] = radii\n",
        "\n",
        "    def _compute_centers(self, X, sparse, rs):\n",
        "        \"\"\"Generate RBF centers\"\"\"\n",
        "\n",
        "        # use supplied centers if present\n",
        "        centers = self._get_user_components(\"centers\")\n",
        "\n",
        "        # use points taken uniformly from the bounding\n",
        "        # hyperrectangle\n",
        "        if centers is None:\n",
        "            n_features = X.shape[1]\n",
        "\n",
        "            if sparse:\n",
        "                fxr = xrange(n_features)\n",
        "                cols = [X.getcol(i) for i in fxr]\n",
        "\n",
        "                min_dtype = X.dtype.type(1.0e10)\n",
        "                sp_min = lambda col: np.minimum(min_dtype, np.min(col.data))\n",
        "                min_Xs = np.array(map(sp_min, cols))\n",
        "\n",
        "                max_dtype = X.dtype.type(-1.0e10)\n",
        "                sp_max = lambda col: np.maximum(max_dtype, np.max(col.data))\n",
        "                max_Xs = np.array(map(sp_max, cols))\n",
        "            else:\n",
        "                min_Xs = X.min(axis=0)\n",
        "                max_Xs = X.max(axis=0)\n",
        "\n",
        "            spans = max_Xs - min_Xs\n",
        "            ctrs_size = (self.n_hidden, n_features)\n",
        "            centers = min_Xs + spans * rs.uniform(0.0, 1.0, ctrs_size)\n",
        "\n",
        "        self.components_[\"centers\"] = centers\n",
        "\n",
        "    def _compute_biases(self, rs):\n",
        "        \"\"\"Generate MLP biases\"\"\"\n",
        "\n",
        "        # use supplied biases if present\n",
        "        biases = self._get_user_components(\"biases\")\n",
        "        if biases is None:\n",
        "            b_size = self.n_hidden\n",
        "            biases = rs.normal(size=b_size)\n",
        "\n",
        "        self.components_[\"biases\"] = biases\n",
        "\n",
        "    def _compute_weights(self, X, rs):\n",
        "        \"\"\"Generate MLP weights\"\"\"\n",
        "\n",
        "        # use supplied weights if present\n",
        "        weights = self._get_user_components(\"weights\")\n",
        "        if weights is None:\n",
        "            n_features = X.shape[1]\n",
        "            hw_size = (n_features, self.n_hidden)\n",
        "            weights = rs.normal(size=hw_size)\n",
        "\n",
        "        self.components_[\"weights\"] = weights\n",
        "\n",
        "    def _generate_components(self, X):\n",
        "        \"\"\"Generate components of hidden layer given X\"\"\"\n",
        "\n",
        "        rs = check_random_state(self.random_state)\n",
        "        if self._use_mlp_input:\n",
        "            self._compute_biases(rs)\n",
        "            self._compute_weights(X, rs)\n",
        "\n",
        "        if self._use_rbf_input:\n",
        "            self._compute_centers(X, sp.issparse(X), rs)\n",
        "            self._compute_radii()\n",
        "\n",
        "    def _compute_input_activations(self, X):\n",
        "        \"\"\"Compute input activations given X\"\"\"\n",
        "\n",
        "        n_samples = X.shape[0]\n",
        "\n",
        "        mlp_acts = np.zeros((n_samples, self.n_hidden))\n",
        "        if self._use_mlp_input:\n",
        "            b = self.components_[\"biases\"]\n",
        "            w = self.components_[\"weights\"]\n",
        "            mlp_acts = self.alpha * (safe_sparse_dot(X, w) + b)\n",
        "\n",
        "        rbf_acts = np.zeros((n_samples, self.n_hidden))\n",
        "        if self._use_rbf_input:\n",
        "            radii = self.components_[\"radii\"]\n",
        "            centers = self.components_[\"centers\"]\n",
        "            scale = self.rbf_width * (1.0 - self.alpha)\n",
        "            rbf_acts = scale * cdist(X, centers) / radii\n",
        "\n",
        "        self.input_activations_ = mlp_acts + rbf_acts\n",
        "\n",
        "\n",
        "class MLPRandomLayer(RandomLayer):\n",
        "    \"\"\"Wrapper for RandomLayer with alpha (mixing coefficient) set\n",
        "    to 1.0 for MLP activations only\"\"\"\n",
        "\n",
        "    def __init__(\n",
        "        self,\n",
        "        n_hidden=20,\n",
        "        random_state=None,\n",
        "        activation_func=\"tanh\",\n",
        "        activation_args=None,\n",
        "        weights=None,\n",
        "        biases=None,\n",
        "    ):\n",
        "        user_components = {\"weights\": weights, \"biases\": biases}\n",
        "        super(MLPRandomLayer, self).__init__(\n",
        "            n_hidden=n_hidden,\n",
        "            random_state=random_state,\n",
        "            activation_func=activation_func,\n",
        "            activation_args=activation_args,\n",
        "            user_components=user_components,\n",
        "            alpha=1.0,\n",
        "        )\n",
        "\n",
        "\n",
        "class RBFRandomLayer(RandomLayer):\n",
        "    \"\"\"Wrapper for RandomLayer with alpha (mixing coefficient) set\n",
        "    to 0.0 for RBF activations only\"\"\"\n",
        "\n",
        "    def __init__(\n",
        "        self,\n",
        "        n_hidden=20,\n",
        "        random_state=None,\n",
        "        activation_func=\"gaussian\",\n",
        "        activation_args=None,\n",
        "        centers=None,\n",
        "        radii=None,\n",
        "        rbf_width=1.0,\n",
        "    ):\n",
        "        user_components = {\"centers\": centers, \"radii\": radii}\n",
        "        super(RBFRandomLayer, self).__init__(\n",
        "            n_hidden=n_hidden,\n",
        "            random_state=random_state,\n",
        "            activation_func=activation_func,\n",
        "            activation_args=activation_args,\n",
        "            user_components=user_components,\n",
        "            rbf_width=rbf_width,\n",
        "            alpha=0.0,\n",
        "        )\n",
        "\n",
        "\n",
        "class GRBFRandomLayer(RBFRandomLayer):\n",
        "    \"\"\"Random Generalized RBF Hidden Layer transformer\n",
        "\n",
        "    Creates a layer of radial basis function units where:\n",
        "\n",
        "       f(a), s.t. a = ||x-c||/r\n",
        "\n",
        "    with c the unit center\n",
        "    and f() is exp(-gamma * a^tau) where tau and r are computed\n",
        "    based on [1]\n",
        "\n",
        "    Parameters\n",
        "    ----------\n",
        "    `n_hidden` : int, optional (default=20)\n",
        "        Number of units to generate, ignored if centers are provided\n",
        "\n",
        "    `grbf_lambda` : float, optional (default=0.05)\n",
        "        GRBF shape parameter\n",
        "\n",
        "    `gamma` : {int, float} optional (default=1.0)\n",
        "        Width multiplier for GRBF distance argument\n",
        "\n",
        "    `centers` : array of shape (n_hidden, n_features), optional (default=None)\n",
        "        If provided, overrides internal computation of the centers\n",
        "\n",
        "    `radii` : array of shape (n_hidden),  optional (default=None)\n",
        "        If provided, overrides internal computation of the radii\n",
        "\n",
        "    `use_exemplars` : bool, optional (default=False)\n",
        "        If True, uses random examples from the input to determine the RBF\n",
        "        centers, ignored if centers are provided\n",
        "\n",
        "    `random_state`  : int or RandomState instance, optional (default=None)\n",
        "        Control the pseudo random number generator used to generate the\n",
        "        centers at fit time, ignored if centers are provided\n",
        "\n",
        "    Attributes\n",
        "    ----------\n",
        "    `components_` : dictionary containing two keys:\n",
        "        `radii_`   : numpy array of shape [n_hidden]\n",
        "        `centers_` : numpy array of shape [n_hidden, n_features]\n",
        "\n",
        "    `input_activations_` : numpy array of shape [n_samples, n_hidden]\n",
        "        Array containing ||x-c||/r for all samples\n",
        "\n",
        "    See Also\n",
        "    --------\n",
        "    ELMRegressor, ELMClassifier, SimpleELMRegressor, SimpleELMClassifier,\n",
        "    SimpleRandomLayer\n",
        "\n",
        "    References\n",
        "    ----------\n",
        "    .. [1] Fernandez-Navarro, et al, \"MELM-GRBF: a modified version of the\n",
        "              extreme learning machine for generalized radial basis function\n",
        "              neural networks\", Neurocomputing 74 (2011), 2502-2510\n",
        "\n",
        "    \"\"\"\n",
        "\n",
        "    # def _grbf(acts, taus):\n",
        "    #     \"\"\"GRBF activation function\"\"\"\n",
        "\n",
        "    #     return np.exp(np.exp(-pow(acts, taus)))\n",
        "\n",
        "    _grbf = lambda acts, taus: np.exp(np.exp(-pow(acts, taus)))\n",
        "\n",
        "    _internal_activation_funcs = {\"grbf\": _grbf}\n",
        "\n",
        "    def __init__(\n",
        "        self,\n",
        "        n_hidden=20,\n",
        "        grbf_lambda=0.001,\n",
        "        centers=None,\n",
        "        radii=None,\n",
        "        random_state=None,\n",
        "    ):\n",
        "        super(GRBFRandomLayer, self).__init__(\n",
        "            n_hidden=n_hidden,\n",
        "            activation_func=\"grbf\",\n",
        "            centers=centers,\n",
        "            radii=radii,\n",
        "            random_state=random_state,\n",
        "        )\n",
        "\n",
        "        self.grbf_lambda = grbf_lambda\n",
        "        self.dN_vals = None\n",
        "        self.dF_vals = None\n",
        "        self.tau_vals = None\n",
        "\n",
        "    # get centers from superclass, then calculate tau_vals\n",
        "    # according to ref [1]\n",
        "    def _compute_centers(self, X, sparse, rs):\n",
        "        \"\"\"Generate centers, then compute tau, dF and dN vals\"\"\"\n",
        "\n",
        "        super(GRBFRandomLayer, self)._compute_centers(X, sparse, rs)\n",
        "\n",
        "        centers = self.components_[\"centers\"]\n",
        "        sorted_distances = np.sort(squareform(pdist(centers)))\n",
        "        self.dF_vals = sorted_distances[:, -1]\n",
        "        self.dN_vals = sorted_distances[:, 1] / 100.0\n",
        "        # self.dN_vals = 0.0002 * np.ones(self.dF_vals.shape)\n",
        "\n",
        "        tauNum = np.log(np.log(self.grbf_lambda) / np.log(1.0 - self.grbf_lambda))\n",
        "\n",
        "        tauDenom = np.log(self.dF_vals / self.dN_vals)\n",
        "\n",
        "        self.tau_vals = tauNum / tauDenom\n",
        "\n",
        "        self._extra_args[\"taus\"] = self.tau_vals\n",
        "\n",
        "    # get radii according to ref [1]\n",
        "    def _compute_radii(self):\n",
        "        \"\"\"Generate radii\"\"\"\n",
        "\n",
        "        denom = pow(-np.log(self.grbf_lambda), 1.0 / self.tau_vals)\n",
        "        self.components_[\"radii\"] = self.dF_vals / denom"
      ],
      "metadata": {
        "id": "hJs1D2u35nBX"
      },
      "execution_count": 2,
      "outputs": []
    },
    {
      "cell_type": "code",
      "source": [
        "%%capture\n",
        "# -*- coding: utf8\n",
        "# Author: David C. Lambert [dcl -at- panix -dot- com]\n",
        "# Copyright(c) 2013\n",
        "# License: Simple BSD\n",
        "\n",
        "\"\"\"\n",
        "The :mod:`elm` module implements the\n",
        "Extreme Learning Machine Classifiers and Regressors (ELMClassifier,\n",
        "ELMRegressor, SimpleELMRegressor, SimpleELMClassifier).\n",
        "\n",
        "An Extreme Learning Machine (ELM) is a single layer feedforward\n",
        "network with a random hidden layer components and ordinary linear\n",
        "least squares fitting of the hidden->output weights by default.\n",
        "[1][2]\n",
        "\n",
        "References\n",
        "----------\n",
        ".. [1] http://www.extreme-learning-machines.org\n",
        ".. [2] G.-B. Huang, Q.-Y. Zhu and C.-K. Siew, \"Extreme Learning Machine:\n",
        "          Theory and Applications\", Neurocomputing, vol. 70, pp. 489-501,\n",
        "          2006.\n",
        "\"\"\"\n",
        "\n",
        "from abc import ABCMeta, abstractmethod\n",
        "\n",
        "import numpy as np\n",
        "from scipy.linalg import pinv\n",
        "\n",
        "from sklearn.utils import as_float_array\n",
        "from sklearn.utils.extmath import safe_sparse_dot\n",
        "from sklearn.base import BaseEstimator, ClassifierMixin, RegressorMixin\n",
        "from sklearn.preprocessing import LabelBinarizer\n",
        "\n",
        "# from random_layer import RandomLayer, MLPRandomLayer\n",
        "\n",
        "__all__ = [\"ELMRegressor\",\n",
        "           \"ELMClassifier\",\n",
        "           \"GenELMRegressor\",\n",
        "           \"GenELMClassifier\"]\n",
        "\n",
        "\n",
        "# BaseELM class, regressor and hidden_layer attributes\n",
        "# and provides defaults for docstrings\n",
        "class BaseELM(BaseEstimator):\n",
        "    \"\"\"\n",
        "    Base class for ELMs.\n",
        "\n",
        "    Warning: This class should not be used directly.\n",
        "    Use derived classes instead.\n",
        "    \"\"\"\n",
        "    __metaclass__ = ABCMeta\n",
        "\n",
        "    def __init__(self, hidden_layer, regressor):\n",
        "        self.regressor = regressor\n",
        "        self.hidden_layer = hidden_layer\n",
        "\n",
        "    @abstractmethod\n",
        "    def fit(self, X, y):\n",
        "        \"\"\"\n",
        "        Fit the model using X, y as training data.\n",
        "\n",
        "        Parameters\n",
        "        ----------\n",
        "        X : {array-like, sparse matrix} of shape [n_samples, n_features]\n",
        "            Training vectors, where n_samples is the number of samples\n",
        "            and n_features is the number of features.\n",
        "\n",
        "        y : array-like of shape [n_samples, n_outputs]\n",
        "            Target values (class labels in classification, real numbers in\n",
        "            regression)\n",
        "\n",
        "        Returns\n",
        "        -------\n",
        "        self : object\n",
        "\n",
        "            Returns an instance of self.\n",
        "        \"\"\"\n",
        "\n",
        "    @abstractmethod\n",
        "    def predict(self, X):\n",
        "        \"\"\"\n",
        "        Predict values using the model\n",
        "\n",
        "        Parameters\n",
        "        ----------\n",
        "        X : {array-like, sparse matrix} of shape [n_samples, n_features]\n",
        "\n",
        "        Returns\n",
        "        -------\n",
        "        C : numpy array of shape [n_samples, n_outputs]\n",
        "            Predicted values.\n",
        "        \"\"\"\n",
        "\n",
        "\n",
        "class GenELMRegressor(BaseELM, RegressorMixin):\n",
        "    \"\"\"\n",
        "    ELMRegressor is a regressor based on the Extreme Learning Machine.\n",
        "\n",
        "    An Extreme Learning Machine (ELM) is a single layer feedforward\n",
        "    network with a random hidden layer components and ordinary linear\n",
        "    least squares fitting of the hidden->output weights by default.\n",
        "    [1][2]\n",
        "\n",
        "    Parameters\n",
        "    ----------\n",
        "    `hidden_layer` : random_layer instance, optional\n",
        "        (default=MLPRandomLayer(random_state=0))\n",
        "\n",
        "    `regressor`    : regressor instance, optional (default=None)\n",
        "        If provided, this object is used to perform the regression from hidden\n",
        "        unit activations to the outputs and subsequent predictions.  If not\n",
        "        present, an ordinary linear least squares fit is performed\n",
        "\n",
        "    Attributes\n",
        "    ----------\n",
        "    `coefs_` : numpy array\n",
        "        Fitted regression coefficients if no regressor supplied.\n",
        "\n",
        "    `fitted_` : bool\n",
        "        Flag set when fit has been called already.\n",
        "\n",
        "    `hidden_activations_` : numpy array of shape [n_samples, n_hidden]\n",
        "        Hidden layer activations for last input.\n",
        "\n",
        "    See Also\n",
        "    --------\n",
        "    RBFRandomLayer, MLPRandomLayer, ELMRegressor, ELMClassifier\n",
        "\n",
        "    References\n",
        "    ----------\n",
        "    .. [1] http://www.extreme-learning-machines.org\n",
        "    .. [2] G.-B. Huang, Q.-Y. Zhu and C.-K. Siew, \"Extreme Learning Machine:\n",
        "          Theory and Applications\", Neurocomputing, vol. 70, pp. 489-501,\n",
        "              2006.\n",
        "    \"\"\"\n",
        "\n",
        "    def __init__(self,\n",
        "                 hidden_layer=MLPRandomLayer(random_state=0),\n",
        "                 regressor=None):\n",
        "\n",
        "        super(GenELMRegressor, self).__init__(hidden_layer, regressor)\n",
        "\n",
        "        self.coefs_ = None\n",
        "        self.fitted_ = False\n",
        "        self.hidden_activations_ = None\n",
        "\n",
        "    def _fit_regression(self, y):\n",
        "        \"\"\"\n",
        "        fit regression using pseudo-inverse\n",
        "        or supplied regressor\n",
        "        \"\"\"\n",
        "        if (self.regressor is None):\n",
        "            self.coefs_ = safe_sparse_dot(pinv(self.hidden_activations_), y)\n",
        "        else:\n",
        "            self.regressor.fit(self.hidden_activations_, y)\n",
        "\n",
        "        self.fitted_ = True\n",
        "\n",
        "    def fit(self, X, y):\n",
        "        \"\"\"\n",
        "        Fit the model using X, y as training data.\n",
        "\n",
        "        Parameters\n",
        "        ----------\n",
        "        X : {array-like, sparse matrix} of shape [n_samples, n_features]\n",
        "            Training vectors, where n_samples is the number of samples\n",
        "            and n_features is the number of features.\n",
        "\n",
        "        y : array-like of shape [n_samples, n_outputs]\n",
        "            Target values (class labels in classification, real numbers in\n",
        "            regression)\n",
        "\n",
        "        Returns\n",
        "        -------\n",
        "        self : object\n",
        "\n",
        "            Returns an instance of self.\n",
        "        \"\"\"\n",
        "        # fit random hidden layer and compute the hidden layer activations\n",
        "        self.hidden_activations_ = self.hidden_layer.fit_transform(X)\n",
        "        # print(self.hidden_activations_)\n",
        "        # print(f\"-------training hidden_activations shape {self.hidden_activations_.shape}------------\")\n",
        "\n",
        "        # solve the regression from hidden activations to outputs\n",
        "        self._fit_regression(as_float_array(y, copy=True))\n",
        "\n",
        "        return self\n",
        "\n",
        "    def _get_predictions(self):\n",
        "        \"\"\"get predictions using internal least squares/supplied regressor\"\"\"\n",
        "        if (self.regressor is None):\n",
        "            preds = safe_sparse_dot(self.hidden_activations_, self.coefs_)\n",
        "        else:\n",
        "            preds = self.regressor.predict(self.hidden_activations_)\n",
        "\n",
        "        return preds\n",
        "\n",
        "    def predict(self, X):\n",
        "        \"\"\"\n",
        "        Predict values using the model\n",
        "\n",
        "        Parameters\n",
        "        ----------\n",
        "        X : {array-like, sparse matrix} of shape [n_samples, n_features]\n",
        "\n",
        "        Returns\n",
        "        -------\n",
        "        C : numpy array of shape [n_samples, n_outputs]\n",
        "            Predicted values.\n",
        "        \"\"\"\n",
        "        if (not self.fitted_):\n",
        "            raise ValueError(\"ELMRegressor not fitted\")\n",
        "\n",
        "        # compute hidden layer activations\n",
        "        self.hidden_activations_ = self.hidden_layer.transform(X)\n",
        "        # print(self.hidden_activations_)\n",
        "        # print(f\"-------hidden_activations shape {self.hidden_activations_.shape}------------\")\n",
        "        # compute output predictions for new hidden activations\n",
        "        predictions = self._get_predictions()\n",
        "\n",
        "        return predictions\n",
        "\n",
        "'''\n",
        "class GenELMClassifier(BaseELM, ClassifierMixin):\n",
        "    \"\"\"\n",
        "    GenELMClassifier is a classifier based on the Extreme Learning Machine.\n",
        "\n",
        "    An Extreme Learning Machine (ELM) is a single layer feedforward\n",
        "    network with a random hidden layer components and ordinary linear\n",
        "    least squares fitting of the hidden->output weights by default.\n",
        "    [1][2]\n",
        "\n",
        "    Parameters\n",
        "    ----------\n",
        "    `hidden_layer` : random_layer instance, optional\n",
        "        (default=MLPRandomLayer(random_state=0))\n",
        "\n",
        "    `binarizer` : LabelBinarizer, optional\n",
        "        (default=LabelBinarizer(-1, 1))\n",
        "\n",
        "    `regressor`    : regressor instance, optional (default=None)\n",
        "        If provided, this object is used to perform the regression from hidden\n",
        "        unit activations to the outputs and subsequent predictions.  If not\n",
        "        present, an ordinary linear least squares fit is performed\n",
        "\n",
        "    Attributes\n",
        "    ----------\n",
        "    `classes_` : numpy array of shape [n_classes]\n",
        "        Array of class labels\n",
        "\n",
        "    `genelm_regressor_` : ELMRegressor instance\n",
        "        Performs actual fit of binarized values\n",
        "\n",
        "    See Also\n",
        "    --------\n",
        "    RBFRandomLayer, MLPRandomLayer, ELMRegressor, ELMClassifier\n",
        "\n",
        "    References\n",
        "    ----------\n",
        "    .. [1] http://www.extreme-learning-machines.org\n",
        "    .. [2] G.-B. Huang, Q.-Y. Zhu and C.-K. Siew, \"Extreme Learning Machine:\n",
        "              Theory and Applications\", Neurocomputing, vol. 70, pp. 489-501,\n",
        "              2006.\n",
        "    \"\"\"\n",
        "    def __init__(self,\n",
        "                 hidden_layer=MLPRandomLayer(random_state=0),\n",
        "                 binarizer=LabelBinarizer(-1, 1),\n",
        "                 regressor=None):\n",
        "\n",
        "        super(GenELMClassifier, self).__init__(hidden_layer, regressor)\n",
        "\n",
        "        self.binarizer = binarizer\n",
        "\n",
        "        self.classes_ = None\n",
        "        self.genelm_regressor_ = GenELMRegressor(hidden_layer, regressor)\n",
        "\n",
        "    def decision_function(self, X):\n",
        "        \"\"\"\n",
        "        This function return the decision function values related to each\n",
        "        class on an array of test vectors X.\n",
        "\n",
        "        Parameters\n",
        "        ----------\n",
        "        X : array-like of shape [n_samples, n_features]\n",
        "\n",
        "        Returns\n",
        "        -------\n",
        "        C : array of shape [n_samples, n_classes] or [n_samples,]\n",
        "            Decision function values related to each class, per sample.\n",
        "            In the two-class case, the shape is [n_samples,]\n",
        "        \"\"\"\n",
        "        return self.genelm_regressor_.predict(X)\n",
        "\n",
        "    def fit(self, X, y):\n",
        "        \"\"\"\n",
        "        Fit the model using X, y as training data.\n",
        "\n",
        "        Parameters\n",
        "        ----------\n",
        "        X : {array-like, sparse matrix} of shape [n_samples, n_features]\n",
        "            Training vectors, where n_samples is the number of samples\n",
        "            and n_features is the number of features.\n",
        "\n",
        "        y : array-like of shape [n_samples, n_outputs]\n",
        "            Target values (class labels in classification, real numbers in\n",
        "            regression)\n",
        "\n",
        "        Returns\n",
        "        -------\n",
        "        self : object\n",
        "\n",
        "            Returns an instance of self.\n",
        "        \"\"\"\n",
        "        self.classes_ = np.unique(y)\n",
        "\n",
        "        y_bin = self.binarizer.fit_transform(y)\n",
        "\n",
        "        self.genelm_regressor_.fit(X, y_bin)\n",
        "        return self\n",
        "\n",
        "    def predict(self, X):\n",
        "        \"\"\"Predict values using the model\n",
        "\n",
        "        Parameters\n",
        "        ----------\n",
        "        X : {array-like, sparse matrix} of shape [n_samples, n_features]\n",
        "\n",
        "        Returns\n",
        "        -------\n",
        "        C : numpy array of shape [n_samples, n_outputs]\n",
        "            Predicted values.\n",
        "        \"\"\"\n",
        "        raw_predictions = self.decision_function(X)\n",
        "        class_predictions = self.binarizer.inverse_transform(raw_predictions)\n",
        "\n",
        "        return class_predictions\n",
        "'''\n",
        "\n",
        "# ELMRegressor with default RandomLayer\n",
        "class ELMRegressor(BaseEstimator, RegressorMixin):\n",
        "    \"\"\"\n",
        "    ELMRegressor is a regressor based on the Extreme Learning Machine.\n",
        "\n",
        "    An Extreme Learning Machine (ELM) is a single layer feedforward\n",
        "    network with a random hidden layer components and ordinary linear\n",
        "    least squares fitting of the hidden->output weights by default.\n",
        "    [1][2]\n",
        "\n",
        "    ELMRegressor is a wrapper for an GenELMRegressor that uses a\n",
        "    RandomLayer and passes the __init__ parameters through\n",
        "    to the hidden layer generated by the fit() method.\n",
        "\n",
        "    Parameters\n",
        "    ----------\n",
        "    `n_hidden` : int, optional (default=20)\n",
        "        Number of units to generate in the SimpleRandomLayer\n",
        "\n",
        "    `alpha` : float, optional (default=0.5)\n",
        "        Mixing coefficient for distance and dot product input activations:\n",
        "        activation = alpha*mlp_activation + (1-alpha)*rbf_width*rbf_activation\n",
        "\n",
        "    `rbf_width` : float, optional (default=1.0)\n",
        "        multiplier on rbf_activation\n",
        "\n",
        "    `activation_func` : {callable, string} optional (default='tanh')\n",
        "        Function used to transform input activation\n",
        "\n",
        "        It must be one of 'tanh', 'sine', 'tribas', 'inv_tribase', 'sigmoid',\n",
        "        'hardlim', 'softlim', 'gaussian', 'multiquadric', 'inv_multiquadric' or\n",
        "        a callable.  If none is given, 'tanh' will be used. If a callable\n",
        "        is given, it will be used to compute the hidden unit activations.\n",
        "\n",
        "    `activation_args` : dictionary, optional (default=None)\n",
        "        Supplies keyword arguments for a callable activation_func\n",
        "\n",
        "    `user_components`: dictionary, optional (default=None)\n",
        "        dictionary containing values for components that woud otherwise be\n",
        "        randomly generated.  Valid key/value pairs are as follows:\n",
        "           'radii'  : array-like of shape [n_hidden]\n",
        "           'centers': array-like of shape [n_hidden, n_features]\n",
        "           'biases' : array-like of shape [n_hidden]\n",
        "           'weights': array-like of shape [n_hidden, n_features]\n",
        "\n",
        "    `regressor`    : regressor instance, optional (default=None)\n",
        "        If provided, this object is used to perform the regression from hidden\n",
        "        unit activations to the outputs and subsequent predictions.  If not\n",
        "        present, an ordinary linear least squares fit is performed\n",
        "\n",
        "    `random_state`  : int, RandomState instance or None (default=None)\n",
        "        Control the pseudo random number generator used to generate the\n",
        "        hidden unit weights at fit time.\n",
        "\n",
        "    Attributes\n",
        "    ----------\n",
        "    `genelm_regressor_` : GenELMRegressor object\n",
        "        Wrapped object that actually performs the fit.\n",
        "\n",
        "    See Also\n",
        "    --------\n",
        "    RandomLayer, RBFRandomLayer, MLPRandomLayer,\n",
        "    GenELMRegressor, GenELMClassifier, ELMClassifier\n",
        "\n",
        "    References\n",
        "    ----------\n",
        "    .. [1] http://www.extreme-learning-machines.org\n",
        "    .. [2] G.-B. Huang, Q.-Y. Zhu and C.-K. Siew, \"Extreme Learning Machine:\n",
        "          Theory and Applications\", Neurocomputing, vol. 70, pp. 489-501,\n",
        "              2006.\n",
        "    \"\"\"\n",
        "\n",
        "    def __init__(self, n_hidden=20, alpha=0.5, rbf_width=1.0,\n",
        "                 activation_func='tanh', activation_args=None,\n",
        "                 user_components=None, regressor=None, random_state=None):\n",
        "\n",
        "        self.n_hidden = n_hidden\n",
        "        self.alpha = alpha\n",
        "        self.random_state = random_state\n",
        "        self.activation_func = activation_func\n",
        "        self.activation_args = activation_args\n",
        "        self.user_components = user_components\n",
        "        self.rbf_width = rbf_width\n",
        "        self.regressor = regressor\n",
        "\n",
        "        self._genelm_regressor = None\n",
        "\n",
        "    def _create_random_layer(self):\n",
        "        \"\"\"Pass init params to RandomLayer\"\"\"\n",
        "\n",
        "        return RandomLayer(n_hidden=self.n_hidden,\n",
        "                           alpha=self.alpha, random_state=self.random_state,\n",
        "                           activation_func=self.activation_func,\n",
        "                           activation_args=self.activation_args,\n",
        "                           user_components=self.user_components,\n",
        "                           rbf_width=self.rbf_width)\n",
        "\n",
        "    def fit(self, X, y):\n",
        "        \"\"\"\n",
        "        Fit the model using X, y as training data.\n",
        "\n",
        "        Parameters\n",
        "        ----------\n",
        "        X : {array-like, sparse matrix} of shape [n_samples, n_features]\n",
        "            Training vectors, where n_samples is the number of samples\n",
        "            and n_features is the number of features.\n",
        "\n",
        "        y : array-like of shape [n_samples, n_outputs]\n",
        "            Target values (class labels in classification, real numbers in\n",
        "            regression)\n",
        "\n",
        "        Returns\n",
        "        -------\n",
        "        self : object\n",
        "\n",
        "            Returns an instance of self.\n",
        "        \"\"\"\n",
        "        rhl = self._create_random_layer()\n",
        "        self._genelm_regressor = GenELMRegressor(hidden_layer=rhl,\n",
        "                                                 regressor=self.regressor)\n",
        "        self._genelm_regressor.fit(X, y)\n",
        "        return self\n",
        "\n",
        "    def predict(self, X):\n",
        "        \"\"\"\n",
        "        Predict values using the model\n",
        "\n",
        "        Parameters\n",
        "        ----------\n",
        "        X : {array-like, sparse matrix} of shape [n_samples, n_features]\n",
        "\n",
        "        Returns\n",
        "        -------\n",
        "        C : numpy array of shape [n_samples, n_outputs]\n",
        "            Predicted values.\n",
        "        \"\"\"\n",
        "        if (self._genelm_regressor is None):\n",
        "            raise ValueError(\"SimpleELMRegressor not fitted\")\n",
        "\n",
        "        return self._genelm_regressor.predict(X)\n",
        "\n",
        "'''\n",
        "class ELMClassifier(ELMRegressor):\n",
        "    \"\"\"\n",
        "    ELMClassifier is a classifier based on the Extreme Learning Machine.\n",
        "\n",
        "    An Extreme Learning Machine (ELM) is a single layer feedforward\n",
        "    network with a random hidden layer components and ordinary linear\n",
        "    least squares fitting of the hidden->output weights by default.\n",
        "    [1][2]\n",
        "\n",
        "    ELMClassifier is an ELMRegressor subclass that first binarizes the\n",
        "    data, then uses the superclass to compute the decision function that\n",
        "    is then unbinarized to yield the prediction.\n",
        "\n",
        "    The params for the RandomLayer used in the input transform are\n",
        "    exposed in the ELMClassifier constructor.\n",
        "\n",
        "    Parameters\n",
        "    ----------\n",
        "    `n_hidden` : int, optional (default=20)\n",
        "        Number of units to generate in the SimpleRandomLayer\n",
        "\n",
        "    `activation_func` : {callable, string} optional (default='tanh')\n",
        "        Function used to transform input activation\n",
        "\n",
        "        It must be one of 'tanh', 'sine', 'tribas', 'inv_tribase', 'sigmoid',\n",
        "        'hardlim', 'softlim', 'gaussian', 'multiquadric', 'inv_multiquadric' or\n",
        "        a callable.  If none is given, 'tanh' will be used. If a callable\n",
        "        is given, it will be used to compute the hidden unit activations.\n",
        "\n",
        "    `activation_args` : dictionary, optional (default=None)\n",
        "        Supplies keyword arguments for a callable activation_func\n",
        "\n",
        "    `random_state`  : int, RandomState instance or None (default=None)\n",
        "        Control the pseudo random number generator used to generate the\n",
        "        hidden unit weights at fit time.\n",
        "\n",
        "    Attributes\n",
        "    ----------\n",
        "    `classes_` : numpy array of shape [n_classes]\n",
        "        Array of class labels\n",
        "\n",
        "    See Also\n",
        "    --------\n",
        "    RandomLayer, RBFRandomLayer, MLPRandomLayer,\n",
        "    GenELMRegressor, GenELMClassifier, ELMClassifier\n",
        "\n",
        "    References\n",
        "    ----------\n",
        "    .. [1] http://www.extreme-learning-machines.org\n",
        "    .. [2] G.-B. Huang, Q.-Y. Zhu and C.-K. Siew, \"Extreme Learning Machine:\n",
        "          Theory and Applications\", Neurocomputing, vol. 70, pp. 489-501,\n",
        "              2006.\n",
        "    \"\"\"\n",
        "\n",
        "    def __init__(self, n_hidden=20, alpha=0.5, rbf_width=1.0,\n",
        "                 activation_func='tanh', activation_args=None,\n",
        "                 user_components=None, regressor=None,\n",
        "                 binarizer=LabelBinarizer(-1, 1),\n",
        "                 random_state=None):\n",
        "\n",
        "        super(ELMClassifier, self).__init__(n_hidden=n_hidden,\n",
        "                                            alpha=alpha,\n",
        "                                            random_state=random_state,\n",
        "                                            activation_func=activation_func,\n",
        "                                            activation_args=activation_args,\n",
        "                                            user_components=user_components,\n",
        "                                            rbf_width=rbf_width,\n",
        "                                            regressor=regressor)\n",
        "\n",
        "        self.classes_ = None\n",
        "        self.binarizer = binarizer\n",
        "\n",
        "    def decision_function(self, X):\n",
        "        \"\"\"\n",
        "        This function return the decision function values related to each\n",
        "        class on an array of test vectors X.\n",
        "\n",
        "        Parameters\n",
        "        ----------\n",
        "        X : array-like of shape [n_samples, n_features]\n",
        "\n",
        "        Returns\n",
        "        -------\n",
        "        C : array of shape [n_samples, n_classes] or [n_samples,]\n",
        "            Decision function values related to each class, per sample.\n",
        "            In the two-class case, the shape is [n_samples,]\n",
        "        \"\"\"\n",
        "        return super(ELMClassifier, self).predict(X)\n",
        "\n",
        "    def fit(self, X, y):\n",
        "        \"\"\"\n",
        "        Fit the model using X, y as training data.\n",
        "\n",
        "        Parameters\n",
        "        ----------\n",
        "        X : {array-like, sparse matrix} of shape [n_samples, n_features]\n",
        "            Training vectors, where n_samples is the number of samples\n",
        "            and n_features is the number of features.\n",
        "\n",
        "        y : array-like of shape [n_samples, n_outputs]\n",
        "            Target values (class labels in classification, real numbers in\n",
        "            regression)\n",
        "\n",
        "        Returns\n",
        "        -------\n",
        "        self : object\n",
        "\n",
        "            Returns an instance of self.\n",
        "        \"\"\"\n",
        "        self.classes_ = np.unique(y)\n",
        "\n",
        "        y_bin = self.binarizer.fit_transform(y)\n",
        "\n",
        "        super(ELMClassifier, self).fit(X, y_bin)\n",
        "\n",
        "        return self\n",
        "\n",
        "    def predict(self, X):\n",
        "        \"\"\"\n",
        "        Predict values using the model\n",
        "\n",
        "        Parameters\n",
        "        ----------\n",
        "        X : {array-like, sparse matrix} of shape [n_samples, n_features]\n",
        "\n",
        "        Returns\n",
        "        -------\n",
        "        C : numpy array of shape [n_samples, n_outputs]\n",
        "            Predicted values.\n",
        "        \"\"\"\n",
        "        raw_predictions = self.decision_function(X)\n",
        "        class_predictions = self.binarizer.inverse_transform(raw_predictions)\n",
        "\n",
        "        return class_predictions\n",
        "\n",
        "    def score(self, X, y):\n",
        "        \"\"\"Force use of accuracy score since we don't inherit\n",
        "           from ClassifierMixin\"\"\"\n",
        "\n",
        "        from sklearn.metrics import accuracy_score\n",
        "        return accuracy_score(y, self.predict(X))\n",
        "'''"
      ],
      "metadata": {
        "id": "BRrNFUzw5X5U"
      },
      "execution_count": 3,
      "outputs": []
    },
    {
      "cell_type": "code",
      "source": [
        "%%capture\n",
        "# hide code cell output\n",
        "from google.colab import drive\n",
        "drive.mount('/content/drive')"
      ],
      "metadata": {
        "id": "hHYT6eqn6F0J"
      },
      "execution_count": 4,
      "outputs": []
    },
    {
      "cell_type": "code",
      "execution_count": 17,
      "metadata": {
        "id": "JfzPYjvb4ocM"
      },
      "outputs": [],
      "source": [
        "# from elm import ELMRegressor\n",
        "from collections.abc import Iterable\n",
        "import numpy as np\n",
        "import pandas as pd\n",
        "import math\n",
        "import matplotlib.pyplot as plt\n",
        "import pylab as py\n",
        "import random\n",
        "import scipy.stats as stats\n",
        "from sklearn import preprocessing\n",
        "from sklearn.metrics import mean_squared_error, r2_score\n",
        "from skmultiflow.drift_detection import DDM\n",
        "import statsmodels.api as sm\n",
        "import sys\n",
        "from typing import Union\n",
        "\n",
        "sc = preprocessing.StandardScaler()\n",
        "\n",
        "'''\n",
        "    (Cavalcante & Oliveira, 2015)\n",
        "    Feature Selection:\n",
        "    The input data is composed by daily open, high, low and close prices and two classical technical indicators,\n",
        "    the exponential moving average (EMA) and the Bollinger Bands (BB):\n",
        "    1) lowest and highest prices of the 5 previous days;\n",
        "    2) opening and closing prices of the 5 previous days;\n",
        "    3) EMA of the lowest and highest prices of the 5 previous days;\n",
        "    4) EMA of the opening and closing prices of the 5 previous days;\n",
        "    5) BB of the opening and closing prices of the 5 previous days;\n",
        "    6) BB of the lowest and highest prices of the 5 previous days;\n",
        "'''\n",
        "\n",
        "'''\n",
        "    (Mishra & Das, 2022)\n",
        "    Feature Selection:\n",
        "    The available features for the GOLD/USD dataset are price, open price, high price, low price, volume, and price change.\n",
        "    The gold data available for predictions are in 1 Troy Ounce Unit.\n",
        "    This experimentation has worked out for four time horizons such as 1 day, 3 days, 7 days, and 1 month in advance.\n",
        "    A total of 70% of data is selected for training and 30% is selected for testing .\n",
        "'''\n",
        "def handle_datasets(train_split: float = 0.8, show_fig: bool = False) -> list:\n",
        "    # reverse dataframe datetime\n",
        "    df = pd.read_csv('/content/drive/MyDrive/Colab Notebooks/gold prices 2013-2023.csv', parse_dates=['Date'], index_col='Date')\n",
        "    df= df.sort_values(by='Date')\n",
        "    df = df.rename(columns={\"Close/Last\": \"close\"})\n",
        "    df.columns = df.columns.str.lower()\n",
        "    # replace Nan\n",
        "    df['volume'] = df['volume'].interpolate()\n",
        "    # 5 days average\n",
        "    #  moving_avg = df['close'].rolling(window=5).mean()\n",
        "    # df['moving_average'] = moving_avg\n",
        "\n",
        "    # 1) lowest and highest prices of the 5 previous days;\n",
        "    df['high_previous_1_days'] = df['high'].shift(1)\n",
        "    df['low_previous_1_days'] = df['low'].shift(1)\n",
        "\n",
        "\n",
        "    # 2) opening and closing prices of the 5 previous days;\n",
        "    df['close_previous_1_days'] = df['close'].shift(1)\n",
        "    df['open_previous_1_days'] = df['open'].shift(1)\n",
        "\n",
        "    # change = yesterday - the day before yesterday\n",
        "    df['change'] = df['close'].diff()\n",
        "    df['change'] = df['change'].shift(1)\n",
        "\n",
        "    # exclude 5 columns, others = input features, start from index=5 drop NaN\n",
        "    x = df[df.columns.difference(['close', 'open', 'high', 'low'])][2:]\n",
        "    y = df[\"close\"][2:]\n",
        "\n",
        "    if show_fig:\n",
        "        plt.title(\"Gold prices\")\n",
        "        plt.plot(y[:50], color=\"green\")\n",
        "        plt.plot(x.drop(columns=['volume','change'])[:50], color=\"orange\")\n",
        "        plt.xlabel(\"Days\")\n",
        "        plt.xticks(rotation=45, ha='right')\n",
        "        plt.ylabel(\"Close price\")\n",
        "        plt.show(block=False)\n",
        "    # 2d-array x.shape = (input_samples, features)\n",
        "    x_train, x_test = to_ndarray(x, split = train_split,features = x.shape[1])\n",
        "    y_train, y_test = to_ndarray(y, split = train_split)\n",
        "    res = [x_train, y_train, x_test, y_test]\n",
        "    return res\n",
        "\n",
        "\n",
        "def to_ndarray(df: Union[pd.DataFrame, pd.Series], split: float = 0.8, features: int = 1):\n",
        "    nd = df.to_numpy()\n",
        "    train_set, test_set = np.split(nd, [int(split * len(nd))])\n",
        "    train_set = train_set.reshape(-1, features)\n",
        "    test_set = test_set.reshape(-1, features)\n",
        "    train_set = sc.fit_transform(train_set)\n",
        "    test_set = sc.fit_transform(test_set)\n",
        "    return train_set, test_set"
      ]
    },
    {
      "cell_type": "code",
      "source": [
        "def plot_fig(x:Iterable, y:Iterable, x_label: str, y_label:str, show: bool=False, color:str=\"black\", clean: bool = True):\n",
        "    if show:\n",
        "        plt.plot(x, y, color=color)\n",
        "        plt.xlabel(x_label)\n",
        "        plt.ylabel(y_label)\n",
        "    if clean:\n",
        "        plt.show(block=False)\n",
        "        plt.clf()"
      ],
      "metadata": {
        "id": "oyEoRha_Cm6_"
      },
      "execution_count": 6,
      "outputs": []
    },
    {
      "cell_type": "code",
      "source": [
        "def drift_detection(data_stream: list, retrain_data: list, nodes: int, warning_level: float = 2.0, drift_detect: float = 3.0, threshold_opt: int = 0) -> None:\n",
        "    '''\n",
        "        prediction: int (either 0 or 1)\n",
        "            This parameter indicates whether the last sample analyzed was\n",
        "            correctly classified or not. 1 indicates an error (miss-classification).\n",
        "    '''\n",
        "    ddm = DDM(min_num_instances=30, warning_level=warning_level, out_control_level=drift_detect)\n",
        "    warning_status = False\n",
        "    warning_start = 0\n",
        "    warning_end = 0\n",
        "    for i in range(len(data_stream)):\n",
        "        ddm.add_element(data_stream[i])\n",
        "        if ddm.detected_change() and warning_status:\n",
        "            warning_end = i\n",
        "            assert warning_end > warning_start\n",
        "            print(f\"warning start at index {warning_start}, Change has been detected in index {warning_end}\")\n",
        "            # retrain\n",
        "            warning_status = False\n",
        "            # at least 30 data samples\n",
        "            if warning_end-warning_start>=30:\n",
        "                # retrain immediately\n",
        "                break\n",
        "        elif ddm.detected_warning_zone():\n",
        "            if not warning_status:\n",
        "                warning_start = i\n",
        "            warning_status = True\n",
        "            # print('Warning zone has been detected in data: ' + str(data_stream[i]) + ' - of index: ' + str(i))\n",
        "        else:\n",
        "            warning_status = False\n",
        "    if warning_end-warning_start>=30:\n",
        "        print(f\"-------------------retrain with data from index {warning_start}~{warning_end}-------------------\")\n",
        "        print(f\"-------------------testing with data from index {warning_end+1}~{len(data_stream)}-------------------\")\n",
        "        x_train = retrain_data[0][warning_start:warning_end]\n",
        "        y_train = retrain_data[1][warning_start:warning_end]\n",
        "        x_test = retrain_data[0][warning_end:]\n",
        "        y_test = retrain_data[1][warning_end:]\n",
        "        datasets = [x_train, y_train, x_test, y_test]\n",
        "        # enable the network to perform feature extraction\n",
        "        train(datasets, nodes=nodes+3, show_fig=True, threshold_opt=threshold_opt, level_config=(warning_level, drift_detect))"
      ],
      "metadata": {
        "id": "AOhBAtg7Cijk"
      },
      "execution_count": 7,
      "outputs": []
    },
    {
      "cell_type": "code",
      "source": [
        "def train(datasets: list[np.ndarray],nodes: int = 20, random_state: int = 0, show_fig: bool = False, threshold_opt: int = 0, level_config: tuple = (1.0, 2.0)) -> dict:\n",
        "    print(f\"hidden nodes {nodes} ,threshold option {threshold_opt}\")\n",
        "    # option: random_state=1\n",
        "    elmr = ELMRegressor(n_hidden=nodes, random_state=random_state)\n",
        "    x_train, y_train, x_test, y_test = (\n",
        "        datasets[0],\n",
        "        datasets[1],\n",
        "        datasets[2],\n",
        "        datasets[3],\n",
        "    )\n",
        "    elmr = elmr.fit(x_train, y_train)\n",
        "    # Inverse Transform the Predictions(real world value)\n",
        "    res = elmr.predict(x_test)\n",
        "\n",
        "    y_pred = sc.inverse_transform(elmr.predict(x_test))\n",
        "    y_actual = sc.inverse_transform(y_test)\n",
        "    # squared=True -> MSE\n",
        "    rms = mean_squared_error(y_actual, y_pred, squared=False)\n",
        "    # threshold 1: compare with previous price difference\n",
        "    y_prev = np.insert(y_actual, 0, y_actual[0], axis=0)\n",
        "    y_prev = y_prev[:-1]\n",
        "    abs_residual = abs(y_actual - y_pred)\n",
        "\n",
        "    # Residual = actual y - predicted y\n",
        "    residual = y_actual - y_pred\n",
        "    res_avg = np.mean(residual)\n",
        "    res_std = np.std(residual)\n",
        "    r2 = r2_score(y_true=y_actual, y_pred=y_pred)\n",
        "    # n: observations, p: predictors(features)\n",
        "    n = np.shape(x_test)[0]\n",
        "    p = np.shape(x_test)[1]\n",
        "    adj_r2 = 1-(1-r2)*(n-1)/(n-p-1)\n",
        "    print(f\"Random state = {random_state}, Residual AVG = {res_avg}, Residual STD = {res_std}, RMSE = {rms}\")\n",
        "    print(f\"R2 score = {r2}, Adjusted R2 score {adj_r2}\")\n",
        "\n",
        "    prev_abs_residual = abs(y_prev - y_actual)\n",
        "    bin = abs_residual - prev_abs_residual\n",
        "    # if y prediction errors > naive errors, prediction errors, return 1\n",
        "    error_rates = np.where(bin>0, 1, 0)\n",
        "    error_rates = list(error_rates)\n",
        "    count_errors = []\n",
        "    '''\n",
        "        concept change detection method based on the PAC learning model premise,\n",
        "        that the learner’s error rate will decrease as the number of analysed samples increase,\n",
        "        as long as the data distribution is stationary.\n",
        "    '''\n",
        "    for index in range(len(error_rates)):\n",
        "        err_num = error_rates[:index].count(1) / (index+1)\n",
        "        count_errors.append(err_num)\n",
        "\n",
        "    # threshold 2: compare with price going up or down predicitons\n",
        "    y_trend = np.subtract(y_actual, y_prev)\n",
        "    trend = np.where(y_trend>0, 1, 0)\n",
        "    y_prev_pred = np.insert(y_pred, 0, y_actual[0], axis=0)\n",
        "    y_prev_pred = y_prev_pred[:-1]\n",
        "    y_pred_trend = np.subtract(y_pred, y_prev_pred)\n",
        "    pred_trend = np.where(y_pred_trend>0, 1, 0)\n",
        "    trend_result = list()\n",
        "    for index in range(len(pred_trend)):\n",
        "        if pred_trend[index] == trend[index]:\n",
        "            trend_result.append(0)\n",
        "        else:\n",
        "            trend_result.append(1)\n",
        "    count_trend_errors = []\n",
        "    '''\n",
        "        concept change detection method based on the PAC learning model premise,\n",
        "        that the learner’s error rate will decrease as the number of analysed samples increase,\n",
        "        as long as the data distribution is stationary.\n",
        "    '''\n",
        "    for index in range(len(trend_result)):\n",
        "        err_num = trend_result[:index].count(1) / (index+1)\n",
        "        count_trend_errors.append(err_num)\n",
        "\n",
        "\n",
        "    # errors frequency\n",
        "    stat = np.array(np.unique(residual.astype(int), return_counts=True)).T\n",
        "    error_list = list()\n",
        "    freq = list()\n",
        "    for pair in stat:\n",
        "        error_list.append(pair[0])\n",
        "        freq.append(pair[1])\n",
        "    size = [i*100 for i in freq]\n",
        "    plt.clf()\n",
        "    if threshold_opt==0:\n",
        "        print(\"-------------threshold 1---------------\")\n",
        "        plot_fig(x=range(len(error_rates)), y=count_errors, x_label=\"Number of examples\", y_label=\"T1 Errors Rates\", show=show_fig, color=\"red\")\n",
        "    elif threshold_opt==1:\n",
        "        print(\"-------------threshold 2---------------\")\n",
        "        plot_fig(x=range(len(count_trend_errors)), y=count_trend_errors, x_label=\"Number of examples\", y_label=\"T2 Errors Rates\", show=show_fig, color=\"blue\")\n",
        "    plt.clf()\n",
        "    if show_fig:\n",
        "        plt.clf()\n",
        "        # 取誤差範圍 range=-100~100, bins=? 分?組 每組差5\n",
        "        plt.hist(residual, bins=40, range=(-100,100), facecolor=\"blue\", edgecolor=\"black\", alpha=0.7, density=True)\n",
        "        # 顯示常態分佈曲線\n",
        "        mu = 0\n",
        "        sigma = 20\n",
        "        x = np.linspace(mu - 3*sigma, mu + 3*sigma, 10000)\n",
        "        plt.plot(x, stats.norm.pdf(x, mu, sigma), color=\"#FF0000\")\n",
        "        plt.xlabel(\"residual\")\n",
        "        plt.ylabel(\"Probability\")\n",
        "        plt.show(block=False)\n",
        "    DDM_data = error_rates if threshold_opt==0 else trend_result\n",
        "    # implement DDM\n",
        "    # drift_detection(data_stream=DDM_data, retrain_data=[x_test, y_test],nodes=nodes, warning_level=level_config[0], drift_detect=level_config[1], threshold_opt=threshold_opt)\n",
        "    return {\"residual\":residual, \"RMSE\":rms}"
      ],
      "metadata": {
        "id": "aZ-Ho7uzDvz0"
      },
      "execution_count": 8,
      "outputs": []
    },
    {
      "cell_type": "code",
      "source": [
        "if __name__ == \"__main__\":\n",
        "    nodes = 60\n",
        "    times = 100\n",
        "    level_config_1 = (1.0, 2.0)\n",
        "    level_config_2 = (2, 3)\n",
        "    datasets = handle_datasets(train_split=0.8, show_fig=False)\n",
        "    # Random int without repetition\n",
        "    random_list = random.sample(range(0, 2**32 - 1), times)\n",
        "    all_rmse = []\n",
        "    all_residual = np.array([])\n",
        "    for i in range(len(random_list)):\n",
        "        # option 0: compare with previous price difference, option 1: compare with price going up or down predicitons\n",
        "        res = train(datasets, nodes=nodes, random_state=random_list[i], show_fig=False, threshold_opt=1, level_config=level_config_1)\n",
        "        print(f\"finish model {i}\")\n",
        "        all_rmse.append(res[\"RMSE\"])\n",
        "        all_residual = np.append(all_residual, res[\"residual\"])\n",
        "    plt.clf()\n",
        "    plt.hist(all_rmse, bins=8, range=(0, 40), facecolor=\"red\", edgecolor=\"black\", alpha=0.3)\n",
        "    plt.xlabel(\"RMSE\")\n",
        "    plt.ylabel(\"frequency\")\n",
        "    plt.show(block=False)\n",
        "    rmse_avg = np.mean(all_rmse)\n",
        "    rmse_std = np.std(all_rmse)\n",
        "    print(f\"RMSE AVG = {rmse_avg}, RMSE STD = {rmse_std}\")\n",
        "    res_avg = np.mean(all_residual)\n",
        "    res_std = np.std(all_residual)\n",
        "    print(f\"Residual AVG = {res_avg}, Residual STD = {res_std}\")\n",
        "    # Normal distribution Test\n",
        "    test_result = stats.normaltest(all_residual)\n",
        "    print(f\"stat: {test_result.statistic}, p_value: {test_result.pvalue}\")\n",
        "    print(f\"Skew: {stats.skew(all_residual)}, Kurtosis: {stats.kurtosis(all_residual)}\")\n",
        "    # np.histogram 取誤差範圍 range=-200~200, bins=? 分?組\n",
        "    hist,bins = np.histogram(a=all_residual,bins=10,range=(-200,200),density=False)\n",
        "    plt.clf()\n",
        "    # 顯示常態分佈曲線\n",
        "    mu = 0\n",
        "    sigma = 20\n",
        "    x = np.linspace(mu - 3*sigma, mu + 3*sigma, 10000)\n",
        "    plt.plot(x, stats.norm.pdf(x, mu, sigma), color=\"#FF0000\")\n",
        "    # 取誤差範圍 range=-200~200, bins=80 分80組 每組差5, density=True 回傳機率而非次數\n",
        "    plt.hist(all_residual, bins=40, range=(-100,100), facecolor=\"blue\", edgecolor=\"black\", alpha=0.7, density=True)\n",
        "    plt.xlabel(\"Residual\")\n",
        "    plt.ylabel(\"Probability\")\n",
        "    plt.show()\n",
        "    # 顯示z score分佈曲線\n",
        "\n",
        "    mu = 0\n",
        "    sigma = 1\n",
        "    z_residual = stats.zscore(all_residual)\n",
        "    x = np.linspace(mu - 3*sigma, mu + 3*sigma, 10000)\n",
        "    plt.plot(x, stats.norm.cdf(x, mu, sigma), color=\"#FF0000\")\n",
        "    plt.hist(z_residual, bins=50, range=(-3,3), facecolor=\"#007500\", edgecolor=\"black\", alpha=0.7, density=True, cumulative=True)\n",
        "    plt.xlabel(\"Residual Z score\")\n",
        "    plt.ylabel(\"Cumulative Probability\")\n",
        "    plt.show()"
      ],
      "metadata": {
        "colab": {
          "base_uri": "https://localhost:8080/",
          "height": 1000
        },
        "id": "vZy7bywzGFkn",
        "outputId": "0055bbda-bc8b-4d9e-f80a-d11cdcb7ce7a"
      },
      "execution_count": 40,
      "outputs": [
        {
          "output_type": "stream",
          "name": "stdout",
          "text": [
            "hidden nodes 60 ,threshold option 1\n",
            "Random state = 2002819886, Residual AVG = 0.9481479412385582, Residual STD = 21.931621067310854, RMSE = 21.95210666789382\n",
            "R2 score = 0.9489690689334666, Adjusted R2 score 0.9483579200584182\n",
            "-------------threshold 2---------------\n"
          ]
        },
        {
          "output_type": "display_data",
          "data": {
            "text/plain": [
              "<Figure size 640x480 with 0 Axes>"
            ]
          },
          "metadata": {}
        },
        {
          "output_type": "stream",
          "name": "stdout",
          "text": [
            "finish model 0\n",
            "hidden nodes 60 ,threshold option 1\n",
            "Random state = 3541028550, Residual AVG = 0.21753983992567558, Residual STD = 18.122957195593724, RMSE = 18.124262773842066\n",
            "R2 score = 0.9652142169671547, Adjusted R2 score 0.9647976207631686\n",
            "-------------threshold 2---------------\n"
          ]
        },
        {
          "output_type": "display_data",
          "data": {
            "text/plain": [
              "<Figure size 640x480 with 0 Axes>"
            ]
          },
          "metadata": {}
        },
        {
          "output_type": "stream",
          "name": "stdout",
          "text": [
            "finish model 1\n",
            "hidden nodes 60 ,threshold option 1\n",
            "Random state = 2002788137, Residual AVG = -0.11924181659157322, Residual STD = 18.789970848904183, RMSE = 18.790349201478218\n",
            "R2 score = 0.962610402859538, Adjusted R2 score 0.9621626232530655\n",
            "-------------threshold 2---------------\n"
          ]
        },
        {
          "output_type": "display_data",
          "data": {
            "text/plain": [
              "<Figure size 640x480 with 0 Axes>"
            ]
          },
          "metadata": {}
        },
        {
          "output_type": "stream",
          "name": "stdout",
          "text": [
            "finish model 2\n",
            "hidden nodes 60 ,threshold option 1\n",
            "Random state = 1065110717, Residual AVG = -1.0735790147777278, Residual STD = 19.47190333343231, RMSE = 19.501476644795478\n",
            "R2 score = 0.9597268056438065, Adjusted R2 score 0.9592444919389419\n",
            "-------------threshold 2---------------\n"
          ]
        },
        {
          "output_type": "display_data",
          "data": {
            "text/plain": [
              "<Figure size 640x480 with 0 Axes>"
            ]
          },
          "metadata": {}
        },
        {
          "output_type": "stream",
          "name": "stdout",
          "text": [
            "finish model 3\n",
            "hidden nodes 60 ,threshold option 1\n",
            "Random state = 2496476467, Residual AVG = -0.999729415771047, Residual STD = 17.648144018203567, RMSE = 17.676437599018993\n",
            "R2 score = 0.9669119957836971, Adjusted R2 score 0.9665157322601486\n",
            "-------------threshold 2---------------\n"
          ]
        },
        {
          "output_type": "display_data",
          "data": {
            "text/plain": [
              "<Figure size 640x480 with 0 Axes>"
            ]
          },
          "metadata": {}
        },
        {
          "output_type": "stream",
          "name": "stdout",
          "text": [
            "finish model 4\n",
            "hidden nodes 60 ,threshold option 1\n",
            "Random state = 3867331466, Residual AVG = -1.415510130051655, Residual STD = 19.47063860361312, RMSE = 19.522024397095407\n",
            "R2 score = 0.9596418931422944, Adjusted R2 score 0.9591585625212441\n",
            "-------------threshold 2---------------\n"
          ]
        },
        {
          "output_type": "display_data",
          "data": {
            "text/plain": [
              "<Figure size 640x480 with 0 Axes>"
            ]
          },
          "metadata": {}
        },
        {
          "output_type": "stream",
          "name": "stdout",
          "text": [
            "finish model 5\n",
            "hidden nodes 60 ,threshold option 1\n",
            "Random state = 2544715275, Residual AVG = -3.2814959243182096, Residual STD = 21.49225069774086, RMSE = 21.74132138477005\n",
            "R2 score = 0.9499443672811783, Adjusted R2 score 0.949344898625863\n",
            "-------------threshold 2---------------\n"
          ]
        },
        {
          "output_type": "display_data",
          "data": {
            "text/plain": [
              "<Figure size 640x480 with 0 Axes>"
            ]
          },
          "metadata": {}
        },
        {
          "output_type": "stream",
          "name": "stdout",
          "text": [
            "finish model 6\n",
            "hidden nodes 60 ,threshold option 1\n",
            "Random state = 138966878, Residual AVG = -2.752505240058674, Residual STD = 19.471423303089004, RMSE = 19.66500980281037\n",
            "R2 score = 0.9590485373429135, Adjusted R2 score 0.9585581006643855\n",
            "-------------threshold 2---------------\n"
          ]
        },
        {
          "output_type": "display_data",
          "data": {
            "text/plain": [
              "<Figure size 640x480 with 0 Axes>"
            ]
          },
          "metadata": {}
        },
        {
          "output_type": "stream",
          "name": "stdout",
          "text": [
            "finish model 7\n",
            "hidden nodes 60 ,threshold option 1\n",
            "Random state = 1392886553, Residual AVG = -4.039071892019228, Residual STD = 21.443693547050483, RMSE = 21.820772091947486\n",
            "R2 score = 0.9495778557919248, Adjusted R2 score 0.9489739977774568\n",
            "-------------threshold 2---------------\n"
          ]
        },
        {
          "output_type": "display_data",
          "data": {
            "text/plain": [
              "<Figure size 640x480 with 0 Axes>"
            ]
          },
          "metadata": {}
        },
        {
          "output_type": "stream",
          "name": "stdout",
          "text": [
            "finish model 8\n",
            "hidden nodes 60 ,threshold option 1\n",
            "Random state = 613517616, Residual AVG = -1.5589166864053403, Residual STD = 17.556524630956492, RMSE = 17.62560008489172\n",
            "R2 score = 0.9671020445977421, Adjusted R2 score 0.9667080571078946\n",
            "-------------threshold 2---------------\n"
          ]
        },
        {
          "output_type": "display_data",
          "data": {
            "text/plain": [
              "<Figure size 640x480 with 0 Axes>"
            ]
          },
          "metadata": {}
        },
        {
          "output_type": "stream",
          "name": "stdout",
          "text": [
            "finish model 9\n",
            "hidden nodes 60 ,threshold option 1\n",
            "Random state = 1234258325, Residual AVG = 2.7108617746126136, Residual STD = 21.559426008834603, RMSE = 21.729188235906783\n",
            "R2 score = 0.9500002206459203, Adjusted R2 score 0.9494014208931768\n",
            "-------------threshold 2---------------\n"
          ]
        },
        {
          "output_type": "display_data",
          "data": {
            "text/plain": [
              "<Figure size 640x480 with 0 Axes>"
            ]
          },
          "metadata": {}
        },
        {
          "output_type": "stream",
          "name": "stdout",
          "text": [
            "finish model 10\n",
            "hidden nodes 60 ,threshold option 1\n",
            "Random state = 3441551711, Residual AVG = -0.4337627997643403, Residual STD = 17.590045305886257, RMSE = 17.59539269324759\n",
            "R2 score = 0.9672147113831212, Adjusted R2 score 0.9668220731960927\n",
            "-------------threshold 2---------------\n"
          ]
        },
        {
          "output_type": "display_data",
          "data": {
            "text/plain": [
              "<Figure size 640x480 with 0 Axes>"
            ]
          },
          "metadata": {}
        },
        {
          "output_type": "stream",
          "name": "stdout",
          "text": [
            "finish model 11\n",
            "hidden nodes 60 ,threshold option 1\n",
            "Random state = 3622324127, Residual AVG = -2.74603525763724, Residual STD = 19.196733456080903, RMSE = 19.3921449308735\n",
            "R2 score = 0.9601771094565341, Adjusted R2 score 0.9597001886117021\n",
            "-------------threshold 2---------------\n"
          ]
        },
        {
          "output_type": "display_data",
          "data": {
            "text/plain": [
              "<Figure size 640x480 with 0 Axes>"
            ]
          },
          "metadata": {}
        },
        {
          "output_type": "stream",
          "name": "stdout",
          "text": [
            "finish model 12\n",
            "hidden nodes 60 ,threshold option 1\n",
            "Random state = 973514482, Residual AVG = -2.0982353773665645, Residual STD = 18.34952967370418, RMSE = 18.469104768368794\n",
            "R2 score = 0.9638779180712257, Adjusted R2 score 0.9634453182876476\n",
            "-------------threshold 2---------------\n"
          ]
        },
        {
          "output_type": "display_data",
          "data": {
            "text/plain": [
              "<Figure size 640x480 with 0 Axes>"
            ]
          },
          "metadata": {}
        },
        {
          "output_type": "stream",
          "name": "stdout",
          "text": [
            "finish model 13\n",
            "hidden nodes 60 ,threshold option 1\n",
            "Random state = 2123941491, Residual AVG = -2.5028954235146204, Residual STD = 19.105130189025676, RMSE = 19.2683804467493\n",
            "R2 score = 0.9606838024174885, Adjusted R2 score 0.9602129497518297\n",
            "-------------threshold 2---------------\n"
          ]
        },
        {
          "output_type": "display_data",
          "data": {
            "text/plain": [
              "<Figure size 640x480 with 0 Axes>"
            ]
          },
          "metadata": {}
        },
        {
          "output_type": "stream",
          "name": "stdout",
          "text": [
            "finish model 14\n",
            "hidden nodes 60 ,threshold option 1\n",
            "Random state = 2029331889, Residual AVG = -0.5812747890867506, Residual STD = 19.10904630191573, RMSE = 19.117885106600756\n",
            "R2 score = 0.9612955608998817, Adjusted R2 score 0.9608320346831137\n",
            "-------------threshold 2---------------\n"
          ]
        },
        {
          "output_type": "display_data",
          "data": {
            "text/plain": [
              "<Figure size 640x480 with 0 Axes>"
            ]
          },
          "metadata": {}
        },
        {
          "output_type": "stream",
          "name": "stdout",
          "text": [
            "finish model 15\n",
            "hidden nodes 60 ,threshold option 1\n",
            "Random state = 2365169486, Residual AVG = 2.633245093850249, Residual STD = 28.794989116678472, RMSE = 28.915140981048626\n",
            "R2 score = 0.9114615913735127, Adjusted R2 score 0.910401251150441\n",
            "-------------threshold 2---------------\n"
          ]
        },
        {
          "output_type": "display_data",
          "data": {
            "text/plain": [
              "<Figure size 640x480 with 0 Axes>"
            ]
          },
          "metadata": {}
        },
        {
          "output_type": "stream",
          "name": "stdout",
          "text": [
            "finish model 16\n",
            "hidden nodes 60 ,threshold option 1\n",
            "Random state = 3797658309, Residual AVG = -2.4446065158881867, Residual STD = 19.345533107095047, RMSE = 19.499378252017\n",
            "R2 score = 0.9597354721089246, Adjusted R2 score 0.9592532621940615\n",
            "-------------threshold 2---------------\n"
          ]
        },
        {
          "output_type": "display_data",
          "data": {
            "text/plain": [
              "<Figure size 640x480 with 0 Axes>"
            ]
          },
          "metadata": {}
        },
        {
          "output_type": "stream",
          "name": "stdout",
          "text": [
            "finish model 17\n",
            "hidden nodes 60 ,threshold option 1\n",
            "Random state = 91247657, Residual AVG = -1.7562631903948729, Residual STD = 18.82234703027223, RMSE = 18.904105589049536\n",
            "R2 score = 0.9621563208018052, Adjusted R2 score 0.9617031030868568\n",
            "-------------threshold 2---------------\n"
          ]
        },
        {
          "output_type": "display_data",
          "data": {
            "text/plain": [
              "<Figure size 640x480 with 0 Axes>"
            ]
          },
          "metadata": {}
        },
        {
          "output_type": "stream",
          "name": "stdout",
          "text": [
            "finish model 18\n",
            "hidden nodes 60 ,threshold option 1\n",
            "Random state = 1460872673, Residual AVG = -2.7223764713617173, Residual STD = 19.547212846832835, RMSE = 19.73587757692093\n",
            "R2 score = 0.9587528478593499, Adjusted R2 score 0.958258869989402\n",
            "-------------threshold 2---------------\n"
          ]
        },
        {
          "output_type": "display_data",
          "data": {
            "text/plain": [
              "<Figure size 640x480 with 0 Axes>"
            ]
          },
          "metadata": {}
        },
        {
          "output_type": "stream",
          "name": "stdout",
          "text": [
            "finish model 19\n",
            "hidden nodes 60 ,threshold option 1\n",
            "Random state = 149448542, Residual AVG = -1.89196216719029, Residual STD = 19.641498345908243, RMSE = 19.732409333743192\n",
            "R2 score = 0.9587673435496182, Adjusted R2 score 0.9582735392807514\n",
            "-------------threshold 2---------------\n"
          ]
        },
        {
          "output_type": "display_data",
          "data": {
            "text/plain": [
              "<Figure size 640x480 with 0 Axes>"
            ]
          },
          "metadata": {}
        },
        {
          "output_type": "stream",
          "name": "stdout",
          "text": [
            "finish model 20\n",
            "hidden nodes 60 ,threshold option 1\n",
            "Random state = 233482952, Residual AVG = -0.2416336743326467, Residual STD = 19.351006341089683, RMSE = 19.352514907511754\n",
            "R2 score = 0.960339708229608, Adjusted R2 score 0.9598647346754716\n",
            "-------------threshold 2---------------\n"
          ]
        },
        {
          "output_type": "display_data",
          "data": {
            "text/plain": [
              "<Figure size 640x480 with 0 Axes>"
            ]
          },
          "metadata": {}
        },
        {
          "output_type": "stream",
          "name": "stdout",
          "text": [
            "finish model 21\n",
            "hidden nodes 60 ,threshold option 1\n",
            "Random state = 3928689427, Residual AVG = -1.223330658071495, Residual STD = 19.48845807674846, RMSE = 19.52681582102315\n",
            "R2 score = 0.9596220799789311, Adjusted R2 score 0.9591385120744872\n",
            "-------------threshold 2---------------\n"
          ]
        },
        {
          "output_type": "display_data",
          "data": {
            "text/plain": [
              "<Figure size 640x480 with 0 Axes>"
            ]
          },
          "metadata": {}
        },
        {
          "output_type": "stream",
          "name": "stdout",
          "text": [
            "finish model 22\n",
            "hidden nodes 60 ,threshold option 1\n",
            "Random state = 621768726, Residual AVG = -4.799711468538443, Residual STD = 25.377104316530016, RMSE = 25.827014029369828\n",
            "R2 score = 0.9293634498435085, Adjusted R2 score 0.9285175031350476\n",
            "-------------threshold 2---------------\n"
          ]
        },
        {
          "output_type": "display_data",
          "data": {
            "text/plain": [
              "<Figure size 640x480 with 0 Axes>"
            ]
          },
          "metadata": {}
        },
        {
          "output_type": "stream",
          "name": "stdout",
          "text": [
            "finish model 23\n",
            "hidden nodes 60 ,threshold option 1\n",
            "Random state = 2445125670, Residual AVG = -0.8492886470208597, Residual STD = 20.26225723040853, RMSE = 20.280048305593386\n",
            "R2 score = 0.9564469018716169, Adjusted R2 score 0.9559253078820553\n",
            "-------------threshold 2---------------\n"
          ]
        },
        {
          "output_type": "display_data",
          "data": {
            "text/plain": [
              "<Figure size 640x480 with 0 Axes>"
            ]
          },
          "metadata": {}
        },
        {
          "output_type": "stream",
          "name": "stdout",
          "text": [
            "finish model 24\n",
            "hidden nodes 60 ,threshold option 1\n",
            "Random state = 1585859305, Residual AVG = -0.8225112066573173, Residual STD = 17.559572758042226, RMSE = 17.578825903058927\n",
            "R2 score = 0.9672764197302517, Adjusted R2 score 0.9668845205653446\n",
            "-------------threshold 2---------------\n"
          ]
        },
        {
          "output_type": "display_data",
          "data": {
            "text/plain": [
              "<Figure size 640x480 with 0 Axes>"
            ]
          },
          "metadata": {}
        },
        {
          "output_type": "stream",
          "name": "stdout",
          "text": [
            "finish model 25\n",
            "hidden nodes 60 ,threshold option 1\n",
            "Random state = 1983807622, Residual AVG = -2.989279724280252, Residual STD = 20.095761752001987, RMSE = 20.31687558812179\n",
            "R2 score = 0.9562885789175183, Adjusted R2 score 0.9557650888446741\n",
            "-------------threshold 2---------------\n"
          ]
        },
        {
          "output_type": "display_data",
          "data": {
            "text/plain": [
              "<Figure size 640x480 with 0 Axes>"
            ]
          },
          "metadata": {}
        },
        {
          "output_type": "stream",
          "name": "stdout",
          "text": [
            "finish model 26\n",
            "hidden nodes 60 ,threshold option 1\n",
            "Random state = 3809226671, Residual AVG = 0.5535909777990446, Residual STD = 17.63439053398912, RMSE = 17.643077749529574\n",
            "R2 score = 0.9670367685781145, Adjusted R2 score 0.966641999339529\n",
            "-------------threshold 2---------------\n"
          ]
        },
        {
          "output_type": "display_data",
          "data": {
            "text/plain": [
              "<Figure size 640x480 with 0 Axes>"
            ]
          },
          "metadata": {}
        },
        {
          "output_type": "stream",
          "name": "stdout",
          "text": [
            "finish model 27\n",
            "hidden nodes 60 ,threshold option 1\n",
            "Random state = 90928505, Residual AVG = -1.9113476027900007, Residual STD = 19.91436480416028, RMSE = 20.005878516372853\n",
            "R2 score = 0.9576165467977419, Adjusted R2 score 0.9571089605318466\n",
            "-------------threshold 2---------------\n"
          ]
        },
        {
          "output_type": "display_data",
          "data": {
            "text/plain": [
              "<Figure size 640x480 with 0 Axes>"
            ]
          },
          "metadata": {}
        },
        {
          "output_type": "stream",
          "name": "stdout",
          "text": [
            "finish model 28\n",
            "hidden nodes 60 ,threshold option 1\n",
            "Random state = 3475676218, Residual AVG = 1.2880119897692814, Residual STD = 19.52877590393216, RMSE = 19.571204949920453\n",
            "R2 score = 0.9594382939563973, Adjusted R2 score 0.9589525250217434\n",
            "-------------threshold 2---------------\n"
          ]
        },
        {
          "output_type": "display_data",
          "data": {
            "text/plain": [
              "<Figure size 640x480 with 0 Axes>"
            ]
          },
          "metadata": {}
        },
        {
          "output_type": "stream",
          "name": "stdout",
          "text": [
            "finish model 29\n",
            "hidden nodes 60 ,threshold option 1\n",
            "Random state = 3344982172, Residual AVG = -1.9947881518535573, Residual STD = 19.838051448348928, RMSE = 19.93809080724918\n",
            "R2 score = 0.9579032834829266, Adjusted R2 score 0.957399131189309\n",
            "-------------threshold 2---------------\n"
          ]
        },
        {
          "output_type": "display_data",
          "data": {
            "text/plain": [
              "<Figure size 640x480 with 0 Axes>"
            ]
          },
          "metadata": {}
        },
        {
          "output_type": "stream",
          "name": "stdout",
          "text": [
            "finish model 30\n",
            "hidden nodes 60 ,threshold option 1\n",
            "Random state = 1425930066, Residual AVG = -1.6474580203107785, Residual STD = 18.856736585258076, RMSE = 18.928566574743495\n",
            "R2 score = 0.9620583217092551, Adjusted R2 score 0.9616039303524797\n",
            "-------------threshold 2---------------\n"
          ]
        },
        {
          "output_type": "display_data",
          "data": {
            "text/plain": [
              "<Figure size 640x480 with 0 Axes>"
            ]
          },
          "metadata": {}
        },
        {
          "output_type": "stream",
          "name": "stdout",
          "text": [
            "finish model 31\n",
            "hidden nodes 60 ,threshold option 1\n",
            "Random state = 145350094, Residual AVG = -2.2259100678012533, Residual STD = 18.17331633688487, RMSE = 18.30912620281005\n",
            "R2 score = 0.9645009835904059, Adjusted R2 score 0.9640758456693329\n",
            "-------------threshold 2---------------\n"
          ]
        },
        {
          "output_type": "display_data",
          "data": {
            "text/plain": [
              "<Figure size 640x480 with 0 Axes>"
            ]
          },
          "metadata": {}
        },
        {
          "output_type": "stream",
          "name": "stdout",
          "text": [
            "finish model 32\n",
            "hidden nodes 60 ,threshold option 1\n",
            "Random state = 378952287, Residual AVG = -0.591309278614223, Residual STD = 18.254311778670704, RMSE = 18.26388636560936\n",
            "R2 score = 0.9646761951890488, Adjusted R2 score 0.9642531556104745\n",
            "-------------threshold 2---------------\n"
          ]
        },
        {
          "output_type": "display_data",
          "data": {
            "text/plain": [
              "<Figure size 640x480 with 0 Axes>"
            ]
          },
          "metadata": {}
        },
        {
          "output_type": "stream",
          "name": "stdout",
          "text": [
            "finish model 33\n",
            "hidden nodes 60 ,threshold option 1\n",
            "Random state = 1478734373, Residual AVG = -0.8617493239374898, Residual STD = 18.71652958861157, RMSE = 18.736357483211066\n",
            "R2 score = 0.9628249628223413, Adjusted R2 score 0.9623797527962615\n",
            "-------------threshold 2---------------\n"
          ]
        },
        {
          "output_type": "display_data",
          "data": {
            "text/plain": [
              "<Figure size 640x480 with 0 Axes>"
            ]
          },
          "metadata": {}
        },
        {
          "output_type": "stream",
          "name": "stdout",
          "text": [
            "finish model 34\n",
            "hidden nodes 60 ,threshold option 1\n",
            "Random state = 3760485582, Residual AVG = -2.148103403335604, Residual STD = 20.419826884140505, RMSE = 20.532502969917946\n",
            "R2 score = 0.9553558177719449, Adjusted R2 score 0.9548211569069383\n",
            "-------------threshold 2---------------\n"
          ]
        },
        {
          "output_type": "display_data",
          "data": {
            "text/plain": [
              "<Figure size 640x480 with 0 Axes>"
            ]
          },
          "metadata": {}
        },
        {
          "output_type": "stream",
          "name": "stdout",
          "text": [
            "finish model 35\n",
            "hidden nodes 60 ,threshold option 1\n",
            "Random state = 511699616, Residual AVG = -4.509803162716458, Residual STD = 20.11772324431515, RMSE = 20.617010285230627\n",
            "R2 score = 0.9549875700313142, Adjusted R2 score 0.9544484990137251\n",
            "-------------threshold 2---------------\n"
          ]
        },
        {
          "output_type": "display_data",
          "data": {
            "text/plain": [
              "<Figure size 640x480 with 0 Axes>"
            ]
          },
          "metadata": {}
        },
        {
          "output_type": "stream",
          "name": "stdout",
          "text": [
            "finish model 36\n",
            "hidden nodes 60 ,threshold option 1\n",
            "Random state = 1448833041, Residual AVG = -1.18910522422407, Residual STD = 18.821226618715794, RMSE = 18.858752415452432\n",
            "R2 score = 0.9623376858607554, Adjusted R2 score 0.9618866401824411\n",
            "-------------threshold 2---------------\n"
          ]
        },
        {
          "output_type": "display_data",
          "data": {
            "text/plain": [
              "<Figure size 640x480 with 0 Axes>"
            ]
          },
          "metadata": {}
        },
        {
          "output_type": "stream",
          "name": "stdout",
          "text": [
            "finish model 37\n",
            "hidden nodes 60 ,threshold option 1\n",
            "Random state = 2486200358, Residual AVG = 2.3422523850727357, Residual STD = 24.357482552869282, RMSE = 24.469840672728346\n",
            "R2 score = 0.9365921004888937, Adjusted R2 score 0.9358327244468445\n",
            "-------------threshold 2---------------\n"
          ]
        },
        {
          "output_type": "display_data",
          "data": {
            "text/plain": [
              "<Figure size 640x480 with 0 Axes>"
            ]
          },
          "metadata": {}
        },
        {
          "output_type": "stream",
          "name": "stdout",
          "text": [
            "finish model 38\n",
            "hidden nodes 60 ,threshold option 1\n",
            "Random state = 966902476, Residual AVG = 0.29258252989430905, Residual STD = 18.350808907815736, RMSE = 18.353141205471303\n",
            "R2 score = 0.9643300996945041, Adjusted R2 score 0.9639029152597077\n",
            "-------------threshold 2---------------\n"
          ]
        },
        {
          "output_type": "display_data",
          "data": {
            "text/plain": [
              "<Figure size 640x480 with 0 Axes>"
            ]
          },
          "metadata": {}
        },
        {
          "output_type": "stream",
          "name": "stdout",
          "text": [
            "finish model 39\n",
            "hidden nodes 60 ,threshold option 1\n",
            "Random state = 1212183078, Residual AVG = -0.6146213886860288, Residual STD = 18.153358142402606, RMSE = 18.163759833739416\n",
            "R2 score = 0.9650624388518974, Adjusted R2 score 0.964644024945932\n",
            "-------------threshold 2---------------\n"
          ]
        },
        {
          "output_type": "display_data",
          "data": {
            "text/plain": [
              "<Figure size 640x480 with 0 Axes>"
            ]
          },
          "metadata": {}
        },
        {
          "output_type": "stream",
          "name": "stdout",
          "text": [
            "finish model 40\n",
            "hidden nodes 60 ,threshold option 1\n",
            "Random state = 3632358204, Residual AVG = 1.3565227952182444, Residual STD = 20.438613931615254, RMSE = 20.48358107215542\n",
            "R2 score = 0.9555683078096274, Adjusted R2 score 0.9550361917354913\n",
            "-------------threshold 2---------------\n"
          ]
        },
        {
          "output_type": "display_data",
          "data": {
            "text/plain": [
              "<Figure size 640x480 with 0 Axes>"
            ]
          },
          "metadata": {}
        },
        {
          "output_type": "stream",
          "name": "stdout",
          "text": [
            "finish model 41\n",
            "hidden nodes 60 ,threshold option 1\n",
            "Random state = 326784455, Residual AVG = -0.16840690694494326, Residual STD = 18.50705439681934, RMSE = 18.507820599226072\n",
            "R2 score = 0.96372631763042, Adjusted R2 score 0.9632919022727006\n",
            "-------------threshold 2---------------\n"
          ]
        },
        {
          "output_type": "display_data",
          "data": {
            "text/plain": [
              "<Figure size 640x480 with 0 Axes>"
            ]
          },
          "metadata": {}
        },
        {
          "output_type": "stream",
          "name": "stdout",
          "text": [
            "finish model 42\n",
            "hidden nodes 60 ,threshold option 1\n",
            "Random state = 3597065251, Residual AVG = 0.06387637127073865, Residual STD = 19.140929818935128, RMSE = 19.1410364015172\n",
            "R2 score = 0.961201763868321, Adjusted R2 score 0.9607371143338099\n",
            "-------------threshold 2---------------\n"
          ]
        },
        {
          "output_type": "display_data",
          "data": {
            "text/plain": [
              "<Figure size 640x480 with 0 Axes>"
            ]
          },
          "metadata": {}
        },
        {
          "output_type": "stream",
          "name": "stdout",
          "text": [
            "finish model 43\n",
            "hidden nodes 60 ,threshold option 1\n",
            "Random state = 3414459329, Residual AVG = -1.6005843163186826, Residual STD = 17.6470578189217, RMSE = 17.719495473009687\n",
            "R2 score = 0.9667506019152794, Adjusted R2 score 0.9663524055310313\n",
            "-------------threshold 2---------------\n"
          ]
        },
        {
          "output_type": "display_data",
          "data": {
            "text/plain": [
              "<Figure size 640x480 with 0 Axes>"
            ]
          },
          "metadata": {}
        },
        {
          "output_type": "stream",
          "name": "stdout",
          "text": [
            "finish model 44\n",
            "hidden nodes 60 ,threshold option 1\n",
            "Random state = 1680335734, Residual AVG = 0.54149345470692, Residual STD = 17.419599030887195, RMSE = 17.42801324185797\n",
            "R2 score = 0.9678354969361039, Adjusted R2 score 0.9674502933065962\n",
            "-------------threshold 2---------------\n"
          ]
        },
        {
          "output_type": "display_data",
          "data": {
            "text/plain": [
              "<Figure size 640x480 with 0 Axes>"
            ]
          },
          "metadata": {}
        },
        {
          "output_type": "stream",
          "name": "stdout",
          "text": [
            "finish model 45\n",
            "hidden nodes 60 ,threshold option 1\n",
            "Random state = 3048316451, Residual AVG = 0.7584072491104012, Residual STD = 18.80584215927087, RMSE = 18.821128576015646\n",
            "R2 score = 0.962487811102006, Adjusted R2 score 0.9620385633307725\n",
            "-------------threshold 2---------------\n"
          ]
        },
        {
          "output_type": "display_data",
          "data": {
            "text/plain": [
              "<Figure size 640x480 with 0 Axes>"
            ]
          },
          "metadata": {}
        },
        {
          "output_type": "stream",
          "name": "stdout",
          "text": [
            "finish model 46\n",
            "hidden nodes 60 ,threshold option 1\n",
            "Random state = 2331032232, Residual AVG = -2.0594137770958993, Residual STD = 18.936095122364982, RMSE = 19.047752717539865\n",
            "R2 score = 0.961579008145838, Adjusted R2 score 0.961118876506866\n",
            "-------------threshold 2---------------\n"
          ]
        },
        {
          "output_type": "display_data",
          "data": {
            "text/plain": [
              "<Figure size 640x480 with 0 Axes>"
            ]
          },
          "metadata": {}
        },
        {
          "output_type": "stream",
          "name": "stdout",
          "text": [
            "finish model 47\n",
            "hidden nodes 60 ,threshold option 1\n",
            "Random state = 3947360830, Residual AVG = 0.5587932136999608, Residual STD = 18.178384414157325, RMSE = 18.186970879301345\n",
            "R2 score = 0.9649730900089247, Adjusted R2 score 0.9645536060569359\n",
            "-------------threshold 2---------------\n"
          ]
        },
        {
          "output_type": "display_data",
          "data": {
            "text/plain": [
              "<Figure size 640x480 with 0 Axes>"
            ]
          },
          "metadata": {}
        },
        {
          "output_type": "stream",
          "name": "stdout",
          "text": [
            "finish model 48\n",
            "hidden nodes 60 ,threshold option 1\n",
            "Random state = 1615600857, Residual AVG = 2.196165696088659, Residual STD = 18.526689875634045, RMSE = 18.65640323086413\n",
            "R2 score = 0.9631415622901127, Adjusted R2 score 0.9627001438744255\n",
            "-------------threshold 2---------------\n"
          ]
        },
        {
          "output_type": "display_data",
          "data": {
            "text/plain": [
              "<Figure size 640x480 with 0 Axes>"
            ]
          },
          "metadata": {}
        },
        {
          "output_type": "stream",
          "name": "stdout",
          "text": [
            "finish model 49\n",
            "hidden nodes 60 ,threshold option 1\n",
            "Random state = 1303209305, Residual AVG = -3.5811194174806964, Residual STD = 18.268595473299044, RMSE = 18.616283110473464\n",
            "R2 score = 0.9632999181014497, Adjusted R2 score 0.9628603961625448\n",
            "-------------threshold 2---------------\n"
          ]
        },
        {
          "output_type": "display_data",
          "data": {
            "text/plain": [
              "<Figure size 640x480 with 0 Axes>"
            ]
          },
          "metadata": {}
        },
        {
          "output_type": "stream",
          "name": "stdout",
          "text": [
            "finish model 50\n",
            "hidden nodes 60 ,threshold option 1\n",
            "Random state = 2202129011, Residual AVG = 1.0164649743891074, Residual STD = 21.550603503499538, RMSE = 21.574561696804093\n",
            "R2 score = 0.9507092931177392, Adjusted R2 score 0.9501189852508858\n",
            "-------------threshold 2---------------\n"
          ]
        },
        {
          "output_type": "display_data",
          "data": {
            "text/plain": [
              "<Figure size 640x480 with 0 Axes>"
            ]
          },
          "metadata": {}
        },
        {
          "output_type": "stream",
          "name": "stdout",
          "text": [
            "finish model 51\n",
            "hidden nodes 60 ,threshold option 1\n",
            "Random state = 514732052, Residual AVG = -1.543062220591643, Residual STD = 17.91708058220127, RMSE = 17.983403949355946\n",
            "R2 score = 0.9657528147589373, Adjusted R2 score 0.9653426688279065\n",
            "-------------threshold 2---------------\n"
          ]
        },
        {
          "output_type": "display_data",
          "data": {
            "text/plain": [
              "<Figure size 640x480 with 0 Axes>"
            ]
          },
          "metadata": {}
        },
        {
          "output_type": "stream",
          "name": "stdout",
          "text": [
            "finish model 52\n",
            "hidden nodes 60 ,threshold option 1\n",
            "Random state = 525805178, Residual AVG = 4.288865695535757, Residual STD = 25.759485561974657, RMSE = 26.1140855741097\n",
            "R2 score = 0.9277844489735745, Adjusted R2 score 0.9269195920750544\n",
            "-------------threshold 2---------------\n"
          ]
        },
        {
          "output_type": "display_data",
          "data": {
            "text/plain": [
              "<Figure size 640x480 with 0 Axes>"
            ]
          },
          "metadata": {}
        },
        {
          "output_type": "stream",
          "name": "stdout",
          "text": [
            "finish model 53\n",
            "hidden nodes 60 ,threshold option 1\n",
            "Random state = 3965205847, Residual AVG = -0.021455019913335448, Residual STD = 20.063235275457945, RMSE = 20.063246747130925\n",
            "R2 score = 0.957373123354352, Adjusted R2 score 0.9568626218376376\n",
            "-------------threshold 2---------------\n"
          ]
        },
        {
          "output_type": "display_data",
          "data": {
            "text/plain": [
              "<Figure size 640x480 with 0 Axes>"
            ]
          },
          "metadata": {}
        },
        {
          "output_type": "stream",
          "name": "stdout",
          "text": [
            "finish model 54\n",
            "hidden nodes 60 ,threshold option 1\n",
            "Random state = 2054138773, Residual AVG = -3.127974093923246, Residual STD = 17.762066098887495, RMSE = 18.035387825979882\n",
            "R2 score = 0.9655545347693502, Adjusted R2 score 0.9651420142276658\n",
            "-------------threshold 2---------------\n"
          ]
        },
        {
          "output_type": "display_data",
          "data": {
            "text/plain": [
              "<Figure size 640x480 with 0 Axes>"
            ]
          },
          "metadata": {}
        },
        {
          "output_type": "stream",
          "name": "stdout",
          "text": [
            "finish model 55\n",
            "hidden nodes 60 ,threshold option 1\n",
            "Random state = 2117250076, Residual AVG = 0.472276128313308, Residual STD = 21.18689930951361, RMSE = 21.192162397755517\n",
            "R2 score = 0.95244111872075, Adjusted R2 score 0.9518715512802799\n",
            "-------------threshold 2---------------\n"
          ]
        },
        {
          "output_type": "display_data",
          "data": {
            "text/plain": [
              "<Figure size 640x480 with 0 Axes>"
            ]
          },
          "metadata": {}
        },
        {
          "output_type": "stream",
          "name": "stdout",
          "text": [
            "finish model 56\n",
            "hidden nodes 60 ,threshold option 1\n",
            "Random state = 2556667059, Residual AVG = -2.814241161076387, Residual STD = 19.36358802574409, RMSE = 19.567025694863194\n",
            "R2 score = 0.9594556152829129, Adjusted R2 score 0.9589700537892951\n",
            "-------------threshold 2---------------\n"
          ]
        },
        {
          "output_type": "display_data",
          "data": {
            "text/plain": [
              "<Figure size 640x480 with 0 Axes>"
            ]
          },
          "metadata": {}
        },
        {
          "output_type": "stream",
          "name": "stdout",
          "text": [
            "finish model 57\n",
            "hidden nodes 60 ,threshold option 1\n",
            "Random state = 2005613901, Residual AVG = 3.0457537680850653, Residual STD = 25.59527843872511, RMSE = 25.775858751391212\n",
            "R2 score = 0.9296429907778233, Adjusted R2 score 0.9288003918649829\n",
            "-------------threshold 2---------------\n"
          ]
        },
        {
          "output_type": "display_data",
          "data": {
            "text/plain": [
              "<Figure size 640x480 with 0 Axes>"
            ]
          },
          "metadata": {}
        },
        {
          "output_type": "stream",
          "name": "stdout",
          "text": [
            "finish model 58\n",
            "hidden nodes 60 ,threshold option 1\n",
            "Random state = 1126265731, Residual AVG = -1.8351661305465188, Residual STD = 19.146065283838187, RMSE = 19.233815289216512\n",
            "R2 score = 0.9608247329593048, Adjusted R2 score 0.9603555680845659\n",
            "-------------threshold 2---------------\n"
          ]
        },
        {
          "output_type": "display_data",
          "data": {
            "text/plain": [
              "<Figure size 640x480 with 0 Axes>"
            ]
          },
          "metadata": {}
        },
        {
          "output_type": "stream",
          "name": "stdout",
          "text": [
            "finish model 59\n",
            "hidden nodes 60 ,threshold option 1\n",
            "Random state = 2741399141, Residual AVG = -0.5185813169046726, Residual STD = 18.699884282620147, RMSE = 18.70707349548899\n",
            "R2 score = 0.9629410774506605, Adjusted R2 score 0.9624972580189318\n",
            "-------------threshold 2---------------\n"
          ]
        },
        {
          "output_type": "display_data",
          "data": {
            "text/plain": [
              "<Figure size 640x480 with 0 Axes>"
            ]
          },
          "metadata": {}
        },
        {
          "output_type": "stream",
          "name": "stdout",
          "text": [
            "finish model 60\n",
            "hidden nodes 60 ,threshold option 1\n",
            "Random state = 3117594764, Residual AVG = -0.586212893284372, Residual STD = 21.462671774082576, RMSE = 21.470675938084803\n",
            "R2 score = 0.9511828391577398, Adjusted R2 score 0.9505982025009463\n",
            "-------------threshold 2---------------\n"
          ]
        },
        {
          "output_type": "display_data",
          "data": {
            "text/plain": [
              "<Figure size 640x480 with 0 Axes>"
            ]
          },
          "metadata": {}
        },
        {
          "output_type": "stream",
          "name": "stdout",
          "text": [
            "finish model 61\n",
            "hidden nodes 60 ,threshold option 1\n",
            "Random state = 2619756935, Residual AVG = -1.170445548986755, Residual STD = 19.030757145703575, RMSE = 19.066716034018302\n",
            "R2 score = 0.9615024687116488, Adjusted R2 score 0.9610414204327464\n",
            "-------------threshold 2---------------\n"
          ]
        },
        {
          "output_type": "display_data",
          "data": {
            "text/plain": [
              "<Figure size 640x480 with 0 Axes>"
            ]
          },
          "metadata": {}
        },
        {
          "output_type": "stream",
          "name": "stdout",
          "text": [
            "finish model 62\n",
            "hidden nodes 60 ,threshold option 1\n",
            "Random state = 114377215, Residual AVG = -0.22268847939108216, Residual STD = 18.50620718892288, RMSE = 18.507546965446135\n",
            "R2 score = 0.9637273902182368, Adjusted R2 score 0.9632929877058803\n",
            "-------------threshold 2---------------\n"
          ]
        },
        {
          "output_type": "display_data",
          "data": {
            "text/plain": [
              "<Figure size 640x480 with 0 Axes>"
            ]
          },
          "metadata": {}
        },
        {
          "output_type": "stream",
          "name": "stdout",
          "text": [
            "finish model 63\n",
            "hidden nodes 60 ,threshold option 1\n",
            "Random state = 1025103972, Residual AVG = -2.7448896775329477, Residual STD = 18.448796430878804, RMSE = 18.65187682486225\n",
            "R2 score = 0.9631594452670988, Adjusted R2 score 0.9627182410188007\n",
            "-------------threshold 2---------------\n"
          ]
        },
        {
          "output_type": "display_data",
          "data": {
            "text/plain": [
              "<Figure size 640x480 with 0 Axes>"
            ]
          },
          "metadata": {}
        },
        {
          "output_type": "stream",
          "name": "stdout",
          "text": [
            "finish model 64\n",
            "hidden nodes 60 ,threshold option 1\n",
            "Random state = 502645965, Residual AVG = -0.4574231916959625, Residual STD = 18.243631287450942, RMSE = 18.24936488014748\n",
            "R2 score = 0.9647323442675834, Adjusted R2 score 0.9643099771330634\n",
            "-------------threshold 2---------------\n"
          ]
        },
        {
          "output_type": "display_data",
          "data": {
            "text/plain": [
              "<Figure size 640x480 with 0 Axes>"
            ]
          },
          "metadata": {}
        },
        {
          "output_type": "stream",
          "name": "stdout",
          "text": [
            "finish model 65\n",
            "hidden nodes 60 ,threshold option 1\n",
            "Random state = 3644605228, Residual AVG = 0.649741193957753, Residual STD = 22.120646845444085, RMSE = 22.13018708642069\n",
            "R2 score = 0.9481377619372992, Adjusted R2 score 0.9475166572898417\n",
            "-------------threshold 2---------------\n"
          ]
        },
        {
          "output_type": "display_data",
          "data": {
            "text/plain": [
              "<Figure size 640x480 with 0 Axes>"
            ]
          },
          "metadata": {}
        },
        {
          "output_type": "stream",
          "name": "stdout",
          "text": [
            "finish model 66\n",
            "hidden nodes 60 ,threshold option 1\n",
            "Random state = 3094180186, Residual AVG = -1.591403556685046, Residual STD = 18.919381622773834, RMSE = 18.986194096458146\n",
            "R2 score = 0.9618269451569174, Adjusted R2 score 0.9613697828234673\n",
            "-------------threshold 2---------------\n"
          ]
        },
        {
          "output_type": "display_data",
          "data": {
            "text/plain": [
              "<Figure size 640x480 with 0 Axes>"
            ]
          },
          "metadata": {}
        },
        {
          "output_type": "stream",
          "name": "stdout",
          "text": [
            "finish model 67\n",
            "hidden nodes 60 ,threshold option 1\n",
            "Random state = 2604298607, Residual AVG = -3.2410491949244515, Residual STD = 19.014088140042215, RMSE = 19.28833708957863\n",
            "R2 score = 0.9606023191150799, Adjusted R2 score 0.960130490601488\n",
            "-------------threshold 2---------------\n"
          ]
        },
        {
          "output_type": "display_data",
          "data": {
            "text/plain": [
              "<Figure size 640x480 with 0 Axes>"
            ]
          },
          "metadata": {}
        },
        {
          "output_type": "stream",
          "name": "stdout",
          "text": [
            "finish model 68\n",
            "hidden nodes 60 ,threshold option 1\n",
            "Random state = 598262076, Residual AVG = -3.1500835419240234, Residual STD = 19.275693986474288, RMSE = 19.53139536698035\n",
            "R2 score = 0.959603138414112, Adjusted R2 score 0.9591193436645804\n",
            "-------------threshold 2---------------\n"
          ]
        },
        {
          "output_type": "display_data",
          "data": {
            "text/plain": [
              "<Figure size 640x480 with 0 Axes>"
            ]
          },
          "metadata": {}
        },
        {
          "output_type": "stream",
          "name": "stdout",
          "text": [
            "finish model 69\n",
            "hidden nodes 60 ,threshold option 1\n",
            "Random state = 2737299943, Residual AVG = -2.9086947749254883, Residual STD = 18.445349326994034, RMSE = 18.673280833547118\n",
            "R2 score = 0.9630748438080761, Adjusted R2 score 0.9626326263686519\n",
            "-------------threshold 2---------------\n"
          ]
        },
        {
          "output_type": "display_data",
          "data": {
            "text/plain": [
              "<Figure size 640x480 with 0 Axes>"
            ]
          },
          "metadata": {}
        },
        {
          "output_type": "stream",
          "name": "stdout",
          "text": [
            "finish model 70\n",
            "hidden nodes 60 ,threshold option 1\n",
            "Random state = 3507147384, Residual AVG = -1.4093160811361096, Residual STD = 19.04458583198577, RMSE = 19.096659952159747\n",
            "R2 score = 0.9613814544664214, Adjusted R2 score 0.9609189569151211\n",
            "-------------threshold 2---------------\n"
          ]
        },
        {
          "output_type": "display_data",
          "data": {
            "text/plain": [
              "<Figure size 640x480 with 0 Axes>"
            ]
          },
          "metadata": {}
        },
        {
          "output_type": "stream",
          "name": "stdout",
          "text": [
            "finish model 71\n",
            "hidden nodes 60 ,threshold option 1\n",
            "Random state = 43078647, Residual AVG = -3.9416374519681296, Residual STD = 20.92860838905235, RMSE = 21.29655265307205\n",
            "R2 score = 0.9519714251228724, Adjusted R2 score 0.9513962326093738\n",
            "-------------threshold 2---------------\n"
          ]
        },
        {
          "output_type": "display_data",
          "data": {
            "text/plain": [
              "<Figure size 640x480 with 0 Axes>"
            ]
          },
          "metadata": {}
        },
        {
          "output_type": "stream",
          "name": "stdout",
          "text": [
            "finish model 72\n",
            "hidden nodes 60 ,threshold option 1\n",
            "Random state = 456834008, Residual AVG = -2.7506534463778793, Residual STD = 18.70275345087666, RMSE = 18.903943531082327\n",
            "R2 score = 0.9621569696390017, Adjusted R2 score 0.9617037596945586\n",
            "-------------threshold 2---------------\n"
          ]
        },
        {
          "output_type": "display_data",
          "data": {
            "text/plain": [
              "<Figure size 640x480 with 0 Axes>"
            ]
          },
          "metadata": {}
        },
        {
          "output_type": "stream",
          "name": "stdout",
          "text": [
            "finish model 73\n",
            "hidden nodes 60 ,threshold option 1\n",
            "Random state = 1717440669, Residual AVG = 2.7112136442232537, Residual STD = 20.19633043252675, RMSE = 20.37749843244819\n",
            "R2 score = 0.9560273316451317, Adjusted R2 score 0.9555007128624387\n",
            "-------------threshold 2---------------\n"
          ]
        },
        {
          "output_type": "display_data",
          "data": {
            "text/plain": [
              "<Figure size 640x480 with 0 Axes>"
            ]
          },
          "metadata": {}
        },
        {
          "output_type": "stream",
          "name": "stdout",
          "text": [
            "finish model 74\n",
            "hidden nodes 60 ,threshold option 1\n",
            "Random state = 1161653287, Residual AVG = 0.10065517715466286, Residual STD = 19.444008420168956, RMSE = 19.444268947643398\n",
            "R2 score = 0.9599627423825466, Adjusted R2 score 0.9594832542673676\n",
            "-------------threshold 2---------------\n"
          ]
        },
        {
          "output_type": "display_data",
          "data": {
            "text/plain": [
              "<Figure size 640x480 with 0 Axes>"
            ]
          },
          "metadata": {}
        },
        {
          "output_type": "stream",
          "name": "stdout",
          "text": [
            "finish model 75\n",
            "hidden nodes 60 ,threshold option 1\n",
            "Random state = 3402880451, Residual AVG = 1.2520200913814312, Residual STD = 20.417985005791774, RMSE = 20.456335595750293\n",
            "R2 score = 0.9556864275392238, Adjusted R2 score 0.9551557260726278\n",
            "-------------threshold 2---------------\n"
          ]
        },
        {
          "output_type": "display_data",
          "data": {
            "text/plain": [
              "<Figure size 640x480 with 0 Axes>"
            ]
          },
          "metadata": {}
        },
        {
          "output_type": "stream",
          "name": "stdout",
          "text": [
            "finish model 76\n",
            "hidden nodes 60 ,threshold option 1\n",
            "Random state = 3984542633, Residual AVG = -1.6787104795562613, Residual STD = 17.96406003838285, RMSE = 18.042325846098546\n",
            "R2 score = 0.9655280280703832, Adjusted R2 score 0.9651151900832021\n",
            "-------------threshold 2---------------\n"
          ]
        },
        {
          "output_type": "display_data",
          "data": {
            "text/plain": [
              "<Figure size 640x480 with 0 Axes>"
            ]
          },
          "metadata": {}
        },
        {
          "output_type": "stream",
          "name": "stdout",
          "text": [
            "finish model 77\n",
            "hidden nodes 60 ,threshold option 1\n",
            "Random state = 1471601455, Residual AVG = -0.9216402292301599, Residual STD = 20.867715106185837, RMSE = 20.888057699677873\n",
            "R2 score = 0.953796252639679, Adjusted R2 score 0.9532429143479386\n",
            "-------------threshold 2---------------\n"
          ]
        },
        {
          "output_type": "display_data",
          "data": {
            "text/plain": [
              "<Figure size 640x480 with 0 Axes>"
            ]
          },
          "metadata": {}
        },
        {
          "output_type": "stream",
          "name": "stdout",
          "text": [
            "finish model 78\n",
            "hidden nodes 60 ,threshold option 1\n",
            "Random state = 1080983910, Residual AVG = 2.7148114872242157, Residual STD = 21.564616878237096, RMSE = 21.734831550217102\n",
            "R2 score = 0.9499742462645564, Adjusted R2 score 0.9493751354413774\n",
            "-------------threshold 2---------------\n"
          ]
        },
        {
          "output_type": "display_data",
          "data": {
            "text/plain": [
              "<Figure size 640x480 with 0 Axes>"
            ]
          },
          "metadata": {}
        },
        {
          "output_type": "stream",
          "name": "stdout",
          "text": [
            "finish model 79\n",
            "hidden nodes 60 ,threshold option 1\n",
            "Random state = 2750061800, Residual AVG = -4.207094748294078, Residual STD = 22.416622330278145, RMSE = 22.807994276556812\n",
            "R2 score = 0.9449122195924825, Adjusted R2 score 0.9442524856953864\n",
            "-------------threshold 2---------------\n"
          ]
        },
        {
          "output_type": "display_data",
          "data": {
            "text/plain": [
              "<Figure size 640x480 with 0 Axes>"
            ]
          },
          "metadata": {}
        },
        {
          "output_type": "stream",
          "name": "stdout",
          "text": [
            "finish model 80\n",
            "hidden nodes 60 ,threshold option 1\n",
            "Random state = 798797370, Residual AVG = -2.589174307240713, Residual STD = 21.72572693376141, RMSE = 21.87946604452772\n",
            "R2 score = 0.9493062379814892, Adjusted R2 score 0.9486991270591117\n",
            "-------------threshold 2---------------\n"
          ]
        },
        {
          "output_type": "display_data",
          "data": {
            "text/plain": [
              "<Figure size 640x480 with 0 Axes>"
            ]
          },
          "metadata": {}
        },
        {
          "output_type": "stream",
          "name": "stdout",
          "text": [
            "finish model 81\n",
            "hidden nodes 60 ,threshold option 1\n",
            "Random state = 2119123789, Residual AVG = 0.23818028090181587, Residual STD = 17.55126180328008, RMSE = 17.552877847620564\n",
            "R2 score = 0.9673729547995222, Adjusted R2 score 0.9669822117432291\n",
            "-------------threshold 2---------------\n"
          ]
        },
        {
          "output_type": "display_data",
          "data": {
            "text/plain": [
              "<Figure size 640x480 with 0 Axes>"
            ]
          },
          "metadata": {}
        },
        {
          "output_type": "stream",
          "name": "stdout",
          "text": [
            "finish model 82\n",
            "hidden nodes 60 ,threshold option 1\n",
            "Random state = 3434953195, Residual AVG = 5.460023082095891, Residual STD = 29.982036901691835, RMSE = 30.475143786886896\n",
            "R2 score = 0.901650397205774, Adjusted R2 score 0.9004725576513521\n",
            "-------------threshold 2---------------\n"
          ]
        },
        {
          "output_type": "display_data",
          "data": {
            "text/plain": [
              "<Figure size 640x480 with 0 Axes>"
            ]
          },
          "metadata": {}
        },
        {
          "output_type": "stream",
          "name": "stdout",
          "text": [
            "finish model 83\n",
            "hidden nodes 60 ,threshold option 1\n",
            "Random state = 1436722738, Residual AVG = -0.008804295098395493, Residual STD = 25.77952697109235, RMSE = 25.779528474525872\n",
            "R2 score = 0.9296229558198188, Adjusted R2 score 0.9287801169673615\n",
            "-------------threshold 2---------------\n"
          ]
        },
        {
          "output_type": "display_data",
          "data": {
            "text/plain": [
              "<Figure size 640x480 with 0 Axes>"
            ]
          },
          "metadata": {}
        },
        {
          "output_type": "stream",
          "name": "stdout",
          "text": [
            "finish model 84\n",
            "hidden nodes 60 ,threshold option 1\n",
            "Random state = 806470233, Residual AVG = 1.018248413544946, Residual STD = 22.81826385190598, RMSE = 22.84097184987727\n",
            "R2 score = 0.9447528040269952, Adjusted R2 score 0.9440911609614503\n",
            "-------------threshold 2---------------\n"
          ]
        },
        {
          "output_type": "display_data",
          "data": {
            "text/plain": [
              "<Figure size 640x480 with 0 Axes>"
            ]
          },
          "metadata": {}
        },
        {
          "output_type": "stream",
          "name": "stdout",
          "text": [
            "finish model 85\n",
            "hidden nodes 60 ,threshold option 1\n",
            "Random state = 1788963225, Residual AVG = -3.6030809443484424, Residual STD = 21.26134738032044, RMSE = 21.564486655568356\n",
            "R2 score = 0.9507553186136067, Adjusted R2 score 0.9501655619502967\n",
            "-------------threshold 2---------------\n"
          ]
        },
        {
          "output_type": "display_data",
          "data": {
            "text/plain": [
              "<Figure size 640x480 with 0 Axes>"
            ]
          },
          "metadata": {}
        },
        {
          "output_type": "stream",
          "name": "stdout",
          "text": [
            "finish model 86\n",
            "hidden nodes 60 ,threshold option 1\n",
            "Random state = 3355625738, Residual AVG = -1.1826460707109432, Residual STD = 18.238483094810423, RMSE = 18.27678629650885\n",
            "R2 score = 0.9646262785880156, Adjusted R2 score 0.9642026412058362\n",
            "-------------threshold 2---------------\n"
          ]
        },
        {
          "output_type": "display_data",
          "data": {
            "text/plain": [
              "<Figure size 640x480 with 0 Axes>"
            ]
          },
          "metadata": {}
        },
        {
          "output_type": "stream",
          "name": "stdout",
          "text": [
            "finish model 87\n",
            "hidden nodes 60 ,threshold option 1\n",
            "Random state = 2092755433, Residual AVG = 1.1961224671619641, Residual STD = 18.600866604796177, RMSE = 18.63928505618902\n",
            "R2 score = 0.963209170146096, Adjusted R2 score 0.9627685614053306\n",
            "-------------threshold 2---------------\n"
          ]
        },
        {
          "output_type": "display_data",
          "data": {
            "text/plain": [
              "<Figure size 640x480 with 0 Axes>"
            ]
          },
          "metadata": {}
        },
        {
          "output_type": "stream",
          "name": "stdout",
          "text": [
            "finish model 88\n",
            "hidden nodes 60 ,threshold option 1\n",
            "Random state = 3961591259, Residual AVG = -2.794249688003996, Residual STD = 19.855510056085784, RMSE = 20.051162333047778\n",
            "R2 score = 0.9574244575877584, Adjusted R2 score 0.9569145708522825\n",
            "-------------threshold 2---------------\n"
          ]
        },
        {
          "output_type": "display_data",
          "data": {
            "text/plain": [
              "<Figure size 640x480 with 0 Axes>"
            ]
          },
          "metadata": {}
        },
        {
          "output_type": "stream",
          "name": "stdout",
          "text": [
            "finish model 89\n",
            "hidden nodes 60 ,threshold option 1\n",
            "Random state = 2193822187, Residual AVG = -1.2073105079107287, Residual STD = 18.314154069505335, RMSE = 18.353905250493437\n",
            "R2 score = 0.964327129742195, Adjusted R2 score 0.9638999097391076\n",
            "-------------threshold 2---------------\n"
          ]
        },
        {
          "output_type": "display_data",
          "data": {
            "text/plain": [
              "<Figure size 640x480 with 0 Axes>"
            ]
          },
          "metadata": {}
        },
        {
          "output_type": "stream",
          "name": "stdout",
          "text": [
            "finish model 90\n",
            "hidden nodes 60 ,threshold option 1\n",
            "Random state = 2676349313, Residual AVG = -2.386635949478762, Residual STD = 18.595446910227142, RMSE = 18.747977942872147\n",
            "R2 score = 0.9627788359289264, Adjusted R2 score 0.9623330734849614\n",
            "-------------threshold 2---------------\n"
          ]
        },
        {
          "output_type": "display_data",
          "data": {
            "text/plain": [
              "<Figure size 640x480 with 0 Axes>"
            ]
          },
          "metadata": {}
        },
        {
          "output_type": "stream",
          "name": "stdout",
          "text": [
            "finish model 91\n",
            "hidden nodes 60 ,threshold option 1\n",
            "Random state = 139747566, Residual AVG = 1.2013962753726535, Residual STD = 19.10393603413511, RMSE = 19.14167508361808\n",
            "R2 score = 0.961199174650908, Adjusted R2 score 0.9607344941078051\n",
            "-------------threshold 2---------------\n"
          ]
        },
        {
          "output_type": "display_data",
          "data": {
            "text/plain": [
              "<Figure size 640x480 with 0 Axes>"
            ]
          },
          "metadata": {}
        },
        {
          "output_type": "stream",
          "name": "stdout",
          "text": [
            "finish model 92\n",
            "hidden nodes 60 ,threshold option 1\n",
            "Random state = 3909859560, Residual AVG = -0.5343303811818068, Residual STD = 19.387654984601625, RMSE = 19.395016750655362\n",
            "R2 score = 0.9601653136873249, Adjusted R2 score 0.9596882515757958\n",
            "-------------threshold 2---------------\n"
          ]
        },
        {
          "output_type": "display_data",
          "data": {
            "text/plain": [
              "<Figure size 640x480 with 0 Axes>"
            ]
          },
          "metadata": {}
        },
        {
          "output_type": "stream",
          "name": "stdout",
          "text": [
            "finish model 93\n",
            "hidden nodes 60 ,threshold option 1\n",
            "Random state = 1133124457, Residual AVG = 0.33209973493809125, Residual STD = 17.27562659233725, RMSE = 17.27881837371456\n",
            "R2 score = 0.9683838369481588, Adjusted R2 score 0.9680052002649032\n",
            "-------------threshold 2---------------\n"
          ]
        },
        {
          "output_type": "display_data",
          "data": {
            "text/plain": [
              "<Figure size 640x480 with 0 Axes>"
            ]
          },
          "metadata": {}
        },
        {
          "output_type": "stream",
          "name": "stdout",
          "text": [
            "finish model 94\n",
            "hidden nodes 60 ,threshold option 1\n",
            "Random state = 1807456053, Residual AVG = -1.1497138580407422, Residual STD = 18.73212830662164, RMSE = 18.76737788960159\n",
            "R2 score = 0.9627017649826991, Adjusted R2 score 0.9622550795333901\n",
            "-------------threshold 2---------------\n"
          ]
        },
        {
          "output_type": "display_data",
          "data": {
            "text/plain": [
              "<Figure size 640x480 with 0 Axes>"
            ]
          },
          "metadata": {}
        },
        {
          "output_type": "stream",
          "name": "stdout",
          "text": [
            "finish model 95\n",
            "hidden nodes 60 ,threshold option 1\n",
            "Random state = 324553988, Residual AVG = -0.6391765466204267, Residual STD = 19.103752364863308, RMSE = 19.114442211996927\n",
            "R2 score = 0.9613095000259894, Adjusted R2 score 0.9608461407448635\n",
            "-------------threshold 2---------------\n"
          ]
        },
        {
          "output_type": "display_data",
          "data": {
            "text/plain": [
              "<Figure size 640x480 with 0 Axes>"
            ]
          },
          "metadata": {}
        },
        {
          "output_type": "stream",
          "name": "stdout",
          "text": [
            "finish model 96\n",
            "hidden nodes 60 ,threshold option 1\n",
            "Random state = 2193324688, Residual AVG = -1.0527181959884162, Residual STD = 19.832952431120017, RMSE = 19.860871525067438\n",
            "R2 score = 0.9582287292241003, Adjusted R2 score 0.9577284744842691\n",
            "-------------threshold 2---------------\n"
          ]
        },
        {
          "output_type": "display_data",
          "data": {
            "text/plain": [
              "<Figure size 640x480 with 0 Axes>"
            ]
          },
          "metadata": {}
        },
        {
          "output_type": "stream",
          "name": "stdout",
          "text": [
            "finish model 97\n",
            "hidden nodes 60 ,threshold option 1\n",
            "Random state = 24238220, Residual AVG = 0.7456292492220661, Residual STD = 20.412677729537634, RMSE = 20.426291270498837\n",
            "R2 score = 0.9558164990940085, Adjusted R2 score 0.9552873553705834\n",
            "-------------threshold 2---------------\n"
          ]
        },
        {
          "output_type": "display_data",
          "data": {
            "text/plain": [
              "<Figure size 640x480 with 0 Axes>"
            ]
          },
          "metadata": {}
        },
        {
          "output_type": "stream",
          "name": "stdout",
          "text": [
            "finish model 98\n",
            "hidden nodes 60 ,threshold option 1\n",
            "Random state = 1093674575, Residual AVG = -0.08875817984842012, Residual STD = 18.844962255435455, RMSE = 18.845171276039835\n",
            "R2 score = 0.9623919113948957, Adjusted R2 score 0.9619415151241758\n",
            "-------------threshold 2---------------\n"
          ]
        },
        {
          "output_type": "display_data",
          "data": {
            "text/plain": [
              "<Figure size 640x480 with 0 Axes>"
            ]
          },
          "metadata": {}
        },
        {
          "output_type": "stream",
          "name": "stdout",
          "text": [
            "finish model 99\n"
          ]
        },
        {
          "output_type": "display_data",
          "data": {
            "text/plain": [
              "<Figure size 640x480 with 1 Axes>"
            ],
            "image/png": "[encoded data removed]"
          },
          "metadata": {}
        },
        {
          "output_type": "stream",
          "name": "stdout",
          "text": [
            "RMSE AVG = 19.93502065393352, RMSE STD = 2.313585341871282\n",
            "Residual AVG = -0.8362096672078968, Residual STD = 20.051395936426616\n",
            "stat: 8338.952736686151, p_value: 0.0\n",
            "Skew: 0.3571050228051442, Kurtosis: 7.355292560930723\n"
          ]
        },
        {
          "output_type": "display_data",
          "data": {
            "text/plain": [
              "<Figure size 640x480 with 1 Axes>"
            ],
            "image/png": "[encoded data removed]"
          },
          "metadata": {}
        },
        {
          "output_type": "display_data",
          "data": {
            "text/plain": [
              "<Figure size 640x480 with 1 Axes>"
            ],
            "image/png": "[encoded data removed]"
          },
          "metadata": {}
        }
      ]
    },
    {
      "cell_type": "code",
      "source": [
        "# add z score function\n",
        "import numpy as np\n",
        "a = np.array([ 1,2,3])\n",
        "stats.zscore(a)"
      ],
      "metadata": {
        "colab": {
          "base_uri": "https://localhost:8080/"
        },
        "id": "UP1ywLxNzs6l",
        "outputId": "4d852bef-7e82-4f08-da54-8baf87dfed25"
      },
      "execution_count": 21,
      "outputs": [
        {
          "output_type": "execute_result",
          "data": {
            "text/plain": [
              "array([-1.22474487,  0.        ,  1.22474487])"
            ]
          },
          "metadata": {},
          "execution_count": 21
        }
      ]
    },
    {
      "cell_type": "code",
      "source": [
        "import numpy as np\n",
        "import matplotlib.pyplot as plt\n",
        "\n",
        "np.random.seed(19680801)\n",
        "\n",
        "mu = 200\n",
        "sigma = 25\n",
        "n_bins = 50\n",
        "x = np.random.normal(mu, sigma, size=100)\n",
        "\n",
        "fig, ax = plt.subplots(figsize=(8, 4))\n",
        "\n",
        "# plot the cumulative histogram\n",
        "n, bins, patches = ax.hist(x, n_bins, density=True, histtype='step',\n",
        "                           cumulative=True, label='Empirical')\n",
        "\n",
        "# Add a line showing the expected distribution.\n",
        "y = ((1 / (np.sqrt(2 * np.pi) * sigma)) *\n",
        "     np.exp(-0.5 * (1 / sigma * (bins - mu))**2))\n",
        "y = y.cumsum()\n",
        "y /= y[-1]\n",
        "\n",
        "ax.plot(bins, y, 'k--', linewidth=1.5, label='Theoretical')\n",
        "\n",
        "# Overlay a reversed cumulative histogram.\n",
        "# ax.hist(x, bins=bins, density=True, histtype='step', cumulative=-1,\n",
        "#         label='Reversed emp.')\n",
        "\n",
        "# tidy up the figure\n",
        "ax.grid(True)\n",
        "ax.legend(loc='right')\n",
        "ax.set_title('Cumulative step histograms')\n",
        "ax.set_xlabel('Annual rainfall (mm)')\n",
        "ax.set_ylabel('Likelihood of occurrence')\n",
        "\n",
        "plt.show()"
      ],
      "metadata": {
        "colab": {
          "base_uri": "https://localhost:8080/",
          "height": 410
        },
        "id": "rfI47L7UYSmf",
        "outputId": "b3d7174c-6087-4f27-bded-306ee236ade2"
      },
      "execution_count": 35,
      "outputs": [
        {
          "output_type": "display_data",
          "data": {
            "text/plain": [
              "<Figure size 800x400 with 1 Axes>"
            ],
            "image/png": "[encoded data removed]"
          },
          "metadata": {}
        }
      ]
    }
  ]
}